{
 "cells": [
  {
   "cell_type": "code",
   "execution_count": 2,
   "metadata": {},
   "outputs": [],
   "source": [
    "import sys\n",
    "import os\n",
    "\n",
    "module_path = os.path.abspath(os.path.join(\"..\"))\n",
    "if module_path not in sys.path:\n",
    "    sys.path.append(module_path+\"/scripts\")\n",
    "    sys.path.append(module_path+\"/classes\")\n",
    "\n",
    "review_corpus_path = \"../data/tech_review_sent_corpus.pkl\"\n",
    "vocab_path = \"../data/glove-tech-revew-vocab.txt\"\n",
    "emb_filename = '../models/w2v_embedding'\n",
    "aspect_file_path = \"../results/aspect.json\"\n",
    "aspect_model_path = \"../results/model_param\"\n",
    "vocab_path = \"../data/vocab-text-review.txt\""
   ]
  },
  {
   "cell_type": "code",
   "execution_count": 1,
   "metadata": {},
   "outputs": [
    {
     "name": "stdout",
     "output_type": "stream",
     "text": [
      "156991\n"
     ]
    }
   ],
   "source": [
    "import pandas as pd\n",
    "import pickle\n",
    "\n",
    "review_corpus_path = \"../data/tech_review_sent_corpus.pkl\"\n",
    "\n",
    "with open(review_corpus_path,\"rb\") as f:\n",
    "    tech_review_corpus = pickle.load(f)\n",
    "\n",
    "print(len(tech_review_corpus))\n",
    "reviews = pd.DataFrame(tech_review_corpus).review.tolist()"
   ]
  },
  {
   "cell_type": "code",
   "execution_count": 3,
   "metadata": {},
   "outputs": [],
   "source": [
    "from LDAModeling import tokenize\n",
    "from sklearn.decomposition import LatentDirichletAllocation\n",
    "from sklearn.feature_extraction.text import CountVectorizer\n",
    "\n",
    "vectorizer = CountVectorizer(min_df=3, max_df = .90, tokenizer = tokenize, ngram_range = (1,2) )\n",
    "X = vectorizer.fit_transform(reviews)\n",
    "\n",
    "vocab = { word:i for i, word in enumerate(vectorizer.get_feature_names())}"
   ]
  },
  {
   "cell_type": "code",
   "execution_count": 109,
   "metadata": {
    "scrolled": true
   },
   "outputs": [],
   "source": [
    "from gensim.corpora.dictionary import Dictionary\n",
    "import gensim\n",
    "\n",
    "corpus = gensim.matutils.Sparse2Corpus(X, documents_columns=False)\n",
    "id2word = { id:word for word, id in vectorizer.vocabulary_.items()}\n",
    "\n",
    "dictionary = Dictionary.from_corpus(corpus,id2word=id2word)"
   ]
  },
  {
   "cell_type": "code",
   "execution_count": 120,
   "metadata": {
    "scrolled": true
   },
   "outputs": [],
   "source": [
    "from datetime import datetime\n",
    "from gensim.models import CoherenceModel\n",
    "import numpy as np\n",
    "\n",
    "def calc_coherance(topics):\n",
    "    u_mass = []\n",
    "    flags = []\n",
    "    for n, topic in enumerate(topics):\n",
    "        cm = CoherenceModel(topics=[topic], corpus=corpus, dictionary=dictionary, coherence='u_mass')\n",
    "        u_mass.append(cm.get_coherence())\n",
    "        return np.mean(u_mass)"
   ]
  },
  {
   "cell_type": "code",
   "execution_count": 134,
   "metadata": {},
   "outputs": [],
   "source": [
    "import json\n",
    "import os\n",
    "\n",
    "files = [x for x in os.walk(\"../results/\")]\n",
    "\n",
    "scores = []\n",
    "for t in files[0][2]:\n",
    "    if t[:12] == \"lda-aspect-k\":\n",
    "        with open(os.path.join(\"../results\",t)) as f:\n",
    "            aspects = json.load(f)\n",
    "\n",
    "        topics = [[ word for word, score in words.items() ] for aspect, words in aspects.items() ]\n",
    "\n",
    "        s = calc_coherance(topics)\n",
    "        scores.append((t, s))"
   ]
  },
  {
   "cell_type": "code",
   "execution_count": 139,
   "metadata": {},
   "outputs": [],
   "source": [
    "result = []\n",
    "for score in scores:\n",
    "    x = score[0][:-5].split(\"-\")\n",
    "    result.append({\n",
    "        \"k\":x[3],\n",
    "        \"alpha\":x[5],\n",
    "        \"beta\":x[7],\n",
    "        \"score\":score[1]\n",
    "    })"
   ]
  },
  {
   "cell_type": "code",
   "execution_count": 141,
   "metadata": {},
   "outputs": [],
   "source": [
    "import pandas as pd\n",
    "\n",
    "pd.DataFrame(result).to_csv(\"../data/lda_umass.csv\")"
   ]
  },
  {
   "cell_type": "code",
   "execution_count": null,
   "metadata": {},
   "outputs": [],
   "source": []
  }
 ],
 "metadata": {
  "kernelspec": {
   "display_name": "Python 3",
   "language": "python",
   "name": "python3"
  },
  "language_info": {
   "codemirror_mode": {
    "name": "ipython",
    "version": 3
   },
   "file_extension": ".py",
   "mimetype": "text/x-python",
   "name": "python",
   "nbconvert_exporter": "python",
   "pygments_lexer": "ipython3",
   "version": "3.7.0"
  }
 },
 "nbformat": 4,
 "nbformat_minor": 4
}
