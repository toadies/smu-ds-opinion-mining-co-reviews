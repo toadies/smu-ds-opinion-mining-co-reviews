{
 "cells": [
  {
   "cell_type": "markdown",
   "metadata": {},
   "source": [
    "Inspired by https://bergvca.github.io/2017/10/14/super-fast-string-matching.html"
   ]
  },
  {
   "cell_type": "code",
   "execution_count": 1,
   "metadata": {},
   "outputs": [],
   "source": [
    "import sys\n",
    "import os\n",
    "\n",
    "module_path = os.path.abspath(os.path.join(\"..\"))\n",
    "if module_path not in sys.path:\n",
    "    sys.path.append(module_path+\"/scripts\")"
   ]
  },
  {
   "cell_type": "code",
   "execution_count": 3,
   "metadata": {},
   "outputs": [],
   "source": [
    "import pandas as pd\n",
    "import pickle\n",
    "\n",
    "with open(\"../data/all_reviews.pkl\",\"rb\") as f:\n",
    "    reviews = pickle.load(f)\n",
    "    "
   ]
  },
  {
   "cell_type": "code",
   "execution_count": 4,
   "metadata": {},
   "outputs": [
    {
     "data": {
      "text/plain": [
       "{'application developer',\n",
       " 'application support analyst',\n",
       " 'applications engineer',\n",
       " 'associate developer',\n",
       " 'chief information officer',\n",
       " 'chief technology officer',\n",
       " 'cloud architect',\n",
       " 'cloud consultant',\n",
       " 'cloud product project manager',\n",
       " 'cloud services developer',\n",
       " 'cloud software network engineer',\n",
       " 'cloud system administrator',\n",
       " 'cloud system engineer',\n",
       " 'computer information research scientist',\n",
       " 'computer information systems manager',\n",
       " 'computer network architect',\n",
       " 'computer programmer',\n",
       " 'computer systems analyst',\n",
       " 'computer systems manager',\n",
       " 'customer support administrator',\n",
       " 'customer support specialist',\n",
       " 'data center support specialist',\n",
       " 'data quality manager',\n",
       " 'database administrator',\n",
       " 'desktop support manager',\n",
       " 'desktop support specialist',\n",
       " 'director technology',\n",
       " 'front end developer',\n",
       " 'help desk specialist',\n",
       " 'help desk technician',\n",
       " 'information security',\n",
       " 'java developer',\n",
       " 'management information systems director',\n",
       " 'net developer',\n",
       " 'network administrator',\n",
       " 'network architect',\n",
       " 'network computer systems administrator',\n",
       " 'network engineer',\n",
       " 'network system administrator',\n",
       " 'network systems administrator',\n",
       " 'programmer',\n",
       " 'programmer analyst',\n",
       " 'software architect',\n",
       " 'software developer',\n",
       " 'software engineer',\n",
       " 'software quality assurance analyst',\n",
       " 'support specialist',\n",
       " 'system administrator',\n",
       " 'system analyst',\n",
       " 'system architect',\n",
       " 'system designer',\n",
       " 'systems administrator',\n",
       " 'systems analyst',\n",
       " 'systems designer',\n",
       " 'systems software engineer',\n",
       " 'technical operations officer',\n",
       " 'technical specialist',\n",
       " 'technical support engineer',\n",
       " 'technical support specialist',\n",
       " 'technology analyst',\n",
       " 'technology coordinator',\n",
       " 'technology director',\n",
       " 'technology manager',\n",
       " 'technology support manager',\n",
       " 'technology support specialist',\n",
       " 'technology systems administrator',\n",
       " 'telecommunications specialist',\n",
       " 'web administrator',\n",
       " 'web developer',\n",
       " 'webmaster'}"
      ]
     },
     "metadata": {},
     "output_type": "display_data"
    }
   ],
   "source": [
    "with open(\"../data/job_titles.txt\",\"r\") as f:\n",
    "    common_tech_titles = [ l.replace(\"\\n\",\"\").strip() for l in f ]\n",
    "\n",
    "import string\n",
    "import re\n",
    "from DataPrep import cleanTitle\n",
    "\n",
    "common_tech_titles = list(map(cleanTitle,common_tech_titles))\n",
    "\n",
    "display(set(common_tech_titles))\n",
    "\n"
   ]
  },
  {
   "cell_type": "markdown",
   "metadata": {},
   "source": [
    "## N-Gram with Top N Cosine"
   ]
  },
  {
   "cell_type": "code",
   "execution_count": 5,
   "metadata": {},
   "outputs": [
    {
     "name": "stdout",
     "output_type": "stream",
     "text": [
      "106261\n"
     ]
    }
   ],
   "source": [
    "# clean_job_titles = reviews.clean_job_title.tolist()\n",
    "clean_job_titles_filtered = reviews.clean_job_title.value_counts()\n",
    "clean_job_titles_filtered = clean_job_titles_filtered.loc[clean_job_titles_filtered > 1].index.tolist()\n",
    "\n",
    "clean_job_titles_filtered.extend(common_tech_titles)\n",
    "\n",
    "print(len(clean_job_titles_filtered))"
   ]
  },
  {
   "cell_type": "code",
   "execution_count": 6,
   "metadata": {
    "scrolled": true
   },
   "outputs": [
    {
     "name": "stdout",
     "output_type": "stream",
     "text": [
      "All 3-grams in sales associate:\n",
      "['sal', 'ale', 'les', 'es ', 's a', ' as', 'ass', 'sso', 'soc', 'oci', 'cia', 'iat', 'ate']\n"
     ]
    }
   ],
   "source": [
    "import re\n",
    "\n",
    "def ngrams(string, n=3):\n",
    "    #string = re.sub(r'[,-./]|\\sBD',r'', string)\n",
    "    ngrams = zip(*[string[i:] for i in range(n)])\n",
    "    return [''.join(ngram) for ngram in ngrams]\n",
    "\n",
    "print('All 3-grams in {}:'.format(clean_job_titles_filtered[0]))\n",
    "print( ngrams(clean_job_titles_filtered[0]) )"
   ]
  },
  {
   "cell_type": "code",
   "execution_count": 7,
   "metadata": {},
   "outputs": [
    {
     "name": "stdout",
     "output_type": "stream",
     "text": [
      "9125\n"
     ]
    }
   ],
   "source": [
    "from sklearn.feature_extraction.text import TfidfVectorizer\n",
    "\n",
    "vectorizer = TfidfVectorizer(min_df=1, analyzer=ngrams)\n",
    "tf_idf_matrix = vectorizer.fit_transform(clean_job_titles_filtered)\n",
    "\n",
    "print(len(vectorizer.get_feature_names()))"
   ]
  },
  {
   "cell_type": "code",
   "execution_count": 8,
   "metadata": {},
   "outputs": [
    {
     "name": "stdout",
     "output_type": "stream",
     "text": [
      "sales associate\n",
      "  (0, 1202)\t0.26292540368052825\n",
      "  (0, 3570)\t0.28059718134382955\n",
      "  (0, 1708)\t0.21463563116965367\n",
      "  (0, 5433)\t0.28027856751841695\n",
      "  (0, 6842)\t0.28019328630429796\n",
      "  (0, 6915)\t0.2760705507206696\n",
      "  (0, 1192)\t0.2377285822615709\n",
      "  (0, 60)\t0.2563267698347386\n",
      "  (0, 6606)\t0.3282008167188559\n",
      "  (0, 2629)\t0.2861858988943331\n",
      "  (0, 4374)\t0.2964736880627908\n",
      "  (0, 1044)\t0.29332914743884886\n",
      "  (0, 6652)\t0.29497902408255716\n"
     ]
    }
   ],
   "source": [
    "print(clean_job_titles_filtered[0])\n",
    "print( tf_idf_matrix[0] )"
   ]
  },
  {
   "cell_type": "code",
   "execution_count": 9,
   "metadata": {},
   "outputs": [],
   "source": [
    "import numpy as np\n",
    "from scipy.sparse import csr_matrix\n",
    "import sparse_dot_topn.sparse_dot_topn as ct\n",
    "\n",
    "def awesome_cossim_top(A, B, ntop, lower_bound=0):\n",
    "    # force A and B as a CSR matrix.\n",
    "    # If they have already been CSR, there is no overhead\n",
    "    A = A.tocsr()\n",
    "    B = B.tocsr()\n",
    "    M, _ = A.shape\n",
    "    _, N = B.shape\n",
    " \n",
    "    idx_dtype = np.int32\n",
    " \n",
    "    nnz_max = M*ntop\n",
    " \n",
    "    indptr = np.zeros(M+1, dtype=idx_dtype)\n",
    "    indices = np.zeros(nnz_max, dtype=idx_dtype)\n",
    "    data = np.zeros(nnz_max, dtype=A.dtype)\n",
    "\n",
    "    ct.sparse_dot_topn(\n",
    "        M, N, np.asarray(A.indptr, dtype=idx_dtype),\n",
    "        np.asarray(A.indices, dtype=idx_dtype),\n",
    "        A.data,\n",
    "        np.asarray(B.indptr, dtype=idx_dtype),\n",
    "        np.asarray(B.indices, dtype=idx_dtype),\n",
    "        B.data,\n",
    "        ntop,\n",
    "        lower_bound,\n",
    "        indptr, indices, data)\n",
    "\n",
    "    return csr_matrix((data,indices,indptr),shape=(M,N))"
   ]
  },
  {
   "cell_type": "code",
   "execution_count": 10,
   "metadata": {},
   "outputs": [],
   "source": [
    "# import time\n",
    "# t1 = time.time()\n",
    "# matches = awesome_cossim_top(tf_idf_matrix, tf_idf_matrix.transpose(), 10, 0.7)\n",
    "# t = time.time()-t1\n",
    "# print(\"SELFTIMED:\", t)"
   ]
  },
  {
   "cell_type": "code",
   "execution_count": 11,
   "metadata": {},
   "outputs": [
    {
     "name": "stdout",
     "output_type": "stream",
     "text": [
      "SELFTIMED: 38.93819189071655\n"
     ]
    }
   ],
   "source": [
    "from sparse_dot_topn import awesome_cossim_topn\n",
    "import time\n",
    "\n",
    "t1 = time.time()\n",
    "\n",
    "matches = awesome_cossim_topn(tf_idf_matrix, tf_idf_matrix.transpose(), 10, 0.7, use_threads=True, n_jobs=11)\n",
    "\n",
    "t = time.time()-t1\n",
    "print(\"SELFTIMED:\", t)"
   ]
  },
  {
   "cell_type": "code",
   "execution_count": 12,
   "metadata": {},
   "outputs": [],
   "source": [
    "def get_matches_df(sparse_matrix, name_vector, top=100):\n",
    "    non_zeros = sparse_matrix.nonzero()\n",
    "    \n",
    "    sparserows = non_zeros[0]\n",
    "    sparsecols = non_zeros[1]\n",
    "    \n",
    "    if top:\n",
    "        nr_matches = top\n",
    "    else:\n",
    "        nr_matches = sparsecols.size\n",
    "    \n",
    "    left_side = np.empty([nr_matches], dtype=object)\n",
    "    right_side = np.empty([nr_matches], dtype=object)\n",
    "    similairity = np.zeros(nr_matches)\n",
    "    \n",
    "    for index in range(0, nr_matches):\n",
    "        left_side[index] = name_vector[sparserows[index]]\n",
    "        right_side[index] = name_vector[sparsecols[index]]\n",
    "        similairity[index] = sparse_matrix.data[index]\n",
    "    \n",
    "    return pd.DataFrame({'left_side': left_side,\n",
    "                          'right_side': right_side,\n",
    "                           'similairity': similairity})"
   ]
  },
  {
   "cell_type": "code",
   "execution_count": 13,
   "metadata": {},
   "outputs": [
    {
     "data": {
      "text/html": [
       "<div>\n",
       "<style scoped>\n",
       "    .dataframe tbody tr th:only-of-type {\n",
       "        vertical-align: middle;\n",
       "    }\n",
       "\n",
       "    .dataframe tbody tr th {\n",
       "        vertical-align: top;\n",
       "    }\n",
       "\n",
       "    .dataframe thead th {\n",
       "        text-align: right;\n",
       "    }\n",
       "</style>\n",
       "<table border=\"1\" class=\"dataframe\">\n",
       "  <thead>\n",
       "    <tr style=\"text-align: right;\">\n",
       "      <th></th>\n",
       "      <th>left_side</th>\n",
       "      <th>right_side</th>\n",
       "      <th>similairity</th>\n",
       "    </tr>\n",
       "  </thead>\n",
       "  <tbody>\n",
       "    <tr>\n",
       "      <th>290957</th>\n",
       "      <td>associate store</td>\n",
       "      <td>associate store</td>\n",
       "      <td>1.000000</td>\n",
       "    </tr>\n",
       "    <tr>\n",
       "      <th>73953</th>\n",
       "      <td>department manager key carrier</td>\n",
       "      <td>operations department manager key carrier</td>\n",
       "      <td>0.893524</td>\n",
       "    </tr>\n",
       "    <tr>\n",
       "      <th>518244</th>\n",
       "      <td>customer solutions executive</td>\n",
       "      <td>customer solution</td>\n",
       "      <td>0.756920</td>\n",
       "    </tr>\n",
       "    <tr>\n",
       "      <th>607648</th>\n",
       "      <td>service representative marketing sales</td>\n",
       "      <td>marketing customer service representative</td>\n",
       "      <td>0.761189</td>\n",
       "    </tr>\n",
       "    <tr>\n",
       "      <th>93309</th>\n",
       "      <td>stock inventory associate</td>\n",
       "      <td>stock inventory</td>\n",
       "      <td>0.856562</td>\n",
       "    </tr>\n",
       "    <tr>\n",
       "      <th>25914</th>\n",
       "      <td>deli assistant</td>\n",
       "      <td>deli associate</td>\n",
       "      <td>0.738400</td>\n",
       "    </tr>\n",
       "    <tr>\n",
       "      <th>205769</th>\n",
       "      <td>layout designer</td>\n",
       "      <td>layout design engineer</td>\n",
       "      <td>0.777435</td>\n",
       "    </tr>\n",
       "    <tr>\n",
       "      <th>575152</th>\n",
       "      <td>customer service shop assistant</td>\n",
       "      <td>customer service assistant</td>\n",
       "      <td>0.707915</td>\n",
       "    </tr>\n",
       "    <tr>\n",
       "      <th>382851</th>\n",
       "      <td>assistant service operations manager</td>\n",
       "      <td>service operations manager</td>\n",
       "      <td>0.852222</td>\n",
       "    </tr>\n",
       "    <tr>\n",
       "      <th>587306</th>\n",
       "      <td>maintenance worker seasonal</td>\n",
       "      <td>maintenance worker operator</td>\n",
       "      <td>0.711889</td>\n",
       "    </tr>\n",
       "    <tr>\n",
       "      <th>60166</th>\n",
       "      <td>interpreter translator</td>\n",
       "      <td>translator interpreter</td>\n",
       "      <td>0.901807</td>\n",
       "    </tr>\n",
       "    <tr>\n",
       "      <th>66761</th>\n",
       "      <td>document control coordinator</td>\n",
       "      <td>document control associate</td>\n",
       "      <td>0.729344</td>\n",
       "    </tr>\n",
       "    <tr>\n",
       "      <th>412449</th>\n",
       "      <td>data entry operator transaction processor</td>\n",
       "      <td>transaction processor data entry</td>\n",
       "      <td>0.830278</td>\n",
       "    </tr>\n",
       "    <tr>\n",
       "      <th>448249</th>\n",
       "      <td>cash attendant</td>\n",
       "      <td>cashier attendant</td>\n",
       "      <td>0.776126</td>\n",
       "    </tr>\n",
       "    <tr>\n",
       "      <th>540207</th>\n",
       "      <td>fright forklift operator</td>\n",
       "      <td>freight associate forklift operator</td>\n",
       "      <td>0.703299</td>\n",
       "    </tr>\n",
       "    <tr>\n",
       "      <th>232169</th>\n",
       "      <td>financieel administratief medewerker</td>\n",
       "      <td>financieel administratief medewerker stage</td>\n",
       "      <td>0.954855</td>\n",
       "    </tr>\n",
       "    <tr>\n",
       "      <th>354136</th>\n",
       "      <td>produce courtesy clerk</td>\n",
       "      <td>courtesy clerk produce</td>\n",
       "      <td>0.892993</td>\n",
       "    </tr>\n",
       "    <tr>\n",
       "      <th>560646</th>\n",
       "      <td>global risk compliance officer</td>\n",
       "      <td>global sanctions compliance officer</td>\n",
       "      <td>0.707593</td>\n",
       "    </tr>\n",
       "    <tr>\n",
       "      <th>88276</th>\n",
       "      <td>fiscal specialist</td>\n",
       "      <td>especialista fiscal</td>\n",
       "      <td>0.736118</td>\n",
       "    </tr>\n",
       "    <tr>\n",
       "      <th>167158</th>\n",
       "      <td>member host</td>\n",
       "      <td>cashier member host</td>\n",
       "      <td>0.826126</td>\n",
       "    </tr>\n",
       "  </tbody>\n",
       "</table>\n",
       "</div>"
      ],
      "text/plain": [
       "                                        left_side  \\\n",
       "290957                            associate store   \n",
       "73953              department manager key carrier   \n",
       "518244               customer solutions executive   \n",
       "607648     service representative marketing sales   \n",
       "93309                   stock inventory associate   \n",
       "25914                              deli assistant   \n",
       "205769                            layout designer   \n",
       "575152            customer service shop assistant   \n",
       "382851       assistant service operations manager   \n",
       "587306                maintenance worker seasonal   \n",
       "60166                      interpreter translator   \n",
       "66761                document control coordinator   \n",
       "412449  data entry operator transaction processor   \n",
       "448249                             cash attendant   \n",
       "540207                   fright forklift operator   \n",
       "232169       financieel administratief medewerker   \n",
       "354136                     produce courtesy clerk   \n",
       "560646             global risk compliance officer   \n",
       "88276                           fiscal specialist   \n",
       "167158                                member host   \n",
       "\n",
       "                                        right_side  similairity  \n",
       "290957                             associate store     1.000000  \n",
       "73953    operations department manager key carrier     0.893524  \n",
       "518244                           customer solution     0.756920  \n",
       "607648   marketing customer service representative     0.761189  \n",
       "93309                              stock inventory     0.856562  \n",
       "25914                               deli associate     0.738400  \n",
       "205769                      layout design engineer     0.777435  \n",
       "575152                  customer service assistant     0.707915  \n",
       "382851                  service operations manager     0.852222  \n",
       "587306                 maintenance worker operator     0.711889  \n",
       "60166                       translator interpreter     0.901807  \n",
       "66761                   document control associate     0.729344  \n",
       "412449            transaction processor data entry     0.830278  \n",
       "448249                           cashier attendant     0.776126  \n",
       "540207         freight associate forklift operator     0.703299  \n",
       "232169  financieel administratief medewerker stage     0.954855  \n",
       "354136                      courtesy clerk produce     0.892993  \n",
       "560646         global sanctions compliance officer     0.707593  \n",
       "88276                          especialista fiscal     0.736118  \n",
       "167158                         cashier member host     0.826126  "
      ]
     },
     "execution_count": 13,
     "metadata": {},
     "output_type": "execute_result"
    }
   ],
   "source": [
    "matches_df = get_matches_df(matches, clean_job_titles_filtered, top=False)\n",
    "# matches_df = matches_df[matches_df['similairity'] < 0.99999] # Remove all exact matches\n",
    "matches_df.sample(20)"
   ]
  },
  {
   "cell_type": "code",
   "execution_count": 14,
   "metadata": {},
   "outputs": [
    {
     "data": {
      "text/html": [
       "<div>\n",
       "<style scoped>\n",
       "    .dataframe tbody tr th:only-of-type {\n",
       "        vertical-align: middle;\n",
       "    }\n",
       "\n",
       "    .dataframe tbody tr th {\n",
       "        vertical-align: top;\n",
       "    }\n",
       "\n",
       "    .dataframe thead th {\n",
       "        text-align: right;\n",
       "    }\n",
       "</style>\n",
       "<table border=\"1\" class=\"dataframe\">\n",
       "  <thead>\n",
       "    <tr style=\"text-align: right;\">\n",
       "      <th></th>\n",
       "      <th>left_side</th>\n",
       "      <th>right_side</th>\n",
       "      <th>similairity</th>\n",
       "    </tr>\n",
       "  </thead>\n",
       "  <tbody>\n",
       "    <tr>\n",
       "      <th>343202</th>\n",
       "      <td>social media team</td>\n",
       "      <td>social media manager</td>\n",
       "      <td>0.700001</td>\n",
       "    </tr>\n",
       "    <tr>\n",
       "      <th>48086</th>\n",
       "      <td>social media manager</td>\n",
       "      <td>social media team</td>\n",
       "      <td>0.700001</td>\n",
       "    </tr>\n",
       "    <tr>\n",
       "      <th>436003</th>\n",
       "      <td>design supervisor project manager</td>\n",
       "      <td>design engineer project manager</td>\n",
       "      <td>0.700001</td>\n",
       "    </tr>\n",
       "    <tr>\n",
       "      <th>272281</th>\n",
       "      <td>técnico telecomunicações pleno</td>\n",
       "      <td>técnico eletrônica telecomunicações</td>\n",
       "      <td>0.700001</td>\n",
       "    </tr>\n",
       "    <tr>\n",
       "      <th>399530</th>\n",
       "      <td>técnico eletrônica telecomunicações</td>\n",
       "      <td>técnico telecomunicações pleno</td>\n",
       "      <td>0.700001</td>\n",
       "    </tr>\n",
       "    <tr>\n",
       "      <th>419344</th>\n",
       "      <td>garden associate receiving</td>\n",
       "      <td>sales associate receiving associate</td>\n",
       "      <td>0.700002</td>\n",
       "    </tr>\n",
       "    <tr>\n",
       "      <th>394408</th>\n",
       "      <td>salesman merchandising specialist</td>\n",
       "      <td>merchandising sales</td>\n",
       "      <td>0.700002</td>\n",
       "    </tr>\n",
       "    <tr>\n",
       "      <th>330914</th>\n",
       "      <td>rental technician</td>\n",
       "      <td>fleet rental technician</td>\n",
       "      <td>0.700002</td>\n",
       "    </tr>\n",
       "    <tr>\n",
       "      <th>430405</th>\n",
       "      <td>fleet rental technician</td>\n",
       "      <td>rental technician</td>\n",
       "      <td>0.700002</td>\n",
       "    </tr>\n",
       "    <tr>\n",
       "      <th>334014</th>\n",
       "      <td>developer internship</td>\n",
       "      <td>net developer intern</td>\n",
       "      <td>0.700003</td>\n",
       "    </tr>\n",
       "  </tbody>\n",
       "</table>\n",
       "</div>"
      ],
      "text/plain": [
       "                                  left_side  \\\n",
       "343202                    social media team   \n",
       "48086                  social media manager   \n",
       "436003    design supervisor project manager   \n",
       "272281       técnico telecomunicações pleno   \n",
       "399530  técnico eletrônica telecomunicações   \n",
       "419344           garden associate receiving   \n",
       "394408    salesman merchandising specialist   \n",
       "330914                    rental technician   \n",
       "430405              fleet rental technician   \n",
       "334014                 developer internship   \n",
       "\n",
       "                                 right_side  similairity  \n",
       "343202                 social media manager     0.700001  \n",
       "48086                     social media team     0.700001  \n",
       "436003      design engineer project manager     0.700001  \n",
       "272281  técnico eletrônica telecomunicações     0.700001  \n",
       "399530       técnico telecomunicações pleno     0.700001  \n",
       "419344  sales associate receiving associate     0.700002  \n",
       "394408                  merchandising sales     0.700002  \n",
       "330914              fleet rental technician     0.700002  \n",
       "430405                    rental technician     0.700002  \n",
       "334014                 net developer intern     0.700003  "
      ]
     },
     "execution_count": 14,
     "metadata": {},
     "output_type": "execute_result"
    }
   ],
   "source": [
    "matches_df.sort_values(['similairity'], ascending=True).head(10)"
   ]
  },
  {
   "cell_type": "code",
   "execution_count": 15,
   "metadata": {
    "scrolled": true
   },
   "outputs": [
    {
     "name": "stdout",
     "output_type": "stream",
     "text": [
      "(1316, 2)\n"
     ]
    },
    {
     "data": {
      "text/html": [
       "<div>\n",
       "<style scoped>\n",
       "    .dataframe tbody tr th:only-of-type {\n",
       "        vertical-align: middle;\n",
       "    }\n",
       "\n",
       "    .dataframe tbody tr th {\n",
       "        vertical-align: top;\n",
       "    }\n",
       "\n",
       "    .dataframe thead th {\n",
       "        text-align: right;\n",
       "    }\n",
       "</style>\n",
       "<table border=\"1\" class=\"dataframe\">\n",
       "  <thead>\n",
       "    <tr style=\"text-align: right;\">\n",
       "      <th></th>\n",
       "      <th>left_side</th>\n",
       "      <th>right_side</th>\n",
       "    </tr>\n",
       "  </thead>\n",
       "  <tbody>\n",
       "    <tr>\n",
       "      <th>0</th>\n",
       "      <td>application developer</td>\n",
       "      <td>[application developer, application developer, application developer sap, application developer team, application developer associate, application developer analyst, application developer specialist, net application developer, rational application developer, application developer intern, application developer, application developer, application developer sap, application developer team, application developer associate, application developer analyst, application developer specialist, net appl...</td>\n",
       "    </tr>\n",
       "    <tr>\n",
       "      <th>1</th>\n",
       "      <td>application support analyst</td>\n",
       "      <td>[application support analyst, application support analyst, applications support analyst, technical application support analyst, clinical application support analyst, application support, business application support analyst, application production support analyst, production application support analyst, application technical support analyst, application support analyst, application support analyst, applications support analyst, technical application support analyst, clinical application supp...</td>\n",
       "    </tr>\n",
       "    <tr>\n",
       "      <th>2</th>\n",
       "      <td>applications engineer</td>\n",
       "      <td>[applications engineer, applications engineer, applications engineer, applications engineer sales engineering, applications engineer intern, application operations engineer, application sales engineer, application engineer, technical applications engineer, applications engineering intern, applications engineer, applications engineer, applications engineer, applications engineer sales engineering, applications engineer intern, application operations engineer, application sales engineer, appli...</td>\n",
       "    </tr>\n",
       "    <tr>\n",
       "      <th>3</th>\n",
       "      <td>associate developer</td>\n",
       "      <td>[associate developer, associate developer, developer associate, associate development, developer developer, developer, software associate developer, associate development manager, store developer, associate software developer, associate developer, associate developer, developer associate, associate development, developer developer, developer, software associate developer, associate development manager, store developer, associate software developer]</td>\n",
       "    </tr>\n",
       "    <tr>\n",
       "      <th>4</th>\n",
       "      <td>chief information officer</td>\n",
       "      <td>[chief information officer, chief information officer, chief information office, chief information officer cio, chief information security officer, information officer, chief information systems, chief information officer, chief information officer, chief information office, chief information officer cio, chief information security officer, information officer, chief information systems]</td>\n",
       "    </tr>\n",
       "    <tr>\n",
       "      <th>...</th>\n",
       "      <td>...</td>\n",
       "      <td>...</td>\n",
       "    </tr>\n",
       "    <tr>\n",
       "      <th>65</th>\n",
       "      <td>technology systems administrator</td>\n",
       "      <td>[technology systems administrator, technology systems administrator, technology system administrator, systems administrator technology consultant, technology specialist system administrator, systems administrator, systems administrator, technology administrator, tier systems administrator, system administrator technology, technology systems administrator, technology systems administrator, technology system administrator, systems administrator technology consultant, technology specialist syst...</td>\n",
       "    </tr>\n",
       "    <tr>\n",
       "      <th>66</th>\n",
       "      <td>telecommunications specialist</td>\n",
       "      <td>[telecommunications specialist, telecommunications specialist, telecommunication specialist, telecommunications operations specialist, communications specialist, telecommunications, telecommunications sales, technology telecommunications specialist, telecommunications specialist project manager, telecommunications manager, telecommunications specialist, telecommunications specialist, telecommunication specialist, telecommunications operations specialist, communications specialist, telecommun...</td>\n",
       "    </tr>\n",
       "    <tr>\n",
       "      <th>67</th>\n",
       "      <td>web administrator</td>\n",
       "      <td>[web administrator, web administrator, web administrator, lab administrator, web content administrator, web administrator, web administrator, web administrator, lab administrator, web content administrator, web administrator, web administrator, web administrator, lab administrator, web content administrator]</td>\n",
       "    </tr>\n",
       "    <tr>\n",
       "      <th>68</th>\n",
       "      <td>web developer</td>\n",
       "      <td>[web developer, web developer, web developer, web developer developer, web developer analyst, web developer intern, web application developer web developer, net web developer, associate web developer, assistant web developer, web developer, web developer, web developer, web developer developer, web developer analyst, web developer intern, web application developer web developer, net web developer, associate web developer, assistant web developer, web developer, web developer, web developer, ...</td>\n",
       "    </tr>\n",
       "    <tr>\n",
       "      <th>69</th>\n",
       "      <td>webmaster</td>\n",
       "      <td>[webmaster, webmaster, webmaster, webmaster]</td>\n",
       "    </tr>\n",
       "  </tbody>\n",
       "</table>\n",
       "<p>70 rows × 2 columns</p>\n",
       "</div>"
      ],
      "text/plain": [
       "                           left_side  \\\n",
       "0              application developer   \n",
       "1        application support analyst   \n",
       "2              applications engineer   \n",
       "3                associate developer   \n",
       "4          chief information officer   \n",
       "..                               ...   \n",
       "65  technology systems administrator   \n",
       "66     telecommunications specialist   \n",
       "67                 web administrator   \n",
       "68                     web developer   \n",
       "69                         webmaster   \n",
       "\n",
       "                                                                                                                                                                                                                                                                                                                                                                                                                                                                                                             right_side  \n",
       "0   [application developer, application developer, application developer sap, application developer team, application developer associate, application developer analyst, application developer specialist, net application developer, rational application developer, application developer intern, application developer, application developer, application developer sap, application developer team, application developer associate, application developer analyst, application developer specialist, net appl...  \n",
       "1   [application support analyst, application support analyst, applications support analyst, technical application support analyst, clinical application support analyst, application support, business application support analyst, application production support analyst, production application support analyst, application technical support analyst, application support analyst, application support analyst, applications support analyst, technical application support analyst, clinical application supp...  \n",
       "2   [applications engineer, applications engineer, applications engineer, applications engineer sales engineering, applications engineer intern, application operations engineer, application sales engineer, application engineer, technical applications engineer, applications engineering intern, applications engineer, applications engineer, applications engineer, applications engineer sales engineering, applications engineer intern, application operations engineer, application sales engineer, appli...  \n",
       "3                                                  [associate developer, associate developer, developer associate, associate development, developer developer, developer, software associate developer, associate development manager, store developer, associate software developer, associate developer, associate developer, developer associate, associate development, developer developer, developer, software associate developer, associate development manager, store developer, associate software developer]  \n",
       "4                                                                                                                [chief information officer, chief information officer, chief information office, chief information officer cio, chief information security officer, information officer, chief information systems, chief information officer, chief information officer, chief information office, chief information officer cio, chief information security officer, information officer, chief information systems]  \n",
       "..                                                                                                                                                                                                                                                                                                                                                                                                                                                                                                                  ...  \n",
       "65  [technology systems administrator, technology systems administrator, technology system administrator, systems administrator technology consultant, technology specialist system administrator, systems administrator, systems administrator, technology administrator, tier systems administrator, system administrator technology, technology systems administrator, technology systems administrator, technology system administrator, systems administrator technology consultant, technology specialist syst...  \n",
       "66  [telecommunications specialist, telecommunications specialist, telecommunication specialist, telecommunications operations specialist, communications specialist, telecommunications, telecommunications sales, technology telecommunications specialist, telecommunications specialist project manager, telecommunications manager, telecommunications specialist, telecommunications specialist, telecommunication specialist, telecommunications operations specialist, communications specialist, telecommun...  \n",
       "67                                                                                                                                                                                                [web administrator, web administrator, web administrator, lab administrator, web content administrator, web administrator, web administrator, web administrator, lab administrator, web content administrator, web administrator, web administrator, web administrator, lab administrator, web content administrator]  \n",
       "68  [web developer, web developer, web developer, web developer developer, web developer analyst, web developer intern, web application developer web developer, net web developer, associate web developer, assistant web developer, web developer, web developer, web developer, web developer developer, web developer analyst, web developer intern, web application developer web developer, net web developer, associate web developer, assistant web developer, web developer, web developer, web developer, ...  \n",
       "69                                                                                                                                                                                                                                                                                                                                                                                                                                                                         [webmaster, webmaster, webmaster, webmaster]  \n",
       "\n",
       "[70 rows x 2 columns]"
      ]
     },
     "metadata": {},
     "output_type": "display_data"
    }
   ],
   "source": [
    "filtered_jobs = matches_df.loc[matches_df.left_side.isin(common_tech_titles),[\"left_side\",\"right_side\"]]\n",
    "print(filtered_jobs.shape)\n",
    "\n",
    "pd.set_option(\"display.max_colwidth\",500)\n",
    "display(filtered_jobs.groupby(\"left_side\")[\"right_side\"].apply(list).reset_index())\n",
    "pd.reset_option(\"display.max_colwidth\")\n"
   ]
  },
  {
   "cell_type": "code",
   "execution_count": 16,
   "metadata": {},
   "outputs": [
    {
     "data": {
      "text/plain": [
       "42590"
      ]
     },
     "execution_count": 16,
     "metadata": {},
     "output_type": "execute_result"
    }
   ],
   "source": [
    "sum(reviews.clean_job_title.isin(filtered_jobs.right_side.tolist()))"
   ]
  },
  {
   "cell_type": "markdown",
   "metadata": {},
   "source": [
    "## TF-IDF with K-Means"
   ]
  },
  {
   "cell_type": "code",
   "execution_count": 17,
   "metadata": {},
   "outputs": [
    {
     "name": "stdout",
     "output_type": "stream",
     "text": [
      "506654\n"
     ]
    }
   ],
   "source": [
    "\n",
    "clean_job_titles = reviews.clean_job_title.unique().tolist()\n",
    "print(len(clean_job_titles))"
   ]
  },
  {
   "cell_type": "code",
   "execution_count": 18,
   "metadata": {},
   "outputs": [
    {
     "name": "stdout",
     "output_type": "stream",
     "text": [
      "All 3-grams in cloud architect:\n",
      "['clo', 'lou', 'oud', 'ud ', 'd a', ' ar', 'arc', 'rch', 'chi', 'hit', 'ite', 'tec', 'ect']\n"
     ]
    }
   ],
   "source": [
    "import re\n",
    "\n",
    "def ngrams(string, n=3):\n",
    "    #string = re.sub(r'[,-./]|\\sBD',r'', string)\n",
    "    ngrams = zip(*[string[i:] for i in range(n)])\n",
    "    return [''.join(ngram) for ngram in ngrams]\n",
    "\n",
    "print('All 3-grams in {}:'.format(common_tech_titles[0]))\n",
    "print( ngrams(common_tech_titles[0]) )"
   ]
  },
  {
   "cell_type": "code",
   "execution_count": 19,
   "metadata": {},
   "outputs": [
    {
     "name": "stdout",
     "output_type": "stream",
     "text": [
      "340\n"
     ]
    }
   ],
   "source": [
    "from sklearn.feature_extraction.text import TfidfVectorizer\n",
    "\n",
    "vectorizer = TfidfVectorizer(min_df=1, analyzer=ngrams)\n",
    "tf_idf_matrix = vectorizer.fit_transform(common_tech_titles)\n",
    "\n",
    "print(len(vectorizer.get_feature_names()))"
   ]
  },
  {
   "cell_type": "code",
   "execution_count": 20,
   "metadata": {},
   "outputs": [],
   "source": [
    "from sklearn.neighbors import NearestNeighbors\n",
    "import time\n",
    "\n",
    "nbrs = NearestNeighbors(n_neighbors=1, n_jobs=-1).fit(tf_idf_matrix)"
   ]
  },
  {
   "cell_type": "code",
   "execution_count": 21,
   "metadata": {},
   "outputs": [
    {
     "name": "stdout",
     "output_type": "stream",
     "text": [
      "getting nearest n...\n",
      "COMPLETED IN: 8.940165042877197\n"
     ]
    }
   ],
   "source": [
    "def getNearestN(query):\n",
    "    queryTFIDF_ = vectorizer.transform(query)\n",
    "    distances, indices = nbrs.kneighbors(queryTFIDF_)\n",
    "    return distances, indices\n",
    "\n",
    "t1 = time.time()\n",
    "print('getting nearest n...')\n",
    "distances, indices = getNearestN(clean_job_titles)\n",
    "t = time.time()-t1\n",
    "print(\"COMPLETED IN:\", t)"
   ]
  },
  {
   "cell_type": "code",
   "execution_count": null,
   "metadata": {},
   "outputs": [],
   "source": []
  },
  {
   "cell_type": "code",
   "execution_count": 22,
   "metadata": {},
   "outputs": [
    {
     "name": "stdout",
     "output_type": "stream",
     "text": [
      "finding matches...\n",
      "Building data frame...\n",
      "Done\n"
     ]
    }
   ],
   "source": [
    "print('finding matches...')\n",
    "kmeans_matches = []\n",
    "for i,j in enumerate(indices):\n",
    "    temp = [round(distances[i][0],2), common_tech_titles[j[0]],clean_job_titles[i]]\n",
    "    kmeans_matches.append(temp)\n",
    "print('Building data frame...')  \n",
    "kmeans_matches = pd.DataFrame(kmeans_matches, columns=['Match confidence (lower is better)','left_side','right_side'])\n",
    "print('Done')"
   ]
  },
  {
   "cell_type": "code",
   "execution_count": 23,
   "metadata": {},
   "outputs": [
    {
     "name": "stdout",
     "output_type": "stream",
     "text": [
      "1442\n"
     ]
    },
    {
     "data": {
      "text/html": [
       "<div>\n",
       "<style scoped>\n",
       "    .dataframe tbody tr th:only-of-type {\n",
       "        vertical-align: middle;\n",
       "    }\n",
       "\n",
       "    .dataframe tbody tr th {\n",
       "        vertical-align: top;\n",
       "    }\n",
       "\n",
       "    .dataframe thead th {\n",
       "        text-align: right;\n",
       "    }\n",
       "</style>\n",
       "<table border=\"1\" class=\"dataframe\">\n",
       "  <thead>\n",
       "    <tr style=\"text-align: right;\">\n",
       "      <th></th>\n",
       "      <th>left_side</th>\n",
       "      <th>right_side</th>\n",
       "    </tr>\n",
       "  </thead>\n",
       "  <tbody>\n",
       "    <tr>\n",
       "      <th>0</th>\n",
       "      <td>application developer</td>\n",
       "      <td>[application developer, sap abap application developer, mobile application developer, oracle application developer, application developer latam, application develope, application developer head, android application developer, ios application developer, mean stack application developer, application developer sql, android mobile application developer, ios mobile application developer, application developer mobile ios, websphere application developer, application developer j2ee, tririga application developer, application developer sap, application developer ios, application developer qlikview cognos, application developer oracle apps, maximo application developer, application developer lotu...</td>\n",
       "    </tr>\n",
       "    <tr>\n",
       "      <th>1</th>\n",
       "      <td>application support analyst</td>\n",
       "      <td>[application support analyst, business application support analyst, hcm application support analyst, peachtree accounting application support analyst, unix application support analyst, mainframe application support analyst, application support analyst oracle apps, application support analyst team, application support business analyst, level application support analyst, application support analysis qnxt, tax support analyst cash applications, linux application support analyst, business analyst application support, analyst application support, application support analyst offshore, level banking application support analyst, system application support analyst, application monitoring support ...</td>\n",
       "    </tr>\n",
       "    <tr>\n",
       "      <th>2</th>\n",
       "      <td>applications engineer</td>\n",
       "      <td>[applications engineer, delcam applications engineer, staff field applications engineer, field applications engineer, applications engineer hvcb, applications engineer cad cam, applications tailoring engineer, foundry applications engineer, applications engineer devops, applications engineer ic5, principle applications engineer, lighting applications engineer, oracle applications engineer, sas applications engineer, applications engineer cvp, sales applications engineer]</td>\n",
       "    </tr>\n",
       "    <tr>\n",
       "      <th>3</th>\n",
       "      <td>associate developer</td>\n",
       "      <td>[associate developer, associate developer dot net, associate oracle sql developer, associate etl developer, associate sql etl developer, associate sql developer, associate marklogic developer, associate full stack developer, associate developer full time]</td>\n",
       "    </tr>\n",
       "    <tr>\n",
       "      <th>4</th>\n",
       "      <td>chief information officer</td>\n",
       "      <td>[chief information officer, interim chief information officer, chief information office, chief information officer cio, chief information office cio, chief information officer west region, regional chief information officer]</td>\n",
       "    </tr>\n",
       "    <tr>\n",
       "      <th>...</th>\n",
       "      <td>...</td>\n",
       "      <td>...</td>\n",
       "    </tr>\n",
       "    <tr>\n",
       "      <th>57</th>\n",
       "      <td>technology systems administrator</td>\n",
       "      <td>[technology systems administrator, technology systemadministrator, nexgen technology systems administrator]</td>\n",
       "    </tr>\n",
       "    <tr>\n",
       "      <th>58</th>\n",
       "      <td>telecommunications specialist</td>\n",
       "      <td>[telecommunications specialist, engineering telecommunications specialist, telecommunications repair specialist, telecommunications account specialist, military telecommunications specialist, analyst telecommunications specialist, telecommunications systems specialist, telecommunications specialist csr]</td>\n",
       "    </tr>\n",
       "    <tr>\n",
       "      <th>59</th>\n",
       "      <td>web administrator</td>\n",
       "      <td>[web administrator, marketing web administrator, training advisor•web administrator, web hosting administrator]</td>\n",
       "    </tr>\n",
       "    <tr>\n",
       "      <th>60</th>\n",
       "      <td>web developer</td>\n",
       "      <td>[web developer, full stack web developer, web developer web developer, php web developer, ctl web developer, web developer oracle, web developer html5 developer, web developer jefe equipo, drupal web developer, angular web developer, mobile web developer, web developer fullstack, role web developer, global web developer, web developer sme, oracle sql web developer, j2ee web developer, staff web developer ebt, eftps web developer, sfdc web developer, web developer developer]</td>\n",
       "    </tr>\n",
       "    <tr>\n",
       "      <th>61</th>\n",
       "      <td>webmaster</td>\n",
       "      <td>[webmaster, webmaster sav, tester webmaster]</td>\n",
       "    </tr>\n",
       "  </tbody>\n",
       "</table>\n",
       "<p>62 rows × 2 columns</p>\n",
       "</div>"
      ],
      "text/plain": [
       "                           left_side  \\\n",
       "0              application developer   \n",
       "1        application support analyst   \n",
       "2              applications engineer   \n",
       "3                associate developer   \n",
       "4          chief information officer   \n",
       "..                               ...   \n",
       "57  technology systems administrator   \n",
       "58     telecommunications specialist   \n",
       "59                 web administrator   \n",
       "60                     web developer   \n",
       "61                         webmaster   \n",
       "\n",
       "                                                                                                                                                                                                                                                                                                                                                                                                                                                                                                                                                                                                                                                                                                                     right_side  \n",
       "0   [application developer, sap abap application developer, mobile application developer, oracle application developer, application developer latam, application develope, application developer head, android application developer, ios application developer, mean stack application developer, application developer sql, android mobile application developer, ios mobile application developer, application developer mobile ios, websphere application developer, application developer j2ee, tririga application developer, application developer sap, application developer ios, application developer qlikview cognos, application developer oracle apps, maximo application developer, application developer lotu...  \n",
       "1   [application support analyst, business application support analyst, hcm application support analyst, peachtree accounting application support analyst, unix application support analyst, mainframe application support analyst, application support analyst oracle apps, application support analyst team, application support business analyst, level application support analyst, application support analysis qnxt, tax support analyst cash applications, linux application support analyst, business analyst application support, analyst application support, application support analyst offshore, level banking application support analyst, system application support analyst, application monitoring support ...  \n",
       "2                                                                                                                                                                                                                                   [applications engineer, delcam applications engineer, staff field applications engineer, field applications engineer, applications engineer hvcb, applications engineer cad cam, applications tailoring engineer, foundry applications engineer, applications engineer devops, applications engineer ic5, principle applications engineer, lighting applications engineer, oracle applications engineer, sas applications engineer, applications engineer cvp, sales applications engineer]  \n",
       "3                                                                                                                                                                                                                                                                                                                                                                                                                                                               [associate developer, associate developer dot net, associate oracle sql developer, associate etl developer, associate sql etl developer, associate sql developer, associate marklogic developer, associate full stack developer, associate developer full time]  \n",
       "4                                                                                                                                                                                                                                                                                                                                                                                                                                                                                              [chief information officer, interim chief information officer, chief information office, chief information officer cio, chief information office cio, chief information officer west region, regional chief information officer]  \n",
       "..                                                                                                                                                                                                                                                                                                                                                                                                                                                                                                                                                                                                                                                                                                                          ...  \n",
       "57                                                                                                                                                                                                                                                                                                                                                                                                                                                                                                                                                                                                                  [technology systems administrator, technology systemadministrator, nexgen technology systems administrator]  \n",
       "58                                                                                                                                                                                                                                                                                                                                                                                                             [telecommunications specialist, engineering telecommunications specialist, telecommunications repair specialist, telecommunications account specialist, military telecommunications specialist, analyst telecommunications specialist, telecommunications systems specialist, telecommunications specialist csr]  \n",
       "59                                                                                                                                                                                                                                                                                                                                                                                                                                                                                                                                                                                                              [web administrator, marketing web administrator, training advisor•web administrator, web hosting administrator]  \n",
       "60                                                                                                                                                                                                                               [web developer, full stack web developer, web developer web developer, php web developer, ctl web developer, web developer oracle, web developer html5 developer, web developer jefe equipo, drupal web developer, angular web developer, mobile web developer, web developer fullstack, role web developer, global web developer, web developer sme, oracle sql web developer, j2ee web developer, staff web developer ebt, eftps web developer, sfdc web developer, web developer developer]  \n",
       "61                                                                                                                                                                                                                                                                                                                                                                                                                                                                                                                                                                                                                                                                                 [webmaster, webmaster sav, tester webmaster]  \n",
       "\n",
       "[62 rows x 2 columns]"
      ]
     },
     "metadata": {},
     "output_type": "display_data"
    }
   ],
   "source": [
    "idx = kmeans_matches[\"Match confidence (lower is better)\"] < .4\n",
    "kmeans_filtered_jobs = kmeans_matches.loc[idx,[\"left_side\",\"right_side\"]]\n",
    "print(sum(idx))\n",
    "\n",
    "pd.set_option(\"display.max_colwidth\",700)\n",
    "display( kmeans_filtered_jobs.groupby(\"left_side\").right_side.apply(list).reset_index() )\n",
    "pd.reset_option(\"display.max_colwidth\")"
   ]
  },
  {
   "cell_type": "code",
   "execution_count": 24,
   "metadata": {},
   "outputs": [
    {
     "data": {
      "text/plain": [
       "36276"
      ]
     },
     "execution_count": 24,
     "metadata": {},
     "output_type": "execute_result"
    }
   ],
   "source": [
    "sum(reviews.clean_job_title.isin(kmeans_filtered_jobs.right_side.tolist()))"
   ]
  },
  {
   "cell_type": "markdown",
   "metadata": {},
   "source": [
    "Merge both datsets"
   ]
  },
  {
   "cell_type": "code",
   "execution_count": 25,
   "metadata": {
    "scrolled": true
   },
   "outputs": [
    {
     "data": {
      "text/plain": [
       "(1855, 2)"
      ]
     },
     "execution_count": 25,
     "metadata": {},
     "output_type": "execute_result"
    }
   ],
   "source": [
    "\n",
    "finalized_job_list = pd.concat([filtered_jobs, kmeans_filtered_jobs]).drop_duplicates()\n",
    "\n",
    "finalized_job_list.shape"
   ]
  },
  {
   "cell_type": "code",
   "execution_count": 26,
   "metadata": {
    "scrolled": false
   },
   "outputs": [
    {
     "data": {
      "text/plain": [
       "45701"
      ]
     },
     "execution_count": 26,
     "metadata": {},
     "output_type": "execute_result"
    }
   ],
   "source": [
    "sum(reviews.clean_job_title.isin(finalized_job_list.right_side.tolist()))"
   ]
  },
  {
   "cell_type": "code",
   "execution_count": 27,
   "metadata": {},
   "outputs": [],
   "source": [
    "finalized_job_list.head()\n",
    "\n",
    "finalized_job_list.to_csv(\"../data/finalized_job_list.csv\", index=False)"
   ]
  },
  {
   "cell_type": "markdown",
   "metadata": {},
   "source": [
    "Remove Jobs..."
   ]
  },
  {
   "cell_type": "code",
   "execution_count": 28,
   "metadata": {},
   "outputs": [],
   "source": [
    "filter_titles = finalized_job_list.right_side.tolist()\n",
    "\n",
    "exclude_keywords = [\n",
    "    \"camp\"\n",
    "    ,\"tutor\"\n",
    "    ,\"professor\"\n",
    "    ,\"entry\"\n",
    "    ,\"entries\"\n",
    "    ,\"teacher\"\n",
    "    ,\"audio\"\n",
    "    ,\"civil\"\n",
    "    ,\"facility\"\n",
    "    ,\"facilities\"\n",
    "    ,\"industrial\"\n",
    "    ,\"metals\"  \n",
    "    ,\"lab\"\n",
    "]\n",
    "\n",
    "def excludeJobTItles(job):\n",
    "    tokens = str(job).split(\" \")\n",
    "    return len( [ word for word in tokens if word in exclude_keywords ] ) == 0\n",
    "\n",
    "filter_titles_2 = list( filter(excludeJobTItles, filter_titles) )"
   ]
  },
  {
   "cell_type": "code",
   "execution_count": 29,
   "metadata": {},
   "outputs": [
    {
     "data": {
      "text/plain": [
       "45687"
      ]
     },
     "execution_count": 29,
     "metadata": {},
     "output_type": "execute_result"
    }
   ],
   "source": [
    "sum(reviews.clean_job_title.isin(filter_titles_2))"
   ]
  },
  {
   "cell_type": "code",
   "execution_count": 30,
   "metadata": {},
   "outputs": [],
   "source": [
    "import pandas as pd\n",
    "\n",
    "pd.DataFrame(filter_titles_2,columns=[\"clean_job_title\"]).to_csv(\"../data/filter_job_titles.csv\",index=False)"
   ]
  },
  {
   "cell_type": "code",
   "execution_count": null,
   "metadata": {},
   "outputs": [],
   "source": []
  }
 ],
 "metadata": {
  "kernelspec": {
   "display_name": "Python 3",
   "language": "python",
   "name": "python3"
  },
  "language_info": {
   "codemirror_mode": {
    "name": "ipython",
    "version": 3
   },
   "file_extension": ".py",
   "mimetype": "text/x-python",
   "name": "python",
   "nbconvert_exporter": "python",
   "pygments_lexer": "ipython3",
   "version": "3.7.0"
  }
 },
 "nbformat": 4,
 "nbformat_minor": 4
}
