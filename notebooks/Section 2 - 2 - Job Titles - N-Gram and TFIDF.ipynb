{
 "cells": [
  {
   "cell_type": "markdown",
   "metadata": {},
   "source": [
    "Inspired by https://bergvca.github.io/2017/10/14/super-fast-string-matching.html"
   ]
  },
  {
   "cell_type": "code",
   "execution_count": 2,
   "metadata": {},
   "outputs": [],
   "source": [
    "import sys\n",
    "import os\n",
    "\n",
    "module_path = os.path.abspath(os.path.join(\"..\"))\n",
    "if module_path not in sys.path:\n",
    "    sys.path.append(module_path+\"/scripts\")"
   ]
  },
  {
   "cell_type": "code",
   "execution_count": 3,
   "metadata": {},
   "outputs": [],
   "source": [
    "import pandas as pd\n",
    "import pickle\n",
    "\n",
    "with open(\"../data/all_reviews.pkl\",\"rb\") as f:\n",
    "    reviews = pickle.load(f)\n",
    "    "
   ]
  },
  {
   "cell_type": "code",
   "execution_count": 40,
   "metadata": {
    "scrolled": true
   },
   "outputs": [
    {
     "data": {
      "text/plain": [
       "software engineer                          3\n",
       "network architect                          2\n",
       "support specialist                         2\n",
       "system architect                           2\n",
       "systems software engineer                  2\n",
       "                                          ..\n",
       "data center support specialist             1\n",
       "computer programmer                        1\n",
       "desktop support manager                    1\n",
       "computer information research scientist    1\n",
       "customer support administrator             1\n",
       "Name: Job_Title, Length: 70, dtype: int64"
      ]
     },
     "metadata": {},
     "output_type": "display_data"
    }
   ],
   "source": [
    "# with open(\"../data/job_titles.txt\",\"r\") as f:\n",
    "#     common_tech_titles = [ l.replace(\"\\n\",\"\").strip() for l in f ]\n",
    "import string\n",
    "import re\n",
    "from DataPrep import cleanTitle\n",
    "\n",
    "\n",
    "common_tech_titles = pd.read_csv(\"../data/job_titles.txt\")\n",
    "\n",
    "common_tech_titles[\"Job_Title\"] = common_tech_titles.Job_Title.apply(cleanTitle)\n",
    "\n",
    "display(common_tech_titles.Job_Title.value_counts())\n"
   ]
  },
  {
   "cell_type": "markdown",
   "metadata": {},
   "source": [
    "## N-Gram with Top N Cosine"
   ]
  },
  {
   "cell_type": "code",
   "execution_count": 41,
   "metadata": {},
   "outputs": [
    {
     "name": "stdout",
     "output_type": "stream",
     "text": [
      "106249\n"
     ]
    }
   ],
   "source": [
    "# clean_job_titles = reviews.clean_job_title.tolist()\n",
    "clean_job_titles_filtered = reviews.clean_job_title.value_counts()\n",
    "clean_job_titles_filtered = clean_job_titles_filtered.loc[clean_job_titles_filtered > 1].index.tolist()\n",
    "\n",
    "clean_job_titles_filtered.extend(set(common_tech_titles.Job_Title.tolist()))\n",
    "\n",
    "print(len(clean_job_titles_filtered))"
   ]
  },
  {
   "cell_type": "code",
   "execution_count": 6,
   "metadata": {
    "scrolled": true
   },
   "outputs": [
    {
     "name": "stdout",
     "output_type": "stream",
     "text": [
      "All 3-grams in sales associate:\n",
      "['sal', 'ale', 'les', 'es ', 's a', ' as', 'ass', 'sso', 'soc', 'oci', 'cia', 'iat', 'ate']\n"
     ]
    }
   ],
   "source": [
    "import re\n",
    "\n",
    "def ngrams(string, n=3):\n",
    "    #string = re.sub(r'[,-./]|\\sBD',r'', string)\n",
    "    ngrams = zip(*[string[i:] for i in range(n)])\n",
    "    return [''.join(ngram) for ngram in ngrams]\n",
    "\n",
    "print('All 3-grams in {}:'.format(clean_job_titles_filtered[0]))\n",
    "print( ngrams(clean_job_titles_filtered[0]) )"
   ]
  },
  {
   "cell_type": "code",
   "execution_count": 7,
   "metadata": {},
   "outputs": [
    {
     "name": "stdout",
     "output_type": "stream",
     "text": [
      "9125\n"
     ]
    }
   ],
   "source": [
    "from sklearn.feature_extraction.text import TfidfVectorizer\n",
    "\n",
    "vectorizer = TfidfVectorizer(min_df=1, analyzer=ngrams)\n",
    "tf_idf_matrix = vectorizer.fit_transform(clean_job_titles_filtered)\n",
    "\n",
    "print(len(vectorizer.get_feature_names()))"
   ]
  },
  {
   "cell_type": "code",
   "execution_count": 8,
   "metadata": {},
   "outputs": [
    {
     "name": "stdout",
     "output_type": "stream",
     "text": [
      "sales associate\n",
      "  (0, 1202)\t0.26292540368052825\n",
      "  (0, 3570)\t0.28059718134382955\n",
      "  (0, 1708)\t0.21463563116965367\n",
      "  (0, 5433)\t0.28027856751841695\n",
      "  (0, 6842)\t0.28019328630429796\n",
      "  (0, 6915)\t0.2760705507206696\n",
      "  (0, 1192)\t0.2377285822615709\n",
      "  (0, 60)\t0.2563267698347386\n",
      "  (0, 6606)\t0.3282008167188559\n",
      "  (0, 2629)\t0.2861858988943331\n",
      "  (0, 4374)\t0.2964736880627908\n",
      "  (0, 1044)\t0.29332914743884886\n",
      "  (0, 6652)\t0.29497902408255716\n"
     ]
    }
   ],
   "source": [
    "print(clean_job_titles_filtered[0])\n",
    "print( tf_idf_matrix[0] )"
   ]
  },
  {
   "cell_type": "code",
   "execution_count": 9,
   "metadata": {},
   "outputs": [],
   "source": [
    "import numpy as np\n",
    "from scipy.sparse import csr_matrix\n",
    "import sparse_dot_topn.sparse_dot_topn as ct\n",
    "\n",
    "def awesome_cossim_top(A, B, ntop, lower_bound=0):\n",
    "    # force A and B as a CSR matrix.\n",
    "    # If they have already been CSR, there is no overhead\n",
    "    A = A.tocsr()\n",
    "    B = B.tocsr()\n",
    "    M, _ = A.shape\n",
    "    _, N = B.shape\n",
    " \n",
    "    idx_dtype = np.int32\n",
    " \n",
    "    nnz_max = M*ntop\n",
    " \n",
    "    indptr = np.zeros(M+1, dtype=idx_dtype)\n",
    "    indices = np.zeros(nnz_max, dtype=idx_dtype)\n",
    "    data = np.zeros(nnz_max, dtype=A.dtype)\n",
    "\n",
    "    ct.sparse_dot_topn(\n",
    "        M, N, np.asarray(A.indptr, dtype=idx_dtype),\n",
    "        np.asarray(A.indices, dtype=idx_dtype),\n",
    "        A.data,\n",
    "        np.asarray(B.indptr, dtype=idx_dtype),\n",
    "        np.asarray(B.indices, dtype=idx_dtype),\n",
    "        B.data,\n",
    "        ntop,\n",
    "        lower_bound,\n",
    "        indptr, indices, data)\n",
    "\n",
    "    return csr_matrix((data,indices,indptr),shape=(M,N))"
   ]
  },
  {
   "cell_type": "code",
   "execution_count": 10,
   "metadata": {},
   "outputs": [],
   "source": [
    "# import time\n",
    "# t1 = time.time()\n",
    "# matches = awesome_cossim_top(tf_idf_matrix, tf_idf_matrix.transpose(), 10, 0.7)\n",
    "# t = time.time()-t1\n",
    "# print(\"SELFTIMED:\", t)"
   ]
  },
  {
   "cell_type": "code",
   "execution_count": 11,
   "metadata": {},
   "outputs": [
    {
     "name": "stdout",
     "output_type": "stream",
     "text": [
      "SELFTIMED: 35.447951793670654\n"
     ]
    }
   ],
   "source": [
    "from sparse_dot_topn import awesome_cossim_topn\n",
    "import time\n",
    "\n",
    "t1 = time.time()\n",
    "\n",
    "matches = awesome_cossim_topn(tf_idf_matrix, tf_idf_matrix.transpose(), 10, 0.7, use_threads=True, n_jobs=11)\n",
    "\n",
    "t = time.time()-t1\n",
    "print(\"SELFTIMED:\", t)"
   ]
  },
  {
   "cell_type": "code",
   "execution_count": 12,
   "metadata": {},
   "outputs": [],
   "source": [
    "def get_matches_df(sparse_matrix, name_vector, top=100):\n",
    "    non_zeros = sparse_matrix.nonzero()\n",
    "    \n",
    "    sparserows = non_zeros[0]\n",
    "    sparsecols = non_zeros[1]\n",
    "    \n",
    "    if top:\n",
    "        nr_matches = top\n",
    "    else:\n",
    "        nr_matches = sparsecols.size\n",
    "    \n",
    "    left_side = np.empty([nr_matches], dtype=object)\n",
    "    right_side = np.empty([nr_matches], dtype=object)\n",
    "    similairity = np.zeros(nr_matches)\n",
    "    \n",
    "    for index in range(0, nr_matches):\n",
    "        left_side[index] = name_vector[sparserows[index]]\n",
    "        right_side[index] = name_vector[sparsecols[index]]\n",
    "        similairity[index] = sparse_matrix.data[index]\n",
    "    \n",
    "    return pd.DataFrame({'left_side': left_side,\n",
    "                          'right_side': right_side,\n",
    "                           'similairity': similairity})"
   ]
  },
  {
   "cell_type": "code",
   "execution_count": 13,
   "metadata": {},
   "outputs": [
    {
     "data": {
      "text/html": [
       "<div>\n",
       "<style scoped>\n",
       "    .dataframe tbody tr th:only-of-type {\n",
       "        vertical-align: middle;\n",
       "    }\n",
       "\n",
       "    .dataframe tbody tr th {\n",
       "        vertical-align: top;\n",
       "    }\n",
       "\n",
       "    .dataframe thead th {\n",
       "        text-align: right;\n",
       "    }\n",
       "</style>\n",
       "<table border=\"1\" class=\"dataframe\">\n",
       "  <thead>\n",
       "    <tr style=\"text-align: right;\">\n",
       "      <th></th>\n",
       "      <th>left_side</th>\n",
       "      <th>right_side</th>\n",
       "      <th>similairity</th>\n",
       "    </tr>\n",
       "  </thead>\n",
       "  <tbody>\n",
       "    <tr>\n",
       "      <th>342479</th>\n",
       "      <td>head teller assistant branch manager</td>\n",
       "      <td>teller branch manager</td>\n",
       "      <td>0.740180</td>\n",
       "    </tr>\n",
       "    <tr>\n",
       "      <th>28020</th>\n",
       "      <td>solution consultant</td>\n",
       "      <td>sap solution consultant</td>\n",
       "      <td>0.810474</td>\n",
       "    </tr>\n",
       "    <tr>\n",
       "      <th>89358</th>\n",
       "      <td>verizon mobile expert</td>\n",
       "      <td>verizon expert</td>\n",
       "      <td>0.723070</td>\n",
       "    </tr>\n",
       "    <tr>\n",
       "      <th>399050</th>\n",
       "      <td>financial leadership program intern</td>\n",
       "      <td>financial leadership program intern</td>\n",
       "      <td>1.000000</td>\n",
       "    </tr>\n",
       "    <tr>\n",
       "      <th>168700</th>\n",
       "      <td>lab medical assistant</td>\n",
       "      <td>medical assistant</td>\n",
       "      <td>0.755844</td>\n",
       "    </tr>\n",
       "    <tr>\n",
       "      <th>332572</th>\n",
       "      <td>marketing sales assistant</td>\n",
       "      <td>assistant marketing</td>\n",
       "      <td>0.770405</td>\n",
       "    </tr>\n",
       "    <tr>\n",
       "      <th>561019</th>\n",
       "      <td>cashier garden associate tool rental associate</td>\n",
       "      <td>cashier garden associate</td>\n",
       "      <td>0.754303</td>\n",
       "    </tr>\n",
       "    <tr>\n",
       "      <th>585686</th>\n",
       "      <td>asesora ventas cajera</td>\n",
       "      <td>asesora ventas</td>\n",
       "      <td>0.768300</td>\n",
       "    </tr>\n",
       "    <tr>\n",
       "      <th>426910</th>\n",
       "      <td>forklift operator material handler order puller</td>\n",
       "      <td>order puller forklift operator</td>\n",
       "      <td>0.735619</td>\n",
       "    </tr>\n",
       "    <tr>\n",
       "      <th>124352</th>\n",
       "      <td>commercial sales assistant</td>\n",
       "      <td>commercial assistant</td>\n",
       "      <td>0.825269</td>\n",
       "    </tr>\n",
       "    <tr>\n",
       "      <th>280878</th>\n",
       "      <td>product specialist part time</td>\n",
       "      <td>product specialist part time</td>\n",
       "      <td>1.000000</td>\n",
       "    </tr>\n",
       "    <tr>\n",
       "      <th>93378</th>\n",
       "      <td>marketing agent</td>\n",
       "      <td>marketing agent</td>\n",
       "      <td>1.000000</td>\n",
       "    </tr>\n",
       "    <tr>\n",
       "      <th>507558</th>\n",
       "      <td>power generation manager</td>\n",
       "      <td>manager generation</td>\n",
       "      <td>0.739266</td>\n",
       "    </tr>\n",
       "    <tr>\n",
       "      <th>531488</th>\n",
       "      <td>supervising associate facility management</td>\n",
       "      <td>facility management</td>\n",
       "      <td>0.709227</td>\n",
       "    </tr>\n",
       "    <tr>\n",
       "      <th>42220</th>\n",
       "      <td>fraud detection analyst</td>\n",
       "      <td>fraud analyst deposit fraud detection</td>\n",
       "      <td>0.773896</td>\n",
       "    </tr>\n",
       "    <tr>\n",
       "      <th>257254</th>\n",
       "      <td>baker deli</td>\n",
       "      <td>baker deli clerk</td>\n",
       "      <td>0.736548</td>\n",
       "    </tr>\n",
       "    <tr>\n",
       "      <th>453396</th>\n",
       "      <td>project manager associate consultant</td>\n",
       "      <td>project management consultant</td>\n",
       "      <td>0.732019</td>\n",
       "    </tr>\n",
       "    <tr>\n",
       "      <th>589619</th>\n",
       "      <td>call center team leader</td>\n",
       "      <td>contact center team leader</td>\n",
       "      <td>0.727520</td>\n",
       "    </tr>\n",
       "    <tr>\n",
       "      <th>474482</th>\n",
       "      <td>computer service representative</td>\n",
       "      <td>custer service representative</td>\n",
       "      <td>0.756986</td>\n",
       "    </tr>\n",
       "    <tr>\n",
       "      <th>53979</th>\n",
       "      <td>servicenow developer</td>\n",
       "      <td>service now developer</td>\n",
       "      <td>0.804920</td>\n",
       "    </tr>\n",
       "  </tbody>\n",
       "</table>\n",
       "</div>"
      ],
      "text/plain": [
       "                                              left_side  \\\n",
       "342479             head teller assistant branch manager   \n",
       "28020                               solution consultant   \n",
       "89358                             verizon mobile expert   \n",
       "399050              financial leadership program intern   \n",
       "168700                            lab medical assistant   \n",
       "332572                        marketing sales assistant   \n",
       "561019   cashier garden associate tool rental associate   \n",
       "585686                            asesora ventas cajera   \n",
       "426910  forklift operator material handler order puller   \n",
       "124352                       commercial sales assistant   \n",
       "280878                     product specialist part time   \n",
       "93378                                   marketing agent   \n",
       "507558                         power generation manager   \n",
       "531488        supervising associate facility management   \n",
       "42220                           fraud detection analyst   \n",
       "257254                                       baker deli   \n",
       "453396             project manager associate consultant   \n",
       "589619                          call center team leader   \n",
       "474482                  computer service representative   \n",
       "53979                              servicenow developer   \n",
       "\n",
       "                                   right_side  similairity  \n",
       "342479                  teller branch manager     0.740180  \n",
       "28020                 sap solution consultant     0.810474  \n",
       "89358                          verizon expert     0.723070  \n",
       "399050    financial leadership program intern     1.000000  \n",
       "168700                      medical assistant     0.755844  \n",
       "332572                    assistant marketing     0.770405  \n",
       "561019               cashier garden associate     0.754303  \n",
       "585686                         asesora ventas     0.768300  \n",
       "426910         order puller forklift operator     0.735619  \n",
       "124352                   commercial assistant     0.825269  \n",
       "280878           product specialist part time     1.000000  \n",
       "93378                         marketing agent     1.000000  \n",
       "507558                     manager generation     0.739266  \n",
       "531488                    facility management     0.709227  \n",
       "42220   fraud analyst deposit fraud detection     0.773896  \n",
       "257254                       baker deli clerk     0.736548  \n",
       "453396          project management consultant     0.732019  \n",
       "589619             contact center team leader     0.727520  \n",
       "474482          custer service representative     0.756986  \n",
       "53979                   service now developer     0.804920  "
      ]
     },
     "execution_count": 13,
     "metadata": {},
     "output_type": "execute_result"
    }
   ],
   "source": [
    "matches_df = get_matches_df(matches, clean_job_titles_filtered, top=False)\n",
    "# matches_df = matches_df[matches_df['similairity'] < 0.99999] # Remove all exact matches\n",
    "matches_df.sample(20)"
   ]
  },
  {
   "cell_type": "code",
   "execution_count": 14,
   "metadata": {},
   "outputs": [
    {
     "data": {
      "text/html": [
       "<div>\n",
       "<style scoped>\n",
       "    .dataframe tbody tr th:only-of-type {\n",
       "        vertical-align: middle;\n",
       "    }\n",
       "\n",
       "    .dataframe tbody tr th {\n",
       "        vertical-align: top;\n",
       "    }\n",
       "\n",
       "    .dataframe thead th {\n",
       "        text-align: right;\n",
       "    }\n",
       "</style>\n",
       "<table border=\"1\" class=\"dataframe\">\n",
       "  <thead>\n",
       "    <tr style=\"text-align: right;\">\n",
       "      <th></th>\n",
       "      <th>left_side</th>\n",
       "      <th>right_side</th>\n",
       "      <th>similairity</th>\n",
       "    </tr>\n",
       "  </thead>\n",
       "  <tbody>\n",
       "    <tr>\n",
       "      <th>48399</th>\n",
       "      <td>social media manager</td>\n",
       "      <td>social media team</td>\n",
       "      <td>0.700001</td>\n",
       "    </tr>\n",
       "    <tr>\n",
       "      <th>337806</th>\n",
       "      <td>social media team</td>\n",
       "      <td>social media manager</td>\n",
       "      <td>0.700001</td>\n",
       "    </tr>\n",
       "    <tr>\n",
       "      <th>604890</th>\n",
       "      <td>design supervisor project manager</td>\n",
       "      <td>design engineer project manager</td>\n",
       "      <td>0.700001</td>\n",
       "    </tr>\n",
       "    <tr>\n",
       "      <th>281381</th>\n",
       "      <td>técnico telecomunicações pleno</td>\n",
       "      <td>técnico eletrônica telecomunicações</td>\n",
       "      <td>0.700001</td>\n",
       "    </tr>\n",
       "    <tr>\n",
       "      <th>439354</th>\n",
       "      <td>técnico eletrônica telecomunicações</td>\n",
       "      <td>técnico telecomunicações pleno</td>\n",
       "      <td>0.700001</td>\n",
       "    </tr>\n",
       "    <tr>\n",
       "      <th>398185</th>\n",
       "      <td>garden associate receiving</td>\n",
       "      <td>sales associate receiving associate</td>\n",
       "      <td>0.700002</td>\n",
       "    </tr>\n",
       "    <tr>\n",
       "      <th>502926</th>\n",
       "      <td>salesman merchandising specialist</td>\n",
       "      <td>merchandising sales</td>\n",
       "      <td>0.700002</td>\n",
       "    </tr>\n",
       "    <tr>\n",
       "      <th>320966</th>\n",
       "      <td>rental technician</td>\n",
       "      <td>fleet rental technician</td>\n",
       "      <td>0.700002</td>\n",
       "    </tr>\n",
       "    <tr>\n",
       "      <th>517101</th>\n",
       "      <td>fleet rental technician</td>\n",
       "      <td>rental technician</td>\n",
       "      <td>0.700002</td>\n",
       "    </tr>\n",
       "    <tr>\n",
       "      <th>414301</th>\n",
       "      <td>net developer intern</td>\n",
       "      <td>developer internship</td>\n",
       "      <td>0.700003</td>\n",
       "    </tr>\n",
       "  </tbody>\n",
       "</table>\n",
       "</div>"
      ],
      "text/plain": [
       "                                  left_side  \\\n",
       "48399                  social media manager   \n",
       "337806                    social media team   \n",
       "604890    design supervisor project manager   \n",
       "281381       técnico telecomunicações pleno   \n",
       "439354  técnico eletrônica telecomunicações   \n",
       "398185           garden associate receiving   \n",
       "502926    salesman merchandising specialist   \n",
       "320966                    rental technician   \n",
       "517101              fleet rental technician   \n",
       "414301                 net developer intern   \n",
       "\n",
       "                                 right_side  similairity  \n",
       "48399                     social media team     0.700001  \n",
       "337806                 social media manager     0.700001  \n",
       "604890      design engineer project manager     0.700001  \n",
       "281381  técnico eletrônica telecomunicações     0.700001  \n",
       "439354       técnico telecomunicações pleno     0.700001  \n",
       "398185  sales associate receiving associate     0.700002  \n",
       "502926                  merchandising sales     0.700002  \n",
       "320966              fleet rental technician     0.700002  \n",
       "517101                    rental technician     0.700002  \n",
       "414301                 developer internship     0.700003  "
      ]
     },
     "execution_count": 14,
     "metadata": {},
     "output_type": "execute_result"
    }
   ],
   "source": [
    "matches_df.sort_values(['similairity'], ascending=True).head(10)"
   ]
  },
  {
   "cell_type": "code",
   "execution_count": 42,
   "metadata": {
    "scrolled": true
   },
   "outputs": [
    {
     "name": "stdout",
     "output_type": "stream",
     "text": [
      "(1316, 2)\n"
     ]
    },
    {
     "data": {
      "text/html": [
       "<div>\n",
       "<style scoped>\n",
       "    .dataframe tbody tr th:only-of-type {\n",
       "        vertical-align: middle;\n",
       "    }\n",
       "\n",
       "    .dataframe tbody tr th {\n",
       "        vertical-align: top;\n",
       "    }\n",
       "\n",
       "    .dataframe thead th {\n",
       "        text-align: right;\n",
       "    }\n",
       "</style>\n",
       "<table border=\"1\" class=\"dataframe\">\n",
       "  <thead>\n",
       "    <tr style=\"text-align: right;\">\n",
       "      <th></th>\n",
       "      <th>left_side</th>\n",
       "      <th>right_side</th>\n",
       "    </tr>\n",
       "  </thead>\n",
       "  <tbody>\n",
       "    <tr>\n",
       "      <th>0</th>\n",
       "      <td>application developer</td>\n",
       "      <td>[application developer, application developer, application developer sap, application developer team, application developer associate, application developer analyst, application developer specialist, net application developer, rational application developer, application developer intern, application developer, application developer, application developer sap, application developer team, application developer associate, application developer analyst, application developer specialist, net appl...</td>\n",
       "    </tr>\n",
       "    <tr>\n",
       "      <th>1</th>\n",
       "      <td>application support analyst</td>\n",
       "      <td>[application support analyst, application support analyst, applications support analyst, technical application support analyst, clinical application support analyst, application support, business application support analyst, application production support analyst, production application support analyst, application technical support analyst, application support analyst, application support analyst, applications support analyst, technical application support analyst, clinical application supp...</td>\n",
       "    </tr>\n",
       "    <tr>\n",
       "      <th>2</th>\n",
       "      <td>applications engineer</td>\n",
       "      <td>[applications engineer, applications engineer, applications engineer, applications engineer sales engineering, applications engineer intern, application operations engineer, application sales engineer, application engineer, technical applications engineer, applications engineering intern, applications engineer, applications engineer, applications engineer, applications engineer sales engineering, applications engineer intern, application operations engineer, application sales engineer, appli...</td>\n",
       "    </tr>\n",
       "    <tr>\n",
       "      <th>3</th>\n",
       "      <td>associate developer</td>\n",
       "      <td>[associate developer, associate developer, developer associate, associate development, developer developer, developer, software associate developer, associate development manager, store developer, associate software developer, associate developer, associate developer, developer associate, associate development, developer developer, developer, software associate developer, associate development manager, store developer, associate software developer]</td>\n",
       "    </tr>\n",
       "    <tr>\n",
       "      <th>4</th>\n",
       "      <td>chief information officer</td>\n",
       "      <td>[chief information officer, chief information officer, chief information office, chief information officer cio, chief information security officer, information officer, chief information systems, chief information officer, chief information officer, chief information office, chief information officer cio, chief information security officer, information officer, chief information systems]</td>\n",
       "    </tr>\n",
       "    <tr>\n",
       "      <th>...</th>\n",
       "      <td>...</td>\n",
       "      <td>...</td>\n",
       "    </tr>\n",
       "    <tr>\n",
       "      <th>65</th>\n",
       "      <td>technology systems administrator</td>\n",
       "      <td>[technology systems administrator, technology systems administrator, technology system administrator, systems administrator technology consultant, technology specialist system administrator, systems administrator, systems administrator, technology administrator, tier systems administrator, system administrator technology, technology systems administrator, technology systems administrator, technology system administrator, systems administrator technology consultant, technology specialist syst...</td>\n",
       "    </tr>\n",
       "    <tr>\n",
       "      <th>66</th>\n",
       "      <td>telecommunications specialist</td>\n",
       "      <td>[telecommunications specialist, telecommunications specialist, telecommunication specialist, telecommunications operations specialist, communications specialist, telecommunications, telecommunications sales, technology telecommunications specialist, telecommunications specialist project manager, telecommunications manager, telecommunications specialist, telecommunications specialist, telecommunication specialist, telecommunications operations specialist, communications specialist, telecommun...</td>\n",
       "    </tr>\n",
       "    <tr>\n",
       "      <th>67</th>\n",
       "      <td>web administrator</td>\n",
       "      <td>[web administrator, web administrator, web administrator, lab administrator, web content administrator, web administrator, web administrator, web administrator, lab administrator, web content administrator, web administrator, web administrator, web administrator, lab administrator, web content administrator]</td>\n",
       "    </tr>\n",
       "    <tr>\n",
       "      <th>68</th>\n",
       "      <td>web developer</td>\n",
       "      <td>[web developer, web developer, web developer, web developer developer, web developer analyst, web developer intern, web application developer web developer, net web developer, associate web developer, assistant web developer, web developer, web developer, web developer, web developer developer, web developer analyst, web developer intern, web application developer web developer, net web developer, associate web developer, assistant web developer, web developer, web developer, web developer, ...</td>\n",
       "    </tr>\n",
       "    <tr>\n",
       "      <th>69</th>\n",
       "      <td>webmaster</td>\n",
       "      <td>[webmaster, webmaster, webmaster, webmaster]</td>\n",
       "    </tr>\n",
       "  </tbody>\n",
       "</table>\n",
       "<p>70 rows × 2 columns</p>\n",
       "</div>"
      ],
      "text/plain": [
       "                           left_side  \\\n",
       "0              application developer   \n",
       "1        application support analyst   \n",
       "2              applications engineer   \n",
       "3                associate developer   \n",
       "4          chief information officer   \n",
       "..                               ...   \n",
       "65  technology systems administrator   \n",
       "66     telecommunications specialist   \n",
       "67                 web administrator   \n",
       "68                     web developer   \n",
       "69                         webmaster   \n",
       "\n",
       "                                                                                                                                                                                                                                                                                                                                                                                                                                                                                                             right_side  \n",
       "0   [application developer, application developer, application developer sap, application developer team, application developer associate, application developer analyst, application developer specialist, net application developer, rational application developer, application developer intern, application developer, application developer, application developer sap, application developer team, application developer associate, application developer analyst, application developer specialist, net appl...  \n",
       "1   [application support analyst, application support analyst, applications support analyst, technical application support analyst, clinical application support analyst, application support, business application support analyst, application production support analyst, production application support analyst, application technical support analyst, application support analyst, application support analyst, applications support analyst, technical application support analyst, clinical application supp...  \n",
       "2   [applications engineer, applications engineer, applications engineer, applications engineer sales engineering, applications engineer intern, application operations engineer, application sales engineer, application engineer, technical applications engineer, applications engineering intern, applications engineer, applications engineer, applications engineer, applications engineer sales engineering, applications engineer intern, application operations engineer, application sales engineer, appli...  \n",
       "3                                                  [associate developer, associate developer, developer associate, associate development, developer developer, developer, software associate developer, associate development manager, store developer, associate software developer, associate developer, associate developer, developer associate, associate development, developer developer, developer, software associate developer, associate development manager, store developer, associate software developer]  \n",
       "4                                                                                                                [chief information officer, chief information officer, chief information office, chief information officer cio, chief information security officer, information officer, chief information systems, chief information officer, chief information officer, chief information office, chief information officer cio, chief information security officer, information officer, chief information systems]  \n",
       "..                                                                                                                                                                                                                                                                                                                                                                                                                                                                                                                  ...  \n",
       "65  [technology systems administrator, technology systems administrator, technology system administrator, systems administrator technology consultant, technology specialist system administrator, systems administrator, systems administrator, technology administrator, tier systems administrator, system administrator technology, technology systems administrator, technology systems administrator, technology system administrator, systems administrator technology consultant, technology specialist syst...  \n",
       "66  [telecommunications specialist, telecommunications specialist, telecommunication specialist, telecommunications operations specialist, communications specialist, telecommunications, telecommunications sales, technology telecommunications specialist, telecommunications specialist project manager, telecommunications manager, telecommunications specialist, telecommunications specialist, telecommunication specialist, telecommunications operations specialist, communications specialist, telecommun...  \n",
       "67                                                                                                                                                                                                [web administrator, web administrator, web administrator, lab administrator, web content administrator, web administrator, web administrator, web administrator, lab administrator, web content administrator, web administrator, web administrator, web administrator, lab administrator, web content administrator]  \n",
       "68  [web developer, web developer, web developer, web developer developer, web developer analyst, web developer intern, web application developer web developer, net web developer, associate web developer, assistant web developer, web developer, web developer, web developer, web developer developer, web developer analyst, web developer intern, web application developer web developer, net web developer, associate web developer, assistant web developer, web developer, web developer, web developer, ...  \n",
       "69                                                                                                                                                                                                                                                                                                                                                                                                                                                                         [webmaster, webmaster, webmaster, webmaster]  \n",
       "\n",
       "[70 rows x 2 columns]"
      ]
     },
     "metadata": {},
     "output_type": "display_data"
    }
   ],
   "source": [
    "filtered_jobs = matches_df.loc[matches_df.left_side.isin(set(common_tech_titles.Job_Title.tolist())),[\"left_side\",\"right_side\"]]\n",
    "print(filtered_jobs.shape)\n",
    "\n",
    "pd.set_option(\"display.max_colwidth\",500)\n",
    "display(filtered_jobs.groupby(\"left_side\")[\"right_side\"].apply(list).reset_index())\n",
    "pd.reset_option(\"display.max_colwidth\")\n"
   ]
  },
  {
   "cell_type": "code",
   "execution_count": 43,
   "metadata": {},
   "outputs": [
    {
     "data": {
      "text/plain": [
       "42590"
      ]
     },
     "execution_count": 43,
     "metadata": {},
     "output_type": "execute_result"
    }
   ],
   "source": [
    "sum(reviews.clean_job_title.isin(filtered_jobs.right_side.tolist()))"
   ]
  },
  {
   "cell_type": "markdown",
   "metadata": {},
   "source": [
    "## TF-IDF with K-Means"
   ]
  },
  {
   "cell_type": "code",
   "execution_count": 17,
   "metadata": {},
   "outputs": [
    {
     "name": "stdout",
     "output_type": "stream",
     "text": [
      "506654\n"
     ]
    }
   ],
   "source": [
    "\n",
    "clean_job_titles = reviews.clean_job_title.unique().tolist()\n",
    "print(len(clean_job_titles))"
   ]
  },
  {
   "cell_type": "code",
   "execution_count": 18,
   "metadata": {},
   "outputs": [
    {
     "name": "stdout",
     "output_type": "stream",
     "text": [
      "All 3-grams in cloud architect:\n",
      "['clo', 'lou', 'oud', 'ud ', 'd a', ' ar', 'arc', 'rch', 'chi', 'hit', 'ite', 'tec', 'ect']\n"
     ]
    }
   ],
   "source": [
    "import re\n",
    "\n",
    "def ngrams(string, n=3):\n",
    "    #string = re.sub(r'[,-./]|\\sBD',r'', string)\n",
    "    ngrams = zip(*[string[i:] for i in range(n)])\n",
    "    return [''.join(ngram) for ngram in ngrams]\n",
    "\n",
    "print('All 3-grams in {}:'.format(common_tech_titles[0]))\n",
    "print( ngrams(common_tech_titles[0]) )"
   ]
  },
  {
   "cell_type": "code",
   "execution_count": 19,
   "metadata": {},
   "outputs": [
    {
     "name": "stdout",
     "output_type": "stream",
     "text": [
      "340\n"
     ]
    }
   ],
   "source": [
    "from sklearn.feature_extraction.text import TfidfVectorizer\n",
    "\n",
    "vectorizer = TfidfVectorizer(min_df=1, analyzer=ngrams)\n",
    "tf_idf_matrix = vectorizer.fit_transform(set(common_tech_titles.Job_Title.tolist()))\n",
    "\n",
    "print(len(vectorizer.get_feature_names()))"
   ]
  },
  {
   "cell_type": "code",
   "execution_count": 20,
   "metadata": {},
   "outputs": [],
   "source": [
    "from sklearn.neighbors import NearestNeighbors\n",
    "import time\n",
    "\n",
    "nbrs = NearestNeighbors(n_neighbors=1, n_jobs=-1).fit(tf_idf_matrix)"
   ]
  },
  {
   "cell_type": "code",
   "execution_count": 21,
   "metadata": {},
   "outputs": [
    {
     "name": "stdout",
     "output_type": "stream",
     "text": [
      "getting nearest n...\n",
      "COMPLETED IN: 7.2571940422058105\n"
     ]
    }
   ],
   "source": [
    "def getNearestN(query):\n",
    "    queryTFIDF_ = vectorizer.transform(query)\n",
    "    distances, indices = nbrs.kneighbors(queryTFIDF_)\n",
    "    return distances, indices\n",
    "\n",
    "t1 = time.time()\n",
    "print('getting nearest n...')\n",
    "distances, indices = getNearestN(clean_job_titles)\n",
    "t = time.time()-t1\n",
    "print(\"COMPLETED IN:\", t)"
   ]
  },
  {
   "cell_type": "code",
   "execution_count": 22,
   "metadata": {},
   "outputs": [
    {
     "name": "stdout",
     "output_type": "stream",
     "text": [
      "finding matches...\n",
      "Building data frame...\n",
      "Done\n"
     ]
    }
   ],
   "source": [
    "print('finding matches...')\n",
    "kmeans_matches = []\n",
    "for i,j in enumerate(indices):\n",
    "    temp = [round(distances[i][0],2), common_tech_titles[j[0]],clean_job_titles[i]]\n",
    "    kmeans_matches.append(temp)\n",
    "print('Building data frame...')  \n",
    "kmeans_matches = pd.DataFrame(kmeans_matches, columns=['Match confidence (lower is better)','left_side','right_side'])\n",
    "print('Done')"
   ]
  },
  {
   "cell_type": "code",
   "execution_count": 23,
   "metadata": {},
   "outputs": [
    {
     "name": "stdout",
     "output_type": "stream",
     "text": [
      "1442\n"
     ]
    },
    {
     "data": {
      "text/html": [
       "<div>\n",
       "<style scoped>\n",
       "    .dataframe tbody tr th:only-of-type {\n",
       "        vertical-align: middle;\n",
       "    }\n",
       "\n",
       "    .dataframe tbody tr th {\n",
       "        vertical-align: top;\n",
       "    }\n",
       "\n",
       "    .dataframe thead th {\n",
       "        text-align: right;\n",
       "    }\n",
       "</style>\n",
       "<table border=\"1\" class=\"dataframe\">\n",
       "  <thead>\n",
       "    <tr style=\"text-align: right;\">\n",
       "      <th></th>\n",
       "      <th>left_side</th>\n",
       "      <th>right_side</th>\n",
       "    </tr>\n",
       "  </thead>\n",
       "  <tbody>\n",
       "    <tr>\n",
       "      <th>0</th>\n",
       "      <td>application developer</td>\n",
       "      <td>[application developer, sap abap application developer, mobile application developer, oracle application developer, application developer latam, application develope, application developer head, android application developer, ios application developer, mean stack application developer, application developer sql, android mobile application developer, ios mobile application developer, application developer mobile ios, websphere application developer, application developer j2ee, tririga application developer, application developer sap, application developer ios, application developer qlikview cognos, application developer oracle apps, maximo application developer, application developer lotu...</td>\n",
       "    </tr>\n",
       "    <tr>\n",
       "      <th>1</th>\n",
       "      <td>application support analyst</td>\n",
       "      <td>[application support analyst, business application support analyst, hcm application support analyst, peachtree accounting application support analyst, unix application support analyst, mainframe application support analyst, application support analyst oracle apps, application support analyst team, application support business analyst, level application support analyst, application support analysis qnxt, tax support analyst cash applications, linux application support analyst, business analyst application support, analyst application support, application support analyst offshore, level banking application support analyst, system application support analyst, application monitoring support ...</td>\n",
       "    </tr>\n",
       "    <tr>\n",
       "      <th>2</th>\n",
       "      <td>applications engineer</td>\n",
       "      <td>[applications engineer, delcam applications engineer, staff field applications engineer, field applications engineer, applications engineer hvcb, applications engineer cad cam, applications tailoring engineer, foundry applications engineer, applications engineer devops, applications engineer ic5, principle applications engineer, lighting applications engineer, oracle applications engineer, sas applications engineer, applications engineer cvp, sales applications engineer]</td>\n",
       "    </tr>\n",
       "    <tr>\n",
       "      <th>3</th>\n",
       "      <td>associate developer</td>\n",
       "      <td>[associate developer, associate developer dot net, associate oracle sql developer, associate etl developer, associate sql etl developer, associate sql developer, associate marklogic developer, associate full stack developer, associate developer full time]</td>\n",
       "    </tr>\n",
       "    <tr>\n",
       "      <th>4</th>\n",
       "      <td>chief information officer</td>\n",
       "      <td>[chief information officer, interim chief information officer, chief information office, chief information officer cio, chief information office cio, chief information officer west region, regional chief information officer]</td>\n",
       "    </tr>\n",
       "    <tr>\n",
       "      <th>...</th>\n",
       "      <td>...</td>\n",
       "      <td>...</td>\n",
       "    </tr>\n",
       "    <tr>\n",
       "      <th>57</th>\n",
       "      <td>technology systems administrator</td>\n",
       "      <td>[technology systems administrator, technology systemadministrator, nexgen technology systems administrator]</td>\n",
       "    </tr>\n",
       "    <tr>\n",
       "      <th>58</th>\n",
       "      <td>telecommunications specialist</td>\n",
       "      <td>[telecommunications specialist, engineering telecommunications specialist, telecommunications repair specialist, telecommunications account specialist, military telecommunications specialist, analyst telecommunications specialist, telecommunications systems specialist, telecommunications specialist csr]</td>\n",
       "    </tr>\n",
       "    <tr>\n",
       "      <th>59</th>\n",
       "      <td>web administrator</td>\n",
       "      <td>[web administrator, marketing web administrator, training advisor•web administrator, web hosting administrator]</td>\n",
       "    </tr>\n",
       "    <tr>\n",
       "      <th>60</th>\n",
       "      <td>web developer</td>\n",
       "      <td>[web developer, full stack web developer, web developer web developer, php web developer, ctl web developer, web developer oracle, web developer html5 developer, web developer jefe equipo, drupal web developer, angular web developer, mobile web developer, web developer fullstack, role web developer, global web developer, web developer sme, oracle sql web developer, j2ee web developer, staff web developer ebt, eftps web developer, sfdc web developer, web developer developer]</td>\n",
       "    </tr>\n",
       "    <tr>\n",
       "      <th>61</th>\n",
       "      <td>webmaster</td>\n",
       "      <td>[webmaster, webmaster sav, tester webmaster]</td>\n",
       "    </tr>\n",
       "  </tbody>\n",
       "</table>\n",
       "<p>62 rows × 2 columns</p>\n",
       "</div>"
      ],
      "text/plain": [
       "                           left_side  \\\n",
       "0              application developer   \n",
       "1        application support analyst   \n",
       "2              applications engineer   \n",
       "3                associate developer   \n",
       "4          chief information officer   \n",
       "..                               ...   \n",
       "57  technology systems administrator   \n",
       "58     telecommunications specialist   \n",
       "59                 web administrator   \n",
       "60                     web developer   \n",
       "61                         webmaster   \n",
       "\n",
       "                                                                                                                                                                                                                                                                                                                                                                                                                                                                                                                                                                                                                                                                                                                     right_side  \n",
       "0   [application developer, sap abap application developer, mobile application developer, oracle application developer, application developer latam, application develope, application developer head, android application developer, ios application developer, mean stack application developer, application developer sql, android mobile application developer, ios mobile application developer, application developer mobile ios, websphere application developer, application developer j2ee, tririga application developer, application developer sap, application developer ios, application developer qlikview cognos, application developer oracle apps, maximo application developer, application developer lotu...  \n",
       "1   [application support analyst, business application support analyst, hcm application support analyst, peachtree accounting application support analyst, unix application support analyst, mainframe application support analyst, application support analyst oracle apps, application support analyst team, application support business analyst, level application support analyst, application support analysis qnxt, tax support analyst cash applications, linux application support analyst, business analyst application support, analyst application support, application support analyst offshore, level banking application support analyst, system application support analyst, application monitoring support ...  \n",
       "2                                                                                                                                                                                                                                   [applications engineer, delcam applications engineer, staff field applications engineer, field applications engineer, applications engineer hvcb, applications engineer cad cam, applications tailoring engineer, foundry applications engineer, applications engineer devops, applications engineer ic5, principle applications engineer, lighting applications engineer, oracle applications engineer, sas applications engineer, applications engineer cvp, sales applications engineer]  \n",
       "3                                                                                                                                                                                                                                                                                                                                                                                                                                                               [associate developer, associate developer dot net, associate oracle sql developer, associate etl developer, associate sql etl developer, associate sql developer, associate marklogic developer, associate full stack developer, associate developer full time]  \n",
       "4                                                                                                                                                                                                                                                                                                                                                                                                                                                                                              [chief information officer, interim chief information officer, chief information office, chief information officer cio, chief information office cio, chief information officer west region, regional chief information officer]  \n",
       "..                                                                                                                                                                                                                                                                                                                                                                                                                                                                                                                                                                                                                                                                                                                          ...  \n",
       "57                                                                                                                                                                                                                                                                                                                                                                                                                                                                                                                                                                                                                  [technology systems administrator, technology systemadministrator, nexgen technology systems administrator]  \n",
       "58                                                                                                                                                                                                                                                                                                                                                                                                             [telecommunications specialist, engineering telecommunications specialist, telecommunications repair specialist, telecommunications account specialist, military telecommunications specialist, analyst telecommunications specialist, telecommunications systems specialist, telecommunications specialist csr]  \n",
       "59                                                                                                                                                                                                                                                                                                                                                                                                                                                                                                                                                                                                              [web administrator, marketing web administrator, training advisor•web administrator, web hosting administrator]  \n",
       "60                                                                                                                                                                                                                               [web developer, full stack web developer, web developer web developer, php web developer, ctl web developer, web developer oracle, web developer html5 developer, web developer jefe equipo, drupal web developer, angular web developer, mobile web developer, web developer fullstack, role web developer, global web developer, web developer sme, oracle sql web developer, j2ee web developer, staff web developer ebt, eftps web developer, sfdc web developer, web developer developer]  \n",
       "61                                                                                                                                                                                                                                                                                                                                                                                                                                                                                                                                                                                                                                                                                 [webmaster, webmaster sav, tester webmaster]  \n",
       "\n",
       "[62 rows x 2 columns]"
      ]
     },
     "metadata": {},
     "output_type": "display_data"
    }
   ],
   "source": [
    "idx = kmeans_matches[\"Match confidence (lower is better)\"] < .4\n",
    "kmeans_filtered_jobs = kmeans_matches.loc[idx,[\"left_side\",\"right_side\"]]\n",
    "print(sum(idx))\n",
    "\n",
    "pd.set_option(\"display.max_colwidth\",700)\n",
    "display( kmeans_filtered_jobs.groupby(\"left_side\").right_side.apply(list).reset_index() )\n",
    "pd.reset_option(\"display.max_colwidth\")"
   ]
  },
  {
   "cell_type": "code",
   "execution_count": 24,
   "metadata": {},
   "outputs": [
    {
     "data": {
      "text/plain": [
       "36276"
      ]
     },
     "execution_count": 24,
     "metadata": {},
     "output_type": "execute_result"
    }
   ],
   "source": [
    "sum(reviews.clean_job_title.isin(kmeans_filtered_jobs.right_side.tolist()))"
   ]
  },
  {
   "cell_type": "markdown",
   "metadata": {},
   "source": [
    "Merge both datsets"
   ]
  },
  {
   "cell_type": "code",
   "execution_count": 52,
   "metadata": {
    "scrolled": true
   },
   "outputs": [
    {
     "name": "stdout",
     "output_type": "stream",
     "text": [
      "(1855, 2)\n"
     ]
    },
    {
     "data": {
      "text/html": [
       "<div>\n",
       "<style scoped>\n",
       "    .dataframe tbody tr th:only-of-type {\n",
       "        vertical-align: middle;\n",
       "    }\n",
       "\n",
       "    .dataframe tbody tr th {\n",
       "        vertical-align: top;\n",
       "    }\n",
       "\n",
       "    .dataframe thead th {\n",
       "        text-align: right;\n",
       "    }\n",
       "</style>\n",
       "<table border=\"1\" class=\"dataframe\">\n",
       "  <thead>\n",
       "    <tr style=\"text-align: right;\">\n",
       "      <th></th>\n",
       "      <th>job_title</th>\n",
       "      <th>common_job_title</th>\n",
       "      <th>Job_Family</th>\n",
       "    </tr>\n",
       "  </thead>\n",
       "  <tbody>\n",
       "    <tr>\n",
       "      <th>0</th>\n",
       "      <td>software engineer</td>\n",
       "      <td>software engineer</td>\n",
       "      <td>Software/Application Developer</td>\n",
       "    </tr>\n",
       "    <tr>\n",
       "      <th>1</th>\n",
       "      <td>software engineer</td>\n",
       "      <td>software engineer</td>\n",
       "      <td>Software/Application Developer</td>\n",
       "    </tr>\n",
       "    <tr>\n",
       "      <th>2</th>\n",
       "      <td>software engineer</td>\n",
       "      <td>software engineer</td>\n",
       "      <td>Software/Application Developer</td>\n",
       "    </tr>\n",
       "    <tr>\n",
       "      <th>3</th>\n",
       "      <td>software engineer software engineer</td>\n",
       "      <td>software engineer</td>\n",
       "      <td>Software/Application Developer</td>\n",
       "    </tr>\n",
       "    <tr>\n",
       "      <th>4</th>\n",
       "      <td>software engineer software engineer</td>\n",
       "      <td>software engineer</td>\n",
       "      <td>Software/Application Developer</td>\n",
       "    </tr>\n",
       "  </tbody>\n",
       "</table>\n",
       "</div>"
      ],
      "text/plain": [
       "                             job_title   common_job_title  \\\n",
       "0                    software engineer  software engineer   \n",
       "1                    software engineer  software engineer   \n",
       "2                    software engineer  software engineer   \n",
       "3  software engineer software engineer  software engineer   \n",
       "4  software engineer software engineer  software engineer   \n",
       "\n",
       "                        Job_Family  \n",
       "0   Software/Application Developer  \n",
       "1   Software/Application Developer  \n",
       "2   Software/Application Developer  \n",
       "3   Software/Application Developer  \n",
       "4   Software/Application Developer  "
      ]
     },
     "metadata": {},
     "output_type": "display_data"
    }
   ],
   "source": [
    "\n",
    "finalized_job_list = pd.concat([filtered_jobs, kmeans_filtered_jobs]).drop_duplicates()\n",
    "\n",
    "print(finalized_job_list.shape)\n",
    "\n",
    "finalized_job_list = finalized_job_list.merge(common_tech_titles, how=\"left\", left_on=\"left_side\",right_on=\"Job_Title\")\\\n",
    "                        .rename(columns={\"right_side\":\"job_title\",\"Job_Title\":\"common_job_title\"})\n",
    "\n",
    "del finalized_job_list[\"left_side\"]\n",
    "\n",
    "display( finalized_job_list.head() )\n",
    "\n",
    "finalized_job_list.to_csv(\"../data/finalized_job_list.csv\", index=False)"
   ]
  },
  {
   "cell_type": "code",
   "execution_count": 26,
   "metadata": {
    "scrolled": false
   },
   "outputs": [
    {
     "data": {
      "text/plain": [
       "45701"
      ]
     },
     "execution_count": 26,
     "metadata": {},
     "output_type": "execute_result"
    }
   ],
   "source": [
    "sum(reviews.clean_job_title.isin(finalized_job_list.right_side.tolist()))"
   ]
  },
  {
   "cell_type": "markdown",
   "metadata": {},
   "source": [
    "Remove Jobs..."
   ]
  },
  {
   "cell_type": "code",
   "execution_count": 28,
   "metadata": {},
   "outputs": [],
   "source": [
    "filter_titles = finalized_job_list.right_side.tolist()\n",
    "\n",
    "exclude_keywords = [\n",
    "    \"camp\"\n",
    "    ,\"tutor\"\n",
    "    ,\"professor\"\n",
    "    ,\"entry\"\n",
    "    ,\"entries\"\n",
    "    ,\"teacher\"\n",
    "    ,\"audio\"\n",
    "    ,\"civil\"\n",
    "    ,\"facility\"\n",
    "    ,\"facilities\"\n",
    "    ,\"industrial\"\n",
    "    ,\"metals\"  \n",
    "    ,\"lab\"\n",
    "]\n",
    "\n",
    "def excludeJobTItles(job):\n",
    "    tokens = str(job).split(\" \")\n",
    "    return len( [ word for word in tokens if word in exclude_keywords ] ) == 0\n",
    "\n",
    "filter_titles_2 = list( filter(excludeJobTItles, filter_titles) )"
   ]
  },
  {
   "cell_type": "code",
   "execution_count": 29,
   "metadata": {},
   "outputs": [
    {
     "data": {
      "text/plain": [
       "45687"
      ]
     },
     "execution_count": 29,
     "metadata": {},
     "output_type": "execute_result"
    }
   ],
   "source": [
    "sum(reviews.clean_job_title.isin(filter_titles_2))"
   ]
  },
  {
   "cell_type": "code",
   "execution_count": 30,
   "metadata": {},
   "outputs": [],
   "source": [
    "import pandas as pd\n",
    "\n",
    "pd.DataFrame(filter_titles_2,columns=[\"clean_job_title\"]).to_csv(\"../data/filter_job_titles.csv\",index=False)"
   ]
  },
  {
   "cell_type": "markdown",
   "metadata": {},
   "source": [
    "## Group Job Titles"
   ]
  },
  {
   "cell_type": "code",
   "execution_count": 32,
   "metadata": {},
   "outputs": [
    {
     "data": {
      "text/html": [
       "<div>\n",
       "<style scoped>\n",
       "    .dataframe tbody tr th:only-of-type {\n",
       "        vertical-align: middle;\n",
       "    }\n",
       "\n",
       "    .dataframe tbody tr th {\n",
       "        vertical-align: top;\n",
       "    }\n",
       "\n",
       "    .dataframe thead th {\n",
       "        text-align: right;\n",
       "    }\n",
       "</style>\n",
       "<table border=\"1\" class=\"dataframe\">\n",
       "  <thead>\n",
       "    <tr style=\"text-align: right;\">\n",
       "      <th></th>\n",
       "      <th>left_side</th>\n",
       "      <th>right_side</th>\n",
       "    </tr>\n",
       "  </thead>\n",
       "  <tbody>\n",
       "    <tr>\n",
       "      <th>120</th>\n",
       "      <td>software engineer</td>\n",
       "      <td>software engineer</td>\n",
       "    </tr>\n",
       "    <tr>\n",
       "      <th>124</th>\n",
       "      <td>software engineer</td>\n",
       "      <td>software engineer software engineer</td>\n",
       "    </tr>\n",
       "    <tr>\n",
       "      <th>125</th>\n",
       "      <td>software engineer</td>\n",
       "      <td>software engineering</td>\n",
       "    </tr>\n",
       "    <tr>\n",
       "      <th>126</th>\n",
       "      <td>software engineer</td>\n",
       "      <td>software engineer engineer</td>\n",
       "    </tr>\n",
       "    <tr>\n",
       "      <th>127</th>\n",
       "      <td>software engineer</td>\n",
       "      <td>engineer software engineer</td>\n",
       "    </tr>\n",
       "    <tr>\n",
       "      <th>...</th>\n",
       "      <td>...</td>\n",
       "      <td>...</td>\n",
       "    </tr>\n",
       "    <tr>\n",
       "      <th>499417</th>\n",
       "      <td>database administrator</td>\n",
       "      <td>database administrator legal affairs</td>\n",
       "    </tr>\n",
       "    <tr>\n",
       "      <th>501017</th>\n",
       "      <td>network systems administrator</td>\n",
       "      <td>bhqn network systems administrator</td>\n",
       "    </tr>\n",
       "    <tr>\n",
       "      <th>504660</th>\n",
       "      <td>programmer analyst</td>\n",
       "      <td>programmer analyst dba</td>\n",
       "    </tr>\n",
       "    <tr>\n",
       "      <th>505423</th>\n",
       "      <td>systems analyst</td>\n",
       "      <td>scheduling systems analyst</td>\n",
       "    </tr>\n",
       "    <tr>\n",
       "      <th>506575</th>\n",
       "      <td>technology analyst</td>\n",
       "      <td>testing technology analyst</td>\n",
       "    </tr>\n",
       "  </tbody>\n",
       "</table>\n",
       "<p>1855 rows × 2 columns</p>\n",
       "</div>"
      ],
      "text/plain": [
       "                            left_side                            right_side\n",
       "120                 software engineer                     software engineer\n",
       "124                 software engineer   software engineer software engineer\n",
       "125                 software engineer                  software engineering\n",
       "126                 software engineer            software engineer engineer\n",
       "127                 software engineer            engineer software engineer\n",
       "...                               ...                                   ...\n",
       "499417         database administrator  database administrator legal affairs\n",
       "501017  network systems administrator    bhqn network systems administrator\n",
       "504660             programmer analyst                programmer analyst dba\n",
       "505423                systems analyst            scheduling systems analyst\n",
       "506575             technology analyst            testing technology analyst\n",
       "\n",
       "[1855 rows x 2 columns]"
      ]
     },
     "execution_count": 32,
     "metadata": {},
     "output_type": "execute_result"
    }
   ],
   "source": [
    "import pandas as pd\n",
    "\n",
    "# filter_job_titles = pd.read_csv(\"../data/filter_job_titles.csv\")\n",
    "\n"
   ]
  },
  {
   "cell_type": "code",
   "execution_count": null,
   "metadata": {},
   "outputs": [],
   "source": []
  }
 ],
 "metadata": {
  "kernelspec": {
   "display_name": "Python 3",
   "language": "python",
   "name": "python3"
  },
  "language_info": {
   "codemirror_mode": {
    "name": "ipython",
    "version": 3
   },
   "file_extension": ".py",
   "mimetype": "text/x-python",
   "name": "python",
   "nbconvert_exporter": "python",
   "pygments_lexer": "ipython3",
   "version": "3.7.0"
  }
 },
 "nbformat": 4,
 "nbformat_minor": 4
}
