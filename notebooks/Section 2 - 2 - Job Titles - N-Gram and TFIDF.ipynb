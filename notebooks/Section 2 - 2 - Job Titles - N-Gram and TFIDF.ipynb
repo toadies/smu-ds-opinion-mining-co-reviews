{
 "cells": [
  {
   "cell_type": "markdown",
   "metadata": {},
   "source": [
    "Inspired by https://bergvca.github.io/2017/10/14/super-fast-string-matching.html"
   ]
  },
  {
   "cell_type": "code",
   "execution_count": 119,
   "metadata": {},
   "outputs": [],
   "source": [
    "import sys\n",
    "import os\n",
    "\n",
    "module_path = os.path.abspath(os.path.join(\"..\"))\n",
    "if module_path not in sys.path:\n",
    "    sys.path.append(module_path+\"/scripts\")"
   ]
  },
  {
   "cell_type": "code",
   "execution_count": 120,
   "metadata": {},
   "outputs": [],
   "source": [
    "import pandas as pd\n",
    "import pickle\n",
    "\n",
    "with open(\"../data/all_reviews.pkl\",\"rb\") as f:\n",
    "    reviews = pickle.load(f)\n",
    "    "
   ]
  },
  {
   "cell_type": "code",
   "execution_count": 121,
   "metadata": {},
   "outputs": [
    {
     "name": "stdout",
     "output_type": "stream",
     "text": [
      "['cloud architect', 'cloud consultant', 'cloud product project manager', 'cloud services developer', 'cloud software network engineer']\n"
     ]
    }
   ],
   "source": [
    "with open(\"../data/job_titles.txt\",\"r\") as f:\n",
    "    common_tech_titles = [ l.replace(\"\\n\",\"\").strip() for l in f ]\n",
    "\n",
    "import string\n",
    "import re\n",
    "from DataPrep import cleanTitle\n",
    "\n",
    "common_tech_titles = list(map(cleanTitle,common_tech_titles))\n",
    "\n",
    "print(common_tech_titles[:5])"
   ]
  },
  {
   "cell_type": "markdown",
   "metadata": {},
   "source": [
    "## N-Gram with Top N Cosine"
   ]
  },
  {
   "cell_type": "code",
   "execution_count": 145,
   "metadata": {},
   "outputs": [
    {
     "name": "stdout",
     "output_type": "stream",
     "text": [
      "107280\n"
     ]
    }
   ],
   "source": [
    "# clean_job_titles = reviews.clean_job_title.tolist()\n",
    "clean_job_titles_filtered = reviews.clean_job_title.value_counts()\n",
    "clean_job_titles_filtered = clean_job_titles_filtered.loc[clean_job_titles_filtered > 1].index.tolist()\n",
    "\n",
    "clean_job_titles_filtered.extend(common_tech_titles)\n",
    "\n",
    "print(len(clean_job_titles_filtered))"
   ]
  },
  {
   "cell_type": "code",
   "execution_count": 146,
   "metadata": {},
   "outputs": [
    {
     "name": "stdout",
     "output_type": "stream",
     "text": [
      "All 3-grams in sales associate:\n",
      "['sal', 'ale', 'les', 'es ', 's a', ' as', 'ass', 'sso', 'soc', 'oci', 'cia', 'iat', 'ate']\n"
     ]
    }
   ],
   "source": [
    "import re\n",
    "\n",
    "def ngrams(string, n=3):\n",
    "    #string = re.sub(r'[,-./]|\\sBD',r'', string)\n",
    "    ngrams = zip(*[string[i:] for i in range(n)])\n",
    "    return [''.join(ngram) for ngram in ngrams]\n",
    "\n",
    "print('All 3-grams in {}:'.format(clean_job_titles_filtered[0]))\n",
    "print( ngrams(clean_job_titles_filtered[0]) )"
   ]
  },
  {
   "cell_type": "code",
   "execution_count": 181,
   "metadata": {},
   "outputs": [
    {
     "name": "stdout",
     "output_type": "stream",
     "text": [
      "9122\n"
     ]
    }
   ],
   "source": [
    "from sklearn.feature_extraction.text import TfidfVectorizer\n",
    "\n",
    "vectorizer = TfidfVectorizer(min_df=1, analyzer=ngrams)\n",
    "tf_idf_matrix = vectorizer.fit_transform(clean_job_titles_filtered)\n",
    "\n",
    "print(len(vectorizer.get_feature_names()))"
   ]
  },
  {
   "cell_type": "code",
   "execution_count": 182,
   "metadata": {},
   "outputs": [
    {
     "name": "stdout",
     "output_type": "stream",
     "text": [
      "sales associate\n",
      "  (0, 284)\t0.33873727514737445\n",
      "  (0, 281)\t0.33873727514737445\n",
      "  (0, 267)\t0.2498248993008131\n",
      "  (0, 210)\t0.33873727514737445\n",
      "  (0, 138)\t0.33873727514737445\n",
      "  (0, 110)\t0.33873727514737445\n",
      "  (0, 61)\t0.19573351532839325\n",
      "  (0, 44)\t0.33873727514737445\n",
      "  (0, 41)\t0.30996019042233774\n",
      "  (0, 3)\t0.33873727514737445\n"
     ]
    }
   ],
   "source": [
    "print(clean_job_titles_filtered[0])\n",
    "print( clean_jobs_tf_idf_matrix[0] )"
   ]
  },
  {
   "cell_type": "code",
   "execution_count": 151,
   "metadata": {},
   "outputs": [],
   "source": [
    "import numpy as np\n",
    "from scipy.sparse import csr_matrix\n",
    "import sparse_dot_topn.sparse_dot_topn as ct\n",
    "\n",
    "def awesome_cossim_top(A, B, ntop, lower_bound=0):\n",
    "    # force A and B as a CSR matrix.\n",
    "    # If they have already been CSR, there is no overhead\n",
    "    A = A.tocsr()\n",
    "    B = B.tocsr()\n",
    "    M, _ = A.shape\n",
    "    _, N = B.shape\n",
    " \n",
    "    idx_dtype = np.int32\n",
    " \n",
    "    nnz_max = M*ntop\n",
    " \n",
    "    indptr = np.zeros(M+1, dtype=idx_dtype)\n",
    "    indices = np.zeros(nnz_max, dtype=idx_dtype)\n",
    "    data = np.zeros(nnz_max, dtype=A.dtype)\n",
    "\n",
    "    ct.sparse_dot_topn(\n",
    "        M, N, np.asarray(A.indptr, dtype=idx_dtype),\n",
    "        np.asarray(A.indices, dtype=idx_dtype),\n",
    "        A.data,\n",
    "        np.asarray(B.indptr, dtype=idx_dtype),\n",
    "        np.asarray(B.indices, dtype=idx_dtype),\n",
    "        B.data,\n",
    "        ntop,\n",
    "        lower_bound,\n",
    "        indptr, indices, data)\n",
    "\n",
    "    return csr_matrix((data,indices,indptr),shape=(M,N))"
   ]
  },
  {
   "cell_type": "code",
   "execution_count": 183,
   "metadata": {},
   "outputs": [
    {
     "name": "stdout",
     "output_type": "stream",
     "text": [
      "SELFTIMED: 90.5202579498291\n"
     ]
    }
   ],
   "source": [
    "# import time\n",
    "# t1 = time.time()\n",
    "# matches = awesome_cossim_top(tf_idf_matrix, tf_idf_matrix.transpose(), 10, 0.7)\n",
    "# t = time.time()-t1\n",
    "# print(\"SELFTIMED:\", t)"
   ]
  },
  {
   "cell_type": "code",
   "execution_count": 200,
   "metadata": {},
   "outputs": [
    {
     "name": "stdout",
     "output_type": "stream",
     "text": [
      "SELFTIMED: 34.36682605743408\n"
     ]
    }
   ],
   "source": [
    "from sparse_dot_topn import awesome_cossim_topn\n",
    "import time\n",
    "\n",
    "t1 = time.time()\n",
    "\n",
    "matches = awesome_cossim_topn(tf_idf_matrix, tf_idf_matrix.transpose(), 10, 0.7, use_threads=True, n_jobs=11)\n",
    "\n",
    "t = time.time()-t1\n",
    "print(\"SELFTIMED:\", t)"
   ]
  },
  {
   "cell_type": "code",
   "execution_count": 185,
   "metadata": {},
   "outputs": [],
   "source": [
    "def get_matches_df(sparse_matrix, name_vector, top=100):\n",
    "    non_zeros = sparse_matrix.nonzero()\n",
    "    \n",
    "    sparserows = non_zeros[0]\n",
    "    sparsecols = non_zeros[1]\n",
    "    \n",
    "    if top:\n",
    "        nr_matches = top\n",
    "    else:\n",
    "        nr_matches = sparsecols.size\n",
    "    \n",
    "    left_side = np.empty([nr_matches], dtype=object)\n",
    "    right_side = np.empty([nr_matches], dtype=object)\n",
    "    similairity = np.zeros(nr_matches)\n",
    "    \n",
    "    for index in range(0, nr_matches):\n",
    "        left_side[index] = name_vector[sparserows[index]]\n",
    "        right_side[index] = name_vector[sparsecols[index]]\n",
    "        similairity[index] = sparse_matrix.data[index]\n",
    "    \n",
    "    return pd.DataFrame({'left_side': left_side,\n",
    "                          'right_side': right_side,\n",
    "                           'similairity': similairity})"
   ]
  },
  {
   "cell_type": "code",
   "execution_count": 201,
   "metadata": {},
   "outputs": [
    {
     "data": {
      "text/html": [
       "<div>\n",
       "<style scoped>\n",
       "    .dataframe tbody tr th:only-of-type {\n",
       "        vertical-align: middle;\n",
       "    }\n",
       "\n",
       "    .dataframe tbody tr th {\n",
       "        vertical-align: top;\n",
       "    }\n",
       "\n",
       "    .dataframe thead th {\n",
       "        text-align: right;\n",
       "    }\n",
       "</style>\n",
       "<table border=\"1\" class=\"dataframe\">\n",
       "  <thead>\n",
       "    <tr style=\"text-align: right;\">\n",
       "      <th></th>\n",
       "      <th>left_side</th>\n",
       "      <th>right_side</th>\n",
       "      <th>similairity</th>\n",
       "    </tr>\n",
       "  </thead>\n",
       "  <tbody>\n",
       "    <tr>\n",
       "      <th>378802</th>\n",
       "      <td>computers mobile sales lead</td>\n",
       "      <td>mobile sales lead</td>\n",
       "      <td>0.726617</td>\n",
       "    </tr>\n",
       "    <tr>\n",
       "      <th>404347</th>\n",
       "      <td>dsl technical support specialist</td>\n",
       "      <td>technical support specialist</td>\n",
       "      <td>0.786849</td>\n",
       "    </tr>\n",
       "    <tr>\n",
       "      <th>188238</th>\n",
       "      <td>quality operations manager</td>\n",
       "      <td>quality operator</td>\n",
       "      <td>0.765791</td>\n",
       "    </tr>\n",
       "    <tr>\n",
       "      <th>538750</th>\n",
       "      <td>manager aml compliance</td>\n",
       "      <td>compliance aml analyst</td>\n",
       "      <td>0.770264</td>\n",
       "    </tr>\n",
       "    <tr>\n",
       "      <th>78230</th>\n",
       "      <td>teller associate</td>\n",
       "      <td>bank teller associate</td>\n",
       "      <td>0.730815</td>\n",
       "    </tr>\n",
       "    <tr>\n",
       "      <th>352465</th>\n",
       "      <td>programmer analyst supervisor</td>\n",
       "      <td>programmer analyst</td>\n",
       "      <td>0.827338</td>\n",
       "    </tr>\n",
       "    <tr>\n",
       "      <th>221605</th>\n",
       "      <td>special services desk supervisor</td>\n",
       "      <td>supervisor special services</td>\n",
       "      <td>0.739409</td>\n",
       "    </tr>\n",
       "    <tr>\n",
       "      <th>86958</th>\n",
       "      <td>summer camp counselor</td>\n",
       "      <td>summer camp counselor</td>\n",
       "      <td>1.000000</td>\n",
       "    </tr>\n",
       "    <tr>\n",
       "      <th>335574</th>\n",
       "      <td>starbucks barista shift supervisor</td>\n",
       "      <td>starbucks shift supervisor</td>\n",
       "      <td>0.841543</td>\n",
       "    </tr>\n",
       "    <tr>\n",
       "      <th>341456</th>\n",
       "      <td>international clerk</td>\n",
       "      <td>international</td>\n",
       "      <td>0.784819</td>\n",
       "    </tr>\n",
       "    <tr>\n",
       "      <th>633012</th>\n",
       "      <td>retirement solution representative</td>\n",
       "      <td>retirement representative</td>\n",
       "      <td>0.772977</td>\n",
       "    </tr>\n",
       "    <tr>\n",
       "      <th>388912</th>\n",
       "      <td>specialty management assistant</td>\n",
       "      <td>specialty management assistant</td>\n",
       "      <td>1.000000</td>\n",
       "    </tr>\n",
       "    <tr>\n",
       "      <th>564850</th>\n",
       "      <td>casheir sales associate</td>\n",
       "      <td>casheir</td>\n",
       "      <td>0.702526</td>\n",
       "    </tr>\n",
       "    <tr>\n",
       "      <th>501792</th>\n",
       "      <td>merchant account executive</td>\n",
       "      <td>accountant executive</td>\n",
       "      <td>0.801417</td>\n",
       "    </tr>\n",
       "    <tr>\n",
       "      <th>446404</th>\n",
       "      <td>claims research resolution specialist</td>\n",
       "      <td>claims resolution specialist</td>\n",
       "      <td>0.845912</td>\n",
       "    </tr>\n",
       "    <tr>\n",
       "      <th>599426</th>\n",
       "      <td>inventory specialist warehouse</td>\n",
       "      <td>inventory specialist warehouse</td>\n",
       "      <td>1.000000</td>\n",
       "    </tr>\n",
       "    <tr>\n",
       "      <th>275484</th>\n",
       "      <td>seasonal sales customer service</td>\n",
       "      <td>retail sales customer service seasonal</td>\n",
       "      <td>0.836493</td>\n",
       "    </tr>\n",
       "    <tr>\n",
       "      <th>308511</th>\n",
       "      <td>system administrator supervisor</td>\n",
       "      <td>system administrator specialist</td>\n",
       "      <td>0.779119</td>\n",
       "    </tr>\n",
       "    <tr>\n",
       "      <th>353898</th>\n",
       "      <td>doc review specialist</td>\n",
       "      <td>content review specialist</td>\n",
       "      <td>0.734927</td>\n",
       "    </tr>\n",
       "    <tr>\n",
       "      <th>263349</th>\n",
       "      <td>human resources assistant intern</td>\n",
       "      <td>human resources assistant intern</td>\n",
       "      <td>1.000000</td>\n",
       "    </tr>\n",
       "  </tbody>\n",
       "</table>\n",
       "</div>"
      ],
      "text/plain": [
       "                                    left_side  \\\n",
       "378802            computers mobile sales lead   \n",
       "404347       dsl technical support specialist   \n",
       "188238             quality operations manager   \n",
       "538750                 manager aml compliance   \n",
       "78230                        teller associate   \n",
       "352465          programmer analyst supervisor   \n",
       "221605       special services desk supervisor   \n",
       "86958                   summer camp counselor   \n",
       "335574     starbucks barista shift supervisor   \n",
       "341456                    international clerk   \n",
       "633012     retirement solution representative   \n",
       "388912         specialty management assistant   \n",
       "564850                casheir sales associate   \n",
       "501792             merchant account executive   \n",
       "446404  claims research resolution specialist   \n",
       "599426         inventory specialist warehouse   \n",
       "275484        seasonal sales customer service   \n",
       "308511        system administrator supervisor   \n",
       "353898                  doc review specialist   \n",
       "263349       human resources assistant intern   \n",
       "\n",
       "                                    right_side  similairity  \n",
       "378802                       mobile sales lead     0.726617  \n",
       "404347            technical support specialist     0.786849  \n",
       "188238                        quality operator     0.765791  \n",
       "538750                  compliance aml analyst     0.770264  \n",
       "78230                    bank teller associate     0.730815  \n",
       "352465                      programmer analyst     0.827338  \n",
       "221605             supervisor special services     0.739409  \n",
       "86958                    summer camp counselor     1.000000  \n",
       "335574              starbucks shift supervisor     0.841543  \n",
       "341456                           international     0.784819  \n",
       "633012               retirement representative     0.772977  \n",
       "388912          specialty management assistant     1.000000  \n",
       "564850                                 casheir     0.702526  \n",
       "501792                    accountant executive     0.801417  \n",
       "446404            claims resolution specialist     0.845912  \n",
       "599426          inventory specialist warehouse     1.000000  \n",
       "275484  retail sales customer service seasonal     0.836493  \n",
       "308511         system administrator specialist     0.779119  \n",
       "353898               content review specialist     0.734927  \n",
       "263349        human resources assistant intern     1.000000  "
      ]
     },
     "execution_count": 201,
     "metadata": {},
     "output_type": "execute_result"
    }
   ],
   "source": [
    "matches_df = get_matches_df(matches, clean_job_titles_filtered, top=False)\n",
    "# matches_df = matches_df[matches_df['similairity'] < 0.99999] # Remove all exact matches\n",
    "matches_df.sample(20)"
   ]
  },
  {
   "cell_type": "code",
   "execution_count": 187,
   "metadata": {},
   "outputs": [
    {
     "data": {
      "text/html": [
       "<div>\n",
       "<style scoped>\n",
       "    .dataframe tbody tr th:only-of-type {\n",
       "        vertical-align: middle;\n",
       "    }\n",
       "\n",
       "    .dataframe tbody tr th {\n",
       "        vertical-align: top;\n",
       "    }\n",
       "\n",
       "    .dataframe thead th {\n",
       "        text-align: right;\n",
       "    }\n",
       "</style>\n",
       "<table border=\"1\" class=\"dataframe\">\n",
       "  <thead>\n",
       "    <tr style=\"text-align: right;\">\n",
       "      <th></th>\n",
       "      <th>left_side</th>\n",
       "      <th>right_side</th>\n",
       "      <th>similairity</th>\n",
       "    </tr>\n",
       "  </thead>\n",
       "  <tbody>\n",
       "    <tr>\n",
       "      <th>71935</th>\n",
       "      <td>certified medical coder</td>\n",
       "      <td>lead certified medical assistant</td>\n",
       "      <td>0.700000</td>\n",
       "    </tr>\n",
       "    <tr>\n",
       "      <th>497538</th>\n",
       "      <td>nursery assistant</td>\n",
       "      <td>nurses assistant</td>\n",
       "      <td>0.700001</td>\n",
       "    </tr>\n",
       "    <tr>\n",
       "      <th>104188</th>\n",
       "      <td>nurses assistant</td>\n",
       "      <td>nursery assistant</td>\n",
       "      <td>0.700001</td>\n",
       "    </tr>\n",
       "    <tr>\n",
       "      <th>595444</th>\n",
       "      <td>team leader collector</td>\n",
       "      <td>collections team lead</td>\n",
       "      <td>0.700001</td>\n",
       "    </tr>\n",
       "    <tr>\n",
       "      <th>486203</th>\n",
       "      <td>specialties customer service</td>\n",
       "      <td>special services customer service specialist</td>\n",
       "      <td>0.700001</td>\n",
       "    </tr>\n",
       "    <tr>\n",
       "      <th>248480</th>\n",
       "      <td>practice administrator managing partner</td>\n",
       "      <td>practice administrator</td>\n",
       "      <td>0.700002</td>\n",
       "    </tr>\n",
       "    <tr>\n",
       "      <th>37129</th>\n",
       "      <td>practice administrator</td>\n",
       "      <td>practice administrator managing partner</td>\n",
       "      <td>0.700002</td>\n",
       "    </tr>\n",
       "    <tr>\n",
       "      <th>479340</th>\n",
       "      <td>commission sales associate shoe department</td>\n",
       "      <td>sales shoe department</td>\n",
       "      <td>0.700002</td>\n",
       "    </tr>\n",
       "    <tr>\n",
       "      <th>370968</th>\n",
       "      <td>marketing merchandise team leader</td>\n",
       "      <td>manager merchandise marketing</td>\n",
       "      <td>0.700003</td>\n",
       "    </tr>\n",
       "    <tr>\n",
       "      <th>71392</th>\n",
       "      <td>support manger</td>\n",
       "      <td>overnight support manger</td>\n",
       "      <td>0.700004</td>\n",
       "    </tr>\n",
       "  </tbody>\n",
       "</table>\n",
       "</div>"
      ],
      "text/plain": [
       "                                         left_side  \\\n",
       "71935                      certified medical coder   \n",
       "497538                           nursery assistant   \n",
       "104188                            nurses assistant   \n",
       "595444                       team leader collector   \n",
       "486203                specialties customer service   \n",
       "248480     practice administrator managing partner   \n",
       "37129                       practice administrator   \n",
       "479340  commission sales associate shoe department   \n",
       "370968           marketing merchandise team leader   \n",
       "71392                               support manger   \n",
       "\n",
       "                                          right_side  similairity  \n",
       "71935               lead certified medical assistant     0.700000  \n",
       "497538                              nurses assistant     0.700001  \n",
       "104188                             nursery assistant     0.700001  \n",
       "595444                         collections team lead     0.700001  \n",
       "486203  special services customer service specialist     0.700001  \n",
       "248480                        practice administrator     0.700002  \n",
       "37129        practice administrator managing partner     0.700002  \n",
       "479340                         sales shoe department     0.700002  \n",
       "370968                 manager merchandise marketing     0.700003  \n",
       "71392                       overnight support manger     0.700004  "
      ]
     },
     "execution_count": 187,
     "metadata": {},
     "output_type": "execute_result"
    }
   ],
   "source": [
    "matches_df.sort_values(['similairity'], ascending=True).head(10)"
   ]
  },
  {
   "cell_type": "code",
   "execution_count": 215,
   "metadata": {
    "scrolled": true
   },
   "outputs": [
    {
     "name": "stdout",
     "output_type": "stream",
     "text": [
      "(1361, 2)\n"
     ]
    },
    {
     "data": {
      "text/html": [
       "<div>\n",
       "<style scoped>\n",
       "    .dataframe tbody tr th:only-of-type {\n",
       "        vertical-align: middle;\n",
       "    }\n",
       "\n",
       "    .dataframe tbody tr th {\n",
       "        vertical-align: top;\n",
       "    }\n",
       "\n",
       "    .dataframe thead th {\n",
       "        text-align: right;\n",
       "    }\n",
       "</style>\n",
       "<table border=\"1\" class=\"dataframe\">\n",
       "  <thead>\n",
       "    <tr style=\"text-align: right;\">\n",
       "      <th></th>\n",
       "      <th>left_side</th>\n",
       "      <th>right_side</th>\n",
       "    </tr>\n",
       "  </thead>\n",
       "  <tbody>\n",
       "    <tr>\n",
       "      <th>0</th>\n",
       "      <td>application developer</td>\n",
       "      <td>[application developer, application developer, application developer sap, application developer lead, application developer associate, application developer analyst, application developer specialist, net application developer, lead application developer, rational application developer, application developer, application developer, application developer sap, application developer lead, application developer associate, application developer analyst, application developer specialist, net applic...</td>\n",
       "    </tr>\n",
       "    <tr>\n",
       "      <th>1</th>\n",
       "      <td>application support analyst</td>\n",
       "      <td>[application support analyst, application support analyst, applications support analyst, lead application support analyst, technical application support analyst, clinical application support analyst, application support, business application support analyst, application production support analyst, production application support analyst, application support analyst, application support analyst, applications support analyst, lead application support analyst, technical application support analy...</td>\n",
       "    </tr>\n",
       "    <tr>\n",
       "      <th>2</th>\n",
       "      <td>applications engineer</td>\n",
       "      <td>[applications engineer, applications engineer, applications engineer, applications engineer sales engineering, applications engineer intern, application operations engineer, application sales engineer, application engineer, technical applications engineer, applications engineering intern, applications engineer, applications engineer, applications engineer, applications engineer sales engineering, applications engineer intern, application operations engineer, application sales engineer, appli...</td>\n",
       "    </tr>\n",
       "    <tr>\n",
       "      <th>3</th>\n",
       "      <td>associate developer</td>\n",
       "      <td>[associate developer, associate developer, developer associate, developer developer, developer, developer, software associate developer, associate development manager, store developer, associate software developer, associate developer, associate developer, developer associate, developer developer, developer, developer, software associate developer, associate development manager, store developer, associate software developer]</td>\n",
       "    </tr>\n",
       "    <tr>\n",
       "      <th>4</th>\n",
       "      <td>chief information officer</td>\n",
       "      <td>[chief information officer, chief information officer, chief information office, chief information officer cio, chief information security officer, chief information systems, chief information officer, chief information officer, chief information office, chief information officer cio, chief information security officer, chief information systems]</td>\n",
       "    </tr>\n",
       "    <tr>\n",
       "      <th>...</th>\n",
       "      <td>...</td>\n",
       "      <td>...</td>\n",
       "    </tr>\n",
       "    <tr>\n",
       "      <th>67</th>\n",
       "      <td>technology systems administrator</td>\n",
       "      <td>[technology systems administrator, technology administrator, systems administrator, systems administrator, tier systems administrator, lead systems administrator, information technology system administrator, associate systems administrator, quality systems administrator, assistant systems administrator]</td>\n",
       "    </tr>\n",
       "    <tr>\n",
       "      <th>68</th>\n",
       "      <td>telecommunications specialist</td>\n",
       "      <td>[telecommunications specialist, telecommunications specialist, telecommunication specialist, telecommunications operations specialist, communications specialist, telecommunications, telecommunications sales, telecommunications specialist project manager, telecommunications manager, sales communications specialist, telecommunications specialist, telecommunications specialist, telecommunication specialist, telecommunications operations specialist, communications specialist, telecommunications,...</td>\n",
       "    </tr>\n",
       "    <tr>\n",
       "      <th>69</th>\n",
       "      <td>web administrator</td>\n",
       "      <td>[web administrator, web administrator, web administrator, lab administrator, web content administrator, web administrator, web administrator, web administrator, lab administrator, web content administrator, web administrator, web administrator, web administrator, lab administrator, web content administrator]</td>\n",
       "    </tr>\n",
       "    <tr>\n",
       "      <th>70</th>\n",
       "      <td>web developer</td>\n",
       "      <td>[web developer, web developer, web developer, web developer developer, web developer analyst, web developer intern, web application developer web developer, lead web developer, net web developer, associate web developer, web developer, web developer, web developer, web developer developer, web developer analyst, web developer intern, web application developer web developer, lead web developer, net web developer, associate web developer, web developer, web developer, web developer, web develo...</td>\n",
       "    </tr>\n",
       "    <tr>\n",
       "      <th>71</th>\n",
       "      <td>webmaster</td>\n",
       "      <td>[webmaster, webmaster, webmaster, webmaster]</td>\n",
       "    </tr>\n",
       "  </tbody>\n",
       "</table>\n",
       "<p>72 rows × 2 columns</p>\n",
       "</div>"
      ],
      "text/plain": [
       "                           left_side  \\\n",
       "0              application developer   \n",
       "1        application support analyst   \n",
       "2              applications engineer   \n",
       "3                associate developer   \n",
       "4          chief information officer   \n",
       "..                               ...   \n",
       "67  technology systems administrator   \n",
       "68     telecommunications specialist   \n",
       "69                 web administrator   \n",
       "70                     web developer   \n",
       "71                         webmaster   \n",
       "\n",
       "                                                                                                                                                                                                                                                                                                                                                                                                                                                                                                             right_side  \n",
       "0   [application developer, application developer, application developer sap, application developer lead, application developer associate, application developer analyst, application developer specialist, net application developer, lead application developer, rational application developer, application developer, application developer, application developer sap, application developer lead, application developer associate, application developer analyst, application developer specialist, net applic...  \n",
       "1   [application support analyst, application support analyst, applications support analyst, lead application support analyst, technical application support analyst, clinical application support analyst, application support, business application support analyst, application production support analyst, production application support analyst, application support analyst, application support analyst, applications support analyst, lead application support analyst, technical application support analy...  \n",
       "2   [applications engineer, applications engineer, applications engineer, applications engineer sales engineering, applications engineer intern, application operations engineer, application sales engineer, application engineer, technical applications engineer, applications engineering intern, applications engineer, applications engineer, applications engineer, applications engineer sales engineering, applications engineer intern, application operations engineer, application sales engineer, appli...  \n",
       "3                                                                          [associate developer, associate developer, developer associate, developer developer, developer, developer, software associate developer, associate development manager, store developer, associate software developer, associate developer, associate developer, developer associate, developer developer, developer, developer, software associate developer, associate development manager, store developer, associate software developer]  \n",
       "4                                                                                                                                                          [chief information officer, chief information officer, chief information office, chief information officer cio, chief information security officer, chief information systems, chief information officer, chief information officer, chief information office, chief information officer cio, chief information security officer, chief information systems]  \n",
       "..                                                                                                                                                                                                                                                                                                                                                                                                                                                                                                                  ...  \n",
       "67                                                                                                                                                                                                     [technology systems administrator, technology administrator, systems administrator, systems administrator, tier systems administrator, lead systems administrator, information technology system administrator, associate systems administrator, quality systems administrator, assistant systems administrator]  \n",
       "68  [telecommunications specialist, telecommunications specialist, telecommunication specialist, telecommunications operations specialist, communications specialist, telecommunications, telecommunications sales, telecommunications specialist project manager, telecommunications manager, sales communications specialist, telecommunications specialist, telecommunications specialist, telecommunication specialist, telecommunications operations specialist, communications specialist, telecommunications,...  \n",
       "69                                                                                                                                                                                                [web administrator, web administrator, web administrator, lab administrator, web content administrator, web administrator, web administrator, web administrator, lab administrator, web content administrator, web administrator, web administrator, web administrator, lab administrator, web content administrator]  \n",
       "70  [web developer, web developer, web developer, web developer developer, web developer analyst, web developer intern, web application developer web developer, lead web developer, net web developer, associate web developer, web developer, web developer, web developer, web developer developer, web developer analyst, web developer intern, web application developer web developer, lead web developer, net web developer, associate web developer, web developer, web developer, web developer, web develo...  \n",
       "71                                                                                                                                                                                                                                                                                                                                                                                                                                                                         [webmaster, webmaster, webmaster, webmaster]  \n",
       "\n",
       "[72 rows x 2 columns]"
      ]
     },
     "metadata": {},
     "output_type": "display_data"
    }
   ],
   "source": [
    "filtered_jobs = matches_df.loc[matches_df.left_side.isin(common_tech_titles),[\"left_side\",\"right_side\"]]\n",
    "print(filtered_jobs.shape)\n",
    "\n",
    "pd.set_option(\"display.max_colwidth\",500)\n",
    "display(filtered_jobs.groupby(\"left_side\")[\"right_side\"].apply(list).reset_index())\n",
    "pd.reset_option(\"display.max_colwidth\")\n",
    "\n",
    "jobs = filtered_jobs.groupby(\"left_side\")[\"right_side\"].apply(list).reset_index().right_side.tolist()\n"
   ]
  },
  {
   "cell_type": "code",
   "execution_count": 156,
   "metadata": {},
   "outputs": [
    {
     "data": {
      "text/plain": [
       "36059"
      ]
     },
     "execution_count": 156,
     "metadata": {},
     "output_type": "execute_result"
    }
   ],
   "source": [
    "sum(reviews.clean_job_title.isin(filtered_jobs.right_side.tolist()))"
   ]
  },
  {
   "cell_type": "markdown",
   "metadata": {},
   "source": [
    "## TF-IDF with K-Means"
   ]
  },
  {
   "cell_type": "code",
   "execution_count": 157,
   "metadata": {},
   "outputs": [
    {
     "name": "stdout",
     "output_type": "stream",
     "text": [
      "512896\n"
     ]
    }
   ],
   "source": [
    "\n",
    "clean_job_titles = reviews.clean_job_title.unique().tolist()\n",
    "print(len(clean_job_titles))"
   ]
  },
  {
   "cell_type": "code",
   "execution_count": 158,
   "metadata": {},
   "outputs": [
    {
     "name": "stdout",
     "output_type": "stream",
     "text": [
      "All 3-grams in cloud architect:\n",
      "['clo', 'lou', 'oud', 'ud ', 'd a', ' ar', 'arc', 'rch', 'chi', 'hit', 'ite', 'tec', 'ect']\n"
     ]
    }
   ],
   "source": [
    "import re\n",
    "\n",
    "def ngrams(string, n=3):\n",
    "    #string = re.sub(r'[,-./]|\\sBD',r'', string)\n",
    "    ngrams = zip(*[string[i:] for i in range(n)])\n",
    "    return [''.join(ngram) for ngram in ngrams]\n",
    "\n",
    "print('All 3-grams in {}:'.format(common_tech_titles[0]))\n",
    "print( ngrams(common_tech_titles[0]) )"
   ]
  },
  {
   "cell_type": "code",
   "execution_count": 159,
   "metadata": {},
   "outputs": [
    {
     "name": "stdout",
     "output_type": "stream",
     "text": [
      "340\n"
     ]
    }
   ],
   "source": [
    "from sklearn.feature_extraction.text import TfidfVectorizer\n",
    "\n",
    "vectorizer = TfidfVectorizer(min_df=1, analyzer=ngrams)\n",
    "tf_idf_matrix = vectorizer.fit_transform(common_tech_titles)\n",
    "\n",
    "print(len(vectorizer.get_feature_names()))"
   ]
  },
  {
   "cell_type": "code",
   "execution_count": 160,
   "metadata": {},
   "outputs": [],
   "source": [
    "from sklearn.neighbors import NearestNeighbors\n",
    "import time\n",
    "\n",
    "nbrs = NearestNeighbors(n_neighbors=1, n_jobs=-1).fit(tf_idf_matrix)"
   ]
  },
  {
   "cell_type": "code",
   "execution_count": 161,
   "metadata": {},
   "outputs": [
    {
     "name": "stdout",
     "output_type": "stream",
     "text": [
      "getting nearest n...\n",
      "COMPLETED IN: 7.6167519092559814\n"
     ]
    }
   ],
   "source": [
    "def getNearestN(query):\n",
    "    queryTFIDF_ = vectorizer.transform(query)\n",
    "    distances, indices = nbrs.kneighbors(queryTFIDF_)\n",
    "    return distances, indices\n",
    "\n",
    "t1 = time.time()\n",
    "print('getting nearest n...')\n",
    "distances, indices = getNearestN(clean_job_titles)\n",
    "t = time.time()-t1\n",
    "print(\"COMPLETED IN:\", t)"
   ]
  },
  {
   "cell_type": "code",
   "execution_count": null,
   "metadata": {},
   "outputs": [],
   "source": []
  },
  {
   "cell_type": "code",
   "execution_count": 203,
   "metadata": {},
   "outputs": [
    {
     "name": "stdout",
     "output_type": "stream",
     "text": [
      "finding matches...\n",
      "Building data frame...\n",
      "Done\n"
     ]
    }
   ],
   "source": [
    "print('finding matches...')\n",
    "kmeans_matches = []\n",
    "for i,j in enumerate(indices):\n",
    "    temp = [round(distances[i][0],2), common_tech_titles[j[0]],clean_job_titles[i]]\n",
    "    kmeans_matches.append(temp)\n",
    "print('Building data frame...')  \n",
    "kmeans_matches = pd.DataFrame(kmeans_matches, columns=['Match confidence (lower is better)','left_side','right_side'])\n",
    "print('Done')"
   ]
  },
  {
   "cell_type": "code",
   "execution_count": 214,
   "metadata": {},
   "outputs": [
    {
     "name": "stdout",
     "output_type": "stream",
     "text": [
      "1526\n"
     ]
    },
    {
     "data": {
      "text/html": [
       "<div>\n",
       "<style scoped>\n",
       "    .dataframe tbody tr th:only-of-type {\n",
       "        vertical-align: middle;\n",
       "    }\n",
       "\n",
       "    .dataframe tbody tr th {\n",
       "        vertical-align: top;\n",
       "    }\n",
       "\n",
       "    .dataframe thead th {\n",
       "        text-align: right;\n",
       "    }\n",
       "</style>\n",
       "<table border=\"1\" class=\"dataframe\">\n",
       "  <thead>\n",
       "    <tr style=\"text-align: right;\">\n",
       "      <th></th>\n",
       "      <th>left_side</th>\n",
       "      <th>right_side</th>\n",
       "    </tr>\n",
       "  </thead>\n",
       "  <tbody>\n",
       "    <tr>\n",
       "      <th>0</th>\n",
       "      <td>application developer</td>\n",
       "      <td>[application developer, sap abap application developer, mobile application developer, principal application developer, oracle application developer, application developer latam, application develope, application developer lead, lead application developer, application developer head, android application developer, ios application developer, mean stack application developer, application developer sql, android mobile application developer, ios mobile application developer, application developer mobile ios, application developer j2ee, tririga application developer, application developer sap, application developer ios, application developer qlikview cognos, application developer oracle apps, ...</td>\n",
       "    </tr>\n",
       "    <tr>\n",
       "      <th>1</th>\n",
       "      <td>application support analyst</td>\n",
       "      <td>[application support analyst, business application support analyst, hcm application support analyst, peachtree accounting application support analyst, unix application support analyst, mainframe application support analyst, application support analyst oracle apps, application support analyst team lead, application support business analyst, level application support analyst, application support analysis qnxt, tax support analyst cash applications, linux application support analyst, lead application support analyst, business analyst application support, analyst application support, application support analyst offshore lead, level banking application support analyst, system application supp...</td>\n",
       "    </tr>\n",
       "    <tr>\n",
       "      <th>2</th>\n",
       "      <td>applications engineer</td>\n",
       "      <td>[applications engineer, delcam applications engineer, staff field applications engineer, field applications engineer, applications engineer hvcb, applications engineer cad cam, applications tailoring engineer, foundry applications engineer, principal applications engineer, principle applications engineer, lighting applications engineer, oracle applications engineer, sas applications engineer, applications engineer cvp, sales applications engineer, lead applications engineer]</td>\n",
       "    </tr>\n",
       "    <tr>\n",
       "      <th>3</th>\n",
       "      <td>associate developer</td>\n",
       "      <td>[associate developer, associate developer dot net, associate oracle sql developer, associate etl developer, associate sql etl developer, associate sql developer, principal associate developer, associate full stack developer, associate developer full time]</td>\n",
       "    </tr>\n",
       "    <tr>\n",
       "      <th>4</th>\n",
       "      <td>chief information officer</td>\n",
       "      <td>[chief information officer, interim chief information officer, chief information office, chief information officer principal, chief information officer cio, chief information office cio, chief information officer west region, regional chief information officer]</td>\n",
       "    </tr>\n",
       "    <tr>\n",
       "      <th>...</th>\n",
       "      <td>...</td>\n",
       "      <td>...</td>\n",
       "    </tr>\n",
       "    <tr>\n",
       "      <th>59</th>\n",
       "      <td>technology support specialist</td>\n",
       "      <td>[technology support specialist, technology support sales specialist, course technology support specialist, catlab technology support specialist, technology support specialist tier2, technology support specialist cashier, technology support billing specialist, android technology support specialist, billing technology support specialist, lms technology support specialist, verse technology support specialist, infra technology support specialist, technology support specialist level, technology support specialist sme, technology support specialist tss, kindle technology support specialist where, sprint technology support specialist, field technology support specialist, remote technology suppo...</td>\n",
       "    </tr>\n",
       "    <tr>\n",
       "      <th>60</th>\n",
       "      <td>telecommunications specialist</td>\n",
       "      <td>[telecommunications specialist, lead telecommunications specialist, telecommunications repair specialist, telecommunications account specialist, military telecommunications specialist, analyst telecommunications specialist, telecommunications systems specialist, telecommunications specialist csr]</td>\n",
       "    </tr>\n",
       "    <tr>\n",
       "      <th>61</th>\n",
       "      <td>web administrator</td>\n",
       "      <td>[web administrator, marketing web administrator, training advisor•web administrator, web hosting administrator]</td>\n",
       "    </tr>\n",
       "    <tr>\n",
       "      <th>62</th>\n",
       "      <td>web developer</td>\n",
       "      <td>[web developer, lead web developer, full stack web developer, web developer lead web developer, php web developer, ctl web developer, web developer oracle, web developer html5 developer, drupal web developer, angular web developer, mobile web developer, web developer fullstack, role web developer, global web developer, web developer sme, oracle sql web developer, j2ee web developer, staff web developer ebt, eftps web developer, sfdc web developer, web developer developer]</td>\n",
       "    </tr>\n",
       "    <tr>\n",
       "      <th>63</th>\n",
       "      <td>webmaster</td>\n",
       "      <td>[webmaster, webmaster sav, tester webmaster]</td>\n",
       "    </tr>\n",
       "  </tbody>\n",
       "</table>\n",
       "<p>64 rows × 2 columns</p>\n",
       "</div>"
      ],
      "text/plain": [
       "                        left_side  \\\n",
       "0           application developer   \n",
       "1     application support analyst   \n",
       "2           applications engineer   \n",
       "3             associate developer   \n",
       "4       chief information officer   \n",
       "..                            ...   \n",
       "59  technology support specialist   \n",
       "60  telecommunications specialist   \n",
       "61              web administrator   \n",
       "62                  web developer   \n",
       "63                      webmaster   \n",
       "\n",
       "                                                                                                                                                                                                                                                                                                                                                                                                                                                                                                                                                                                                                                                                                                                     right_side  \n",
       "0   [application developer, sap abap application developer, mobile application developer, principal application developer, oracle application developer, application developer latam, application develope, application developer lead, lead application developer, application developer head, android application developer, ios application developer, mean stack application developer, application developer sql, android mobile application developer, ios mobile application developer, application developer mobile ios, application developer j2ee, tririga application developer, application developer sap, application developer ios, application developer qlikview cognos, application developer oracle apps, ...  \n",
       "1   [application support analyst, business application support analyst, hcm application support analyst, peachtree accounting application support analyst, unix application support analyst, mainframe application support analyst, application support analyst oracle apps, application support analyst team lead, application support business analyst, level application support analyst, application support analysis qnxt, tax support analyst cash applications, linux application support analyst, lead application support analyst, business analyst application support, analyst application support, application support analyst offshore lead, level banking application support analyst, system application supp...  \n",
       "2                                                                                                                                                                                                                               [applications engineer, delcam applications engineer, staff field applications engineer, field applications engineer, applications engineer hvcb, applications engineer cad cam, applications tailoring engineer, foundry applications engineer, principal applications engineer, principle applications engineer, lighting applications engineer, oracle applications engineer, sas applications engineer, applications engineer cvp, sales applications engineer, lead applications engineer]  \n",
       "3                                                                                                                                                                                                                                                                                                                                                                                                                                                               [associate developer, associate developer dot net, associate oracle sql developer, associate etl developer, associate sql etl developer, associate sql developer, principal associate developer, associate full stack developer, associate developer full time]  \n",
       "4                                                                                                                                                                                                                                                                                                                                                                                                                                                         [chief information officer, interim chief information officer, chief information office, chief information officer principal, chief information officer cio, chief information office cio, chief information officer west region, regional chief information officer]  \n",
       "..                                                                                                                                                                                                                                                                                                                                                                                                                                                                                                                                                                                                                                                                                                                          ...  \n",
       "59  [technology support specialist, technology support sales specialist, course technology support specialist, catlab technology support specialist, technology support specialist tier2, technology support specialist cashier, technology support billing specialist, android technology support specialist, billing technology support specialist, lms technology support specialist, verse technology support specialist, infra technology support specialist, technology support specialist level, technology support specialist sme, technology support specialist tss, kindle technology support specialist where, sprint technology support specialist, field technology support specialist, remote technology suppo...  \n",
       "60                                                                                                                                                                                                                                                                                                                                                                                                                    [telecommunications specialist, lead telecommunications specialist, telecommunications repair specialist, telecommunications account specialist, military telecommunications specialist, analyst telecommunications specialist, telecommunications systems specialist, telecommunications specialist csr]  \n",
       "61                                                                                                                                                                                                                                                                                                                                                                                                                                                                                                                                                                                                              [web administrator, marketing web administrator, training advisor•web administrator, web hosting administrator]  \n",
       "62                                                                                                                                                                                                                                 [web developer, lead web developer, full stack web developer, web developer lead web developer, php web developer, ctl web developer, web developer oracle, web developer html5 developer, drupal web developer, angular web developer, mobile web developer, web developer fullstack, role web developer, global web developer, web developer sme, oracle sql web developer, j2ee web developer, staff web developer ebt, eftps web developer, sfdc web developer, web developer developer]  \n",
       "63                                                                                                                                                                                                                                                                                                                                                                                                                                                                                                                                                                                                                                                                                 [webmaster, webmaster sav, tester webmaster]  \n",
       "\n",
       "[64 rows x 2 columns]"
      ]
     },
     "metadata": {},
     "output_type": "display_data"
    }
   ],
   "source": [
    "idx = kmeans_matches[\"Match confidence (lower is better)\"] < .4\n",
    "kmeans_filtered_jobs = kmeans_matches.loc[idx,[\"left_side\",\"right_side\"]]\n",
    "print(sum(idx))\n",
    "\n",
    "pd.set_option(\"display.max_colwidth\",700)\n",
    "display( kmeans_filtered_jobs.groupby(\"left_side\").right_side.apply(list).reset_index() )\n",
    "pd.reset_option(\"display.max_colwidth\")"
   ]
  },
  {
   "cell_type": "code",
   "execution_count": 206,
   "metadata": {},
   "outputs": [
    {
     "data": {
      "text/plain": [
       "36406"
      ]
     },
     "execution_count": 206,
     "metadata": {},
     "output_type": "execute_result"
    }
   ],
   "source": [
    "sum(reviews.clean_job_title.isin(kmeans_filtered_jobs.right_side.tolist()))"
   ]
  },
  {
   "cell_type": "markdown",
   "metadata": {},
   "source": [
    "Merge both datsets"
   ]
  },
  {
   "cell_type": "code",
   "execution_count": 225,
   "metadata": {
    "scrolled": true
   },
   "outputs": [
    {
     "data": {
      "text/plain": [
       "(1942, 2)"
      ]
     },
     "execution_count": 225,
     "metadata": {},
     "output_type": "execute_result"
    }
   ],
   "source": [
    "\n",
    "finalized_job_list = pd.concat([filtered_jobs, kmeans_filtered_jobs]).drop_duplicates()\n",
    "\n",
    "finalized_job_list.shape"
   ]
  },
  {
   "cell_type": "code",
   "execution_count": 227,
   "metadata": {
    "scrolled": false
   },
   "outputs": [
    {
     "data": {
      "text/plain": [
       "43645"
      ]
     },
     "execution_count": 227,
     "metadata": {},
     "output_type": "execute_result"
    }
   ],
   "source": [
    "sum(reviews.clean_job_title.isin(finalized_job_list.right_side.tolist()))"
   ]
  },
  {
   "cell_type": "code",
   "execution_count": 230,
   "metadata": {},
   "outputs": [],
   "source": [
    "finalized_job_list.head()\n",
    "\n",
    "finalized_job_list.to_csv(\"../data/finalized_job_list.csv\", index=False)"
   ]
  },
  {
   "cell_type": "markdown",
   "metadata": {},
   "source": [
    "Remove Jobs..."
   ]
  },
  {
   "cell_type": "code",
   "execution_count": 233,
   "metadata": {},
   "outputs": [],
   "source": [
    "filter_titles = finalized_job_list.right_side.tolist()\n",
    "\n",
    "exclude_keywords = [\n",
    "    \"camp\"\n",
    "    ,\"tutor\"\n",
    "    ,\"professor\"\n",
    "    ,\"entry\"\n",
    "    ,\"entries\"\n",
    "    ,\"teacher\"\n",
    "    ,\"audio\"\n",
    "    ,\"civil\"\n",
    "    ,\"facility\"\n",
    "    ,\"facilities\"\n",
    "    ,\"industrial\"\n",
    "    ,\"metals\"  \n",
    "    ,\"lab\"\n",
    "]\n",
    "\n",
    "def excludeJobTItles(job):\n",
    "    tokens = str(job).split(\" \")\n",
    "    return len( [ word for word in tokens if word in exclude_keywords ] ) == 0\n",
    "\n",
    "filter_titles_2 = list( filter(excludeJobTItles, filter_titles) )"
   ]
  },
  {
   "cell_type": "code",
   "execution_count": 234,
   "metadata": {},
   "outputs": [
    {
     "data": {
      "text/plain": [
       "43632"
      ]
     },
     "execution_count": 234,
     "metadata": {},
     "output_type": "execute_result"
    }
   ],
   "source": [
    "sum(reviews.clean_job_title.isin(filter_titles_2))"
   ]
  },
  {
   "cell_type": "code",
   "execution_count": null,
   "metadata": {},
   "outputs": [],
   "source": []
  }
 ],
 "metadata": {
  "kernelspec": {
   "display_name": "Python 3",
   "language": "python",
   "name": "python3"
  },
  "language_info": {
   "codemirror_mode": {
    "name": "ipython",
    "version": 3
   },
   "file_extension": ".py",
   "mimetype": "text/x-python",
   "name": "python",
   "nbconvert_exporter": "python",
   "pygments_lexer": "ipython3",
   "version": "3.7.0"
  }
 },
 "nbformat": 4,
 "nbformat_minor": 4
}
