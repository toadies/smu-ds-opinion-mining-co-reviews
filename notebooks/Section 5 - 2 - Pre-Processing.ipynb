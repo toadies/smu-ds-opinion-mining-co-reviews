{
 "cells": [
  {
   "cell_type": "code",
   "execution_count": 1,
   "metadata": {},
   "outputs": [],
   "source": [
    "import re\n",
    "import numpy as np\n",
    "import pandas as pd\n",
    "from pprint import pprint\n",
    "import pickle\n",
    "# Gensim\n",
    "import gensim\n",
    "import gensim.corpora as corpora\n",
    "from gensim.utils import simple_preprocess\n",
    "from gensim.models import CoherenceModel\n",
    "from gensim.parsing.preprocessing import STOPWORDS\n",
    "from nltk.stem import WordNetLemmatizer, SnowballStemmer\n",
    "from nltk.stem.porter import *\n",
    "import nltk\n",
    "from nltk.corpus import wordnet as wn\n",
    "#nltk.download('wordnet')\n",
    "#nltk.download('wordnet')\n",
    "# spacy for lemmatization\n",
    "import spacy\n",
    "from spacy.lang.en import English\n",
    "parser = English()\n",
    "\n",
    "# Plotting tools\n",
    "import pyLDAvis\n",
    "import pyLDAvis.gensim  # don't skip this\n",
    "import matplotlib.pyplot as plt\n",
    "%matplotlib inline\n",
    "\n",
    "import pandas as pd\n",
    "import pickle\n",
    "\n",
    "\n",
    "with open(\"../data/all_reviews.pkl\",\"rb\") as f:\n",
    "    reviews = pickle.load(f)\n",
    "    \n",
    "job_filter = pd.read_csv(\"../data/filter_job_titles.csv\")\n",
    "\n",
    "job_filters = job_filter.clean_job_title.tolist()\n"
   ]
  },
  {
   "cell_type": "code",
   "execution_count": 2,
   "metadata": {},
   "outputs": [
    {
     "name": "stdout",
     "output_type": "stream",
     "text": [
      "(45251, 16)\n"
     ]
    },
    {
     "data": {
      "text/html": [
       "<div>\n",
       "<style scoped>\n",
       "    .dataframe tbody tr th:only-of-type {\n",
       "        vertical-align: middle;\n",
       "    }\n",
       "\n",
       "    .dataframe tbody tr th {\n",
       "        vertical-align: top;\n",
       "    }\n",
       "\n",
       "    .dataframe thead th {\n",
       "        text-align: right;\n",
       "    }\n",
       "</style>\n",
       "<table border=\"1\" class=\"dataframe\">\n",
       "  <thead>\n",
       "    <tr style=\"text-align: right;\">\n",
       "      <th></th>\n",
       "      <th>index</th>\n",
       "      <th>company_name</th>\n",
       "      <th>review_title</th>\n",
       "      <th>job_title</th>\n",
       "      <th>employee_status</th>\n",
       "      <th>location</th>\n",
       "      <th>date</th>\n",
       "      <th>review</th>\n",
       "      <th>pros</th>\n",
       "      <th>cons</th>\n",
       "      <th>rating</th>\n",
       "      <th>yes_helpful</th>\n",
       "      <th>no_helpful</th>\n",
       "      <th>industry</th>\n",
       "      <th>clean_job_title</th>\n",
       "      <th>language</th>\n",
       "    </tr>\n",
       "  </thead>\n",
       "  <tbody>\n",
       "    <tr>\n",
       "      <th>0</th>\n",
       "      <td>299</td>\n",
       "      <td>Fluor Corp.</td>\n",
       "      <td>Awesome company</td>\n",
       "      <td>Quality Manager</td>\n",
       "      <td>Former Employee</td>\n",
       "      <td>Afghanistan</td>\n",
       "      <td>2019-10-17</td>\n",
       "      <td>Fluor is a great company with people that care...</td>\n",
       "      <td>NaN</td>\n",
       "      <td>NaN</td>\n",
       "      <td>4.0</td>\n",
       "      <td>0</td>\n",
       "      <td>0</td>\n",
       "      <td>construction</td>\n",
       "      <td>quality manager</td>\n",
       "      <td>en</td>\n",
       "    </tr>\n",
       "    <tr>\n",
       "      <th>1</th>\n",
       "      <td>1145</td>\n",
       "      <td>Fluor Corp.</td>\n",
       "      <td>Was a much better company in the 90's</td>\n",
       "      <td>Control Systems Designer</td>\n",
       "      <td>Former Employee</td>\n",
       "      <td>Sugar Land, TX</td>\n",
       "      <td>2018-06-06</td>\n",
       "      <td>Fluor was the first powerhouse EPC that went h...</td>\n",
       "      <td>Nice Location</td>\n",
       "      <td>They have no work</td>\n",
       "      <td>3.0</td>\n",
       "      <td>2</td>\n",
       "      <td>0</td>\n",
       "      <td>construction</td>\n",
       "      <td>control systems designer</td>\n",
       "      <td>en</td>\n",
       "    </tr>\n",
       "    <tr>\n",
       "      <th>2</th>\n",
       "      <td>1375</td>\n",
       "      <td>Fluor Corp.</td>\n",
       "      <td>Enjoyed the Work Environment</td>\n",
       "      <td>Senior Software Developer</td>\n",
       "      <td>Current Employee</td>\n",
       "      <td>Aliso Viejo, CA</td>\n",
       "      <td>2018-03-08</td>\n",
       "      <td>There is not much that I could add here.  I en...</td>\n",
       "      <td>Relaxed Environment</td>\n",
       "      <td>None really</td>\n",
       "      <td>5.0</td>\n",
       "      <td>0</td>\n",
       "      <td>1</td>\n",
       "      <td>construction</td>\n",
       "      <td>software developer</td>\n",
       "      <td>en</td>\n",
       "    </tr>\n",
       "    <tr>\n",
       "      <th>3</th>\n",
       "      <td>1874</td>\n",
       "      <td>Fluor Corp.</td>\n",
       "      <td>Good place</td>\n",
       "      <td>System Engineer I</td>\n",
       "      <td>Current Employee</td>\n",
       "      <td>Piketon, OH</td>\n",
       "      <td>2017-09-15</td>\n",
       "      <td>The place can be pretty boring most of the tim...</td>\n",
       "      <td>NaN</td>\n",
       "      <td>NaN</td>\n",
       "      <td>4.0</td>\n",
       "      <td>0</td>\n",
       "      <td>0</td>\n",
       "      <td>construction</td>\n",
       "      <td>system engineer</td>\n",
       "      <td>en</td>\n",
       "    </tr>\n",
       "    <tr>\n",
       "      <th>4</th>\n",
       "      <td>2136</td>\n",
       "      <td>Fluor Corp.</td>\n",
       "      <td>Hurry up and wait</td>\n",
       "      <td>Software Developer I</td>\n",
       "      <td>Current Employee</td>\n",
       "      <td>Piketon, OH</td>\n",
       "      <td>2017-06-26</td>\n",
       "      <td>Everyone is in a hurry to get things done, but...</td>\n",
       "      <td>Great healthcare</td>\n",
       "      <td>Located in the middle of no-where</td>\n",
       "      <td>3.0</td>\n",
       "      <td>1</td>\n",
       "      <td>0</td>\n",
       "      <td>construction</td>\n",
       "      <td>software developer</td>\n",
       "      <td>en</td>\n",
       "    </tr>\n",
       "  </tbody>\n",
       "</table>\n",
       "</div>"
      ],
      "text/plain": [
       "   index company_name                           review_title  \\\n",
       "0    299  Fluor Corp.                        Awesome company   \n",
       "1   1145  Fluor Corp.  Was a much better company in the 90's   \n",
       "2   1375  Fluor Corp.           Enjoyed the Work Environment   \n",
       "3   1874  Fluor Corp.                             Good place   \n",
       "4   2136  Fluor Corp.                      Hurry up and wait   \n",
       "\n",
       "                   job_title   employee_status         location        date  \\\n",
       "0            Quality Manager   Former Employee      Afghanistan  2019-10-17   \n",
       "1   Control Systems Designer   Former Employee   Sugar Land, TX  2018-06-06   \n",
       "2  Senior Software Developer  Current Employee  Aliso Viejo, CA  2018-03-08   \n",
       "3          System Engineer I  Current Employee      Piketon, OH  2017-09-15   \n",
       "4       Software Developer I  Current Employee      Piketon, OH  2017-06-26   \n",
       "\n",
       "                                              review                 pros  \\\n",
       "0  Fluor is a great company with people that care...                  NaN   \n",
       "1  Fluor was the first powerhouse EPC that went h...        Nice Location   \n",
       "2  There is not much that I could add here.  I en...  Relaxed Environment   \n",
       "3  The place can be pretty boring most of the tim...                  NaN   \n",
       "4  Everyone is in a hurry to get things done, but...     Great healthcare   \n",
       "\n",
       "                                cons  rating  yes_helpful  no_helpful  \\\n",
       "0                                NaN     4.0            0           0   \n",
       "1                  They have no work     3.0            2           0   \n",
       "2                        None really     5.0            0           1   \n",
       "3                                NaN     4.0            0           0   \n",
       "4  Located in the middle of no-where     3.0            1           0   \n",
       "\n",
       "       industry           clean_job_title language  \n",
       "0  construction           quality manager       en  \n",
       "1  construction  control systems designer       en  \n",
       "2  construction        software developer       en  \n",
       "3  construction           system engineer       en  \n",
       "4  construction        software developer       en  "
      ]
     },
     "metadata": {},
     "output_type": "display_data"
    }
   ],
   "source": [
    "idx = (reviews.language == \"en\")\n",
    "reviews = reviews.loc[idx,:]\n",
    "\n",
    "idx = (reviews.clean_job_title.isin(job_filters))\n",
    "reviews = reviews.loc[idx,:].reset_index()\n",
    "\n",
    "print(reviews.shape)\n",
    "display(reviews.head())"
   ]
  },
  {
   "cell_type": "code",
   "execution_count": 11,
   "metadata": {},
   "outputs": [],
   "source": [
    "import re\n",
    "alphabets= \"([A-Za-z])\"\n",
    "prefixes = \"(Mr|St|Mrs|Ms|Dr)[.]\"\n",
    "suffixes = \"(Inc|Ltd|Jr|Sr|Co)\"\n",
    "starters = r\"(Mr|Mrs|Ms|Dr|He\\s|She\\s|It\\s|They\\s|Their\\s|Our\\s|We\\s|But\\s|However\\s|That\\s|This\\s|Wherever)\"\n",
    "acronyms = \"([A-Z][.][A-Z][.](?:[A-Z][.])?)\"\n",
    "websites = \"[.](com|net|org|io|gov)\"\n",
    "\n",
    "def split_into_sentences(text):\n",
    "    text = \" \" + text + \"  \"\n",
    "    text = text.replace(\"\\n\",\" \")\n",
    "    text = re.sub(prefixes,\"\\\\1<prd>\",text)\n",
    "    text = re.sub(websites,\"<prd>\\\\1\",text)\n",
    "    if \"Ph.D\" in text: text = text.replace(\"Ph.D.\",\"Ph<prd>D<prd>\")\n",
    "    text = re.sub(r\"\\s\" + alphabets + \"[.] \",\" \\\\1<prd> \",text)\n",
    "    text = re.sub(acronyms+\" \"+starters,\"\\\\1<stop> \\\\2\",text)\n",
    "    text = re.sub(alphabets + \"[.]\" + alphabets + \"[.]\" + alphabets + \"[.]\",\"\\\\1<prd>\\\\2<prd>\\\\3<prd>\",text)\n",
    "    text = re.sub(alphabets + \"[.]\" + alphabets + \"[.]\",\"\\\\1<prd>\\\\2<prd>\",text)\n",
    "    text = re.sub(\" \"+suffixes+\"[.] \"+starters,\" \\\\1<stop> \\\\2\",text)\n",
    "    text = re.sub(\" \"+suffixes+\"[.]\",\" \\\\1<prd>\",text)\n",
    "    text = re.sub(\" \" + alphabets + \"[.]\",\" \\\\1<prd>\",text)\n",
    "    if \"”\" in text: text = text.replace(\".”\",\"”.\")\n",
    "    if \"\\\"\" in text: text = text.replace(\".\\\"\",\"\\\".\")\n",
    "    if \"!\" in text: text = text.replace(\"!\\\"\",\"\\\"!\")\n",
    "    if \"?\" in text: text = text.replace(\"?\\\"\",\"\\\"?\")\n",
    "    text = text.replace(\".\",\".<stop>\")\n",
    "    text = text.replace(\"?\",\"?<stop>\")\n",
    "    text = text.replace(\"!\",\"!<stop>\")\n",
    "    text = text.replace(\"<prd>\",\".\")\n",
    "    sentences = text.split(\"<stop>\")\n",
    "    sentences = sentences[:-1]\n",
    "    sentences = [s.strip() for s in sentences]\n",
    "    return sentences"
   ]
  },
  {
   "cell_type": "code",
   "execution_count": 4,
   "metadata": {},
   "outputs": [
    {
     "name": "stdout",
     "output_type": "stream",
     "text": [
      "Stop word count 179\n",
      "Stop word count after adding company names 827\n"
     ]
    }
   ],
   "source": [
    "from nltk import word_tokenize\n",
    "from nltk.corpus import stopwords\n",
    "\n",
    "company_name = reviews.company_name\n",
    "company_name = list(set(company_name))\n",
    "\n",
    "tokens = map(str.lower, company_name)\n",
    "tokens = map(str.split, tokens)\n",
    "\n",
    "stop_words = stopwords.words('english')\n",
    "\n",
    "print(\"Stop word count\", len(stop_words))\n",
    "\n",
    "for token in tokens:\n",
    "    stop_words.extend(token[0:1])\n",
    "    \n",
    "stop_words = list( set(stop_words) )\n",
    "stop_words = [x for x in stop_words if x not in ['management','performance','measurement']]\n",
    "print(\"Stop word count after adding company names\", len(stop_words))"
   ]
  },
  {
   "cell_type": "code",
   "execution_count": 5,
   "metadata": {},
   "outputs": [
    {
     "data": {
      "text/plain": [
       "'great company people care make difference management care employee well providing continued learning opportunity'"
      ]
     },
     "execution_count": 5,
     "metadata": {},
     "output_type": "execute_result"
    }
   ],
   "source": [
    "from sklearn.feature_extraction.text import CountVectorizer\n",
    "from nltk.stem.wordnet import WordNetLemmatizer\n",
    "co_reviews = reviews.review.tolist()\n",
    "def parseSentence(line):\n",
    "    lmtzr = WordNetLemmatizer()\n",
    "    text_token = CountVectorizer().build_tokenizer()(line.lower())\n",
    "    text_rmstop = [i for i in text_token if i not in stop_words]\n",
    "    text_stem = [lmtzr.lemmatize(w) for w in text_rmstop]\n",
    "    return \" \".join(text_stem)\n",
    "\n",
    "\n",
    "\n",
    "tech_review_word_corpus = list(map(parseSentence, co_reviews))\n",
    "\n",
    "tech_review_word_corpus[0]"
   ]
  },
  {
   "cell_type": "code",
   "execution_count": 12,
   "metadata": {},
   "outputs": [],
   "source": [
    "\n",
    "# from nltk import sent_tokenize\n",
    "# from nltk.corpus import stopwords\n",
    "# import spacy\n",
    "# import re\n",
    "from nltk.stem.wordnet import WordNetLemmatizer\n",
    "co_reviews = reviews.review.tolist()\n",
    "def parseSentence(line):\n",
    "    result=[]\n",
    "    lmtzr = WordNetLemmatizer()\n",
    "    text_token = split_into_sentences(line.lower())\n",
    "    for i in range(len(text_token)):\n",
    "        text_rmstop = [lmtzr.lemmatize(word) for word in re.split(r\"\\W+\",text_token[i]) if word.lower() not in stop_words]\n",
    "        result.append(' '.join(text_rmstop).strip())\n",
    "    return result\n",
    "\n"
   ]
  },
  {
   "cell_type": "code",
   "execution_count": 7,
   "metadata": {},
   "outputs": [],
   "source": [
    "tech_review_sent_corpus = list(map(parseSentence, co_reviews))"
   ]
  },
  {
   "cell_type": "code",
   "execution_count": 8,
   "metadata": {},
   "outputs": [
    {
     "data": {
      "text/plain": [
       "'Fluor is a great company with people that care to make a difference.  Management cares about their employees as well as providing them with continued learning opportunities.'"
      ]
     },
     "execution_count": 8,
     "metadata": {},
     "output_type": "execute_result"
    }
   ],
   "source": [
    "reviews.review[0]"
   ]
  },
  {
   "cell_type": "code",
   "execution_count": 13,
   "metadata": {},
   "outputs": [
    {
     "data": {
      "text/plain": [
       "['great company people care make difference',\n",
       " 'management care employee well providing continued learning opportunity']"
      ]
     },
     "execution_count": 13,
     "metadata": {},
     "output_type": "execute_result"
    }
   ],
   "source": [
    "tech_review_sent_corpus[0]"
   ]
  },
  {
   "cell_type": "code",
   "execution_count": 25,
   "metadata": {},
   "outputs": [
    {
     "data": {
      "text/plain": [
       "45251"
      ]
     },
     "execution_count": 25,
     "metadata": {},
     "output_type": "execute_result"
    }
   ],
   "source": [
    "indices = reviews[\"index\"].tolist()\n",
    "\n",
    "corpus = []\n",
    "for idx, review in zip(indices, tech_review_word_corpus):\n",
    "    corpus.append({\n",
    "        \"index\":idx\n",
    "        ,\"review\":review\n",
    "    })\n",
    "\n",
    "with open(\"../data/tech_review_word_corpus.pkl\",\"wb\") as f:\n",
    "    pickle.dump(corpus, f)\n",
    "\n",
    "len(corpus)"
   ]
  },
  {
   "cell_type": "code",
   "execution_count": 28,
   "metadata": {},
   "outputs": [
    {
     "data": {
      "text/plain": [
       "146066"
      ]
     },
     "execution_count": 28,
     "metadata": {},
     "output_type": "execute_result"
    }
   ],
   "source": [
    "indices = reviews[\"index\"].tolist()\n",
    "\n",
    "corpus = []\n",
    "for idx, review in zip(indices, tech_review_sent_corpus):\n",
    "    for i in range(len(review)):\n",
    "        corpus.append({\n",
    "        \"index\":idx\n",
    "        ,\"review\":review[i]\n",
    "    })\n",
    "\n",
    "with open(\"../data/tech_review_sent_corpus.pkl\",\"wb\") as f:\n",
    "    pickle.dump(corpus, f)\n",
    "\n",
    "len(corpus)"
   ]
  }
 ],
 "metadata": {
  "kernelspec": {
   "display_name": "Python 3",
   "language": "python",
   "name": "python3"
  },
  "language_info": {
   "codemirror_mode": {
    "name": "ipython",
    "version": 3
   },
   "file_extension": ".py",
   "mimetype": "text/x-python",
   "name": "python",
   "nbconvert_exporter": "python",
   "pygments_lexer": "ipython3",
   "version": "3.7.0"
  }
 },
 "nbformat": 4,
 "nbformat_minor": 4
}
