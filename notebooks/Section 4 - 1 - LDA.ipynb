{
 "cells": [
  {
   "cell_type": "code",
   "execution_count": 1,
   "metadata": {},
   "outputs": [
    {
     "name": "stdout",
     "output_type": "stream",
     "text": [
      "(67031, 14)\n"
     ]
    },
    {
     "data": {
      "text/html": [
       "<div>\n",
       "<style scoped>\n",
       "    .dataframe tbody tr th:only-of-type {\n",
       "        vertical-align: middle;\n",
       "    }\n",
       "\n",
       "    .dataframe tbody tr th {\n",
       "        vertical-align: top;\n",
       "    }\n",
       "\n",
       "    .dataframe thead th {\n",
       "        text-align: right;\n",
       "    }\n",
       "</style>\n",
       "<table border=\"1\" class=\"dataframe\">\n",
       "  <thead>\n",
       "    <tr style=\"text-align: right;\">\n",
       "      <th></th>\n",
       "      <th>company_name</th>\n",
       "      <th>review_title</th>\n",
       "      <th>job_title</th>\n",
       "      <th>employee_status</th>\n",
       "      <th>location</th>\n",
       "      <th>date</th>\n",
       "      <th>review</th>\n",
       "      <th>pros</th>\n",
       "      <th>cons</th>\n",
       "      <th>rating</th>\n",
       "      <th>yes_helpful</th>\n",
       "      <th>no_helpful</th>\n",
       "      <th>industry</th>\n",
       "      <th>clean_job_title</th>\n",
       "    </tr>\n",
       "  </thead>\n",
       "  <tbody>\n",
       "    <tr>\n",
       "      <th>0</th>\n",
       "      <td>EY</td>\n",
       "      <td>I had a great time working at EY</td>\n",
       "      <td>Software Developer</td>\n",
       "      <td>Former Employee</td>\n",
       "      <td>Bengaluru, Karnataka</td>\n",
       "      <td>2020-03-02</td>\n",
       "      <td>Pros:\\rGreat Learning Curve.\\rPeer Culture is ...</td>\n",
       "      <td>NaN</td>\n",
       "      <td>NaN</td>\n",
       "      <td>4.0</td>\n",
       "      <td>0</td>\n",
       "      <td>0</td>\n",
       "      <td>accounting</td>\n",
       "      <td>software developer</td>\n",
       "    </tr>\n",
       "    <tr>\n",
       "      <th>1</th>\n",
       "      <td>EY</td>\n",
       "      <td>Great place to be</td>\n",
       "      <td>Office Administrator/Receptionist</td>\n",
       "      <td>Former Employee</td>\n",
       "      <td>Cork</td>\n",
       "      <td>2020-02-28</td>\n",
       "      <td>A lovely team and very pretty environment. I f...</td>\n",
       "      <td>NaN</td>\n",
       "      <td>NaN</td>\n",
       "      <td>5.0</td>\n",
       "      <td>0</td>\n",
       "      <td>0</td>\n",
       "      <td>accounting</td>\n",
       "      <td>office administrator receptionist</td>\n",
       "    </tr>\n",
       "    <tr>\n",
       "      <th>2</th>\n",
       "      <td>EY</td>\n",
       "      <td>Productive and FUN Place</td>\n",
       "      <td>System Engineer</td>\n",
       "      <td>Current Employee</td>\n",
       "      <td>Hyderabad, Telangana</td>\n",
       "      <td>2020-02-25</td>\n",
       "      <td>It's feel like workplace where can utilize kno...</td>\n",
       "      <td>NaN</td>\n",
       "      <td>NaN</td>\n",
       "      <td>5.0</td>\n",
       "      <td>0</td>\n",
       "      <td>0</td>\n",
       "      <td>accounting</td>\n",
       "      <td>system engineer</td>\n",
       "    </tr>\n",
       "    <tr>\n",
       "      <th>3</th>\n",
       "      <td>EY</td>\n",
       "      <td>Fun to work at and has the best Work Culture</td>\n",
       "      <td>Associate Software Engineer</td>\n",
       "      <td>Former Employee</td>\n",
       "      <td>Bengaluru</td>\n",
       "      <td>2020-02-15</td>\n",
       "      <td>Supportive peers and leaders who are always pr...</td>\n",
       "      <td>NaN</td>\n",
       "      <td>NaN</td>\n",
       "      <td>5.0</td>\n",
       "      <td>0</td>\n",
       "      <td>0</td>\n",
       "      <td>accounting</td>\n",
       "      <td>associate software engineer</td>\n",
       "    </tr>\n",
       "    <tr>\n",
       "      <th>4</th>\n",
       "      <td>EY</td>\n",
       "      <td>Good Environment</td>\n",
       "      <td>Desktop Support Administrator &amp; Business Opera...</td>\n",
       "      <td>Current Employee</td>\n",
       "      <td>Nashville, TN</td>\n",
       "      <td>2020-01-24</td>\n",
       "      <td>EY is a very nice environment to work at.  Tec...</td>\n",
       "      <td>NaN</td>\n",
       "      <td>NaN</td>\n",
       "      <td>4.0</td>\n",
       "      <td>0</td>\n",
       "      <td>0</td>\n",
       "      <td>accounting</td>\n",
       "      <td>desktop support administrator business operati...</td>\n",
       "    </tr>\n",
       "  </tbody>\n",
       "</table>\n",
       "</div>"
      ],
      "text/plain": [
       "  company_name                                  review_title  \\\n",
       "0           EY              I had a great time working at EY   \n",
       "1           EY                             Great place to be   \n",
       "2           EY                      Productive and FUN Place   \n",
       "3           EY  Fun to work at and has the best Work Culture   \n",
       "4           EY                              Good Environment   \n",
       "\n",
       "                                           job_title   employee_status  \\\n",
       "0                                 Software Developer   Former Employee   \n",
       "1                  Office Administrator/Receptionist   Former Employee   \n",
       "2                                    System Engineer  Current Employee   \n",
       "3                        Associate Software Engineer   Former Employee   \n",
       "4  Desktop Support Administrator & Business Opera...  Current Employee   \n",
       "\n",
       "               location        date  \\\n",
       "0  Bengaluru, Karnataka  2020-03-02   \n",
       "1                  Cork  2020-02-28   \n",
       "2  Hyderabad, Telangana  2020-02-25   \n",
       "3             Bengaluru  2020-02-15   \n",
       "4         Nashville, TN  2020-01-24   \n",
       "\n",
       "                                              review pros cons  rating  \\\n",
       "0  Pros:\\rGreat Learning Curve.\\rPeer Culture is ...  NaN  NaN     4.0   \n",
       "1  A lovely team and very pretty environment. I f...  NaN  NaN     5.0   \n",
       "2  It's feel like workplace where can utilize kno...  NaN  NaN     5.0   \n",
       "3  Supportive peers and leaders who are always pr...  NaN  NaN     5.0   \n",
       "4  EY is a very nice environment to work at.  Tec...  NaN  NaN     4.0   \n",
       "\n",
       "   yes_helpful  no_helpful    industry  \\\n",
       "0            0           0  accounting   \n",
       "1            0           0  accounting   \n",
       "2            0           0  accounting   \n",
       "3            0           0  accounting   \n",
       "4            0           0  accounting   \n",
       "\n",
       "                                     clean_job_title  \n",
       "0                                 software developer  \n",
       "1                  office administrator receptionist  \n",
       "2                                    system engineer  \n",
       "3                        associate software engineer  \n",
       "4  desktop support administrator business operati...  "
      ]
     },
     "metadata": {},
     "output_type": "display_data"
    }
   ],
   "source": [
    "#! pip install pyLDAvis\n",
    "import re\n",
    "import numpy as np\n",
    "import pandas as pd\n",
    "from pprint import pprint\n",
    "import pickle\n",
    "# Gensim\n",
    "import gensim\n",
    "import gensim.corpora as corpora\n",
    "from gensim.utils import simple_preprocess\n",
    "from gensim.models import CoherenceModel\n",
    "from gensim.parsing.preprocessing import STOPWORDS\n",
    "from nltk.stem import WordNetLemmatizer, SnowballStemmer\n",
    "from nltk.stem.porter import *\n",
    "import nltk\n",
    "from nltk.corpus import wordnet as wn\n",
    "# spacy for lemmatization\n",
    "import spacy\n",
    "from spacy.lang.en import English\n",
    "parser = English()\n",
    "\n",
    "# Plotting tools\n",
    "import pyLDAvis\n",
    "import pyLDAvis.gensim  # don't skip this\n",
    "import matplotlib.pyplot as plt\n",
    "%matplotlib inline\n",
    "\n",
    "with open(\"../data/all_reviews.pkl\",\"rb\") as f:\n",
    "    reviews = pickle.load(f)\n",
    "    \n",
    "job_filter = pd.read_csv(\"../data/filter_job_titles.csv\")\n",
    "\n",
    "job_filters = job_filter.clean_job_title.tolist()\n",
    "\n",
    "idx = reviews.clean_job_title.isin(job_filters)\n",
    "reviews = reviews.loc[idx,:]\n",
    "\n",
    "print( reviews.shape )\n",
    "reviews.reset_index(drop=True,inplace=True)\n",
    "display( reviews.head() )"
   ]
  },
  {
   "cell_type": "code",
   "execution_count": 2,
   "metadata": {},
   "outputs": [
    {
     "name": "stderr",
     "output_type": "stream",
     "text": [
      "[nltk_data] Downloading package stopwords to\n",
      "[nltk_data]     C:\\Users\\04616598\\AppData\\Roaming\\nltk_data...\n",
      "[nltk_data]   Package stopwords is already up-to-date!\n"
     ]
    }
   ],
   "source": [
    "#NLTK Stop words\n",
    "nltk.download('stopwords')\n",
    "from nltk.corpus import stopwords\n",
    "stop_words = stopwords.words('english')\n",
    "#extend stop word based on top 50 words\n",
    "stop_words.extend([\"new\",\"lot\",\"get\",\"many\",\"also\",\"day\",\"part\",\"one\",\"things\",\"always\",\"years\",\"really\"])"
   ]
  },
  {
   "cell_type": "code",
   "execution_count": 3,
   "metadata": {},
   "outputs": [],
   "source": [
    "def tokenize(text):\n",
    "    lda_tokens = []\n",
    "    tokens = parser(text)\n",
    "    for token in tokens:\n",
    "        if token.orth_.isspace():\n",
    "            continue\n",
    "        else:\n",
    "            lda_tokens.append(token.lower_)\n",
    "    return lda_tokens"
   ]
  },
  {
   "cell_type": "code",
   "execution_count": 4,
   "metadata": {},
   "outputs": [],
   "source": [
    "def get_lemma(word):\n",
    "    lemma = wn.morphy(word)\n",
    "    if lemma is None:\n",
    "        return word\n",
    "    else:\n",
    "        return lemma\n",
    "    \n",
    "from nltk.stem.wordnet import WordNetLemmatizer\n",
    "def get_lemma2(word):\n",
    "    return WordNetLemmatizer().lemmatize(word)"
   ]
  },
  {
   "cell_type": "code",
   "execution_count": 5,
   "metadata": {},
   "outputs": [],
   "source": [
    "def prepare_text_for_lda(text):\n",
    "    tokens = tokenize(text)\n",
    "    tokens = [token for token in tokens if len(token) > 4]\n",
    "    tokens = [token for token in tokens if token not in stop_words]\n",
    "    tokens = [get_lemma(token) for token in tokens]\n",
    "    return tokens"
   ]
  },
  {
   "cell_type": "code",
   "execution_count": 6,
   "metadata": {},
   "outputs": [
    {
     "name": "stderr",
     "output_type": "stream",
     "text": [
      "[nltk_data] Downloading package wordnet to\n",
      "[nltk_data]     C:\\Users\\04616598\\AppData\\Roaming\\nltk_data...\n",
      "[nltk_data]   Package wordnet is already up-to-date!\n"
     ]
    },
    {
     "data": {
      "text/plain": [
       "0    [great, learning, curve, culture, great, balan...\n",
       "1    [lovely, pretty, environment, welcome, great, ...\n",
       "2    [workplace, utilize, knowledge, skill, managem...\n",
       "3    [supportive, peer, leaders, present, guide, te...\n",
       "4    [environment, tech, player, learn, something, ...\n",
       "5    [company, management, excellent, working, bala...\n",
       "6    [energetic, vibrant, company, extrovert, deali...\n",
       "7    [place, learn, technology, culture, awesome, p...\n",
       "8    [great, place, culture, flexible, hours, helpi...\n",
       "9    [flexibility, management, employee, benefit, i...\n",
       "Name: review, dtype: object"
      ]
     },
     "execution_count": 6,
     "metadata": {},
     "output_type": "execute_result"
    }
   ],
   "source": [
    "nltk.download('wordnet')\n",
    "processed_docs = reviews['review'].map(prepare_text_for_lda)\n",
    "processed_docs[:10]\n"
   ]
  },
  {
   "cell_type": "code",
   "execution_count": 7,
   "metadata": {},
   "outputs": [],
   "source": [
    "from gensim import corpora\n",
    "dictionary = corpora.Dictionary(processed_docs)\n",
    "corpus = [dictionary.doc2bow(text) for text in processed_docs]"
   ]
  },
  {
   "cell_type": "code",
   "execution_count": 8,
   "metadata": {},
   "outputs": [
    {
     "name": "stdout",
     "output_type": "stream",
     "text": [
      "(0, '0.105*\"great\" + 0.060*\"place\" + 0.056*\"working\" + 0.055*\"people\"')\n",
      "(1, '0.043*\"company\" + 0.022*\"employee\" + 0.021*\"would\" + 0.020*\"people\"')\n",
      "(2, '0.032*\"business\" + 0.027*\"company\" + 0.025*\"services\" + 0.020*\"large\"')\n",
      "(3, '0.044*\"management\" + 0.033*\"manager\" + 0.019*\"office\" + 0.015*\"level\"')\n",
      "(4, '0.057*\"learn\" + 0.046*\"opportunity\" + 0.039*\"career\" + 0.037*\"company\"')\n",
      "(5, '0.083*\"learn\" + 0.055*\"management\" + 0.052*\"worker\" + 0.042*\"working\"')\n",
      "(6, '0.038*\"customer\" + 0.018*\"issue\" + 0.017*\"client\" + 0.012*\"daily\"')\n",
      "(7, '0.031*\"mahindra\" + 0.026*\"shift\" + 0.017*\"situation\" + 0.015*\"night\"')\n",
      "(8, '0.066*\"company\" + 0.065*\"employee\" + 0.039*\"balance\" + 0.038*\"management\"')\n",
      "(9, '0.029*\"system\" + 0.024*\"software\" + 0.021*\"application\" + 0.018*\"development\"')\n"
     ]
    }
   ],
   "source": [
    "NUM_TOPICS = 10\n",
    "ldamodel = gensim.models.ldamodel.LdaModel(corpus, num_topics = NUM_TOPICS, id2word=dictionary, passes=15)\n",
    "ldamodel.save('model5.gensim')\n",
    "topics = ldamodel.print_topics(num_words=4)\n",
    "for topic in topics:\n",
    "    print(topic)"
   ]
  },
  {
   "cell_type": "code",
   "execution_count": 9,
   "metadata": {},
   "outputs": [],
   "source": [
    "def compute_coherence_values(dictionary, corpus, texts, limit, start=2, step=3):\n",
    "    \"\"\"\n",
    "    Compute c_v coherence for various number of topics\n",
    "\n",
    "    Parameters:\n",
    "    ----------\n",
    "    dictionary : Gensim dictionary\n",
    "    corpus : Gensim corpus\n",
    "    texts : List of input texts\n",
    "    limit : Max num of topics\n",
    "\n",
    "    Returns:\n",
    "    -------\n",
    "    model_list : List of LDA topic models\n",
    "    coherence_values : Coherence values corresponding to the LDA model with respective number of topics\n",
    "    \"\"\"\n",
    "    coherence_values = []\n",
    "    model_list = []\n",
    "    for num_topics in range(start, limit, step):\n",
    "        model = gensim.models.ldamodel.LdaModel(corpus=corpus, num_topics = num_topics ,id2word=dictionary, passes=15)\n",
    "        model_list.append(model)\n",
    "        coherencemodel = CoherenceModel(model=model, texts=texts, dictionary=dictionary, coherence='c_v')\n",
    "        coherence_values.append(coherencemodel.get_coherence())\n",
    "\n",
    "    return model_list, coherence_values"
   ]
  },
  {
   "cell_type": "code",
   "execution_count": 10,
   "metadata": {},
   "outputs": [],
   "source": [
    "model_list, coherence_values = compute_coherence_values(dictionary=dictionary, corpus=corpus, texts=processed_docs, start=2, limit=30, step=2)"
   ]
  },
  {
   "cell_type": "code",
   "execution_count": 11,
   "metadata": {},
   "outputs": [
    {
     "data": {
      "image/png": "[encoded data removed]",
      "text/plain": [
       "<Figure size 432x288 with 1 Axes>"
      ]
     },
     "metadata": {
      "needs_background": "light"
     },
     "output_type": "display_data"
    }
   ],
   "source": [
    "# Show graph\n",
    "limit=30; start=2; step=2;\n",
    "x = range(start, limit, step)\n",
    "plt.plot(x, coherence_values)\n",
    "plt.xlabel(\"Num Topics\")\n",
    "plt.ylabel(\"Coherence score\")\n",
    "plt.legend((\"coherence_values\"), loc='best')\n",
    "plt.show()"
   ]
  },
  {
   "cell_type": "code",
   "execution_count": 12,
   "metadata": {},
   "outputs": [
    {
     "name": "stdout",
     "output_type": "stream",
     "text": [
      "Num Topics = 2  has Coherence Value of 0.4851\n",
      "Num Topics = 4  has Coherence Value of 0.4959\n",
      "Num Topics = 6  has Coherence Value of 0.5201\n",
      "Num Topics = 8  has Coherence Value of 0.4812\n",
      "Num Topics = 10  has Coherence Value of 0.5439\n",
      "Num Topics = 12  has Coherence Value of 0.494\n",
      "Num Topics = 14  has Coherence Value of 0.4831\n",
      "Num Topics = 16  has Coherence Value of 0.5165\n",
      "Num Topics = 18  has Coherence Value of 0.4828\n",
      "Num Topics = 20  has Coherence Value of 0.4791\n",
      "Num Topics = 22  has Coherence Value of 0.5052\n",
      "Num Topics = 24  has Coherence Value of 0.4792\n",
      "Num Topics = 26  has Coherence Value of 0.4885\n",
      "Num Topics = 28  has Coherence Value of 0.4655\n"
     ]
    }
   ],
   "source": [
    "# Print the coherence scores\n",
    "for m, cv in zip(x, coherence_values):\n",
    "    print(\"Num Topics =\", m, \" has Coherence Value of\", round(cv, 4))"
   ]
  },
  {
   "cell_type": "code",
   "execution_count": 13,
   "metadata": {},
   "outputs": [
    {
     "data": {
      "text/plain": [
       "[<gensim.models.ldamodel.LdaModel at 0x1a36f6b3470>,\n",
       " <gensim.models.ldamodel.LdaModel at 0x1a34a4d0ef0>,\n",
       " <gensim.models.ldamodel.LdaModel at 0x1a30f8b3be0>,\n",
       " <gensim.models.ldamodel.LdaModel at 0x1a368e5ddd8>,\n",
       " <gensim.models.ldamodel.LdaModel at 0x1a332d9e550>,\n",
       " <gensim.models.ldamodel.LdaModel at 0x1a33519e630>,\n",
       " <gensim.models.ldamodel.LdaModel at 0x1a36f6b3a90>,\n",
       " <gensim.models.ldamodel.LdaModel at 0x1a36f6b3ac8>,\n",
       " <gensim.models.ldamodel.LdaModel at 0x1a36f6b3a58>,\n",
       " <gensim.models.ldamodel.LdaModel at 0x1a33b0ffd68>,\n",
       " <gensim.models.ldamodel.LdaModel at 0x1a371723c88>,\n",
       " <gensim.models.ldamodel.LdaModel at 0x1a33f6575f8>,\n",
       " <gensim.models.ldamodel.LdaModel at 0x1a332dca208>,\n",
       " <gensim.models.ldamodel.LdaModel at 0x1a32d843e48>]"
      ]
     },
     "execution_count": 13,
     "metadata": {},
     "output_type": "execute_result"
    }
   ],
   "source": [
    "model_list"
   ]
  },
  {
   "cell_type": "code",
   "execution_count": 14,
   "metadata": {},
   "outputs": [
    {
     "data": {
      "text/plain": [
       "[0.4851106572517619,\n",
       " 0.49590768026337717,\n",
       " 0.5201165718145573,\n",
       " 0.48122587500110675,\n",
       " 0.5438713016012525,\n",
       " 0.4939517114438092,\n",
       " 0.48308669684985345,\n",
       " 0.5165015155904716,\n",
       " 0.4827642265310092,\n",
       " 0.47907867704726403,\n",
       " 0.5051664313289921,\n",
       " 0.47919640879861464,\n",
       " 0.48853691842044655,\n",
       " 0.4654968665992865]"
      ]
     },
     "execution_count": 14,
     "metadata": {},
     "output_type": "execute_result"
    }
   ],
   "source": [
    "coherence_values"
   ]
  },
  {
   "cell_type": "code",
   "execution_count": 15,
   "metadata": {},
   "outputs": [
    {
     "name": "stdout",
     "output_type": "stream",
     "text": [
      "[(0,\n",
      "  '0.047*\"customer\" + 0.015*\"service\" + 0.012*\"wipro\" + 0.010*\"call\" + '\n",
      "  '0.009*\"mahindra\" + 0.009*\"office\" + 0.008*\"order\" + 0.007*\"client\" + '\n",
      "  '0.007*\"account\" + 0.007*\"sales\"'),\n",
      " (1,\n",
      "  '0.102*\"project\" + 0.036*\"technology\" + 0.023*\"genpact\" + 0.023*\"process\" + '\n",
      "  '0.021*\"developer\" + 0.019*\"development\" + 0.017*\"software\" + 0.016*\"client\" '\n",
      "  '+ 0.013*\"domain\" + 0.013*\"depend\"'),\n",
      " (2,\n",
      "  '0.058*\"learn\" + 0.038*\"working\" + 0.033*\"worker\" + 0.031*\"management\" + '\n",
      "  '0.023*\"enjoyable\" + 0.021*\"hard\" + 0.019*\"enjoy\" + 0.015*\"skill\" + '\n",
      "  '0.014*\"environment\" + 0.014*\"typical\"'),\n",
      " (3,\n",
      "  '0.043*\"company\" + 0.021*\"employee\" + 0.019*\"people\" + 0.019*\"management\" + '\n",
      "  '0.017*\"great\" + 0.013*\"would\" + 0.012*\"manager\" + 0.011*\"place\" + '\n",
      "  '0.010*\"change\" + 0.009*\"work\"'),\n",
      " (4,\n",
      "  '0.023*\"system\" + 0.017*\"application\" + 0.014*\"business\" + 0.013*\"support\" + '\n",
      "  '0.013*\"server\" + 0.012*\"software\" + 0.012*\"using\" + 0.011*\"requirement\" + '\n",
      "  '0.011*\"testing\" + 0.010*\"create\"'),\n",
      " (5,\n",
      "  '0.052*\"company\" + 0.045*\"great\" + 0.043*\"place\" + 0.032*\"environment\" + '\n",
      "  '0.032*\"learn\" + 0.030*\"opportunity\" + 0.028*\"culture\" + 0.027*\"management\" '\n",
      "  '+ 0.025*\"balance\" + 0.025*\"working\"')]\n"
     ]
    }
   ],
   "source": [
    "# Select the model and print the topics\n",
    "optimal_model = model_list[2]\n",
    "model_topics = optimal_model.show_topics(formatted=False)\n",
    "pprint(optimal_model.print_topics(num_words=10))"
   ]
  },
  {
   "cell_type": "code",
   "execution_count": 16,
   "metadata": {},
   "outputs": [
    {
     "data": {
      "text/html": [
       "\n",
       "<link rel=\"stylesheet\" type=\"text/css\" href=\"https://cdn.rawgit.com/bmabey/pyLDAvis/files/ldavis.v1.0.0.css\">\n",
       "\n",
       "\n",
       "<div id=\"ldavis_el84681799827120200468303588\"></div>\n",
       "<script type=\"text/javascript\">\n",
       "\n",
       "var ldavis_el84681799827120200468303588_data = {\"mdsDat\": {\"x\": [0.2225915749348263, 0.2094543589528764, -0.1662477491710717, -0.18192877489251344, 0.16475856860480081, -0.24862797842891837], \"y\": [0.2587324367145474, -0.29491853891897385, -0.004692961320997059, 0.03769852312814319, 0.02672882370639856, -0.023548283309118033], \"topics\": [1, 2, 3, 4, 5, 6], \"cluster\": [1, 1, 1, 1, 1, 1], \"Freq\": [10.508017539978027, 7.7851176261901855, 15.71906852722168, 26.7060489654541, 14.087035179138184, 25.194713592529297]}, \"tinfo\": {\"Term\": [\"project\", \"learn\", \"company\", \"great\", \"place\", \"customer\", \"technology\", \"worker\", \"opportunity\", \"balance\", \"working\", \"environment\", \"employee\", \"enjoyable\", \"system\", \"hard\", \"culture\", \"career\", \"learning\", \"software\", \"management\", \"process\", \"application\", \"genpact\", \"development\", \"enjoy\", \"skill\", \"friendly\", \"developer\", \"fresher\", \"customer\", \"wipro\", \"call\", \"mahindra\", \"account\", \"phone\", \"email\", \"night\", \"answer\", \"payment\", \"appreciation\", \"trouble\", \"mobile\", \"payroll\", \"telecom\", \"credit\", \"provider\", \"supply\", \"correct\", \"incident\", \"storage\", \"invoice\", \"resolving\", \"timely\", \"floor\", \"fix\", \"website\", \"portal\", \"turnover\", \"depot\", \"order\", \"service\", \"sales\", \"check\", \"lunch\", \"receive\", \"assist\", \"services\", \"equipment\", \"office\", \"vendor\", \"shift\", \"client\", \"daily\", \"need\", \"department\", \"provide\", \"information\", \"issue\", \"meeting\", \"typical\", \"ensure\", \"process\", \"developer\", \"genpact\", \"timing\", \"agile\", \"capgemini\", \"latest\", \"hike\", \"release\", \"healthy\", \"appraisal\", \"automation\", \"framework\", \"increment\", \"outing\", \"offshore\", \"deploy\", \"certification\", \"consult\", \"cloud\", \"ample\", \"initial\", \"analyst\", \"consultant\", \"sport\", \"javascript\", \"spring\", \"domain\", \"union\", \"starter\", \"walmart\", \"project\", \"methodology\", \"depend\", \"process\", \"technology\", \"base\", \"development\", \"follow\", \"software\", \"product\", \"market\", \"standard\", \"client\", \"quality\", \"work\", \"services\", \"india\", \"engineer\", \"service\", \"worker\", \"enjoyable\", \"hard\", \"join\", \"everyday\", \"deadline\", \"gain\", \"teach\", \"nature\", \"carrier\", \"at&t.\", \"technically\", \"ericsson\", \"language\", \"whenever\", \"finish\", \"intern\", \"face\", \"teammate\", \"confidence\", \"tight\", \"useful\", \"internship\", \"price\", \"boost\", \"total\", \"enthusiastic\", \"worry\", \"lovely\", \"political\", \"fujitsu\", \"helping\", \"typical\", \"guidance\", \"task\", \"learn\", \"enjoy\", \"complete\", \"member\", \"helpful\", \"challenge\", \"meeting\", \"handle\", \"different\", \"working\", \"skill\", \"every\", \"management\", \"help\", \"knowledge\", \"work\", \"client\", \"experience\", \"environment\", \"project\", \"friendly\", \"learning\", \"people\", \"manager\", \"technical\", \"manage\", \"position\", \"however\", \"still\", \"hire\", \"contractor\", \"treat\", \"another\", \"upper\", \"seem\", \"often\", \"money\", \"anything\", \"layoff\", \"raise\", \"worst\", \"someone\", \"outsource\", \"infosys\", \"reason\", \"direction\", \"constantly\", \"actually\", \"employment\", \"force\", \"unfortunately\", \"longer\", \"vacation\", \"week\", \"unless\", \"rather\", \"move\", \"contract\", \"change\", \"want\", \"never\", \"would\", \"expect\", \"little\", \"leave\", \"could\", \"though\", \"company\", \"going\", \"people\", \"employee\", \"manager\", \"department\", \"management\", \"great\", \"work\", \"benefit\", \"level\", \"family\", \"better\", \"place\", \"working\", \"hours\", \"office\", \"every\", \"culture\", \"experience\", \"system\", \"application\", \"server\", \"using\", \"requirement\", \"testing\", \"create\", \"store\", \"design\", \"network\", \"database\", \"production\", \"oracle\", \"responsible\", \"accenture\", \"troubleshoot\", \"procedure\", \"document\", \"user\", \"administration\", \"analysis\", \"maintenance\", \"hardware\", \"implementation\", \"script\", \"windows\", \"query\", \"access\", \"configure\", \"functional\", \"report\", \"involve\", \"business\", \"implement\", \"software\", \"develop\", \"support\", \"solution\", \"issue\", \"include\", \"development\", \"experience\", \"manage\", \"provide\", \"client\", \"process\", \"work\", \"management\", \"various\", \"fresher\", \"growth\", \"flexible\", \"give\", \"cooperative\", \"balance\", \"healthcare\", \"journey\", \"techmahindra\", \"competition\", \"beginner\", \"spirit\", \"equal\", \"motivating\", \"reduction\", \"superb\", \"comfort\", \"disappoint\", \"indeed\", \"allot\", \"oppurtunities\", \"curricular\", \"transparency\", \"techm\", \"behave\", \"strength\", \"waiting\", \"beautiful\", \"crowd\", \"performer\", \"opportunity\", \"cultural\", \"explore\", \"career\", \"facility\", \"place\", \"excellent\", \"curve\", \"culture\", \"environment\", \"great\", \"learning\", \"organisation\", \"provide\", \"friendly\", \"salary\", \"overall\", \"campus\", \"company\", \"training\", \"professional\", \"personal\", \"learn\", \"employee\", \"technology\", \"benefit\", \"workplace\", \"working\", \"management\", \"experience\", \"skill\", \"start\", \"supportive\", \"people\"], \"Freq\": [10648.0, 18087.0, 25962.0, 16596.0, 14493.0, 5214.0, 7502.0, 5454.0, 8448.0, 6716.0, 15917.0, 11644.0, 11688.0, 3797.0, 3452.0, 3567.0, 9654.0, 5501.0, 5858.0, 3176.0, 18716.0, 3507.0, 2507.0, 1912.0, 3221.0, 5008.0, 5498.0, 5157.0, 1695.0, 3128.0, 5213.39453125, 1379.442626953125, 1066.0067138671875, 1011.929931640625, 815.45361328125, 691.90234375, 533.1842041015625, 496.1255187988281, 396.44818115234375, 386.73895263671875, 344.4782409667969, 337.3750915527344, 331.9676208496094, 326.3854675292969, 328.6103820800781, 310.8120422363281, 288.1026306152344, 282.43463134765625, 280.49981689453125, 270.92913818359375, 261.25042724609375, 256.86865234375, 258.547119140625, 252.2548370361328, 247.3893585205078, 233.02462768554688, 229.1601104736328, 228.344482421875, 223.33058166503906, 237.0797576904297, 937.7741088867188, 1689.9776611328125, 744.5416259765625, 553.373291015625, 403.6786804199219, 462.32666015625, 453.3374938964844, 708.5341796875, 329.34075927734375, 967.3253173828125, 356.9385986328125, 490.2259826660156, 817.3943481445312, 503.2087707519531, 566.4998168945312, 536.5684204101562, 718.5735473632812, 415.1285400390625, 515.8819580078125, 454.3645935058594, 467.95452880859375, 377.1315002441406, 427.3966979980469, 1694.648681640625, 1910.9461669921875, 836.8265380859375, 760.6405639648438, 754.6747436523438, 591.1705932617188, 552.4466552734375, 516.9695434570312, 488.1337890625, 423.9552001953125, 398.5292663574219, 358.5565490722656, 352.34454345703125, 344.9295349121094, 341.5430908203125, 331.2705383300781, 307.360107421875, 293.94677734375, 289.3432922363281, 278.3653564453125, 266.49822998046875, 231.75698852539062, 213.5491485595703, 201.28163146972656, 194.61766052246094, 177.64598083496094, 1093.10595703125, 166.914794921875, 149.5509490966797, 179.369384765625, 8412.2822265625, 423.4569091796875, 1078.91015625, 1865.9833984375, 2965.339599609375, 1015.4169921875, 1543.1309814453125, 549.5003662109375, 1401.1256103515625, 1027.240478515625, 568.1697998046875, 537.38623046875, 1315.9620361328125, 529.3421630859375, 802.8755493164062, 531.3359375, 448.46014404296875, 443.48016357421875, 432.9940185546875, 5454.060546875, 3796.66748046875, 3567.142578125, 875.2581787109375, 825.15625, 780.1660766601562, 669.5941162109375, 513.2996826171875, 449.1727294921875, 432.1360778808594, 444.4347229003906, 379.2220153808594, 384.69757080078125, 337.4798583984375, 290.3351135253906, 269.03582763671875, 267.0965270996094, 266.89044189453125, 235.5263214111328, 173.05230712890625, 168.5338897705078, 153.73672485351562, 151.31338500976562, 151.8120880126953, 143.5114288330078, 147.18411254882812, 140.08518981933594, 134.29913330078125, 130.80967712402344, 127.517822265625, 161.26467895507812, 850.3372192382812, 2250.792724609375, 225.05401611328125, 1078.7987060546875, 9602.6611328125, 3131.691162109375, 1097.8033447265625, 1328.8804931640625, 1668.30615234375, 1989.974365234375, 1150.7908935546875, 683.616943359375, 2049.3515625, 6294.6767578125, 2542.176513671875, 1708.80810546875, 5159.3330078125, 1071.261474609375, 1380.6365966796875, 2157.96484375, 1635.64453125, 2072.629150390625, 2382.435791015625, 2235.578857421875, 1537.4210205078125, 1486.8983154296875, 1811.1505126953125, 1323.276123046875, 1078.1192626953125, 1039.13916015625, 2274.6611328125, 1688.665283203125, 1177.3319091796875, 991.9968872070312, 941.096923828125, 798.0393676757812, 796.3123779296875, 660.2037963867188, 638.17529296875, 623.6159057617188, 615.2235107421875, 603.4227905273438, 600.6453247070312, 583.2789306640625, 580.635498046875, 572.398681640625, 524.3001098632812, 527.087646484375, 500.7662658691406, 499.2357177734375, 496.1877136230469, 455.1608581542969, 429.92608642578125, 429.36077880859375, 411.44085693359375, 411.93328857421875, 396.5573425292969, 370.9413757324219, 356.58489990234375, 354.0148620605469, 831.29638671875, 1381.3958740234375, 2765.457763671875, 645.3865356445312, 1410.7823486328125, 3719.005859375, 1050.271484375, 1049.5802001953125, 722.5554809570312, 1388.794189453125, 890.5367431640625, 12210.37890625, 1141.67236328125, 5491.5478515625, 5799.52685546875, 3442.788818359375, 1434.100830078125, 5415.97265625, 4710.43994140625, 2612.99462890625, 2234.70654296875, 1375.4248046875, 1047.5201416015625, 1219.127685546875, 2990.467041015625, 2376.128662109375, 1273.3377685546875, 1238.349365234375, 1150.71826171875, 1411.827880859375, 1212.2880859375, 3451.51904296875, 2507.076171875, 1912.8995361328125, 1755.999755859375, 1659.6632080078125, 1642.184814453125, 1532.393798828125, 1503.20654296875, 1363.977783203125, 1124.2735595703125, 1109.759033203125, 887.716552734375, 808.0966796875, 678.9482421875, 679.541748046875, 637.7548828125, 565.2251586914062, 544.6087036132812, 524.9406127929688, 512.9561157226562, 505.35595703125, 489.603271484375, 486.7091979980469, 455.5943298339844, 444.5447692871094, 444.3597717285156, 446.23565673828125, 434.94586181640625, 423.8279724121094, 418.0716247558594, 1190.982177734375, 1170.3524169921875, 2119.713134765625, 740.78369140625, 1773.2718505859375, 1196.85302734375, 2007.5516357421875, 748.8639526367188, 1279.620849609375, 846.3525390625, 1192.7830810546875, 1429.8536376953125, 846.2321166992188, 1118.2391357421875, 955.8847045898438, 870.634521484375, 931.8760375976562, 894.5888671875, 751.546630859375, 3128.128662109375, 3023.5224609375, 2169.03662109375, 742.6998291015625, 561.28955078125, 6702.0185546875, 298.5739440917969, 201.56321716308594, 224.63597106933594, 186.34291076660156, 180.3463897705078, 157.37147521972656, 154.12234497070312, 155.45388793945312, 127.02963256835938, 120.26972961425781, 118.84466552734375, 119.8848648071289, 115.9515380859375, 115.48554229736328, 112.48143005371094, 112.04698944091797, 111.28211975097656, 167.65066528320312, 107.07581329345703, 102.49182891845703, 104.4408950805664, 98.75435638427734, 93.56989288330078, 94.53984832763672, 7891.75927734375, 298.0189208984375, 766.0311279296875, 4864.8544921875, 1075.6939697265625, 11502.7978515625, 2506.381103515625, 236.0508575439453, 7343.69140625, 8583.01171875, 11885.58203125, 4370.9267578125, 612.50146484375, 4135.7216796875, 3619.88671875, 2679.389892578125, 2026.3377685546875, 554.3872680664062, 13751.6865234375, 3064.445068359375, 1706.84521484375, 1069.9542236328125, 8484.494140625, 5846.64453125, 3877.54638671875, 2814.024658203125, 1582.2816162109375, 6603.48681640625, 7112.98291015625, 3866.099365234375, 2795.3671875, 2351.088623046875, 1530.738037109375, 2834.524658203125], \"Total\": [10648.0, 18087.0, 25962.0, 16596.0, 14493.0, 5214.0, 7502.0, 5454.0, 8448.0, 6716.0, 15917.0, 11644.0, 11688.0, 3797.0, 3452.0, 3567.0, 9654.0, 5501.0, 5858.0, 3176.0, 18716.0, 3507.0, 2507.0, 1912.0, 3221.0, 5008.0, 5498.0, 5157.0, 1695.0, 3128.0, 5214.23291015625, 1380.3990478515625, 1066.8455810546875, 1012.92724609375, 816.3045654296875, 692.73974609375, 534.0206298828125, 496.96307373046875, 397.2857971191406, 387.5769958496094, 345.31744384765625, 338.2177429199219, 332.8140563964844, 327.2235412597656, 329.4580078125, 311.6510314941406, 288.9387512207031, 283.27154541015625, 281.3443603515625, 271.773193359375, 262.09271240234375, 257.7034606933594, 259.38763427734375, 253.09274291992188, 248.22760009765625, 233.8673858642578, 230.00718688964844, 229.18946838378906, 224.17218017578125, 237.99356079101562, 988.9443969726562, 2259.241455078125, 1009.0120849609375, 752.9385986328125, 538.0042724609375, 686.2737426757812, 686.4969482421875, 1658.802490234375, 405.3053894042969, 3092.778076171875, 475.9022521972656, 1219.15576171875, 4725.2177734375, 1557.947998046875, 2417.15478515625, 2043.6312255859375, 5973.0390625, 946.4172973632812, 3205.4677734375, 1762.3709716796875, 2719.421630859375, 701.8952026367188, 3507.363525390625, 1695.487548828125, 1912.013671875, 837.6583251953125, 761.4724731445312, 755.6994018554688, 592.0018920898438, 553.276611328125, 517.8074951171875, 488.96630859375, 424.7861328125, 399.3638916015625, 359.3921203613281, 353.1746520996094, 345.7635192871094, 342.37725830078125, 332.1131591796875, 308.1932678222656, 294.777587890625, 290.1791687011719, 279.1976318359375, 267.332275390625, 232.59295654296875, 214.3820037841797, 202.11505126953125, 195.45480346679688, 178.47769165039062, 1098.5380859375, 167.76914978027344, 150.3875274658203, 180.403564453125, 10648.53125, 455.2544250488281, 1672.3682861328125, 3507.363525390625, 7502.0048828125, 1789.531982421875, 3221.537109375, 802.7948608398438, 3176.667724609375, 2249.348388671875, 910.9308471679688, 832.2256469726562, 4725.2177734375, 1395.872802734375, 6506.04638671875, 1658.802490234375, 893.2142333984375, 1038.61669921875, 2259.241455078125, 5454.90380859375, 3797.510009765625, 3567.985107421875, 876.1051025390625, 825.9992065429688, 781.0114135742188, 670.436767578125, 514.1424560546875, 450.01556396484375, 432.9812316894531, 445.3738098144531, 380.06488037109375, 385.5812072753906, 338.32666015625, 291.18310546875, 269.8829345703125, 267.9389343261719, 267.73388671875, 236.3696746826172, 173.89450073242188, 169.37686157226562, 154.58238220214844, 152.15463256835938, 152.69522094726562, 144.35775756835938, 148.0564422607422, 140.9281768798828, 135.14724731445312, 131.65707397460938, 128.36495971679688, 163.14529418945312, 916.8565063476562, 2719.421630859375, 235.03610229492188, 1347.1246337890625, 18087.833984375, 5008.96240234375, 1524.341064453125, 1945.6622314453125, 2603.4990234375, 3246.39892578125, 1762.3709716796875, 939.7653198242188, 3745.621337890625, 15917.693359375, 5498.15673828125, 3434.557373046875, 18716.4609375, 1941.07763671875, 2938.998046875, 6506.04638671875, 4725.2177734375, 8581.21484375, 11644.5751953125, 10648.53125, 5157.986328125, 5858.50439453125, 10137.7353515625, 6586.2880859375, 2697.687744140625, 2322.7705078125, 2275.501953125, 1689.5048828125, 1178.1734619140625, 992.8363647460938, 941.9369506835938, 798.8782958984375, 797.15380859375, 661.043212890625, 639.0132446289062, 624.456787109375, 616.0630493164062, 604.26220703125, 601.4824829101562, 584.1209716796875, 581.4744873046875, 573.2396850585938, 525.1452026367188, 527.94580078125, 501.60491943359375, 500.0754699707031, 497.02886962890625, 456.0007019042969, 430.7672119140625, 430.2008056640625, 412.2790832519531, 412.77301025390625, 397.3971862792969, 371.7838134765625, 357.42315673828125, 354.8555908203125, 889.533203125, 1557.84814453125, 3343.924072265625, 681.2667846679688, 1642.9501953125, 5030.02099609375, 1201.063720703125, 1209.9205322265625, 785.0238037109375, 1716.4132080078125, 1015.718505859375, 25962.7421875, 1387.8900146484375, 10137.7353515625, 11688.3466796875, 6586.2880859375, 2043.6312255859375, 18716.4609375, 16596.69921875, 6506.04638671875, 5049.40576171875, 2434.197021484375, 1574.978515625, 2130.576416015625, 14493.94140625, 15917.693359375, 3069.320068359375, 3092.778076171875, 3434.557373046875, 9654.69140625, 8581.21484375, 3452.357177734375, 2507.912109375, 1913.733642578125, 1756.836181640625, 1660.50146484375, 1643.0211181640625, 1533.2318115234375, 1504.0723876953125, 1364.8138427734375, 1125.1124267578125, 1110.593994140625, 888.5545043945312, 808.9334716796875, 679.7868041992188, 680.4207153320312, 638.590087890625, 566.0650634765625, 545.4453125, 525.7764282226562, 513.7920532226562, 506.1904602050781, 490.439697265625, 487.54547119140625, 456.43084716796875, 445.3788757324219, 445.1950988769531, 447.0755920410156, 435.7853088378906, 424.6615905761719, 418.908935546875, 1427.900146484375, 1454.85888671875, 3352.045166015625, 892.8280029296875, 3176.667724609375, 1863.2379150390625, 4558.0400390625, 1052.4853515625, 3205.4677734375, 1496.8125, 3221.537109375, 8581.21484375, 2322.7705078125, 5973.0390625, 4725.2177734375, 3507.363525390625, 6506.04638671875, 18716.4609375, 1836.2391357421875, 3128.969482421875, 3024.363525390625, 2169.8798828125, 743.5429077148438, 562.1372680664062, 6716.83984375, 299.42596435546875, 202.41107177734375, 225.657470703125, 187.19688415527344, 181.18666076660156, 158.21949768066406, 154.96275329589844, 156.30181884765625, 127.91482543945312, 121.10934448242188, 119.68968963623047, 120.7404556274414, 116.7970199584961, 116.34510803222656, 113.3220443725586, 112.88648223876953, 112.12655639648438, 168.94064331054688, 107.9290542602539, 103.34496307373047, 105.33110046386719, 99.59944915771484, 94.4133529663086, 95.39295959472656, 8448.560546875, 305.47802734375, 808.8138427734375, 5501.46435546875, 1188.7322998046875, 14493.94140625, 2940.787841796875, 247.71827697753906, 9654.69140625, 11644.5751953125, 16596.69921875, 5858.50439453125, 722.3776245117188, 5973.0390625, 5157.986328125, 3827.86474609375, 2797.61962890625, 652.7521362304688, 25962.7421875, 4871.3837890625, 2539.3291015625, 1479.926025390625, 18087.833984375, 11688.3466796875, 7502.0048828125, 5049.40576171875, 2454.174560546875, 15917.693359375, 18716.4609375, 8581.21484375, 5498.15673828125, 4311.2236328125, 2564.33154296875, 10137.7353515625], \"Category\": [\"Default\", \"Default\", \"Default\", \"Default\", \"Default\", \"Default\", \"Default\", \"Default\", \"Default\", \"Default\", \"Default\", \"Default\", \"Default\", \"Default\", \"Default\", \"Default\", \"Default\", \"Default\", \"Default\", \"Default\", \"Default\", \"Default\", \"Default\", \"Default\", \"Default\", \"Default\", \"Default\", \"Default\", \"Default\", \"Default\", \"Topic1\", \"Topic1\", \"Topic1\", \"Topic1\", \"Topic1\", \"Topic1\", \"Topic1\", \"Topic1\", \"Topic1\", \"Topic1\", \"Topic1\", \"Topic1\", \"Topic1\", \"Topic1\", \"Topic1\", \"Topic1\", \"Topic1\", \"Topic1\", \"Topic1\", \"Topic1\", \"Topic1\", \"Topic1\", \"Topic1\", \"Topic1\", \"Topic1\", \"Topic1\", \"Topic1\", \"Topic1\", \"Topic1\", \"Topic1\", \"Topic1\", \"Topic1\", \"Topic1\", \"Topic1\", \"Topic1\", \"Topic1\", \"Topic1\", \"Topic1\", \"Topic1\", \"Topic1\", \"Topic1\", \"Topic1\", \"Topic1\", \"Topic1\", \"Topic1\", \"Topic1\", \"Topic1\", \"Topic1\", \"Topic1\", \"Topic1\", \"Topic1\", \"Topic1\", \"Topic1\", \"Topic2\", \"Topic2\", \"Topic2\", \"Topic2\", \"Topic2\", \"Topic2\", \"Topic2\", \"Topic2\", \"Topic2\", \"Topic2\", \"Topic2\", \"Topic2\", \"Topic2\", \"Topic2\", \"Topic2\", \"Topic2\", \"Topic2\", \"Topic2\", \"Topic2\", \"Topic2\", \"Topic2\", \"Topic2\", \"Topic2\", \"Topic2\", \"Topic2\", \"Topic2\", \"Topic2\", \"Topic2\", \"Topic2\", \"Topic2\", \"Topic2\", \"Topic2\", \"Topic2\", \"Topic2\", \"Topic2\", \"Topic2\", \"Topic2\", \"Topic2\", \"Topic2\", \"Topic2\", \"Topic2\", \"Topic2\", \"Topic2\", \"Topic2\", \"Topic2\", \"Topic2\", \"Topic2\", \"Topic2\", \"Topic2\", \"Topic3\", \"Topic3\", \"Topic3\", \"Topic3\", \"Topic3\", \"Topic3\", \"Topic3\", \"Topic3\", \"Topic3\", \"Topic3\", \"Topic3\", \"Topic3\", \"Topic3\", \"Topic3\", \"Topic3\", \"Topic3\", \"Topic3\", \"Topic3\", \"Topic3\", \"Topic3\", \"Topic3\", \"Topic3\", \"Topic3\", \"Topic3\", \"Topic3\", \"Topic3\", \"Topic3\", \"Topic3\", \"Topic3\", \"Topic3\", \"Topic3\", \"Topic3\", \"Topic3\", \"Topic3\", \"Topic3\", \"Topic3\", \"Topic3\", \"Topic3\", \"Topic3\", \"Topic3\", \"Topic3\", \"Topic3\", \"Topic3\", \"Topic3\", \"Topic3\", \"Topic3\", \"Topic3\", \"Topic3\", \"Topic3\", \"Topic3\", \"Topic3\", \"Topic3\", \"Topic3\", \"Topic3\", \"Topic3\", \"Topic3\", \"Topic3\", \"Topic3\", \"Topic3\", \"Topic3\", \"Topic3\", \"Topic4\", \"Topic4\", \"Topic4\", \"Topic4\", \"Topic4\", \"Topic4\", \"Topic4\", \"Topic4\", \"Topic4\", \"Topic4\", \"Topic4\", \"Topic4\", \"Topic4\", \"Topic4\", \"Topic4\", \"Topic4\", \"Topic4\", \"Topic4\", \"Topic4\", \"Topic4\", \"Topic4\", \"Topic4\", \"Topic4\", \"Topic4\", \"Topic4\", \"Topic4\", \"Topic4\", \"Topic4\", \"Topic4\", \"Topic4\", \"Topic4\", \"Topic4\", \"Topic4\", \"Topic4\", \"Topic4\", \"Topic4\", \"Topic4\", \"Topic4\", \"Topic4\", \"Topic4\", \"Topic4\", \"Topic4\", \"Topic4\", \"Topic4\", \"Topic4\", \"Topic4\", \"Topic4\", \"Topic4\", \"Topic4\", \"Topic4\", \"Topic4\", \"Topic4\", \"Topic4\", \"Topic4\", \"Topic4\", \"Topic4\", \"Topic4\", \"Topic4\", \"Topic4\", \"Topic4\", \"Topic4\", \"Topic5\", \"Topic5\", \"Topic5\", \"Topic5\", \"Topic5\", \"Topic5\", \"Topic5\", \"Topic5\", \"Topic5\", \"Topic5\", \"Topic5\", \"Topic5\", \"Topic5\", \"Topic5\", \"Topic5\", \"Topic5\", \"Topic5\", \"Topic5\", \"Topic5\", \"Topic5\", \"Topic5\", \"Topic5\", \"Topic5\", \"Topic5\", \"Topic5\", \"Topic5\", \"Topic5\", \"Topic5\", \"Topic5\", \"Topic5\", \"Topic5\", \"Topic5\", \"Topic5\", \"Topic5\", \"Topic5\", \"Topic5\", \"Topic5\", \"Topic5\", \"Topic5\", \"Topic5\", \"Topic5\", \"Topic5\", \"Topic5\", \"Topic5\", \"Topic5\", \"Topic5\", \"Topic5\", \"Topic5\", \"Topic5\", \"Topic6\", \"Topic6\", \"Topic6\", \"Topic6\", \"Topic6\", \"Topic6\", \"Topic6\", \"Topic6\", \"Topic6\", \"Topic6\", \"Topic6\", \"Topic6\", \"Topic6\", \"Topic6\", \"Topic6\", \"Topic6\", \"Topic6\", \"Topic6\", \"Topic6\", \"Topic6\", \"Topic6\", \"Topic6\", \"Topic6\", \"Topic6\", \"Topic6\", \"Topic6\", \"Topic6\", \"Topic6\", \"Topic6\", \"Topic6\", \"Topic6\", \"Topic6\", \"Topic6\", \"Topic6\", \"Topic6\", \"Topic6\", \"Topic6\", \"Topic6\", \"Topic6\", \"Topic6\", \"Topic6\", \"Topic6\", \"Topic6\", \"Topic6\", \"Topic6\", \"Topic6\", \"Topic6\", \"Topic6\", \"Topic6\", \"Topic6\", \"Topic6\", \"Topic6\", \"Topic6\", \"Topic6\", \"Topic6\", \"Topic6\", \"Topic6\", \"Topic6\", \"Topic6\", \"Topic6\", \"Topic6\", \"Topic6\", \"Topic6\", \"Topic6\"], \"logprob\": [30.0, 29.0, 28.0, 27.0, 26.0, 25.0, 24.0, 23.0, 22.0, 21.0, 20.0, 19.0, 18.0, 17.0, 16.0, 15.0, 14.0, 13.0, 12.0, 11.0, 10.0, 9.0, 8.0, 7.0, 6.0, 5.0, 4.0, 3.0, 2.0, 1.0, -3.058000087738037, -4.387599945068359, -4.645400047302246, -4.697400093078613, -4.913300037384033, -5.077600002288818, -5.338200092315674, -5.410200119018555, -5.634500026702881, -5.659299850463867, -5.775000095367432, -5.79580020904541, -5.811999797821045, -5.828999996185303, -5.822199821472168, -5.877799987792969, -5.953700065612793, -5.973599910736084, -5.980500221252441, -6.015200138092041, -6.051599979400635, -6.06850004196167, -6.061999797821045, -6.086599826812744, -6.106100082397461, -6.165900230407715, -6.182600021362305, -6.186200141906738, -6.208399772644043, -6.148600101470947, -4.773499965667725, -4.184599876403809, -5.004300117492676, -5.301000118255615, -5.616399765014648, -5.480800151824951, -5.500400066375732, -5.053800106048584, -5.819900035858154, -4.742499828338623, -5.739500045776367, -5.4222002029418945, -4.910900115966797, -5.395999908447266, -5.277599811553955, -5.3317999839782715, -5.03980016708374, -5.588399887084961, -5.371200084686279, -5.4980998039245605, -5.468699932098389, -5.6844000816345215, -5.559299945831299, -3.8819000720977783, -3.7618000507354736, -4.587500095367432, -4.6828999519348145, -4.690800189971924, -4.934999942779541, -5.002699851989746, -5.0690999031066895, -5.126500129699707, -5.267499923706055, -5.3292999267578125, -5.434999942779541, -5.452499866485596, -5.473800182342529, -5.48360013961792, -5.514200210571289, -5.589099884033203, -5.633699893951416, -5.649499893188477, -5.688199996948242, -5.7316999435424805, -5.871399879455566, -5.953199863433838, -6.012400150299072, -6.04610013961792, -6.13730001449585, -4.320300102233887, -6.1996002197265625, -6.309500217437744, -6.127699851989746, -2.2797000408172607, -5.268700122833252, -4.333399772644043, -3.785599946975708, -3.3224000930786133, -4.394100189208984, -3.9755001068115234, -5.0081000328063965, -4.0721001625061035, -4.382500171661377, -4.974699974060059, -5.030399799346924, -4.134799957275391, -5.045499801635742, -4.628900051116943, -5.0416998863220215, -5.211299896240234, -5.222499847412109, -5.246399879455566, -3.4156999588012695, -3.777899980545044, -3.8401999473571777, -5.245200157165527, -5.304200172424316, -5.360300064086914, -5.5131001472473145, -5.778900146484375, -5.912399768829346, -5.951000213623047, -5.922999858856201, -6.081600189208984, -6.067299842834473, -6.198299884796143, -6.348700046539307, -6.424900054931641, -6.432199954986572, -6.4328999519348145, -6.5578999519348145, -6.866199970245361, -6.892600059509277, -6.984499931335449, -7.000400066375732, -6.997099876403809, -7.053400039672852, -7.02810001373291, -7.077499866485596, -7.119699954986572, -7.145999908447266, -7.171500205993652, -6.936699867248535, -5.274099826812744, -4.3007001876831055, -6.603400230407715, -5.036200046539307, -2.8499999046325684, -3.970400094985962, -5.018700122833252, -4.827700138092041, -4.600200176239014, -4.423900127410889, -4.97160005569458, -5.492400169372559, -4.394499778747559, -3.2723000049591064, -4.178999900817871, -4.576200008392334, -3.4711999893188477, -5.0432000160217285, -4.7895002365112305, -4.342800140380859, -4.619999885559082, -4.383200168609619, -4.243899822235107, -4.307499885559082, -4.6819000244140625, -4.7153000831604, -4.51800012588501, -4.831900119781494, -5.036799907684326, -5.073599815368652, -4.820199966430664, -5.118100166320801, -5.478799819946289, -5.650100231170654, -5.702700138092041, -5.867599964141846, -5.869800090789795, -6.057199954986572, -6.09119987487793, -6.114200115203857, -6.127799987792969, -6.147200107574463, -6.151800155639648, -6.181099891662598, -6.185699939727783, -6.199900150299072, -6.287700176239014, -6.282400131225586, -6.333600044250488, -6.336699962615967, -6.342800140380859, -6.429100036621094, -6.486199855804443, -6.487500190734863, -6.530099868774414, -6.528900146484375, -6.566999912261963, -6.633699893951416, -6.6732001304626465, -6.6803998947143555, -5.8267998695373535, -5.318900108337402, -4.624800205230713, -6.079899787902832, -5.297900199890137, -4.32859992980957, -5.5929999351501465, -5.593599796295166, -5.9670000076293945, -5.313600063323975, -5.757999897003174, -3.139699935913086, -5.509500026702881, -3.938800096511841, -3.8842999935150146, -4.405700206756592, -5.281499862670898, -3.952699899673462, -4.092199802398682, -4.68149995803833, -4.837900161743164, -5.323299884796143, -5.595600128173828, -5.443900108337402, -4.546599864959717, -4.776599884033203, -5.400400161743164, -5.428199768066406, -5.5015997886657715, -5.297100067138672, -5.44950008392334, -3.7636001110076904, -4.0833001136779785, -4.353799819946289, -4.4394001960754395, -4.495800018310547, -4.506400108337402, -4.5756001472473145, -4.594799995422363, -4.691999912261963, -4.885300159454346, -4.898200035095215, -5.121500015258789, -5.2154998779296875, -5.389599800109863, -5.388700008392334, -5.452199935913086, -5.57289981842041, -5.610099792480469, -5.646900177001953, -5.670000076293945, -5.684899806976318, -5.716599941253662, -5.722499847412109, -5.78849983215332, -5.8130998611450195, -5.813499927520752, -5.809299945831299, -5.83489990234375, -5.860799789428711, -5.874499797821045, -4.827600002288818, -4.845099925994873, -4.251100063323975, -5.3024001121521, -4.429599761962891, -4.822700023651123, -4.305500030517578, -5.291600227355957, -4.755799770355225, -5.1691999435424805, -4.826099872589111, -4.644800186157227, -5.169400215148926, -4.890600204467773, -5.047500133514404, -5.140900135040283, -5.07289981842041, -5.113800048828125, -5.288000106811523, -4.443299770355225, -4.47730016708374, -4.809500217437744, -5.881199836730957, -6.161300182342529, -3.6814000606536865, -6.792500019073486, -7.185400009155273, -7.077000141143799, -7.263899803161621, -7.296599864959717, -7.4328999519348145, -7.453800201416016, -7.445199966430664, -7.64709997177124, -7.7017998695373535, -7.713699817657471, -7.704999923706055, -7.738399982452393, -7.742400169372559, -7.768700122833252, -7.772600173950195, -7.7795000076293945, -7.36959981918335, -7.817999839782715, -7.861700057983398, -7.842899799346924, -7.898900032043457, -7.9527997970581055, -7.942500114440918, -3.5179998874664307, -6.794400215148926, -5.850299835205078, -4.001699924468994, -5.510799884796143, -3.141200065612793, -4.664899826049805, -7.027500152587891, -3.589900016784668, -3.434000015258789, -3.1084001064300537, -4.108799934387207, -6.073999881744385, -4.164100170135498, -4.297299861907959, -4.598199844360352, -4.877500057220459, -6.173699855804443, -2.962599992752075, -4.463900089263916, -5.049099922180176, -5.516200065612793, -3.445499897003174, -3.8178999423980713, -4.228600025177002, -4.549200057983398, -5.124899864196777, -3.696199893951416, -3.621799945831299, -4.231500148773193, -4.555799961090088, -4.728899955749512, -5.1579999923706055, -4.541900157928467], \"loglift\": [30.0, 29.0, 28.0, 27.0, 26.0, 25.0, 24.0, 23.0, 22.0, 21.0, 20.0, 19.0, 18.0, 17.0, 16.0, 15.0, 14.0, 13.0, 12.0, 11.0, 10.0, 9.0, 8.0, 7.0, 6.0, 5.0, 4.0, 3.0, 2.0, 1.0, 2.2528998851776123, 2.2523000240325928, 2.25219988822937, 2.252000093460083, 2.252000093460083, 2.251800060272217, 2.251499891281128, 2.251300096511841, 2.2509000301361084, 2.2509000301361084, 2.2506000995635986, 2.250499963760376, 2.250499963760376, 2.250499963760376, 2.250499963760376, 2.2502999305725098, 2.2500998973846436, 2.2500998973846436, 2.25, 2.2499001026153564, 2.249799966812134, 2.249799966812134, 2.249799966812134, 2.2497000694274902, 2.2495999336242676, 2.2493999004364014, 2.249300003051758, 2.249300003051758, 2.249300003051758, 2.2492001056671143, 2.199899911880493, 1.9627000093460083, 1.9491000175476074, 1.945099949836731, 1.9658000469207764, 1.8580000400543213, 1.8380999565124512, 1.402400016784668, 2.0455000400543213, 1.0907000303268433, 1.965399980545044, 1.3420000076293945, 0.4984999895095825, 1.1229000091552734, 0.8022000193595886, 0.9157000184059143, 0.13529999554157257, 1.4289000034332275, 0.4262999892234802, 0.8974999785423279, 0.49320000410079956, 1.6318000555038452, 0.14810000360012054, 2.552500009536743, 2.5524001121520996, 2.552000045776367, 2.5518999099731445, 2.5515999794006348, 2.5515999794006348, 2.551500082015991, 2.551300048828125, 2.551300048828125, 2.5510001182556152, 2.5508999824523926, 2.550600051879883, 2.550600051879883, 2.55049991607666, 2.55049991607666, 2.5504000186920166, 2.5501999855041504, 2.550100088119507, 2.550100088119507, 2.549999952316284, 2.549799919128418, 2.5494000911712646, 2.549099922180176, 2.548799991607666, 2.5487000942230225, 2.54830002784729, 2.5480000972747803, 2.5478999614715576, 2.5473999977111816, 2.5471999645233154, 2.317199945449829, 2.480600118637085, 2.1147000789642334, 1.9219000339508057, 1.6247999668121338, 1.986299991607666, 1.8169000148773193, 2.1738998889923096, 1.7344000339508057, 1.7691999673843384, 2.080899953842163, 2.115600109100342, 1.2746000289916992, 1.583299994468689, 0.46070000529289246, 1.4144999980926514, 1.8638999462127686, 1.7020000219345093, 0.9009000062942505, 1.850100040435791, 1.850100040435791, 1.850100040435791, 1.8493000268936157, 1.8493000268936157, 1.8492000102996826, 1.8489999771118164, 1.8487000465393066, 1.8483999967575073, 1.8482999801635742, 1.8481999635696411, 1.848099946975708, 1.8480000495910645, 1.8478000164031982, 1.8473999500274658, 1.8472000360488892, 1.847100019454956, 1.847100019454956, 1.8466999530792236, 1.8453999757766724, 1.8452999591827393, 1.8447999954223633, 1.8447999954223633, 1.844499945640564, 1.8444000482559204, 1.8444000482559204, 1.8443000316619873, 1.843999981880188, 1.8437999486923218, 1.8437000513076782, 1.8387000560760498, 1.774999976158142, 1.6612000465393066, 1.8069000244140625, 1.6282000541687012, 1.2171000242233276, 1.3805999755859375, 1.5219999551773071, 1.468999981880188, 1.4052000045776367, 1.3609000444412231, 1.4241000413894653, 1.532099962234497, 1.2472000122070312, 0.9225999712944031, 1.0788999795913696, 1.1521999835968018, 0.5616999864578247, 1.2559000253677368, 1.0947999954223633, 0.7466999888420105, 0.7893999814987183, 0.429500013589859, 0.2635999917984009, 0.28940001130104065, 0.6399000287055969, 0.47909998893737793, 0.12800000607967377, 0.24539999663829803, 0.9330999851226807, 1.0458999872207642, 1.3199000358581543, 1.3198000192642212, 1.319599986076355, 1.3193999528884888, 1.3193999528884888, 1.319200038909912, 1.319200038909912, 1.319000005722046, 1.319000005722046, 1.3188999891281128, 1.3188999891281128, 1.3188999891281128, 1.3188999891281128, 1.3187999725341797, 1.3187999725341797, 1.3187999725341797, 1.3186999559402466, 1.3186999559402466, 1.318600058555603, 1.318600058555603, 1.318600058555603, 1.3184000253677368, 1.3183000087738037, 1.3183000087738037, 1.3181999921798706, 1.3181999921798706, 1.3181999921798706, 1.3179999589920044, 1.3178999423980713, 1.3178999423980713, 1.2525999546051025, 1.2000999450683594, 1.1303000450134277, 1.2661999464035034, 1.1678999662399292, 1.0183000564575195, 1.1861000061035156, 1.1780999898910522, 1.2374000549316406, 1.1085000038146973, 1.1887999773025513, 0.5659000277519226, 1.125, 0.7071999907493591, 0.6194999814033508, 0.6715999841690063, 0.9660999774932861, 0.08020000159740448, 0.0608999989926815, 0.40799999237060547, 0.5051000118255615, 0.7494000196456909, 0.9125000238418579, 0.7620000243186951, -0.257999986410141, -0.5817000269889832, 0.4404999911785126, 0.4050000011920929, 0.22679999470710754, -0.6022999882698059, -0.6367999911308289, 1.9596999883651733, 1.9595999717712402, 1.9594999551773071, 1.9594000577926636, 1.9594000577926636, 1.9594000577926636, 1.9594000577926636, 1.9593000411987305, 1.9593000411987305, 1.9592000246047974, 1.9592000246047974, 1.9589999914169312, 1.958899974822998, 1.9586999416351318, 1.9586000442504883, 1.9586000442504883, 1.958400011062622, 1.958400011062622, 1.958299994468689, 1.958299994468689, 1.958299994468689, 1.9581999778747559, 1.9581999778747559, 1.9580999612808228, 1.9579999446868896, 1.9579999446868896, 1.9579999446868896, 1.9579999446868896, 1.9579999446868896, 1.957900047302246, 1.778499960899353, 1.742300033569336, 1.5016000270843506, 1.7732000350952148, 1.3768999576568604, 1.517300009727478, 1.1398999691009521, 1.6196000576019287, 1.041599988937378, 1.389799952507019, 0.9663000106811523, 0.1678999960422516, 0.9502000212669373, 0.28439998626708984, 0.3619000017642975, 0.5665000081062317, 0.016599999740719795, -1.080899953842163, 1.06659996509552, 1.3782999515533447, 1.3782999515533447, 1.378100037574768, 1.3774000406265259, 1.3769999742507935, 1.3762999773025513, 1.3756999969482422, 1.3743000030517578, 1.3739999532699585, 1.3739999532699585, 1.373900055885315, 1.3732000589370728, 1.3731000423431396, 1.3731000423431396, 1.3716000318527222, 1.3716000318527222, 1.371500015258789, 1.371399998664856, 1.3712999820709229, 1.3710999488830566, 1.3710999488830566, 1.3710999488830566, 1.371000051498413, 1.37090003490448, 1.3705999851226807, 1.3702000379562378, 1.3700000047683716, 1.3700000047683716, 1.3696000576019287, 1.3696000576019287, 1.3104000091552734, 1.3538000583648682, 1.3242000341415405, 1.2555999755859375, 1.2785999774932861, 1.1474000215530396, 1.2187000513076782, 1.330299973487854, 1.1049000024795532, 1.0735000371932983, 1.044700026512146, 1.0856000185012817, 1.2135000228881836, 1.0109000205993652, 1.024399995803833, 1.0218000411987305, 1.055999994277954, 1.2151999473571777, 0.7429999709129333, 0.9150000214576721, 0.9812999963760376, 1.0542000532150269, 0.6215000152587891, 0.6858000159263611, 0.7185999751091003, 0.7939000129699707, 0.9395999908447266, 0.49869999289512634, 0.41110000014305115, 0.5812000036239624, 0.7020999789237976, 0.7721999883651733, 0.8626000285148621, 0.10409999638795853]}, \"token.table\": {\"Topic\": [5, 5, 1, 4, 5, 2, 6, 2, 5, 2, 4, 1, 4, 5, 2, 1, 1, 3, 5, 3, 2, 2, 6, 2, 4, 5, 6, 6, 6, 4, 6, 3, 4, 5, 6, 3, 2, 3, 4, 5, 1, 4, 6, 2, 4, 6, 3, 2, 3, 4, 6, 4, 5, 1, 5, 1, 2, 3, 5, 2, 6, 4, 6, 6, 1, 3, 5, 3, 5, 4, 2, 2, 1, 4, 4, 6, 1, 3, 4, 5, 1, 6, 1, 6, 3, 4, 6, 6, 5, 6, 1, 1, 3, 5, 5, 3, 1, 3, 4, 2, 4, 2, 1, 5, 3, 5, 6, 2, 2, 5, 6, 2, 3, 4, 5, 6, 4, 6, 5, 2, 5, 1, 1, 4, 6, 4, 2, 3, 4, 5, 3, 4, 6, 3, 1, 5, 3, 3, 4, 5, 6, 6, 1, 5, 3, 1, 3, 4, 6, 3, 3, 5, 6, 2, 4, 3, 4, 5, 6, 2, 6, 3, 1, 6, 3, 4, 6, 3, 1, 6, 1, 1, 2, 4, 2, 6, 3, 6, 1, 3, 5, 3, 2, 6, 3, 4, 4, 6, 6, 3, 5, 1, 3, 5, 3, 5, 6, 2, 3, 5, 6, 3, 6, 1, 3, 2, 4, 1, 3, 4, 6, 4, 5, 6, 5, 1, 1, 3, 4, 5, 2, 6, 2, 4, 6, 1, 5, 4, 2, 3, 3, 1, 3, 5, 1, 3, 4, 5, 2, 3, 6, 2, 3, 5, 6, 3, 2, 4, 3, 6, 3, 6, 4, 6, 2, 3, 4, 5, 6, 4, 6, 4, 3, 1, 6, 1, 5, 1, 3, 4, 5, 6, 2, 3, 4, 5, 6, 1, 2, 3, 4, 5, 6, 2, 4, 1, 3, 5, 3, 5, 6, 2, 5, 1, 4, 6, 4, 5, 3, 1, 3, 4, 5, 6, 5, 3, 4, 1, 1, 3, 4, 6, 2, 4, 4, 6, 6, 5, 1, 5, 2, 6, 2, 4, 4, 5, 6, 1, 1, 3, 4, 6, 6, 1, 4, 6, 1, 4, 6, 3, 1, 4, 3, 5, 1, 2, 4, 5, 1, 2, 4, 5, 5, 3, 4, 5, 6, 2, 3, 1, 5, 6, 1, 1, 2, 3, 4, 5, 6, 5, 4, 4, 4, 1, 4, 6, 2, 1, 5, 5, 1, 5, 2, 4, 6, 1, 4, 5, 5, 4, 5, 1, 2, 5, 1, 2, 5, 1, 3, 6, 3, 5, 6, 2, 3, 5, 1, 3, 5, 4, 6, 2, 2, 2, 4, 5, 1, 3, 4, 6, 2, 4, 1, 5, 6, 6, 1, 1, 2, 3, 4, 5, 6, 3, 6, 5, 3, 5, 3, 3, 6, 6, 3, 5, 6, 3, 2, 3, 6, 1, 5, 4, 6, 3, 1, 2, 3, 1, 2, 3, 4, 5, 6, 6, 4, 1, 5, 1, 1, 3, 4, 2, 4, 4, 3, 5, 5, 4, 2, 3, 5, 6, 1, 5, 6, 2, 3, 4, 1, 4, 3, 5, 1, 2, 3, 4, 5, 3, 2, 3, 4, 5, 6, 3, 6, 3, 4, 1, 3, 4, 6], \"Freq\": [0.9993816614151001, 0.9981979727745056, 0.9984018802642822, 0.9978054761886597, 0.9984584450721741, 0.9993795156478882, 0.9884386658668518, 0.9957104325294495, 0.9976481795310974, 0.9974506497383118, 0.9985525608062744, 0.9967635273933411, 0.9979111552238464, 0.9996362924575806, 0.9981493353843689, 0.9961848258972168, 0.6598718166351318, 0.15732043981552124, 0.1820838451385498, 0.9969154000282288, 0.9990888237953186, 0.002084313426166773, 0.9977906346321106, 0.5671874284744263, 0.20508155226707458, 0.22743377089500427, 0.9939814209938049, 0.9934506416320801, 0.9913920164108276, 0.44262632727622986, 0.5572932958602905, 0.01595812290906906, 0.5721456408500671, 0.023937184363603592, 0.3876885175704956, 0.9975217580795288, 0.10739712417125702, 0.005668181460350752, 0.25476983189582825, 0.6324496865272522, 0.9992073774337769, 0.15013355016708374, 0.8487141728401184, 0.9990745186805725, 0.11560558527708054, 0.8843100070953369, 0.9977337718009949, 0.9961282014846802, 0.6129869222640991, 0.06407099217176437, 0.32281923294067383, 0.8268728256225586, 0.1728508174419403, 0.7344556450843811, 0.2642977833747864, 0.17290207743644714, 0.27850568294525146, 0.3462274372577667, 0.2023187130689621, 0.995936393737793, 0.9942376613616943, 0.47028931975364685, 0.5296820998191833, 0.9936062693595886, 0.17450162768363953, 0.7203112244606018, 0.10496338456869125, 0.994856059551239, 0.9984420537948608, 0.9979299306869507, 0.9973621368408203, 0.9982181191444397, 0.11297634989023209, 0.8864791989326477, 0.9990053176879883, 0.9979768991470337, 0.9952216744422913, 0.19051356613636017, 0.8092457056045532, 0.9991965889930725, 0.9979110360145569, 0.9956218600273132, 0.022914905101060867, 0.9755202531814575, 0.09311535209417343, 0.1462501436471939, 0.7606664896011353, 0.9921471476554871, 0.04440528154373169, 0.9526951313018799, 0.999763548374176, 0.32286059856414795, 0.44866707921028137, 0.2278638333082199, 0.9994651675224304, 0.9987049698829651, 0.2627675533294678, 0.03523140400648117, 0.7016921639442444, 0.6451928019523621, 0.35458695888519287, 0.9966482520103455, 0.9958252906799316, 0.999403715133667, 0.08318851888179779, 0.6424300074577332, 0.2742537558078766, 0.9997124671936035, 0.4789639115333557, 0.3703201115131378, 0.1505492478609085, 0.012014027684926987, 0.547038733959198, 0.14283344149589539, 0.09344244003295898, 0.20423847436904907, 0.9978494048118591, 0.9938673973083496, 0.9991835951805115, 0.9949586987495422, 0.004551503341645002, 0.9980887770652771, 0.0035933225881308317, 0.49622073769569397, 0.5002418160438538, 0.9982189536094666, 0.4265288710594177, 0.08665371686220169, 0.24840733408927917, 0.2368534952402115, 0.6252791881561279, 0.15272624790668488, 0.2220020592212677, 0.999865710735321, 0.5371172428131104, 0.4616073668003082, 0.9934138059616089, 0.20455877482891083, 0.0002576306869741529, 0.05805278196930885, 0.7370814085006714, 0.9937871694564819, 0.811733603477478, 0.18504564464092255, 0.9984926581382751, 0.0005823166575282812, 0.4975895881652832, 0.3351232409477234, 0.16683372855186462, 0.9987903237342834, 0.10881438106298447, 0.03876512125134468, 0.8521525859832764, 0.12488929182291031, 0.8742250800132751, 0.24157418310642242, 0.1412387490272522, 0.16664306819438934, 0.45051896572113037, 0.05192789435386658, 0.9470658898353577, 0.9972589015960693, 0.09421801567077637, 0.90516597032547, 0.09904897212982178, 0.6654059290885925, 0.23555876314640045, 0.9967284798622131, 0.9962911009788513, 0.999594509601593, 0.9950545430183411, 0.3151490092277527, 0.6851065158843994, 0.9972087144851685, 0.9989089369773865, 0.9996901750564575, 0.2979845106601715, 0.7018242478370667, 0.006129505578428507, 0.986850380897522, 0.9978302121162415, 0.999348521232605, 0.9994698166847229, 0.9992698431015015, 0.17724747955799103, 0.8228317499160767, 0.28379136323928833, 0.7161664962768555, 0.999879777431488, 0.9572997689247131, 0.038291990756988525, 0.09151221066713333, 0.7278412580490112, 0.18089622259140015, 0.9997239112854004, 0.9988811612129211, 0.9985774159431458, 0.9980237483978271, 0.5517553687095642, 0.02833477593958378, 0.41986986994743347, 0.6406762599945068, 0.3591320812702179, 0.07198509573936462, 0.9270807504653931, 0.9976926445960999, 0.9991576075553894, 0.0003258050710428506, 0.2404441386461258, 0.4147498309612274, 0.34437593817710876, 0.9997011423110962, 0.8299471139907837, 0.1691255271434784, 0.9990560412406921, 0.9971550107002258, 0.2451876848936081, 0.06012777239084244, 0.1289406716823578, 0.5652010440826416, 0.9966740012168884, 0.9931760430335999, 0.5015593767166138, 0.3437025249004364, 0.1533786505460739, 0.43849578499794006, 0.561063289642334, 0.9982085227966309, 0.9950163960456848, 0.9964957237243652, 0.9924114346504211, 0.9972702860832214, 0.19520793855190277, 0.8042017221450806, 0.16097494959831238, 0.3110310435295105, 0.1285303831100464, 0.3993176817893982, 0.9976730942726135, 0.9987386465072632, 0.9979691505432129, 0.038448479026556015, 0.46988803148269653, 0.15515491366386414, 0.33650922775268555, 0.9960787892341614, 0.9983076453208923, 0.9991978406906128, 0.5309093594551086, 0.46904456615448, 0.2538190484046936, 0.7460948824882507, 0.9209911823272705, 0.07897849380970001, 0.034508299082517624, 0.04354618862271309, 0.5648679733276367, 0.19102808833122253, 0.16555768251419067, 0.8678255677223206, 0.13224008679389954, 0.998127281665802, 0.995009183883667, 0.7509233951568604, 0.24906864762306213, 0.9990845918655396, 0.9991034865379333, 0.027122782543301582, 0.4473106563091278, 0.12485090643167496, 0.3642202317714691, 0.03616371005773544, 0.007106044329702854, 0.27563971281051636, 0.28937095403671265, 0.0478188693523407, 0.380039781332016, 0.015638550743460655, 0.03993144631385803, 0.20087186992168427, 0.5227527022361755, 0.03841313719749451, 0.18234853446483612, 0.6235380172729492, 0.3754401206970215, 0.25760751962661743, 0.6530974507331848, 0.08908453583717346, 0.6830579042434692, 0.15932878851890564, 0.15727293491363525, 0.9291507601737976, 0.06809379160404205, 0.9975540041923523, 0.9982744455337524, 0.9916711449623108, 0.9341978430747986, 0.0652027353644371, 0.9977432489395142, 0.23415960371494293, 0.16507010161876678, 0.43232646584510803, 0.05047256499528885, 0.11790721863508224, 0.9990112781524658, 0.14060072600841522, 0.858820915222168, 0.9980620741844177, 0.31266388297080994, 0.15164360404014587, 0.40028735995292664, 0.13515357673168182, 0.9988981485366821, 0.9992685317993164, 0.06581002473831177, 0.9341236352920532, 0.9883337616920471, 0.9988460540771484, 0.9484860897064209, 0.051570139825344086, 0.15089060366153717, 0.8485866189002991, 0.9977917671203613, 0.9978192448616028, 0.2662978172302246, 0.009293614886701107, 0.7241870760917664, 0.9985112547874451, 0.9962608218193054, 0.1786395013332367, 0.5417383313179016, 0.2796482443809509, 0.9958806037902832, 0.11757344752550125, 0.15879172086715698, 0.7230091094970703, 0.9989321231842041, 0.20629309117794037, 0.793641984462738, 0.9971568584442139, 0.9948101043701172, 0.9997794032096863, 0.9954469799995422, 0.9981184601783752, 0.12174386531114578, 0.532023549079895, 0.09779425710439682, 0.24833467602729797, 0.1573789119720459, 0.4565766751766205, 0.133371964097023, 0.25251758098602295, 0.9993759393692017, 0.21659263968467712, 0.08191139996051788, 0.029141554608941078, 0.6722248196601868, 0.7899680733680725, 0.2099820077419281, 0.12037423253059387, 0.18717439472675323, 0.6924448013305664, 0.9967510104179382, 0.07522175461053848, 0.3789743483066559, 0.040834665298461914, 0.14113034307956696, 0.25288838148117065, 0.11104163527488708, 0.9975941777229309, 0.9980809092521667, 0.9975889325141907, 0.9987940192222595, 0.6732007265090942, 0.3249432146549225, 0.9928481578826904, 0.9984405636787415, 0.1652776598930359, 0.8340919613838196, 0.9996979832649231, 0.9985055923461914, 0.9988425970077515, 0.03997006267309189, 0.25993603467941284, 0.6998679637908936, 0.7383459806442261, 0.18037444353103638, 0.08126761019229889, 0.9991493225097656, 0.9984143376350403, 0.9996166229248047, 0.7480387091636658, 0.19165724515914917, 0.060197196900844574, 0.42741677165031433, 0.3201104402542114, 0.2519890069961548, 0.4019174575805664, 0.3215339779853821, 0.2756005525588989, 0.46233677864074707, 0.029100662097334862, 0.5083521604537964, 0.4410281777381897, 0.000629590533208102, 0.5581320524215698, 0.22138075530529022, 0.06650923937559128, 0.7116488814353943, 0.9978374242782593, 0.9922923445701599, 0.9944831132888794, 0.9973235130310059, 0.6452577114105225, 0.21388429403305054, 0.13938526809215546, 0.023427223786711693, 0.2189633548259735, 0.21223673224449158, 0.5453208088874817, 0.9974231123924255, 0.9990040063858032, 0.9958308339118958, 0.9992870092391968, 0.9869856834411621, 0.9908401370048523, 0.9955112338066101, 0.03905187174677849, 0.01250537484884262, 0.20052479207515717, 0.09762968122959137, 0.44054022431373596, 0.20973926782608032, 0.4028340280056, 0.5970366597175598, 0.9998965263366699, 0.8009652495384216, 0.19894224405288696, 0.9977779388427734, 0.9984360337257385, 0.9944320917129517, 0.9970864057540894, 0.39960145950317383, 0.2702314257621765, 0.3299121558666229, 0.9971981644630432, 0.39522767066955566, 0.08784318715333939, 0.516928493976593, 0.9986098408699036, 0.999378502368927, 0.8772115707397461, 0.12306559085845947, 0.9977750182151794, 0.995682418346405, 0.9992141127586365, 0.9928646087646484, 0.05316764488816261, 0.04187721759080887, 0.10243496298789978, 0.15724484622478485, 0.016217157244682312, 0.6289793848991394, 0.989952802658081, 0.9989005923271179, 0.9963995218276978, 0.9990759491920471, 0.9947710633277893, 0.1720954179763794, 0.8277495503425598, 0.9968975186347961, 0.995415449142456, 0.9988160729408264, 0.998421847820282, 0.9962325692176819, 0.9985232949256897, 0.9995240569114685, 0.9990005493164062, 0.19115157425403595, 0.20313258469104767, 0.40953272581100464, 0.19659748673439026, 0.7501540184020996, 0.24795007705688477, 0.9873626828193665, 0.992219865322113, 0.0513748824596405, 0.946765661239624, 0.9956210851669312, 0.9978917241096497, 0.995936930179596, 0.9973155856132507, 0.9989864826202393, 0.12342365086078644, 0.3316914439201355, 0.4016264081001282, 0.14325135946273804, 0.9998342990875244, 0.0002512926876079291, 0.39547187089920044, 0.14926785230636597, 0.04020683094859123, 0.41482141613960266, 0.35490548610687256, 0.6446159482002258, 0.9915111064910889, 0.9991840124130249, 0.02683885395526886, 0.14314055442810059, 0.7393607497215271, 0.09065568447113037], \"Term\": [\"accenture\", \"access\", \"account\", \"actually\", \"administration\", \"agile\", \"allot\", \"ample\", \"analysis\", \"analyst\", \"another\", \"answer\", \"anything\", \"application\", \"appraisal\", \"appreciation\", \"assist\", \"assist\", \"assist\", \"at&t.\", \"automation\", \"balance\", \"balance\", \"base\", \"base\", \"base\", \"beautiful\", \"beginner\", \"behave\", \"benefit\", \"benefit\", \"better\", \"better\", \"better\", \"better\", \"boost\", \"business\", \"business\", \"business\", \"business\", \"call\", \"campus\", \"campus\", \"capgemini\", \"career\", \"career\", \"carrier\", \"certification\", \"challenge\", \"challenge\", \"challenge\", \"change\", \"change\", \"check\", \"check\", \"client\", \"client\", \"client\", \"client\", \"cloud\", \"comfort\", \"company\", \"company\", \"competition\", \"complete\", \"complete\", \"complete\", \"confidence\", \"configure\", \"constantly\", \"consult\", \"consultant\", \"contract\", \"contract\", \"contractor\", \"cooperative\", \"correct\", \"could\", \"could\", \"create\", \"credit\", \"crowd\", \"cultural\", \"cultural\", \"culture\", \"culture\", \"culture\", \"curricular\", \"curve\", \"curve\", \"customer\", \"daily\", \"daily\", \"daily\", \"database\", \"deadline\", \"department\", \"department\", \"department\", \"depend\", \"depend\", \"deploy\", \"depot\", \"design\", \"develop\", \"develop\", \"develop\", \"developer\", \"development\", \"development\", \"development\", \"different\", \"different\", \"different\", \"different\", \"different\", \"direction\", \"disappoint\", \"document\", \"domain\", \"domain\", \"email\", \"employee\", \"employee\", \"employee\", \"employment\", \"engineer\", \"engineer\", \"engineer\", \"engineer\", \"enjoy\", \"enjoy\", \"enjoy\", \"enjoyable\", \"ensure\", \"ensure\", \"enthusiastic\", \"environment\", \"environment\", \"environment\", \"environment\", \"equal\", \"equipment\", \"equipment\", \"ericsson\", \"every\", \"every\", \"every\", \"every\", \"everyday\", \"excellent\", \"excellent\", \"excellent\", \"expect\", \"expect\", \"experience\", \"experience\", \"experience\", \"experience\", \"explore\", \"explore\", \"face\", \"facility\", \"facility\", \"family\", \"family\", \"family\", \"finish\", \"fix\", \"flexible\", \"floor\", \"follow\", \"follow\", \"force\", \"framework\", \"fresher\", \"friendly\", \"friendly\", \"fujitsu\", \"fujitsu\", \"functional\", \"gain\", \"genpact\", \"give\", \"going\", \"going\", \"great\", \"great\", \"growth\", \"guidance\", \"guidance\", \"handle\", \"handle\", \"handle\", \"hard\", \"hardware\", \"healthcare\", \"healthy\", \"help\", \"help\", \"help\", \"helpful\", \"helpful\", \"helping\", \"helping\", \"hike\", \"hire\", \"hours\", \"hours\", \"hours\", \"hours\", \"however\", \"implement\", \"implement\", \"implementation\", \"incident\", \"include\", \"include\", \"include\", \"include\", \"increment\", \"indeed\", \"india\", \"india\", \"india\", \"information\", \"information\", \"infosys\", \"initial\", \"intern\", \"internship\", \"invoice\", \"involve\", \"involve\", \"issue\", \"issue\", \"issue\", \"issue\", \"javascript\", \"join\", \"journey\", \"knowledge\", \"knowledge\", \"knowledge\", \"knowledge\", \"language\", \"latest\", \"layoff\", \"learn\", \"learn\", \"learning\", \"learning\", \"leave\", \"leave\", \"level\", \"level\", \"level\", \"level\", \"level\", \"little\", \"little\", \"longer\", \"lovely\", \"lunch\", \"lunch\", \"mahindra\", \"maintenance\", \"manage\", \"manage\", \"manage\", \"manage\", \"manage\", \"management\", \"management\", \"management\", \"management\", \"management\", \"manager\", \"manager\", \"manager\", \"manager\", \"manager\", \"manager\", \"market\", \"market\", \"meeting\", \"meeting\", \"meeting\", \"member\", \"member\", \"member\", \"methodology\", \"methodology\", \"mobile\", \"money\", \"motivating\", \"move\", \"move\", \"nature\", \"need\", \"need\", \"need\", \"need\", \"need\", \"network\", \"never\", \"never\", \"night\", \"office\", \"office\", \"office\", \"office\", \"offshore\", \"often\", \"opportunity\", \"opportunity\", \"oppurtunities\", \"oracle\", \"order\", \"order\", \"organisation\", \"organisation\", \"outing\", \"outsource\", \"overall\", \"overall\", \"overall\", \"payment\", \"payroll\", \"people\", \"people\", \"people\", \"performer\", \"personal\", \"personal\", \"personal\", \"phone\", \"place\", \"place\", \"political\", \"portal\", \"position\", \"price\", \"procedure\", \"process\", \"process\", \"process\", \"process\", \"product\", \"product\", \"product\", \"product\", \"production\", \"professional\", \"professional\", \"professional\", \"professional\", \"project\", \"project\", \"provide\", \"provide\", \"provide\", \"provider\", \"quality\", \"quality\", \"quality\", \"quality\", \"quality\", \"quality\", \"query\", \"raise\", \"rather\", \"reason\", \"receive\", \"receive\", \"reduction\", \"release\", \"report\", \"report\", \"requirement\", \"resolving\", \"responsible\", \"salary\", \"salary\", \"salary\", \"sales\", \"sales\", \"sales\", \"script\", \"seem\", \"server\", \"service\", \"service\", \"service\", \"services\", \"services\", \"services\", \"shift\", \"shift\", \"shift\", \"skill\", \"skill\", \"skill\", \"software\", \"software\", \"software\", \"solution\", \"solution\", \"solution\", \"someone\", \"spirit\", \"sport\", \"spring\", \"standard\", \"standard\", \"standard\", \"start\", \"start\", \"start\", \"start\", \"starter\", \"still\", \"storage\", \"store\", \"strength\", \"superb\", \"supply\", \"support\", \"support\", \"support\", \"support\", \"support\", \"support\", \"supportive\", \"supportive\", \"system\", \"task\", \"task\", \"teach\", \"teammate\", \"techm\", \"techmahindra\", \"technical\", \"technical\", \"technical\", \"technically\", \"technology\", \"technology\", \"technology\", \"telecom\", \"testing\", \"though\", \"though\", \"tight\", \"timely\", \"timing\", \"total\", \"training\", \"training\", \"training\", \"training\", \"training\", \"training\", \"transparency\", \"treat\", \"trouble\", \"troubleshoot\", \"turnover\", \"typical\", \"typical\", \"unfortunately\", \"union\", \"unless\", \"upper\", \"useful\", \"user\", \"using\", \"vacation\", \"various\", \"various\", \"various\", \"various\", \"vendor\", \"vendor\", \"waiting\", \"walmart\", \"want\", \"want\", \"website\", \"week\", \"whenever\", \"windows\", \"wipro\", \"work\", \"work\", \"work\", \"work\", \"worker\", \"working\", \"working\", \"working\", \"working\", \"working\", \"workplace\", \"workplace\", \"worry\", \"worst\", \"would\", \"would\", \"would\", \"would\"]}, \"R\": 30, \"lambda.step\": 0.01, \"plot.opts\": {\"xlab\": \"PC1\", \"ylab\": \"PC2\"}, \"topic.order\": [1, 2, 3, 4, 5, 6]};\n",
       "\n",
       "function LDAvis_load_lib(url, callback){\n",
       "  var s = document.createElement('script');\n",
       "  s.src = url;\n",
       "  s.async = true;\n",
       "  s.onreadystatechange = s.onload = callback;\n",
       "  s.onerror = function(){console.warn(\"failed to load library \" + url);};\n",
       "  document.getElementsByTagName(\"head\")[0].appendChild(s);\n",
       "}\n",
       "\n",
       "if(typeof(LDAvis) !== \"undefined\"){\n",
       "   // already loaded: just create the visualization\n",
       "   !function(LDAvis){\n",
       "       new LDAvis(\"#\" + \"ldavis_el84681799827120200468303588\", ldavis_el84681799827120200468303588_data);\n",
       "   }(LDAvis);\n",
       "}else if(typeof define === \"function\" && define.amd){\n",
       "   // require.js is available: use it to load d3/LDAvis\n",
       "   require.config({paths: {d3: \"https://cdnjs.cloudflare.com/ajax/libs/d3/3.5.5/d3.min\"}});\n",
       "   require([\"d3\"], function(d3){\n",
       "      window.d3 = d3;\n",
       "      LDAvis_load_lib(\"https://cdn.rawgit.com/bmabey/pyLDAvis/files/ldavis.v1.0.0.js\", function(){\n",
       "        new LDAvis(\"#\" + \"ldavis_el84681799827120200468303588\", ldavis_el84681799827120200468303588_data);\n",
       "      });\n",
       "    });\n",
       "}else{\n",
       "    // require.js not available: dynamically load d3 & LDAvis\n",
       "    LDAvis_load_lib(\"https://cdnjs.cloudflare.com/ajax/libs/d3/3.5.5/d3.min.js\", function(){\n",
       "         LDAvis_load_lib(\"https://cdn.rawgit.com/bmabey/pyLDAvis/files/ldavis.v1.0.0.js\", function(){\n",
       "                 new LDAvis(\"#\" + \"ldavis_el84681799827120200468303588\", ldavis_el84681799827120200468303588_data);\n",
       "            })\n",
       "         });\n",
       "}\n",
       "</script>"
      ],
      "text/plain": [
       "<IPython.core.display.HTML object>"
      ]
     },
     "execution_count": 16,
     "metadata": {},
     "output_type": "execute_result"
    }
   ],
   "source": [
    "lda_display = pyLDAvis.gensim.prepare(optimal_model, corpus, dictionary, sort_topics=False)\n",
    "pyLDAvis.display(lda_display)"
   ]
  },
  {
   "cell_type": "code",
   "execution_count": null,
   "metadata": {},
   "outputs": [],
   "source": []
  }
 ],
 "metadata": {
  "kernelspec": {
   "display_name": "Python 3",
   "language": "python",
   "name": "python3"
  },
  "language_info": {
   "codemirror_mode": {
    "name": "ipython",
    "version": 3
   },
   "file_extension": ".py",
   "mimetype": "text/x-python",
   "name": "python",
   "nbconvert_exporter": "python",
   "pygments_lexer": "ipython3",
   "version": "3.7.0"
  }
 },
 "nbformat": 4,
 "nbformat_minor": 4
}
