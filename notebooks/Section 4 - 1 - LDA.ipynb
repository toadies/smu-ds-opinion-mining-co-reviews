{
 "cells": [
  {
   "cell_type": "code",
   "execution_count": 1,
   "metadata": {},
   "outputs": [
    {
     "name": "stdout",
     "output_type": "stream",
     "text": [
      "(61122, 15)\n"
     ]
    },
    {
     "data": {
      "text/html": [
       "<div>\n",
       "<style scoped>\n",
       "    .dataframe tbody tr th:only-of-type {\n",
       "        vertical-align: middle;\n",
       "    }\n",
       "\n",
       "    .dataframe tbody tr th {\n",
       "        vertical-align: top;\n",
       "    }\n",
       "\n",
       "    .dataframe thead th {\n",
       "        text-align: right;\n",
       "    }\n",
       "</style>\n",
       "<table border=\"1\" class=\"dataframe\">\n",
       "  <thead>\n",
       "    <tr style=\"text-align: right;\">\n",
       "      <th></th>\n",
       "      <th>company_name</th>\n",
       "      <th>review_title</th>\n",
       "      <th>job_title</th>\n",
       "      <th>employee_status</th>\n",
       "      <th>location</th>\n",
       "      <th>date</th>\n",
       "      <th>review</th>\n",
       "      <th>pros</th>\n",
       "      <th>cons</th>\n",
       "      <th>rating</th>\n",
       "      <th>yes_helpful</th>\n",
       "      <th>no_helpful</th>\n",
       "      <th>industry</th>\n",
       "      <th>clean_job_title</th>\n",
       "      <th>language</th>\n",
       "    </tr>\n",
       "  </thead>\n",
       "  <tbody>\n",
       "    <tr>\n",
       "      <th>0</th>\n",
       "      <td>EY</td>\n",
       "      <td>I had a great time working at EY</td>\n",
       "      <td>Software Developer</td>\n",
       "      <td>Former Employee</td>\n",
       "      <td>Bengaluru, Karnataka</td>\n",
       "      <td>2020-03-02</td>\n",
       "      <td>Pros:\\rGreat Learning Curve.\\rPeer Culture is ...</td>\n",
       "      <td>NaN</td>\n",
       "      <td>NaN</td>\n",
       "      <td>4.0</td>\n",
       "      <td>0</td>\n",
       "      <td>0</td>\n",
       "      <td>accounting</td>\n",
       "      <td>software developer</td>\n",
       "      <td>en</td>\n",
       "    </tr>\n",
       "    <tr>\n",
       "      <th>1</th>\n",
       "      <td>EY</td>\n",
       "      <td>Great place to be</td>\n",
       "      <td>Office Administrator/Receptionist</td>\n",
       "      <td>Former Employee</td>\n",
       "      <td>Cork</td>\n",
       "      <td>2020-02-28</td>\n",
       "      <td>A lovely team and very pretty environment. I f...</td>\n",
       "      <td>NaN</td>\n",
       "      <td>NaN</td>\n",
       "      <td>5.0</td>\n",
       "      <td>0</td>\n",
       "      <td>0</td>\n",
       "      <td>accounting</td>\n",
       "      <td>office administrator receptionist</td>\n",
       "      <td>en</td>\n",
       "    </tr>\n",
       "    <tr>\n",
       "      <th>2</th>\n",
       "      <td>EY</td>\n",
       "      <td>Productive and FUN Place</td>\n",
       "      <td>System Engineer</td>\n",
       "      <td>Current Employee</td>\n",
       "      <td>Hyderabad, Telangana</td>\n",
       "      <td>2020-02-25</td>\n",
       "      <td>It's feel like workplace where can utilize kno...</td>\n",
       "      <td>NaN</td>\n",
       "      <td>NaN</td>\n",
       "      <td>5.0</td>\n",
       "      <td>0</td>\n",
       "      <td>0</td>\n",
       "      <td>accounting</td>\n",
       "      <td>system engineer</td>\n",
       "      <td>en</td>\n",
       "    </tr>\n",
       "    <tr>\n",
       "      <th>3</th>\n",
       "      <td>EY</td>\n",
       "      <td>Fun to work at and has the best Work Culture</td>\n",
       "      <td>Associate Software Engineer</td>\n",
       "      <td>Former Employee</td>\n",
       "      <td>Bengaluru</td>\n",
       "      <td>2020-02-15</td>\n",
       "      <td>Supportive peers and leaders who are always pr...</td>\n",
       "      <td>NaN</td>\n",
       "      <td>NaN</td>\n",
       "      <td>5.0</td>\n",
       "      <td>0</td>\n",
       "      <td>0</td>\n",
       "      <td>accounting</td>\n",
       "      <td>associate software engineer</td>\n",
       "      <td>en</td>\n",
       "    </tr>\n",
       "    <tr>\n",
       "      <th>4</th>\n",
       "      <td>EY</td>\n",
       "      <td>Good Environment</td>\n",
       "      <td>Desktop Support Administrator &amp; Business Opera...</td>\n",
       "      <td>Current Employee</td>\n",
       "      <td>Nashville, TN</td>\n",
       "      <td>2020-01-24</td>\n",
       "      <td>EY is a very nice environment to work at.  Tec...</td>\n",
       "      <td>NaN</td>\n",
       "      <td>NaN</td>\n",
       "      <td>4.0</td>\n",
       "      <td>0</td>\n",
       "      <td>0</td>\n",
       "      <td>accounting</td>\n",
       "      <td>desktop support administrator business operati...</td>\n",
       "      <td>en</td>\n",
       "    </tr>\n",
       "  </tbody>\n",
       "</table>\n",
       "</div>"
      ],
      "text/plain": [
       "  company_name                                  review_title  \\\n",
       "0           EY              I had a great time working at EY   \n",
       "1           EY                             Great place to be   \n",
       "2           EY                      Productive and FUN Place   \n",
       "3           EY  Fun to work at and has the best Work Culture   \n",
       "4           EY                              Good Environment   \n",
       "\n",
       "                                           job_title   employee_status  \\\n",
       "0                                 Software Developer   Former Employee   \n",
       "1                  Office Administrator/Receptionist   Former Employee   \n",
       "2                                    System Engineer  Current Employee   \n",
       "3                        Associate Software Engineer   Former Employee   \n",
       "4  Desktop Support Administrator & Business Opera...  Current Employee   \n",
       "\n",
       "               location        date  \\\n",
       "0  Bengaluru, Karnataka  2020-03-02   \n",
       "1                  Cork  2020-02-28   \n",
       "2  Hyderabad, Telangana  2020-02-25   \n",
       "3             Bengaluru  2020-02-15   \n",
       "4         Nashville, TN  2020-01-24   \n",
       "\n",
       "                                              review pros cons  rating  \\\n",
       "0  Pros:\\rGreat Learning Curve.\\rPeer Culture is ...  NaN  NaN     4.0   \n",
       "1  A lovely team and very pretty environment. I f...  NaN  NaN     5.0   \n",
       "2  It's feel like workplace where can utilize kno...  NaN  NaN     5.0   \n",
       "3  Supportive peers and leaders who are always pr...  NaN  NaN     5.0   \n",
       "4  EY is a very nice environment to work at.  Tec...  NaN  NaN     4.0   \n",
       "\n",
       "   yes_helpful  no_helpful    industry  \\\n",
       "0            0           0  accounting   \n",
       "1            0           0  accounting   \n",
       "2            0           0  accounting   \n",
       "3            0           0  accounting   \n",
       "4            0           0  accounting   \n",
       "\n",
       "                                     clean_job_title language  \n",
       "0                                 software developer       en  \n",
       "1                  office administrator receptionist       en  \n",
       "2                                    system engineer       en  \n",
       "3                        associate software engineer       en  \n",
       "4  desktop support administrator business operati...       en  "
      ]
     },
     "metadata": {},
     "output_type": "display_data"
    }
   ],
   "source": [
    "#! pip install pyLDAvis\n",
    "import re\n",
    "import numpy as np\n",
    "import pandas as pd\n",
    "from pprint import pprint\n",
    "import pickle\n",
    "# Gensim\n",
    "import gensim\n",
    "import gensim.corpora as corpora\n",
    "from gensim.utils import simple_preprocess\n",
    "from gensim.models import CoherenceModel\n",
    "from gensim.parsing.preprocessing import STOPWORDS\n",
    "from nltk.stem import WordNetLemmatizer, SnowballStemmer\n",
    "from nltk.stem.porter import *\n",
    "import nltk\n",
    "from nltk.corpus import wordnet as wn\n",
    "# spacy for lemmatization\n",
    "import spacy\n",
    "from spacy.lang.en import English\n",
    "parser = English()\n",
    "\n",
    "# Plotting tools\n",
    "import pyLDAvis\n",
    "import pyLDAvis.gensim  # don't skip this\n",
    "import matplotlib.pyplot as plt\n",
    "%matplotlib inline\n",
    "\n",
    "with open(\"../data/all_reviews.pkl\",\"rb\") as f:\n",
    "    reviews = pickle.load(f)\n",
    "    \n",
    "job_filter = pd.read_csv(\"../data/filter_job_titles.csv\")\n",
    "\n",
    "job_filters = job_filter.clean_job_title.tolist()\n",
    "\n",
    "idx = reviews.clean_job_title.isin(job_filters)\n",
    "reviews = reviews.loc[idx,:]\n",
    "\n",
    "print( reviews.shape )\n",
    "reviews.reset_index(drop=True,inplace=True)\n",
    "display( reviews.head() )"
   ]
  },
  {
   "cell_type": "code",
   "execution_count": 2,
   "metadata": {},
   "outputs": [],
   "source": [
    "#NLTK Stop words\n",
    "\n",
    "from nltk.corpus import stopwords\n",
    "stop_words = stopwords.words('english')\n",
    "#extend stop word based on top 50 words\n",
    "stop_words.extend([\"new\",\"lot\",\"get\",\"many\",\"also\",\"day\",\"part\",\"one\",\"things\",\"always\",\"years\",\"really\"])"
   ]
  },
  {
   "cell_type": "code",
   "execution_count": 3,
   "metadata": {},
   "outputs": [],
   "source": [
    "def tokenize(text):\n",
    "    lda_tokens = []\n",
    "    tokens = parser(text)\n",
    "    for token in tokens:\n",
    "        if token.orth_.isspace():\n",
    "            continue\n",
    "        else:\n",
    "            lda_tokens.append(token.lower_)\n",
    "    return lda_tokens"
   ]
  },
  {
   "cell_type": "code",
   "execution_count": 4,
   "metadata": {},
   "outputs": [],
   "source": [
    "def get_lemma(word):\n",
    "    lemma = wn.morphy(word)\n",
    "    if lemma is None:\n",
    "        return word\n",
    "    else:\n",
    "        return lemma\n",
    "    \n",
    "from nltk.stem.wordnet import WordNetLemmatizer\n",
    "def get_lemma2(word):\n",
    "    return WordNetLemmatizer().lemmatize(word)"
   ]
  },
  {
   "cell_type": "code",
   "execution_count": 5,
   "metadata": {},
   "outputs": [],
   "source": [
    "def prepare_text_for_lda(text):\n",
    "    tokens = tokenize(text)\n",
    "    tokens = [token for token in tokens if len(token) > 4]\n",
    "    tokens = [token for token in tokens if token not in stop_words]\n",
    "    tokens = [get_lemma(token) for token in tokens]\n",
    "    return tokens"
   ]
  },
  {
   "cell_type": "code",
   "execution_count": 6,
   "metadata": {},
   "outputs": [
    {
     "data": {
      "text/plain": [
       "0    [great, learning, curve, culture, great, balan...\n",
       "1    [lovely, pretty, environment, welcome, great, ...\n",
       "2    [workplace, utilize, knowledge, skill, managem...\n",
       "3    [supportive, peer, leaders, present, guide, te...\n",
       "4    [environment, tech, player, learn, something, ...\n",
       "5    [energetic, vibrant, company, extrovert, deali...\n",
       "6    [place, learn, technology, culture, awesome, p...\n",
       "7    [flexibility, management, employee, benefit, i...\n",
       "8    [help, family, bring, final, fruitful, result,...\n",
       "9    [excellent, company, perfect, culture, annual,...\n",
       "Name: review, dtype: object"
      ]
     },
     "execution_count": 6,
     "metadata": {},
     "output_type": "execute_result"
    }
   ],
   "source": [
    "processed_docs = reviews['review'].map(prepare_text_for_lda)\n",
    "processed_docs[:10]\n"
   ]
  },
  {
   "cell_type": "code",
   "execution_count": 7,
   "metadata": {},
   "outputs": [],
   "source": [
    "from gensim import corpora\n",
    "dictionary = corpora.Dictionary(processed_docs)\n",
    "corpus = [dictionary.doc2bow(text) for text in processed_docs]"
   ]
  },
  {
   "cell_type": "code",
   "execution_count": 8,
   "metadata": {},
   "outputs": [
    {
     "name": "stdout",
     "output_type": "stream",
     "text": [
      "(0, '0.072*\"company\" + 0.043*\"employee\" + 0.040*\"great\" + 0.034*\"career\"')\n",
      "(1, '0.043*\"company\" + 0.020*\"employee\" + 0.019*\"people\" + 0.018*\"management\"')\n",
      "(2, '0.089*\"learn\" + 0.044*\"technology\" + 0.038*\"skill\" + 0.035*\"working\"')\n",
      "(3, '0.060*\"working\" + 0.057*\"great\" + 0.043*\"people\" + 0.033*\"enjoy\"')\n",
      "(4, '0.039*\"learn\" + 0.030*\"hard\" + 0.029*\"client\" + 0.029*\"management\"')\n",
      "(5, '0.220*\"would\" + 0.057*\"recommend\" + 0.033*\"organisation\" + 0.029*\"anyone\"')\n",
      "(6, '0.031*\"system\" + 0.028*\"application\" + 0.024*\"server\" + 0.022*\"using\"')\n",
      "(7, '0.057*\"project\" + 0.046*\"management\" + 0.039*\"salary\" + 0.036*\"company\"')\n",
      "(8, '0.058*\"customer\" + 0.025*\"service\" + 0.014*\"sales\" + 0.013*\"order\"')\n",
      "(9, '0.031*\"software\" + 0.030*\"business\" + 0.027*\"development\" + 0.024*\"product\"')\n"
     ]
    }
   ],
   "source": [
    "NUM_TOPICS = 10\n",
    "ldamodel = gensim.models.ldamodel.LdaModel(corpus, num_topics = NUM_TOPICS, id2word=dictionary, passes=15)\n",
    "ldamodel.save('model5.gensim')\n",
    "topics = ldamodel.print_topics(num_words=4)\n",
    "for topic in topics:\n",
    "    print(topic)"
   ]
  },
  {
   "cell_type": "code",
   "execution_count": 9,
   "metadata": {},
   "outputs": [],
   "source": [
    "def compute_coherence_values(dictionary, corpus, texts, limit, start=2, step=3):\n",
    "    \"\"\"\n",
    "    Compute c_v coherence for various number of topics\n",
    "\n",
    "    Parameters:\n",
    "    ----------\n",
    "    dictionary : Gensim dictionary\n",
    "    corpus : Gensim corpus\n",
    "    texts : List of input texts\n",
    "    limit : Max num of topics\n",
    "\n",
    "    Returns:\n",
    "    -------\n",
    "    model_list : List of LDA topic models\n",
    "    coherence_values : Coherence values corresponding to the LDA model with respective number of topics\n",
    "    \"\"\"\n",
    "    coherence_values = []\n",
    "    model_list = []\n",
    "    for num_topics in range(start, limit, step):\n",
    "        model = gensim.models.ldamodel.LdaModel(corpus=corpus, num_topics = num_topics ,id2word=dictionary, passes=15)\n",
    "        model_list.append(model)\n",
    "        coherencemodel = CoherenceModel(model=model, texts=texts, dictionary=dictionary, coherence='c_v')\n",
    "        coherence_values.append(coherencemodel.get_coherence())\n",
    "\n",
    "    return model_list, coherence_values"
   ]
  },
  {
   "cell_type": "code",
   "execution_count": 10,
   "metadata": {},
   "outputs": [],
   "source": [
    "model_list, coherence_values = compute_coherence_values(dictionary=dictionary, corpus=corpus, texts=processed_docs, start=2, limit=30, step=2)"
   ]
  },
  {
   "cell_type": "code",
   "execution_count": 11,
   "metadata": {},
   "outputs": [
    {
     "data": {
      "image/png": "[encoded data removed]",
      "text/plain": [
       "<Figure size 432x288 with 1 Axes>"
      ]
     },
     "metadata": {
      "needs_background": "light"
     },
     "output_type": "display_data"
    }
   ],
   "source": [
    "# Show graph\n",
    "limit=30; start=2; step=2;\n",
    "x = range(start, limit, step)\n",
    "plt.plot(x, coherence_values)\n",
    "plt.xlabel(\"Num Topics\")\n",
    "plt.ylabel(\"Coherence score\")\n",
    "plt.legend((\"coherence_values\"), loc='best')\n",
    "plt.show()"
   ]
  },
  {
   "cell_type": "code",
   "execution_count": 12,
   "metadata": {},
   "outputs": [
    {
     "name": "stdout",
     "output_type": "stream",
     "text": [
      "Num Topics = 2  has Coherence Value of 0.4291\n",
      "Num Topics = 4  has Coherence Value of 0.5077\n",
      "Num Topics = 6  has Coherence Value of 0.5483\n",
      "Num Topics = 8  has Coherence Value of 0.4489\n",
      "Num Topics = 10  has Coherence Value of 0.4964\n",
      "Num Topics = 12  has Coherence Value of 0.4928\n",
      "Num Topics = 14  has Coherence Value of 0.4644\n",
      "Num Topics = 16  has Coherence Value of 0.48\n",
      "Num Topics = 18  has Coherence Value of 0.4685\n",
      "Num Topics = 20  has Coherence Value of 0.5007\n",
      "Num Topics = 22  has Coherence Value of 0.4593\n",
      "Num Topics = 24  has Coherence Value of 0.4677\n",
      "Num Topics = 26  has Coherence Value of 0.4875\n",
      "Num Topics = 28  has Coherence Value of 0.4522\n"
     ]
    }
   ],
   "source": [
    "# Print the coherence scores\n",
    "for m, cv in zip(x, coherence_values):\n",
    "    print(\"Num Topics =\", m, \" has Coherence Value of\", round(cv, 4))"
   ]
  },
  {
   "cell_type": "code",
   "execution_count": 13,
   "metadata": {},
   "outputs": [
    {
     "data": {
      "text/plain": [
       "[<gensim.models.ldamodel.LdaModel at 0x26179abdf98>,\n",
       " <gensim.models.ldamodel.LdaModel at 0x261347254e0>,\n",
       " <gensim.models.ldamodel.LdaModel at 0x26125f9b240>,\n",
       " <gensim.models.ldamodel.LdaModel at 0x261775e1ac8>,\n",
       " <gensim.models.ldamodel.LdaModel at 0x2616a5851d0>,\n",
       " <gensim.models.ldamodel.LdaModel at 0x2616a0fe780>,\n",
       " <gensim.models.ldamodel.LdaModel at 0x2618109d7f0>,\n",
       " <gensim.models.ldamodel.LdaModel at 0x26121db0748>,\n",
       " <gensim.models.ldamodel.LdaModel at 0x2616a938400>,\n",
       " <gensim.models.ldamodel.LdaModel at 0x26106a4d898>,\n",
       " <gensim.models.ldamodel.LdaModel at 0x2613472cef0>,\n",
       " <gensim.models.ldamodel.LdaModel at 0x2610d10d4a8>,\n",
       " <gensim.models.ldamodel.LdaModel at 0x2610d06d3c8>,\n",
       " <gensim.models.ldamodel.LdaModel at 0x261775e1e10>]"
      ]
     },
     "execution_count": 13,
     "metadata": {},
     "output_type": "execute_result"
    }
   ],
   "source": [
    "model_list"
   ]
  },
  {
   "cell_type": "code",
   "execution_count": 14,
   "metadata": {},
   "outputs": [
    {
     "data": {
      "text/plain": [
       "[0.42907962206297845,\n",
       " 0.5077225923469375,\n",
       " 0.5482700248632126,\n",
       " 0.4489274659638163,\n",
       " 0.4964312683383067,\n",
       " 0.49283644844906055,\n",
       " 0.46436155614394437,\n",
       " 0.48003226818668154,\n",
       " 0.4685218661385578,\n",
       " 0.5006991981384463,\n",
       " 0.4593016341455056,\n",
       " 0.46765913915567997,\n",
       " 0.4874538270526522,\n",
       " 0.4521825901928289]"
      ]
     },
     "execution_count": 14,
     "metadata": {},
     "output_type": "execute_result"
    }
   ],
   "source": [
    "coherence_values"
   ]
  },
  {
   "cell_type": "code",
   "execution_count": 17,
   "metadata": {},
   "outputs": [
    {
     "name": "stdout",
     "output_type": "stream",
     "text": [
      "[(0,\n",
      "  '0.025*\"working\" + 0.024*\"management\" + 0.021*\"learn\" + 0.021*\"worker\" + '\n",
      "  '0.021*\"hard\" + 0.019*\"enjoyable\" + 0.016*\"typical\" + 0.014*\"enjoy\" + '\n",
      "  '0.013*\"office\" + 0.012*\"project\"'),\n",
      " (1,\n",
      "  '0.026*\"project\" + 0.022*\"development\" + 0.020*\"software\" + 0.017*\"business\" '\n",
      "  '+ 0.014*\"experience\" + 0.014*\"client\" + 0.012*\"developer\" + 0.012*\"work\" + '\n",
      "  '0.012*\"technology\" + 0.012*\"application\"'),\n",
      " (2,\n",
      "  '0.042*\"company\" + 0.021*\"people\" + 0.021*\"employee\" + 0.018*\"management\" + '\n",
      "  '0.015*\"would\" + 0.013*\"manager\" + 0.013*\"great\" + 0.011*\"change\" + '\n",
      "  '0.011*\"work\" + 0.010*\"position\"'),\n",
      " (3,\n",
      "  '0.028*\"customer\" + 0.019*\"system\" + 0.015*\"server\" + 0.012*\"service\" + '\n",
      "  '0.012*\"support\" + 0.011*\"store\" + 0.010*\"report\" + 0.010*\"issue\" + '\n",
      "  '0.008*\"provide\" + 0.008*\"network\"'),\n",
      " (4,\n",
      "  '0.058*\"company\" + 0.045*\"balance\" + 0.038*\"great\" + 0.037*\"employee\" + '\n",
      "  '0.029*\"place\" + 0.029*\"culture\" + 0.028*\"benefit\" + 0.027*\"management\" + '\n",
      "  '0.026*\"salary\" + 0.022*\"opportunity\"'),\n",
      " (5,\n",
      "  '0.062*\"learn\" + 0.034*\"company\" + 0.034*\"place\" + 0.033*\"great\" + '\n",
      "  '0.032*\"working\" + 0.026*\"environment\" + 0.024*\"experience\" + '\n",
      "  '0.023*\"management\" + 0.021*\"opportunity\" + 0.021*\"skill\"')]\n"
     ]
    }
   ],
   "source": [
    "# Select the model and print the topics\n",
    "optimal_model = model_list[2]\n",
    "model_topics = optimal_model.show_topics(formatted=False)\n",
    "pprint(optimal_model.print_topics(num_words=10))"
   ]
  },
  {
   "cell_type": "code",
   "execution_count": 18,
   "metadata": {},
   "outputs": [
    {
     "data": {
      "text/html": [
       "\n",
       "<link rel=\"stylesheet\" type=\"text/css\" href=\"https://cdn.rawgit.com/bmabey/pyLDAvis/files/ldavis.v1.0.0.css\">\n",
       "\n",
       "\n",
       "<div id=\"ldavis_el3564026162688839122775218800\"></div>\n",
       "<script type=\"text/javascript\">\n",
       "\n",
       "var ldavis_el3564026162688839122775218800_data = {\"mdsDat\": {\"x\": [-0.029059603579783974, 0.21284302260237586, -0.12511664357290636, 0.3162991232232879, -0.19166596071433376, -0.18329993795864], \"y\": [-0.17666211555528483, 0.2426991652679543, -0.08834838004331486, -0.12642838150352217, 0.07067176200733183, 0.07806794982683578], \"topics\": [1, 2, 3, 4, 5, 6], \"cluster\": [1, 1, 1, 1, 1, 1], \"Freq\": [16.090240478515625, 13.99234676361084, 20.417903900146484, 12.303919792175293, 15.178598403930664, 22.01698875427246]}, \"tinfo\": {\"Term\": [\"learn\", \"company\", \"balance\", \"great\", \"place\", \"employee\", \"opportunity\", \"salary\", \"benefit\", \"customer\", \"culture\", \"development\", \"hard\", \"skill\", \"experience\", \"worker\", \"learning\", \"project\", \"environment\", \"enjoyable\", \"working\", \"software\", \"technology\", \"system\", \"enjoy\", \"typical\", \"fresher\", \"career\", \"business\", \"would\", \"hard\", \"typical\", \"wipro\", \"deadline\", \"lunch\", \"night\", \"break\", \"healthy\", \"weekend\", \"ericsson\", \"morning\", \"whenever\", \"accomplish\", \"finish\", \"pleasant\", \"floor\", \"knowing\", \"resolving\", \"notice\", \"mates\", \"coffee\", \"permanent\", \"clean\", \"keep\", \"struggle\", \"merger\", \"talking\", \"easy\", \"quarter\", \"tight\", \"sear\", \"enter\", \"meeting\", \"enjoyable\", \"together\", \"complete\", \"coworkers\", \"solve\", \"worker\", \"office\", \"problem\", \"task\", \"situation\", \"shift\", \"issue\", \"enjoy\", \"daily\", \"hours\", \"times\", \"every\", \"handle\", \"working\", \"client\", \"management\", \"learn\", \"challenge\", \"manage\", \"would\", \"project\", \"customer\", \"need\", \"manager\", \"environment\", \"people\", \"different\", \"work\", \"development\", \"developer\", \"testing\", \"design\", \"domain\", \"mahindra\", \"implement\", \"accenture\", \"agile\", \"developing\", \"retail\", \"programming\", \"methodology\", \"implementation\", \"functional\", \"cycle\", \"automation\", \"model\", \"language\", \"framework\", \"solution\", \"telecom\", \"mobile\", \"integration\", \"sessions\", \"module\", \"feature\", \"phase\", \"amazon\", \"concept\", \"requirement\", \"at&t.\", \"software\", \"case\", \"various\", \"business\", \"oracle\", \"product\", \"using\", \"involve\", \"application\", \"develop\", \"project\", \"client\", \"create\", \"process\", \"services\", \"engineer\", \"base\", \"experience\", \"work\", \"technology\", \"quality\", \"technical\", \"system\", \"knowledge\", \"working\", \"position\", \"still\", \"hire\", \"contractor\", \"treat\", \"seem\", \"anyone\", \"upper\", \"money\", \"layoff\", \"worst\", \"outsource\", \"reason\", \"constantly\", \"direction\", \"carrier\", \"force\", \"unfortunately\", \"longer\", \"school\", \"unless\", \"rather\", \"choose\", \"least\", \"instead\", \"vision\", \"look\", \"interview\", \"decide\", \"promise\", \"employment\", \"reduce\", \"move\", \"contract\", \"raise\", \"actually\", \"someone\", \"however\", \"change\", \"would\", \"try\", \"another\", \"recommend\", \"never\", \"could\", \"people\", \"company\", \"employee\", \"department\", \"manager\", \"work\", \"level\", \"management\", \"going\", \"great\", \"better\", \"looking\", \"place\", \"become\", \"expect\", \"little\", \"experience\", \"staff\", \"month\", \"working\", \"benefit\", \"server\", \"store\", \"report\", \"network\", \"account\", \"ensure\", \"troubleshoot\", \"administration\", \"administrator\", \"access\", \"hardware\", \"windows\", \"configure\", \"monitoring\", \"equipment\", \"payment\", \"processing\", \"configuration\", \"linux\", \"payroll\", \"mphasis\", \"installation\", \"purchase\", \"repair\", \"storage\", \"defect\", \"error\", \"invoice\", \"incident\", \"technician\", \"customer\", \"system\", \"computer\", \"service\", \"order\", \"ticket\", \"information\", \"request\", \"sales\", \"issue\", \"database\", \"support\", \"include\", \"phone\", \"center\", \"maintain\", \"manage\", \"provide\", \"application\", \"check\", \"process\", \"create\", \"daily\", \"management\", \"balance\", \"salary\", \"timing\", \"competitive\", \"campus\", \"capgemini\", \"compare\", \"increment\", \"cognizant\", \"healthcare\", \"except\", \"techmahindra\", \"telecommunication\", \"transparent\", \"bangalore\", \"multinational\", \"mandatory\", \"superb\", \"relocation\", \"hospital\", \".....\", \"factor\", \"moderate\", \"benifits\", \"steady\", \"unlimited\", \"ambiente\", \"worklife\", \"drawback\", \"disconnect\", \"infosys\", \"facility\", \"unisys\", \"option\", \"flexible\", \"onsite\", \"benefit\", \"compensation\", \"incentive\", \"perk\", \"woman\", \"security\", \"depend\", \"policy\", \"average\", \"growth\", \"decent\", \"employee\", \"culture\", \"company\", \"great\", \"opportunity\", \"offer\", \"place\", \"advancement\", \"provide\", \"overall\", \"environment\", \"hours\", \"management\", \"project\", \"excellent\", \"career\", \"working\", \"training\", \"friendly\", \"technology\", \"learning\", \"fresher\", \"explore\", \"hike\", \"personally\", \"appraisal\", \"talented\", \"technically\", \"professionally\", \"cultural\", \"outing\", \"pleasure\", \"ample\", \"joining\", \"journey\", \"proud\", \"beginner\", \"thank\", \"specially\", \"techm\", \"spirit\", \"walmart\", \"discussion\", \"strive\", \"professionalism\", \"groom\", \"allowance\", \"passion\", \"unable\", \"oppurtunities\", \"indeed\", \"skill\", \"genpact\", \"scope\", \"learn\", \"learning\", \"supportive\", \"join\", \"help\", \"colleague\", \"chance\", \"gain\", \"experience\", \"professional\", \"knowledge\", \"career\", \"technology\", \"place\", \"opportunity\", \"helpful\", \"environment\", \"friendly\", \"working\", \"great\", \"start\", \"productive\", \"challenge\", \"culture\", \"technical\", \"company\", \"enjoy\", \"training\", \"management\", \"people\", \"provide\", \"worker\", \"different\", \"project\"], \"Freq\": [16331.0, 23837.0, 6607.0, 14944.0, 13216.0, 10862.0, 7777.0, 3745.0, 4715.0, 4549.0, 9089.0, 2987.0, 3194.0, 4973.0, 7878.0, 4870.0, 5273.0, 9763.0, 10571.0, 3487.0, 14358.0, 2884.0, 6695.0, 3096.0, 4375.0, 2436.0, 2898.0, 5136.0, 2980.0, 4489.0, 3193.728271484375, 2435.6650390625, 1258.221923828125, 718.071533203125, 501.92657470703125, 450.1574401855469, 443.4103088378906, 424.57806396484375, 384.5511779785156, 314.3919677734375, 243.82778930664062, 243.4312286376953, 239.65093994140625, 238.31362915039062, 230.8202667236328, 225.3649444580078, 222.5989532470703, 227.9890899658203, 200.09072875976562, 180.12869262695312, 166.15008544921875, 162.4444122314453, 157.72357177734375, 155.64158630371094, 153.07278442382812, 156.09449768066406, 147.26100158691406, 144.0553436279297, 140.54522705078125, 139.30311584472656, 196.88890075683594, 143.66114807128906, 1490.93115234375, 2885.2099609375, 490.0677795410156, 1113.3160400390625, 650.1875610351562, 323.7041015625, 3203.948486328125, 1966.9864501953125, 1182.8212890625, 869.94580078125, 409.1058349609375, 787.0679321289062, 1636.395263671875, 2229.583984375, 938.6697998046875, 1539.44384765625, 793.9920654296875, 1419.5616455078125, 593.7731323242188, 3921.996826171875, 1627.9837646484375, 3732.112548828125, 3226.855224609375, 1172.3302001953125, 934.5756225585938, 1319.1893310546875, 1860.8218994140625, 1271.5225830078125, 898.0379028320312, 1260.9044189453125, 1434.2388916015625, 1312.68115234375, 953.2057495117188, 1009.1207275390625, 2986.45654296875, 1598.859375, 1531.38720703125, 1280.836669921875, 1007.0429077148438, 965.5340576171875, 847.4742431640625, 706.1148071289062, 656.7571411132812, 578.5582885742188, 520.134033203125, 446.4261779785156, 400.9294738769531, 397.1944580078125, 378.9485778808594, 368.4600524902344, 350.4922180175781, 344.4106750488281, 340.3282775878906, 327.2396545410156, 942.0164184570312, 294.2006530761719, 295.3443908691406, 270.3182373046875, 269.78228759765625, 266.7132263183594, 263.3488464355469, 251.53623962402344, 263.0908508300781, 239.809326171875, 1495.122314453125, 317.3530578613281, 2620.27099609375, 357.4975280761719, 1422.549560546875, 2257.107421875, 652.419921875, 1461.2958984375, 1206.9381103515625, 1042.68603515625, 1563.151611328125, 1204.4012451171875, 3431.73095703125, 1834.8050537109375, 862.4930419921875, 1380.5950927734375, 860.0343017578125, 627.3297729492188, 832.0223388671875, 1862.833740234375, 1592.9072265625, 1592.0489501953125, 714.320556640625, 816.3991088867188, 813.2222290039062, 768.255615234375, 841.1576538085938, 1956.11083984375, 1066.786865234375, 888.89013671875, 839.556884765625, 734.2557983398438, 599.1363525390625, 594.6808471679688, 567.135498046875, 547.3903198242188, 541.1133422851562, 530.4730224609375, 481.2298278808594, 464.113037109375, 449.747314453125, 430.2743835449219, 396.818115234375, 387.4473571777344, 368.5149230957031, 352.89117431640625, 334.9342041015625, 333.04742431640625, 313.705322265625, 291.36279296875, 276.56121826171875, 253.63743591308594, 249.37997436523438, 243.49197387695312, 231.66534423828125, 228.48098754882812, 222.91775512695312, 373.4989013671875, 234.11044311523438, 740.7445068359375, 1297.8216552734375, 522.9027099609375, 395.4090576171875, 444.5221252441406, 1234.007080078125, 2202.6552734375, 2847.579345703125, 587.942138671875, 622.748046875, 900.6964721679688, 1068.43408203125, 1084.752685546875, 4145.3046875, 8274.1201171875, 4040.84130859375, 1113.461669921875, 2615.895751953125, 2107.492431640625, 1124.2059326171875, 3491.533447265625, 784.7714233398438, 2509.6640625, 930.7431030273438, 677.1204833984375, 1806.30224609375, 681.1636352539062, 696.91943359375, 692.3265380859375, 991.4703369140625, 714.3705444335938, 698.9896240234375, 837.2578125, 699.68115234375, 1724.054931640625, 1321.1546630859375, 1188.912353515625, 985.2315673828125, 722.3336791992188, 613.02880859375, 542.2749633789062, 485.546875, 484.569580078125, 413.9086608886719, 403.6335754394531, 398.11346435546875, 382.7388610839844, 368.5097351074219, 357.3738098144531, 346.2060852050781, 335.75152587890625, 315.7835998535156, 300.7454833984375, 299.9187927246094, 357.5214538574219, 276.1105041503906, 254.334716796875, 250.99386596679688, 237.95968627929688, 237.97811889648438, 236.2148895263672, 232.8671417236328, 231.268798828125, 229.63070678710938, 3277.75732421875, 2283.03857421875, 512.9683227539062, 1433.227294921875, 695.9248657226562, 401.8719482421875, 613.2920532226562, 398.221435546875, 588.5977172851562, 1183.03759765625, 636.81982421875, 1399.8492431640625, 718.85546875, 439.5091552734375, 515.7950439453125, 622.01416015625, 743.823974609375, 999.01904296875, 690.9930419921875, 443.2156066894531, 632.97509765625, 520.9881591796875, 490.8128967285156, 527.2589111328125, 6606.37744140625, 3744.755615234375, 787.9313354492188, 748.4632568359375, 649.940185546875, 698.6798095703125, 551.1510620117188, 340.8181457519531, 319.1192932128906, 285.3413391113281, 253.8690948486328, 222.90968322753906, 174.82437133789062, 147.86264038085938, 148.3112335205078, 146.98516845703125, 125.82186889648438, 115.40342712402344, 114.19135284423828, 111.33623504638672, 106.57351684570312, 106.30396270751953, 101.73778533935547, 98.56007385253906, 98.74346923828125, 90.18627166748047, 89.48741912841797, 86.51953125, 85.80101013183594, 86.59254455566406, 529.24951171875, 1112.8101806640625, 90.8046646118164, 736.0997314453125, 1910.570556640625, 886.8760375976562, 4015.643310546875, 1208.2725830078125, 229.0626983642578, 285.8896789550781, 284.4057922363281, 1681.3988037109375, 1154.486083984375, 1058.736083984375, 571.178466796875, 1842.5572509765625, 505.9143981933594, 5403.794921875, 4205.611328125, 8418.37109375, 5482.8193359375, 3242.077880859375, 824.0949096679688, 4265.7294921875, 839.5006713867188, 2083.247802734375, 1256.6512451171875, 3021.84228515625, 1310.8675537109375, 3933.825439453125, 2771.116943359375, 1209.6697998046875, 1519.6597900390625, 1896.301513671875, 1253.041015625, 1283.7171630859375, 1041.9527587890625, 901.8887329101562, 2897.341552734375, 743.642578125, 502.4173278808594, 381.4205627441406, 364.40478515625, 347.4237976074219, 344.6716613769531, 308.97503662109375, 285.4674987792969, 280.2899169921875, 276.512939453125, 237.03076171875, 205.88446044921875, 188.2435302734375, 180.25218200683594, 163.9561309814453, 163.98793029785156, 158.9482421875, 153.57321166992188, 143.57870483398438, 165.676513671875, 141.93218994140625, 133.27706909179688, 129.10147094726562, 126.29512786865234, 120.79309844970703, 109.92034149169922, 112.24166107177734, 105.24437713623047, 105.57286071777344, 4432.82421875, 1469.1263427734375, 671.330078125, 13103.583984375, 4368.1025390625, 1983.821533203125, 703.7742919921875, 1373.3447265625, 1267.507568359375, 1051.0670166015625, 516.102294921875, 5015.203125, 1679.3861083984375, 1884.521484375, 3236.93505859375, 4061.306396484375, 7143.4990234375, 4534.64990234375, 1608.8885498046875, 5542.05712890625, 2836.138671875, 6861.74169921875, 6950.73583984375, 2235.332763671875, 971.874755859375, 1703.689208984375, 3947.123779296875, 1504.548583984375, 7144.34814453125, 2145.456298828125, 2131.359375, 4938.31640625, 3088.880126953125, 1913.7099609375, 1665.81689453125, 1517.0904541015625, 1684.218017578125], \"Total\": [16331.0, 23837.0, 6607.0, 14944.0, 13216.0, 10862.0, 7777.0, 3745.0, 4715.0, 4549.0, 9089.0, 2987.0, 3194.0, 4973.0, 7878.0, 4870.0, 5273.0, 9763.0, 10571.0, 3487.0, 14358.0, 2884.0, 6695.0, 3096.0, 4375.0, 2436.0, 2898.0, 5136.0, 2980.0, 4489.0, 3194.571533203125, 2436.509033203125, 1259.2401123046875, 718.9154663085938, 502.770751953125, 451.0008850097656, 444.2549133300781, 425.42401123046875, 385.39483642578125, 315.3605651855469, 244.6714630126953, 244.2764434814453, 240.4960174560547, 239.1587677001953, 231.66685485839844, 226.21473693847656, 223.4440460205078, 228.8553466796875, 200.9375, 180.97154235839844, 166.9939727783203, 163.2921142578125, 158.5703582763672, 156.48861694335938, 153.92135620117188, 156.96116638183594, 148.10861206054688, 144.8995819091797, 141.3933563232422, 140.14682006835938, 198.3883819580078, 144.54660034179688, 1627.8341064453125, 3487.1181640625, 548.4473876953125, 1399.2735595703125, 772.2111206054688, 354.63323974609375, 4870.45166015625, 2795.44287109375, 1678.9901123046875, 1175.140380859375, 483.3855285644531, 1118.2064208984375, 2827.782958984375, 4375.72802734375, 1430.15478515625, 2850.9833984375, 1280.441650390625, 3069.46435546875, 881.5248413085938, 14358.62890625, 4304.14599609375, 17051.40234375, 16331.1259765625, 2884.8427734375, 2136.299072265625, 4489.06494140625, 9763.998046875, 4549.9541015625, 2128.604736328125, 5977.70654296875, 10571.3330078125, 9245.7734375, 3382.051513671875, 5867.67529296875, 2987.293212890625, 1599.6962890625, 1532.22216796875, 1281.6728515625, 1007.879638671875, 966.419921875, 848.3114624023438, 706.9583740234375, 657.5926513671875, 579.393798828125, 521.0078125, 447.2625427246094, 401.76611328125, 398.03057861328125, 379.7834777832031, 369.2978515625, 351.327392578125, 345.2467956542969, 341.1661376953125, 328.07379150390625, 944.6055297851562, 295.0401611328125, 296.18768310546875, 271.1531677246094, 270.62078857421875, 267.5476379394531, 264.1856689453125, 252.3730010986328, 264.0055847167969, 240.6459503173828, 1517.654052734375, 318.5338439941406, 2884.6396484375, 368.86993408203125, 1709.861083984375, 2980.746826171875, 744.3111572265625, 1992.9305419921875, 1603.293212890625, 1357.6805419921875, 2254.80712890625, 1713.1256103515625, 9763.998046875, 4304.14599609375, 1384.1461181640625, 3121.23974609375, 1458.134033203125, 936.9088745117188, 1631.2987060546875, 7878.95556640625, 5867.67529296875, 6695.81298828125, 1226.69873046875, 2474.732421875, 3096.925048828125, 2653.455810546875, 14358.62890625, 1956.952392578125, 1067.62890625, 889.73095703125, 840.3984375, 735.0958862304688, 599.9761962890625, 595.5206298828125, 567.976318359375, 548.230712890625, 541.9523315429688, 531.3131713867188, 482.0766906738281, 464.953125, 450.58984375, 431.1156005859375, 397.6656799316406, 388.2884216308594, 369.3546447753906, 353.731201171875, 335.7762145996094, 333.8879699707031, 314.54669189453125, 292.20794677734375, 277.4078674316406, 254.47740173339844, 250.2228240966797, 244.33465576171875, 232.50711059570312, 229.32174682617188, 223.75823974609375, 375.2825012207031, 235.01744079589844, 777.963623046875, 1443.9219970703125, 549.9694213867188, 419.3725280761719, 479.0401306152344, 1541.498046875, 3010.54345703125, 4489.06494140625, 678.2706909179688, 732.1279907226562, 1182.993896484375, 1476.53564453125, 1535.21728515625, 9245.7734375, 23837.34765625, 10862.3984375, 1736.1783447265625, 5977.70654296875, 5867.67529296875, 2227.88427734375, 17051.40234375, 1238.77880859375, 14944.6796875, 1955.0096435546875, 956.7145385742188, 13216.041015625, 1000.7681884765625, 1131.6414794921875, 1122.882568359375, 7878.95556640625, 1456.9466552734375, 1344.3580322265625, 14358.62890625, 4715.9921875, 1724.88916015625, 1322.0081787109375, 1189.7489013671875, 986.0685424804688, 723.1700439453125, 613.8657836914062, 543.1087646484375, 486.38165283203125, 485.4054870605469, 414.745361328125, 404.4686584472656, 398.9480895996094, 383.5718078613281, 369.3437194824219, 358.2101135253906, 347.0437316894531, 336.5865173339844, 316.6183776855469, 301.579833984375, 300.75665283203125, 358.55810546875, 276.9442443847656, 255.1746368408203, 251.8306427001953, 238.79322814941406, 238.81666564941406, 237.05149841308594, 233.7010498046875, 232.1060028076172, 230.46978759765625, 4549.9541015625, 3096.925048828125, 568.465576171875, 2031.8865966796875, 886.9439086914062, 454.0336608886719, 858.6446533203125, 481.4416198730469, 854.2352294921875, 2827.782958984375, 1037.9757080078125, 4141.2587890625, 1381.7843017578125, 573.4484252929688, 801.243408203125, 1286.19482421875, 2136.299072265625, 5468.2119140625, 2254.80712890625, 677.923095703125, 3121.23974609375, 1384.1461181640625, 1430.15478515625, 17051.40234375, 6607.212890625, 3745.590087890625, 788.7661743164062, 749.3020629882812, 650.776123046875, 699.6267700195312, 551.9873046875, 341.6511535644531, 319.9775390625, 286.1839294433594, 254.7110137939453, 223.8009796142578, 175.70205688476562, 148.6979217529297, 149.15223693847656, 147.8262176513672, 126.66781616210938, 116.23883819580078, 115.0379867553711, 112.1846694946289, 107.41153717041016, 107.14519500732422, 102.57791137695312, 99.39449310302734, 99.59599304199219, 91.0300064086914, 90.33190155029297, 87.35519409179688, 86.6358871459961, 87.44558715820312, 538.7373657226562, 1151.58642578125, 91.7589340209961, 778.1969604492188, 2087.50537109375, 966.201416015625, 4715.9921875, 1353.1453857421875, 240.77149963378906, 318.9072265625, 319.5655212402344, 2335.11328125, 1552.2025146484375, 1433.595947265625, 715.930908203125, 2887.13330078125, 635.6928100585938, 10862.3984375, 9089.1513671875, 23837.34765625, 14944.6796875, 7777.4052734375, 1305.0775146484375, 13216.041015625, 1404.3494873046875, 5468.2119140625, 2619.825439453125, 10571.3330078125, 2850.9833984375, 17051.40234375, 9763.998046875, 2613.67431640625, 5136.35498046875, 14358.62890625, 4426.70361328125, 4802.27783203125, 6695.81298828125, 5273.2939453125, 2898.18994140625, 744.4909057617188, 503.2705078125, 382.2777404785156, 365.2599792480469, 348.2756042480469, 345.5212707519531, 309.8262634277344, 286.3190002441406, 281.1415710449219, 277.36572265625, 237.87957763671875, 206.73846435546875, 189.0944061279297, 181.1048126220703, 164.80450439453125, 164.84510803222656, 159.80148315429688, 154.47683715820312, 144.43455505371094, 166.67567443847656, 142.79440307617188, 134.13726806640625, 129.95716857910156, 127.14283752441406, 121.6533432006836, 110.7738265991211, 113.12406158447266, 106.09295654296875, 106.42548370361328, 4973.59619140625, 1617.7994384765625, 720.1324462890625, 16331.1259765625, 5273.2939453125, 2317.35546875, 791.364501953125, 1746.8187255859375, 1600.90380859375, 1310.0352783203125, 598.38330078125, 7878.95556640625, 2301.531494140625, 2653.455810546875, 5136.35498046875, 6695.81298828125, 13216.041015625, 7777.4052734375, 2369.372314453125, 10571.3330078125, 4802.27783203125, 14358.62890625, 14944.6796875, 3958.68603515625, 1359.0413818359375, 2884.8427734375, 9089.1513671875, 2474.732421875, 23837.34765625, 4375.72802734375, 4426.70361328125, 17051.40234375, 9245.7734375, 5468.2119140625, 4870.45166015625, 3382.051513671875, 9763.998046875], \"Category\": [\"Default\", \"Default\", \"Default\", \"Default\", \"Default\", \"Default\", \"Default\", \"Default\", \"Default\", \"Default\", \"Default\", \"Default\", \"Default\", \"Default\", \"Default\", \"Default\", \"Default\", \"Default\", \"Default\", \"Default\", \"Default\", \"Default\", \"Default\", \"Default\", \"Default\", \"Default\", \"Default\", \"Default\", \"Default\", \"Default\", \"Topic1\", \"Topic1\", \"Topic1\", \"Topic1\", \"Topic1\", \"Topic1\", \"Topic1\", \"Topic1\", \"Topic1\", \"Topic1\", \"Topic1\", \"Topic1\", \"Topic1\", \"Topic1\", \"Topic1\", \"Topic1\", \"Topic1\", \"Topic1\", \"Topic1\", \"Topic1\", \"Topic1\", \"Topic1\", \"Topic1\", \"Topic1\", \"Topic1\", \"Topic1\", \"Topic1\", \"Topic1\", \"Topic1\", \"Topic1\", \"Topic1\", \"Topic1\", \"Topic1\", \"Topic1\", \"Topic1\", \"Topic1\", \"Topic1\", \"Topic1\", \"Topic1\", \"Topic1\", \"Topic1\", \"Topic1\", \"Topic1\", \"Topic1\", \"Topic1\", \"Topic1\", \"Topic1\", \"Topic1\", \"Topic1\", \"Topic1\", \"Topic1\", \"Topic1\", \"Topic1\", \"Topic1\", \"Topic1\", \"Topic1\", \"Topic1\", \"Topic1\", \"Topic1\", \"Topic1\", \"Topic1\", \"Topic1\", \"Topic1\", \"Topic1\", \"Topic1\", \"Topic1\", \"Topic2\", \"Topic2\", \"Topic2\", \"Topic2\", \"Topic2\", \"Topic2\", \"Topic2\", \"Topic2\", \"Topic2\", \"Topic2\", \"Topic2\", \"Topic2\", \"Topic2\", \"Topic2\", \"Topic2\", \"Topic2\", \"Topic2\", \"Topic2\", \"Topic2\", \"Topic2\", \"Topic2\", \"Topic2\", \"Topic2\", \"Topic2\", \"Topic2\", \"Topic2\", \"Topic2\", \"Topic2\", \"Topic2\", \"Topic2\", \"Topic2\", \"Topic2\", \"Topic2\", \"Topic2\", \"Topic2\", \"Topic2\", \"Topic2\", \"Topic2\", \"Topic2\", \"Topic2\", \"Topic2\", \"Topic2\", \"Topic2\", \"Topic2\", \"Topic2\", \"Topic2\", \"Topic2\", \"Topic2\", \"Topic2\", \"Topic2\", \"Topic2\", \"Topic2\", \"Topic2\", \"Topic2\", \"Topic2\", \"Topic2\", \"Topic2\", \"Topic3\", \"Topic3\", \"Topic3\", \"Topic3\", \"Topic3\", \"Topic3\", \"Topic3\", \"Topic3\", \"Topic3\", \"Topic3\", \"Topic3\", \"Topic3\", \"Topic3\", \"Topic3\", \"Topic3\", \"Topic3\", \"Topic3\", \"Topic3\", \"Topic3\", \"Topic3\", \"Topic3\", \"Topic3\", \"Topic3\", \"Topic3\", \"Topic3\", \"Topic3\", \"Topic3\", \"Topic3\", \"Topic3\", \"Topic3\", \"Topic3\", \"Topic3\", \"Topic3\", \"Topic3\", \"Topic3\", \"Topic3\", \"Topic3\", \"Topic3\", \"Topic3\", \"Topic3\", \"Topic3\", \"Topic3\", \"Topic3\", \"Topic3\", \"Topic3\", \"Topic3\", \"Topic3\", \"Topic3\", \"Topic3\", \"Topic3\", \"Topic3\", \"Topic3\", \"Topic3\", \"Topic3\", \"Topic3\", \"Topic3\", \"Topic3\", \"Topic3\", \"Topic3\", \"Topic3\", \"Topic3\", \"Topic3\", \"Topic3\", \"Topic3\", \"Topic3\", \"Topic3\", \"Topic4\", \"Topic4\", \"Topic4\", \"Topic4\", \"Topic4\", \"Topic4\", \"Topic4\", \"Topic4\", \"Topic4\", \"Topic4\", \"Topic4\", \"Topic4\", \"Topic4\", \"Topic4\", \"Topic4\", \"Topic4\", \"Topic4\", \"Topic4\", \"Topic4\", \"Topic4\", \"Topic4\", \"Topic4\", \"Topic4\", \"Topic4\", \"Topic4\", \"Topic4\", \"Topic4\", \"Topic4\", \"Topic4\", \"Topic4\", \"Topic4\", \"Topic4\", \"Topic4\", \"Topic4\", \"Topic4\", \"Topic4\", \"Topic4\", \"Topic4\", \"Topic4\", \"Topic4\", \"Topic4\", \"Topic4\", \"Topic4\", \"Topic4\", \"Topic4\", \"Topic4\", \"Topic4\", \"Topic4\", \"Topic4\", \"Topic4\", \"Topic4\", \"Topic4\", \"Topic4\", \"Topic4\", \"Topic5\", \"Topic5\", \"Topic5\", \"Topic5\", \"Topic5\", \"Topic5\", \"Topic5\", \"Topic5\", \"Topic5\", \"Topic5\", \"Topic5\", \"Topic5\", \"Topic5\", \"Topic5\", \"Topic5\", \"Topic5\", \"Topic5\", \"Topic5\", \"Topic5\", \"Topic5\", \"Topic5\", \"Topic5\", \"Topic5\", \"Topic5\", \"Topic5\", \"Topic5\", \"Topic5\", \"Topic5\", \"Topic5\", \"Topic5\", \"Topic5\", \"Topic5\", \"Topic5\", \"Topic5\", \"Topic5\", \"Topic5\", \"Topic5\", \"Topic5\", \"Topic5\", \"Topic5\", \"Topic5\", \"Topic5\", \"Topic5\", \"Topic5\", \"Topic5\", \"Topic5\", \"Topic5\", \"Topic5\", \"Topic5\", \"Topic5\", \"Topic5\", \"Topic5\", \"Topic5\", \"Topic5\", \"Topic5\", \"Topic5\", \"Topic5\", \"Topic5\", \"Topic5\", \"Topic5\", \"Topic5\", \"Topic5\", \"Topic5\", \"Topic5\", \"Topic5\", \"Topic5\", \"Topic5\", \"Topic5\", \"Topic6\", \"Topic6\", \"Topic6\", \"Topic6\", \"Topic6\", \"Topic6\", \"Topic6\", \"Topic6\", \"Topic6\", \"Topic6\", \"Topic6\", \"Topic6\", \"Topic6\", \"Topic6\", \"Topic6\", \"Topic6\", \"Topic6\", \"Topic6\", \"Topic6\", \"Topic6\", \"Topic6\", \"Topic6\", \"Topic6\", \"Topic6\", \"Topic6\", \"Topic6\", \"Topic6\", \"Topic6\", \"Topic6\", \"Topic6\", \"Topic6\", \"Topic6\", \"Topic6\", \"Topic6\", \"Topic6\", \"Topic6\", \"Topic6\", \"Topic6\", \"Topic6\", \"Topic6\", \"Topic6\", \"Topic6\", \"Topic6\", \"Topic6\", \"Topic6\", \"Topic6\", \"Topic6\", \"Topic6\", \"Topic6\", \"Topic6\", \"Topic6\", \"Topic6\", \"Topic6\", \"Topic6\", \"Topic6\", \"Topic6\", \"Topic6\", \"Topic6\", \"Topic6\", \"Topic6\", \"Topic6\", \"Topic6\", \"Topic6\", \"Topic6\", \"Topic6\", \"Topic6\", \"Topic6\"], \"logprob\": [30.0, 29.0, 28.0, 27.0, 26.0, 25.0, 24.0, 23.0, 22.0, 21.0, 20.0, 19.0, 18.0, 17.0, 16.0, 15.0, 14.0, 13.0, 12.0, 11.0, 10.0, 9.0, 8.0, 7.0, 6.0, 5.0, 4.0, 3.0, 2.0, 1.0, -3.878200054168701, -4.149199962615967, -4.809700012207031, -5.37060022354126, -5.728700160980225, -5.837600231170654, -5.852700233459473, -5.896100044250488, -5.995100021362305, -6.196499824523926, -6.450699806213379, -6.452300071716309, -6.4679999351501465, -6.473599910736084, -6.505499839782715, -6.529399871826172, -6.541800022125244, -6.517899990081787, -6.648399829864502, -6.753499984741211, -6.8343000411987305, -6.856800079345703, -6.886300086975098, -6.899600028991699, -6.916200160980225, -6.896699905395508, -6.954999923706055, -6.9770002365112305, -7.0015997886657715, -7.010499954223633, -6.6645002365112305, -6.979700088500977, -4.639999866485596, -3.97979998588562, -5.752600193023682, -4.93209981918335, -5.469900131225586, -6.167300224304199, -3.875, -4.3628997802734375, -4.871500015258789, -5.178699970245361, -5.933199882507324, -5.278800010681152, -4.546899795532227, -4.237599849700928, -5.102700233459473, -4.607999801635742, -5.270100116729736, -4.6890997886657715, -5.560699939727783, -3.672800064086914, -4.55210018157959, -3.722399950027466, -3.8678998947143555, -4.88040018081665, -5.107100009918213, -4.762400150299072, -4.418399810791016, -4.799200057983398, -5.146900177001953, -4.807600021362305, -4.678800106048584, -4.767300128936768, -5.087299823760986, -5.030300140380859, -3.8055999279022217, -4.4303998947143555, -4.473499774932861, -4.652200222015381, -4.8927001953125, -4.934800148010254, -5.065199851989746, -5.247700214385986, -5.320099830627441, -5.446899890899658, -5.553400039672852, -5.706200122833252, -5.813700199127197, -5.822999954223633, -5.870100021362305, -5.898099899291992, -5.9481000900268555, -5.96560001373291, -5.977499961853027, -6.0167999267578125, -4.959400177001953, -6.123199939727783, -6.11929988861084, -6.207900047302246, -6.209799766540527, -6.22130012512207, -6.234000205993652, -6.279900074005127, -6.235000133514404, -6.327600002288818, -4.497499942779541, -6.047399997711182, -3.9363999366760254, -5.928299903869629, -4.5472002029418945, -4.085599899291992, -5.3267998695373535, -4.520400047302246, -4.711599826812744, -4.857900142669678, -4.453000068664551, -4.713699817657471, -3.666599988937378, -4.292799949645996, -5.047599792480469, -4.577199935913086, -5.05049991607666, -5.366000175476074, -5.083600044250488, -4.277599811553955, -4.434100151062012, -4.434700012207031, -5.236100196838379, -5.10260009765625, -5.106500148773193, -5.163300037384033, -5.072700023651123, -4.606599807739258, -5.2129998207092285, -5.395400047302246, -5.452499866485596, -5.58650016784668, -5.789899826049805, -5.797299861907959, -5.844799995422363, -5.880199909210205, -5.89169979095459, -5.911600112915039, -6.008999824523926, -6.045199871063232, -6.076700210571289, -6.1209001541137695, -6.201900005340576, -6.225800037384033, -6.275899887084961, -6.319200038909912, -6.371399879455566, -6.377099990844727, -6.4369001388549805, -6.510799884796143, -6.562900066375732, -6.649499893188477, -6.666399955749512, -6.690299987792969, -6.740099906921387, -6.753900051116943, -6.778600215911865, -6.262400150299072, -6.729599952697754, -5.577700138092041, -5.016900062561035, -5.926000118255615, -6.205399990081787, -6.088399887084961, -5.067299842834473, -4.4878997802734375, -4.231100082397461, -5.808700084686279, -5.751200199127197, -5.382199764251709, -5.211400032043457, -5.196199893951416, -3.855600118637085, -3.1644999980926514, -3.8810999393463135, -5.170100212097168, -4.315999984741211, -4.532100200653076, -5.1605000495910645, -4.027299880981445, -5.519999980926514, -4.357500076293945, -5.349400043487549, -5.667500019073486, -4.686299800872803, -5.661600112915039, -5.638700008392334, -5.645299911499023, -5.286200046539307, -5.613999843597412, -5.635700225830078, -5.4552001953125, -5.634699821472168, -4.226399898529053, -4.492599964141846, -4.598100185394287, -4.785999774932861, -5.096399784088135, -5.260499954223633, -5.3831000328063965, -5.493599891662598, -5.49560022354126, -5.653200149536133, -5.678400039672852, -5.6921000480651855, -5.731500148773193, -5.769400119781494, -5.800099849700928, -5.8317999839782715, -5.862500190734863, -5.923799991607666, -5.972599983215332, -5.975399971008301, -5.799699783325195, -6.05810022354126, -6.140200138092041, -6.15339994430542, -6.2067999839782715, -6.206699848175049, -6.214099884033203, -6.228400230407715, -6.235300064086914, -6.242400169372559, -3.583899974822998, -3.9456000328063965, -5.438600063323975, -4.411200046539307, -5.133600234985352, -5.682700157165527, -5.260000228881836, -5.69189977645874, -5.30109977722168, -4.603000164031982, -5.222400188446045, -4.434700012207031, -5.101200103759766, -5.593200206756592, -5.433199882507324, -5.2459001541137695, -5.0671000480651855, -4.77209997177124, -5.140699863433838, -5.584799766540527, -5.228400230407715, -5.423099994659424, -5.482800006866455, -5.411200046539307, -3.0929999351501465, -3.6607000827789307, -5.219399929046631, -5.2708001136779785, -5.4120001792907715, -5.339600086212158, -5.5767998695373535, -6.057499885559082, -6.123300075531006, -6.235099792480469, -6.3520002365112305, -6.482100009918213, -6.724999904632568, -6.892499923706055, -6.889500141143799, -6.898499965667725, -7.053999900817871, -7.140399932861328, -7.151000022888184, -7.176300048828125, -7.21999979019165, -7.222499847412109, -7.26639986038208, -7.2982001304626465, -7.296299934387207, -7.38700008392334, -7.394700050354004, -7.428500175476074, -7.436800003051758, -7.427599906921387, -5.617400169372559, -4.874199867248535, -7.380099773406982, -5.287499904632568, -4.333700180053711, -5.101099967956543, -3.59089994430542, -4.791900157928467, -6.454800128936768, -6.2332000732421875, -6.238399982452393, -4.461400032043457, -4.837399959564209, -4.923999786376953, -5.541100025177002, -4.369900226593018, -5.662499904632568, -3.2939999103546143, -3.5446999073028564, -2.8506999015808105, -3.2795000076293945, -3.8048999309539795, -5.174499988555908, -3.5304999351501465, -5.156000137329102, -4.247099876403809, -4.752600193023682, -3.875200033187866, -4.710400104522705, -3.6115000247955322, -3.9618000984191895, -4.7906999588012695, -4.562600135803223, -4.34119987487793, -4.755499839782715, -4.731299877166748, -4.940000057220459, -5.0843000411987305, -4.2891998291015625, -5.649199962615967, -6.041299819946289, -6.31689977645874, -6.362500190734863, -6.410200119018555, -6.4182000160217285, -6.527500152587891, -6.606599807739258, -6.624899864196777, -6.638500213623047, -6.792600154876709, -6.9334001541137695, -7.0229997634887695, -7.066400051116943, -7.161200046539307, -7.160999774932861, -7.192200183868408, -7.226600170135498, -7.293900012969971, -7.150700092315674, -7.3053998947143555, -7.368299961090088, -7.400199890136719, -7.422100067138672, -7.466700077056885, -7.560999870300293, -7.54010009765625, -7.604499816894531, -7.601399898529053, -3.864000082015991, -4.968299865722656, -5.751500129699707, -2.780100107192993, -3.878700017929077, -4.668000221252441, -5.7042999267578125, -5.035799980163574, -5.116000175476074, -5.303199768066406, -6.014500141143799, -3.740499973297119, -4.83459997177124, -4.719299793243408, -4.178400039672852, -3.9514999389648438, -3.3868000507354736, -3.8413000106811523, -4.877500057220459, -3.6405999660491943, -4.3105998039245605, -3.427000045776367, -3.4142000675201416, -4.548600196838379, -5.381499767303467, -4.820199966430664, -3.9800000190734863, -4.944499969482422, -3.386699914932251, -4.589700222015381, -4.596199989318848, -3.75600004196167, -4.225200176239014, -4.703999996185303, -4.842700004577637, -4.936200141906738, -4.831699848175049], \"loglift\": [30.0, 29.0, 28.0, 27.0, 26.0, 25.0, 24.0, 23.0, 22.0, 21.0, 20.0, 19.0, 18.0, 17.0, 16.0, 15.0, 14.0, 13.0, 12.0, 11.0, 10.0, 9.0, 8.0, 7.0, 6.0, 5.0, 4.0, 3.0, 2.0, 1.0, 1.82669997215271, 1.8265999555587769, 1.8260999917984009, 1.8257999420166016, 1.8252999782562256, 1.8250999450683594, 1.8250999450683594, 1.8250000476837158, 1.8248000144958496, 1.8238999843597412, 1.8235000371932983, 1.8235000371932983, 1.8234000205993652, 1.8234000205993652, 1.8233000040054321, 1.823199987411499, 1.823199987411499, 1.823199987411499, 1.822700023651123, 1.8222999572753906, 1.8219000101089478, 1.8217999935150146, 1.8215999603271484, 1.8214999437332153, 1.8214000463485718, 1.8214000463485718, 1.8212000131607056, 1.8210999965667725, 1.8208999633789062, 1.8208999633789062, 1.8193999528884888, 1.8207999467849731, 1.7390999794006348, 1.6375000476837158, 1.714400053024292, 1.5982999801635742, 1.6549999713897705, 1.735700011253357, 1.4082000255584717, 1.4754999876022339, 1.476699948310852, 1.5262000560760498, 1.660099983215332, 1.4758000373840332, 1.2799999713897705, 1.1526999473571777, 1.405900001525879, 1.2107000350952148, 1.3490999937057495, 1.055799961090088, 1.4318000078201294, 0.52920001745224, 0.8547000288963318, 0.3077000081539154, 0.2054000049829483, 0.9265000224113464, 1.0002000331878662, 0.6022999882698059, 0.16930000483989716, 0.5521000027656555, 0.9639000296592712, 0.27070000767707825, -0.17059999704360962, -0.1251000016927719, 0.5605999827384949, 0.066600002348423, 1.9664000272750854, 1.9660999774932861, 1.9660999774932861, 1.965999960899353, 1.9658000469207764, 1.9657000303268433, 1.9657000303268433, 1.965499997138977, 1.965399980545044, 1.9651999473571777, 1.965000033378601, 1.9648000001907349, 1.9645999670028687, 1.9645999670028687, 1.9644999504089355, 1.964400053024292, 1.9643000364303589, 1.9642000198364258, 1.9642000198364258, 1.9641000032424927, 1.9638999700546265, 1.9637999534606934, 1.9637999534606934, 1.9636000394821167, 1.9636000394821167, 1.9635000228881836, 1.9635000228881836, 1.9632999897003174, 1.9631999731063843, 1.9631999731063843, 1.95169997215271, 1.9629000425338745, 1.8704999685287476, 1.9352999925613403, 1.7826999425888062, 1.688599944114685, 1.8349000215530396, 1.6563999652862549, 1.6827000379562378, 1.7027000188827515, 1.6002999544143677, 1.614300012588501, 0.9210000038146973, 1.1139999628067017, 1.4936000108718872, 1.1509000062942505, 1.4386999607086182, 1.565500020980835, 1.2934000492095947, 0.5246000289916992, 0.6628000140190125, 0.5302000045776367, 1.4258999824523926, 0.857699990272522, 0.6294999718666077, 0.7271999716758728, -0.8707000017166138, 1.5882999897003174, 1.5880000591278076, 1.5878000259399414, 1.5878000259399414, 1.5875999927520752, 1.587399959564209, 1.5872999429702759, 1.5872999429702759, 1.5872000455856323, 1.5872000455856323, 1.5872000455856323, 1.5870000123977661, 1.586899995803833, 1.586899995803833, 1.5867999792099, 1.5865999460220337, 1.5865999460220337, 1.5865000486373901, 1.586400032043457, 1.5861999988555908, 1.5861999988555908, 1.5860999822616577, 1.5858999490737915, 1.5857000350952148, 1.5855000019073486, 1.5853999853134155, 1.5852999687194824, 1.5851000547409058, 1.5851000547409058, 1.5850000381469727, 1.5839999914169312, 1.5849000215530396, 1.5397000312805176, 1.482100009918213, 1.5383000373840332, 1.5298999547958374, 1.5140000581741333, 1.3662999868392944, 1.2762999534606934, 1.1335999965667725, 1.4457999467849731, 1.426900029182434, 1.316100001335144, 1.2653000354766846, 1.2414000034332275, 0.7865999937057495, 0.5306000113487244, 0.5999000072479248, 1.1445000171661377, 0.7623000144958496, 0.5648000240325928, 0.9047999978065491, 0.002899999963119626, 1.1323000192642212, -0.19539999961853027, 0.8465999960899353, 1.2431000471115112, -0.40139999985694885, 1.2039999961853027, 1.1039999723434448, 1.1052000522613525, -0.48399999737739563, 0.8761000037193298, 0.9347000122070312, -1.2532000541687012, -0.31929999589920044, 2.0947999954223633, 2.094599962234497, 2.0945000648498535, 2.094399929046631, 2.094099998474121, 2.093899965286255, 2.0936999320983887, 2.0934998989105225, 2.0934998989105225, 2.0931999683380127, 2.0931999683380127, 2.0931999683380127, 2.093100070953369, 2.0929999351501465, 2.092900037765503, 2.0927999019622803, 2.0927999019622803, 2.092600107192993, 2.0924999713897705, 2.0924999713897705, 2.092400074005127, 2.0922000408172607, 2.0920000076293945, 2.091900110244751, 2.0917999744415283, 2.0917000770568848, 2.0917000770568848, 2.0917000770568848, 2.091599941253662, 2.091599941253662, 1.767300009727478, 1.7903000116348267, 1.9924999475479126, 1.7461999654769897, 1.8526999950408936, 1.9731999635696411, 1.7587000131607056, 1.905500054359436, 1.7228000164031982, 1.2237999439239502, 1.6066999435424805, 1.010599970817566, 1.4417999982833862, 1.829200029373169, 1.6548000574111938, 1.3688000440597534, 1.0401999950408936, 0.3953000009059906, 0.9125999808311462, 1.670300006866455, 0.49970000982284546, 1.1181000471115112, 1.0257999897003174, -1.38100004196167, 1.885200023651123, 1.88510000705719, 1.8841999769210815, 1.8841999769210815, 1.8839999437332153, 1.8839000463485718, 1.8838000297546387, 1.8827999830245972, 1.882599949836731, 1.8823000192642212, 1.8819999694824219, 1.8812999725341797, 1.8803000450134277, 1.879699945449829, 1.8796000480651855, 1.8796000480651855, 1.878600001335144, 1.878100037574768, 1.8779000043869019, 1.8776999711990356, 1.877500057220459, 1.8774000406265259, 1.8770999908447266, 1.8768999576568604, 1.8767000436782837, 1.8760000467300415, 1.8759000301361084, 1.8756999969482422, 1.875599980354309, 1.875499963760376, 1.8674999475479126, 1.8509999513626099, 1.8747999668121338, 1.829699993133545, 1.7967000007629395, 1.7996000051498413, 1.7244999408721924, 1.7719999551773071, 1.8353999853134155, 1.7760000228881836, 1.7687000036239624, 1.5568000078201294, 1.5893000364303589, 1.582200050354004, 1.6593999862670898, 1.4362000226974487, 1.6569000482559204, 1.1871000528335571, 1.1145999431610107, 0.8443999886512756, 0.8824999928474426, 1.0103000402450562, 1.4256000518798828, 0.7544999718666077, 1.3708000183105469, 0.9203000068664551, 1.1505999565124512, 0.6330000162124634, 1.108299970626831, 0.4187000095844269, 0.6258000135421753, 1.11489999294281, 0.6674000024795532, -0.13920000195503235, 0.623199999332428, 0.5659999847412109, 0.024900000542402267, 0.11940000206232071, 1.513100028038025, 1.5121999979019165, 1.5117000341415405, 1.5111000537872314, 1.5110000371932983, 1.5109000205993652, 1.5109000205993652, 1.510599970817566, 1.5104000568389893, 1.5103000402450562, 1.5103000402450562, 1.5097999572753906, 1.5091999769210815, 1.5088000297546387, 1.5085999965667725, 1.5082000494003296, 1.5081000328063965, 1.5080000162124634, 1.5075000524520874, 1.5074000358581543, 1.5073000192642212, 1.5073000192642212, 1.5068999528884888, 1.506700038909912, 1.506700038909912, 1.5062999725341797, 1.5055999755859375, 1.5054999589920044, 1.5053000450134277, 1.5053000450134277, 1.3982000350952148, 1.4170000553131104, 1.4431999921798706, 1.2932000160217285, 1.3250000476837158, 1.3580000400543213, 1.3961000442504883, 1.2727999687194824, 1.2798000574111938, 1.2930999994277954, 1.365399956703186, 1.0615999698638916, 1.198199987411499, 1.1712000370025635, 1.0515999794006348, 1.0133999586105347, 0.8981000185012817, 0.9739000201225281, 1.1262999773025513, 0.8676000237464905, 0.9866999983787537, 0.7749999761581421, 0.7477999925613403, 0.9417999982833862, 1.1779999732971191, 0.9866999983787537, 0.6793000102043152, 1.0156999826431274, 0.3084000051021576, 0.800599992275238, 0.7825000286102295, 0.27410000562667847, 0.4169999957084656, 0.4634000062942505, 0.4404999911785126, 0.7117000222206116, -0.24400000274181366]}, \"token.table\": {\"Topic\": [5, 2, 4, 1, 4, 1, 3, 4, 4, 3, 5, 2, 6, 2, 5, 6, 1, 3, 3, 2, 4, 6, 2, 2, 3, 5, 5, 5, 2, 3, 4, 5, 1, 3, 6, 6, 3, 5, 5, 2, 3, 5, 6, 1, 2, 3, 4, 5, 5, 3, 5, 6, 3, 2, 4, 1, 3, 4, 5, 1, 2, 6, 3, 5, 6, 1, 2, 3, 4, 1, 4, 3, 1, 1, 2, 4, 6, 1, 5, 1, 6, 3, 5, 6, 5, 3, 5, 5, 1, 2, 4, 1, 4, 2, 4, 4, 3, 3, 4, 3, 1, 3, 6, 1, 5, 2, 4, 6, 1, 3, 5, 6, 1, 4, 2, 1, 4, 2, 4, 1, 3, 5, 3, 4, 1, 3, 4, 1, 3, 5, 2, 2, 6, 2, 2, 2, 1, 2, 3, 4, 6, 3, 5, 6, 2, 5, 1, 3, 5, 6, 3, 5, 2, 3, 4, 6, 1, 6, 1, 6, 4, 1, 1, 2, 4, 5, 6, 4, 1, 4, 1, 3, 6, 2, 5, 6, 5, 1, 3, 5, 2, 3, 5, 6, 6, 4, 5, 5, 2, 1, 1, 5, 1, 3, 2, 6, 1, 5, 6, 2, 2, 6, 4, 6, 1, 3, 1, 3, 5, 6, 6, 5, 6, 1, 2, 4, 1, 4, 5, 1, 1, 2, 6, 1, 6, 6, 3, 5, 1, 5, 1, 3, 5, 2, 2, 3, 5, 4, 1, 2, 3, 4, 5, 6, 2, 4, 2, 5, 4, 3, 2, 3, 4, 1, 2, 4, 1, 3, 4, 2, 6, 6, 6, 1, 1, 2, 6, 2, 3, 1, 6, 2, 5, 6, 3, 2, 3, 4, 5, 6, 4, 1, 3, 5, 3, 3, 3, 5, 6, 1, 2, 1, 2, 4, 5, 1, 2, 3, 4, 6, 1, 2, 3, 4, 5, 6, 1, 2, 3, 4, 5, 6, 5, 1, 1, 2, 4, 1, 2, 2, 2, 5, 2, 3, 4, 1, 2, 3, 6, 1, 2, 3, 4, 5, 1, 2, 3, 4, 5, 4, 1, 3, 1, 1, 3, 5, 1, 4, 5, 2, 5, 5, 6, 6, 2, 5, 2, 4, 1, 3, 4, 6, 3, 2, 3, 5, 6, 6, 4, 4, 1, 3, 5, 6, 5, 6, 1, 6, 2, 1, 4, 3, 5, 6, 1, 6, 3, 4, 5, 3, 1, 3, 4, 2, 3, 4, 5, 6, 4, 2, 3, 4, 1, 5, 6, 1, 2, 5, 6, 6, 6, 2, 1, 2, 3, 5, 6, 3, 6, 2, 4, 5, 6, 4, 1, 2, 3, 4, 5, 6, 1, 3, 4, 3, 3, 3, 5, 3, 5, 4, 4, 1, 4, 2, 4, 1, 2, 5, 3, 4, 3, 2, 6, 1, 3, 4, 5, 3, 4, 2, 4, 5, 2, 4, 5, 2, 1, 5, 1, 3, 2, 6, 2, 4, 2, 4, 1, 4, 1, 3, 6, 6, 1, 3, 4, 6, 1, 3, 5, 6, 5, 3, 4, 4, 6, 1, 5, 1, 2, 3, 4, 5, 6, 1, 6, 2, 4, 6, 1, 1, 2, 4, 6, 6, 5, 2, 4, 6, 6, 4, 2, 5, 6, 2, 5, 2, 6, 1, 4, 1, 1, 3, 5, 1, 6, 1, 2, 3, 4, 5, 6, 5, 3, 4, 1, 3, 1, 6, 3, 5, 3, 5, 3, 2, 4, 2, 4, 3, 6, 1, 1, 4, 1, 3, 5, 1, 2, 3, 4, 6, 1, 6, 1, 2, 3, 5, 6, 5, 3, 1, 3, 6], \"Freq\": [0.9961686134338379, 0.9986443519592285, 0.9982028603553772, 0.9979375004768372, 0.9983820915222168, 0.05484383925795555, 0.9418833255767822, 0.999215304851532, 0.9991646409034729, 0.4016094207763672, 0.5981417298316956, 0.9990987777709961, 0.994629442691803, 0.9961910247802734, 0.9852554798126221, 0.9963024258613586, 0.14888107776641846, 0.8509441018104553, 0.9991257786750793, 0.6931856870651245, 0.3064563572406769, 0.996550440788269, 0.9951846599578857, 0.9962217807769775, 0.2011367231607437, 0.7975630164146423, 0.9998164176940918, 0.9922747611999512, 0.5100230574607849, 0.15815620124340057, 0.05946182459592819, 0.27278879284858704, 0.2018449455499649, 0.6804772615432739, 0.1169101893901825, 0.9951184391975403, 0.14843112230300903, 0.8515705466270447, 0.9960310459136963, 0.02915586717426777, 0.4762124717235565, 0.26496031880378723, 0.22966638207435608, 0.9971752166748047, 0.7571927905082703, 0.15868505835533142, 0.08387159556150436, 0.9988073706626892, 0.9991041421890259, 0.07378773391246796, 0.2959297001361847, 0.6302134394645691, 0.9983260035514832, 0.9678208231925964, 0.02982080914080143, 0.08986033499240875, 0.16099976003170013, 0.6439990401268005, 0.10483705252408981, 0.40626129508018494, 0.002773114712908864, 0.5906734466552734, 0.1297674924135208, 0.06793709844350815, 0.8022684454917908, 0.05547171086072922, 0.10297144204378128, 0.7317615747451782, 0.10994692891836166, 0.34517189860343933, 0.6534664630889893, 0.9958661198616028, 0.9964030981063843, 0.3782399594783783, 0.42633312940597534, 0.09874200075864792, 0.09665099531412125, 0.9940478801727295, 0.9969449639320374, 0.20800749957561493, 0.7920525670051575, 0.3471023738384247, 0.3531433045864105, 0.29969778656959534, 0.9982113838195801, 0.10641872137784958, 0.8927348256111145, 0.9982622861862183, 0.7954127192497253, 0.18152275681495667, 0.022869009524583817, 0.09675168246030807, 0.9024293422698975, 0.9973157644271851, 0.9980469346046448, 0.9985092282295227, 0.9986909627914429, 0.8989405035972595, 0.10042093694210052, 0.9995259046554565, 0.2905126214027405, 0.7067403197288513, 0.0026054943446069956, 0.8417387008666992, 0.15669290721416473, 0.6227666139602661, 0.37640535831451416, 0.9953932762145996, 0.05148995667695999, 0.05148995667695999, 0.4627494812011719, 0.4342539608478546, 0.2795632481575012, 0.7204468250274658, 0.9964856505393982, 0.6565722823143005, 0.34331947565078735, 0.38536548614501953, 0.6136944890022278, 0.9987266063690186, 0.20292820036411285, 0.7959819436073303, 0.9942362904548645, 0.9965803623199463, 0.1624257117509842, 0.6410631537437439, 0.19640839099884033, 0.03543351963162422, 0.220976322889328, 0.7434597015380859, 0.9994750022888184, 0.7028089165687561, 0.29653400182724, 0.9995647072792053, 0.9993203282356262, 0.9995670914649963, 0.2817816436290741, 0.1924867182970047, 0.069780133664608, 0.00739196315407753, 0.44854432344436646, 0.9974122643470764, 0.9949043989181519, 0.9944367408752441, 0.999127209186554, 0.9926602244377136, 0.9937916994094849, 0.3720172941684723, 0.49749600887298584, 0.13045001029968262, 0.9939178824424744, 0.002664659172296524, 0.6692219376564026, 0.21880462765693665, 0.023481473326683044, 0.08752185106277466, 0.509629487991333, 0.4902041554450989, 0.8273307085037231, 0.17234861850738525, 0.9985896348953247, 0.9962185025215149, 0.1356498748064041, 0.03414895758032799, 0.02005423605442047, 0.28586745262145996, 0.5242480039596558, 0.9966217875480652, 0.9956856966018677, 0.9955642819404602, 0.46262142062187195, 0.19547384977340698, 0.34175345301628113, 0.03596469387412071, 0.46294981241226196, 0.50121009349823, 0.9972085356712341, 0.0017673441907390952, 0.6159194707870483, 0.38263002038002014, 0.23645265400409698, 0.12577809393405914, 0.0011422834359109402, 0.636505663394928, 0.9993405938148499, 0.03299795836210251, 0.9664928317070007, 0.9893117547035217, 0.9955120086669922, 0.9951547980308533, 0.08431115746498108, 0.9154467582702637, 0.9946301579475403, 0.996681809425354, 0.9967269897460938, 0.9995894432067871, 0.14201593399047852, 0.26737311482429504, 0.5905531048774719, 0.997937023639679, 0.13703590631484985, 0.862323522567749, 0.09148228913545609, 0.9080235362052917, 0.3656827211380005, 0.6336885690689087, 6.691344606224447e-05, 0.1679527461528778, 0.3668864071369171, 0.46511536836624146, 0.991011381149292, 0.6383494734764099, 0.36160436272621155, 0.6738324165344238, 0.1395309567451477, 0.18604126572608948, 0.9998210668563843, 0.9988412857055664, 0.9958630204200745, 0.9990032911300659, 0.15399423241615295, 0.059536803513765335, 0.7860002517700195, 0.3207600712776184, 0.6790828108787537, 0.9974755048751831, 0.9991784691810608, 0.9894400238990784, 0.539813756942749, 0.4598413407802582, 0.03697701916098595, 0.8005200028419495, 0.16217990219593048, 0.9984540343284607, 0.9974108338356018, 0.045686472207307816, 0.9511092305183411, 0.9952349066734314, 0.18816250562667847, 0.24099275469779968, 0.05065913498401642, 0.520341694355011, 0.9980940818786621, 0.9960020780563354, 0.28533339500427246, 0.7139158248901367, 0.016705729067325592, 0.9819256067276001, 0.9965904951095581, 0.9981240034103394, 0.9957471489906311, 0.9978189468383789, 0.9970002174377441, 0.14878316223621368, 0.7682219743728638, 0.08323018252849579, 0.578545093536377, 0.002829071367159486, 0.41834893822669983, 0.10993669927120209, 0.8896027207374573, 0.9964280128479004, 0.9942123889923096, 0.9968776106834412, 0.9980127215385437, 0.28943386673927307, 0.7103943228721619, 0.9965819120407104, 0.9982427954673767, 0.19759812951087952, 0.8023941516876221, 0.0005689043900929391, 0.17105057835578918, 0.8283247947692871, 0.9985297322273254, 0.18178682029247284, 0.5045145153999329, 0.08752698451280594, 0.08707813173532486, 0.13914546370506287, 0.9980773329734802, 0.17633187770843506, 0.6162710189819336, 0.20661109685897827, 0.9979329109191895, 0.9945375919342041, 0.7076300978660583, 0.13483646512031555, 0.15678657591342926, 0.998466968536377, 0.9995654821395874, 0.07774871587753296, 0.11351312696933746, 0.4835970401763916, 0.3249896466732025, 0.43767279386520386, 0.060384802520275116, 0.030426451936364174, 0.3482658565044403, 0.12357820570468903, 0.21886762976646423, 0.025100573897361755, 0.2047925442457199, 0.030906548723578453, 0.23071415722370148, 0.28959494829177856, 0.21095046401023865, 0.021245606243610382, 0.43762603402137756, 0.03161747753620148, 0.1028822660446167, 0.19572724401950836, 0.9947277903556824, 0.9946315288543701, 0.9159409999847412, 0.04853074252605438, 0.035015854984521866, 0.9938763976097107, 0.9980931282043457, 0.9959900975227356, 0.9963886737823486, 0.9943661093711853, 0.9979531168937683, 0.9977551102638245, 0.9990693926811218, 0.3354761004447937, 0.05281331017613411, 0.5199507474899292, 0.09074963629245758, 0.9972556829452515, 0.04756006598472595, 0.9524866938591003, 0.9984434843063354, 0.9944108724594116, 0.4218725860118866, 0.0032885391265153885, 0.2926799952983856, 0.13342073559761047, 0.14845405519008636, 0.9989163875579834, 0.2756452262401581, 0.7233147621154785, 0.9977807402610779, 0.9953343868255615, 0.3677942454814911, 0.6313801407814026, 0.7036452293395996, 0.11017931997776031, 0.18565931916236877, 0.08176349103450775, 0.9180280566215515, 0.4168485403060913, 0.583099365234375, 0.9896981120109558, 0.05268589034676552, 0.9457759857177734, 0.8759777545928955, 0.1222606971859932, 0.14769817888736725, 0.066520556807518, 0.7847170233726501, 0.9959394931793213, 0.9977665543556213, 0.014123078435659409, 0.156498983502388, 0.4798029661178589, 0.3496416211128235, 0.9930143356323242, 0.9969925284385681, 0.9974841475486755, 0.14201083779335022, 0.4483129680156708, 0.07560211420059204, 0.33409860730171204, 0.8968125581741333, 0.10034266114234924, 0.9920871257781982, 0.9966575503349304, 0.9985220432281494, 0.2319301813840866, 0.7672878503799438, 0.1366521120071411, 0.3227895498275757, 0.5404795408248901, 0.9971215128898621, 0.9986814260482788, 0.11509519070386887, 0.14578723907470703, 0.7387018799781799, 0.9995133280754089, 0.7045902013778687, 0.10006015002727509, 0.19475993514060974, 0.44245240092277527, 0.11149416118860245, 0.20280402898788452, 0.14449386298656464, 0.09899912029504776, 0.9982574582099915, 0.7330912947654724, 0.19318285584449768, 0.07325895130634308, 0.1427476704120636, 0.1420118659734726, 0.7152100205421448, 0.06908443570137024, 0.034759461879730225, 0.16597643494606018, 0.7295142412185669, 0.9926347136497498, 0.9973331689834595, 0.9971771836280823, 0.19059816002845764, 0.3514953553676605, 0.0016386730130761862, 0.2837976813316345, 0.1724703311920166, 0.9966113567352295, 0.9938995838165283, 0.08631706237792969, 0.1826922595500946, 0.3809289038181305, 0.3500230014324188, 0.9953967332839966, 0.07173725217580795, 0.5820500254631042, 0.09293235093355179, 0.0366838239133358, 0.10516029596328735, 0.11168186366558075, 0.9972180128097534, 0.9509619474411011, 0.0472753569483757, 0.9982619881629944, 0.9979500770568848, 0.7616268992424011, 0.23837824165821075, 0.9956707954406738, 0.9909769892692566, 0.9967015981674194, 0.9993705153465271, 0.1723988950252533, 0.8266838192939758, 0.9850729703903198, 0.01449605729430914, 0.9962624907493591, 0.9980656504631042, 0.9998424649238586, 0.3102189898490906, 0.6895056366920471, 0.9976882934570312, 0.06665440648794174, 0.9317730665206909, 0.9930016994476318, 0.1006375178694725, 0.17900630831718445, 0.7198794484138489, 0.9983729124069214, 0.9994845390319824, 0.09990715235471725, 0.7052558660507202, 0.1944006085395813, 0.5897948741912842, 0.25717800855636597, 0.15224938094615936, 0.9977060556411743, 0.7038056254386902, 0.29511547088623047, 0.8461155295372009, 0.15308691561222076, 0.10857334733009338, 0.8913067579269409, 0.9082590341567993, 0.09151922911405563, 0.9972416758537292, 0.0021172859705984592, 0.9136199355125427, 0.08459443598985672, 0.07097526639699936, 0.9289409518241882, 0.99498450756073, 0.9969913363456726, 0.22581471502780914, 0.4900659918785095, 0.1235460489988327, 0.1599234938621521, 0.18490983545780182, 0.16394329071044922, 0.08639230579137802, 0.5645812749862671, 0.9940158724784851, 0.9994109272956848, 0.9966781735420227, 0.9992374181747437, 0.9915215969085693, 0.9940140843391418, 0.9893423318862915, 0.17241135239601135, 0.18472644686698914, 0.0016903072828426957, 0.33806145191192627, 0.057711921632289886, 0.24557749927043915, 0.14369827508926392, 0.8561483025550842, 0.2625184655189514, 0.7371828556060791, 0.996337354183197, 0.9925148487091064, 0.740337073802948, 0.041697144508361816, 0.10466834902763367, 0.11317797005176544, 0.9969131946563721, 0.9964210391044617, 0.32973262667655945, 0.06182486563920975, 0.6081465482711792, 0.9984913468360901, 0.9979615807533264, 0.237760528922081, 0.15561963617801666, 0.6064984202384949, 0.9964745044708252, 0.9960042834281921, 0.9992023706436157, 0.9948733448982239, 0.1123264729976654, 0.8853968977928162, 0.9918169975280762, 0.6200985312461853, 0.3795565366744995, 0.9990286231040955, 0.8934311866760254, 0.10575307905673981, 0.062348876148462296, 0.03704788535833359, 0.10459250211715698, 0.03140034154057503, 0.2830548584461212, 0.4813965857028961, 0.9953064322471619, 0.9985091686248779, 0.9979584813117981, 0.13269038498401642, 0.8669105172157288, 0.9997910857200623, 0.990063488483429, 0.9990398287773132, 0.9917290210723877, 0.9973405003547668, 0.9886849522590637, 0.9982810616493225, 0.7528254985809326, 0.24699163436889648, 0.832231342792511, 0.16784989833831787, 0.9951130747795105, 0.9959461688995361, 0.9989755153656006, 0.994774580001831, 0.9976235032081604, 0.999015212059021, 0.1063944548368454, 0.888706624507904, 0.1719590723514557, 0.27148741483688354, 0.35908597707748413, 0.022325707599520683, 0.17502672970294952, 0.6578445434570312, 0.34206274151802063, 0.273145854473114, 0.05857105180621147, 0.05829247459769249, 0.13204602897167206, 0.47790077328681946, 0.9959338903427124, 0.9975284337997437, 0.2938251197338104, 0.6344305872917175, 0.0717298611998558], \"Term\": [\".....\", \"accenture\", \"access\", \"accomplish\", \"account\", \"actually\", \"actually\", \"administration\", \"administrator\", \"advancement\", \"advancement\", \"agile\", \"allowance\", \"amazon\", \"ambiente\", \"ample\", \"another\", \"another\", \"anyone\", \"application\", \"application\", \"appraisal\", \"at&t.\", \"automation\", \"average\", \"average\", \"balance\", \"bangalore\", \"base\", \"base\", \"base\", \"base\", \"become\", \"become\", \"become\", \"beginner\", \"benefit\", \"benefit\", \"benifits\", \"better\", \"better\", \"better\", \"better\", \"break\", \"business\", \"business\", \"business\", \"campus\", \"capgemini\", \"career\", \"career\", \"career\", \"carrier\", \"case\", \"case\", \"center\", \"center\", \"center\", \"center\", \"challenge\", \"challenge\", \"challenge\", \"chance\", \"chance\", \"chance\", \"change\", \"change\", \"change\", \"change\", \"check\", \"check\", \"choose\", \"clean\", \"client\", \"client\", \"client\", \"client\", \"coffee\", \"cognizant\", \"colleague\", \"colleague\", \"company\", \"company\", \"company\", \"compare\", \"compensation\", \"compensation\", \"competitive\", \"complete\", \"complete\", \"complete\", \"computer\", \"computer\", \"concept\", \"configuration\", \"configure\", \"constantly\", \"contract\", \"contract\", \"contractor\", \"could\", \"could\", \"could\", \"coworkers\", \"coworkers\", \"create\", \"create\", \"cultural\", \"culture\", \"culture\", \"culture\", \"culture\", \"customer\", \"customer\", \"cycle\", \"daily\", \"daily\", \"database\", \"database\", \"deadline\", \"decent\", \"decent\", \"decide\", \"defect\", \"department\", \"department\", \"department\", \"depend\", \"depend\", \"depend\", \"design\", \"develop\", \"develop\", \"developer\", \"developing\", \"development\", \"different\", \"different\", \"different\", \"different\", \"different\", \"direction\", \"disconnect\", \"discussion\", \"domain\", \"drawback\", \"easy\", \"employee\", \"employee\", \"employee\", \"employment\", \"employment\", \"engineer\", \"engineer\", \"engineer\", \"engineer\", \"enjoy\", \"enjoy\", \"enjoyable\", \"enjoyable\", \"ensure\", \"enter\", \"environment\", \"environment\", \"environment\", \"environment\", \"environment\", \"equipment\", \"ericsson\", \"error\", \"every\", \"every\", \"every\", \"excellent\", \"excellent\", \"excellent\", \"except\", \"expect\", \"expect\", \"expect\", \"experience\", \"experience\", \"experience\", \"experience\", \"explore\", \"facility\", \"facility\", \"factor\", \"feature\", \"finish\", \"flexible\", \"flexible\", \"floor\", \"force\", \"framework\", \"fresher\", \"friendly\", \"friendly\", \"friendly\", \"functional\", \"gain\", \"gain\", \"genpact\", \"genpact\", \"going\", \"going\", \"great\", \"great\", \"great\", \"great\", \"groom\", \"growth\", \"growth\", \"handle\", \"handle\", \"handle\", \"hard\", \"hardware\", \"healthcare\", \"healthy\", \"help\", \"help\", \"help\", \"helpful\", \"helpful\", \"hike\", \"hire\", \"hospital\", \"hours\", \"hours\", \"however\", \"however\", \"however\", \"implement\", \"implementation\", \"incentive\", \"incentive\", \"incident\", \"include\", \"include\", \"include\", \"include\", \"increment\", \"indeed\", \"information\", \"information\", \"infosys\", \"infosys\", \"installation\", \"instead\", \"integration\", \"interview\", \"invoice\", \"involve\", \"involve\", \"involve\", \"issue\", \"issue\", \"issue\", \"join\", \"join\", \"joining\", \"journey\", \"keep\", \"knowing\", \"knowledge\", \"knowledge\", \"language\", \"layoff\", \"learn\", \"learn\", \"learning\", \"learning\", \"learning\", \"least\", \"level\", \"level\", \"level\", \"level\", \"level\", \"linux\", \"little\", \"little\", \"little\", \"longer\", \"look\", \"looking\", \"looking\", \"looking\", \"lunch\", \"mahindra\", \"maintain\", \"maintain\", \"maintain\", \"maintain\", \"manage\", \"manage\", \"manage\", \"manage\", \"manage\", \"management\", \"management\", \"management\", \"management\", \"management\", \"management\", \"manager\", \"manager\", \"manager\", \"manager\", \"manager\", \"manager\", \"mandatory\", \"mates\", \"meeting\", \"meeting\", \"meeting\", \"merger\", \"methodology\", \"mobile\", \"model\", \"moderate\", \"module\", \"money\", \"monitoring\", \"month\", \"month\", \"month\", \"month\", \"morning\", \"move\", \"move\", \"mphasis\", \"multinational\", \"need\", \"need\", \"need\", \"need\", \"need\", \"network\", \"never\", \"never\", \"night\", \"notice\", \"offer\", \"offer\", \"office\", \"office\", \"office\", \"onsite\", \"onsite\", \"opportunity\", \"opportunity\", \"oppurtunities\", \"option\", \"option\", \"oracle\", \"oracle\", \"order\", \"order\", \"order\", \"outing\", \"outsource\", \"overall\", \"overall\", \"overall\", \"overall\", \"passion\", \"payment\", \"payroll\", \"people\", \"people\", \"people\", \"people\", \"perk\", \"perk\", \"permanent\", \"personally\", \"phase\", \"phone\", \"phone\", \"place\", \"place\", \"place\", \"pleasant\", \"pleasure\", \"policy\", \"policy\", \"policy\", \"position\", \"problem\", \"problem\", \"problem\", \"process\", \"process\", \"process\", \"process\", \"process\", \"processing\", \"product\", \"product\", \"product\", \"productive\", \"productive\", \"productive\", \"professional\", \"professional\", \"professional\", \"professional\", \"professionalism\", \"professionally\", \"programming\", \"project\", \"project\", \"project\", \"project\", \"project\", \"promise\", \"proud\", \"provide\", \"provide\", \"provide\", \"provide\", \"purchase\", \"quality\", \"quality\", \"quality\", \"quality\", \"quality\", \"quality\", \"quarter\", \"raise\", \"raise\", \"rather\", \"reason\", \"recommend\", \"recommend\", \"reduce\", \"relocation\", \"repair\", \"report\", \"request\", \"request\", \"requirement\", \"requirement\", \"resolving\", \"retail\", \"salary\", \"sales\", \"sales\", \"school\", \"scope\", \"scope\", \"sear\", \"security\", \"security\", \"security\", \"seem\", \"server\", \"service\", \"service\", \"service\", \"services\", \"services\", \"services\", \"sessions\", \"shift\", \"shift\", \"situation\", \"situation\", \"skill\", \"skill\", \"software\", \"software\", \"solution\", \"solution\", \"solve\", \"solve\", \"someone\", \"someone\", \"specially\", \"spirit\", \"staff\", \"staff\", \"staff\", \"staff\", \"start\", \"start\", \"start\", \"start\", \"steady\", \"still\", \"storage\", \"store\", \"strive\", \"struggle\", \"superb\", \"support\", \"support\", \"support\", \"support\", \"support\", \"support\", \"supportive\", \"supportive\", \"system\", \"system\", \"talented\", \"talking\", \"task\", \"task\", \"task\", \"task\", \"techm\", \"techmahindra\", \"technical\", \"technical\", \"technical\", \"technically\", \"technician\", \"technology\", \"technology\", \"technology\", \"telecom\", \"telecommunication\", \"testing\", \"thank\", \"ticket\", \"ticket\", \"tight\", \"times\", \"times\", \"timing\", \"together\", \"together\", \"training\", \"training\", \"training\", \"training\", \"training\", \"training\", \"transparent\", \"treat\", \"troubleshoot\", \"try\", \"try\", \"typical\", \"unable\", \"unfortunately\", \"unisys\", \"unless\", \"unlimited\", \"upper\", \"using\", \"using\", \"various\", \"various\", \"vision\", \"walmart\", \"weekend\", \"whenever\", \"windows\", \"wipro\", \"woman\", \"woman\", \"work\", \"work\", \"work\", \"work\", \"work\", \"worker\", \"worker\", \"working\", \"working\", \"working\", \"working\", \"working\", \"worklife\", \"worst\", \"would\", \"would\", \"would\"]}, \"R\": 30, \"lambda.step\": 0.01, \"plot.opts\": {\"xlab\": \"PC1\", \"ylab\": \"PC2\"}, \"topic.order\": [1, 2, 3, 4, 5, 6]};\n",
       "\n",
       "function LDAvis_load_lib(url, callback){\n",
       "  var s = document.createElement('script');\n",
       "  s.src = url;\n",
       "  s.async = true;\n",
       "  s.onreadystatechange = s.onload = callback;\n",
       "  s.onerror = function(){console.warn(\"failed to load library \" + url);};\n",
       "  document.getElementsByTagName(\"head\")[0].appendChild(s);\n",
       "}\n",
       "\n",
       "if(typeof(LDAvis) !== \"undefined\"){\n",
       "   // already loaded: just create the visualization\n",
       "   !function(LDAvis){\n",
       "       new LDAvis(\"#\" + \"ldavis_el3564026162688839122775218800\", ldavis_el3564026162688839122775218800_data);\n",
       "   }(LDAvis);\n",
       "}else if(typeof define === \"function\" && define.amd){\n",
       "   // require.js is available: use it to load d3/LDAvis\n",
       "   require.config({paths: {d3: \"https://cdnjs.cloudflare.com/ajax/libs/d3/3.5.5/d3.min\"}});\n",
       "   require([\"d3\"], function(d3){\n",
       "      window.d3 = d3;\n",
       "      LDAvis_load_lib(\"https://cdn.rawgit.com/bmabey/pyLDAvis/files/ldavis.v1.0.0.js\", function(){\n",
       "        new LDAvis(\"#\" + \"ldavis_el3564026162688839122775218800\", ldavis_el3564026162688839122775218800_data);\n",
       "      });\n",
       "    });\n",
       "}else{\n",
       "    // require.js not available: dynamically load d3 & LDAvis\n",
       "    LDAvis_load_lib(\"https://cdnjs.cloudflare.com/ajax/libs/d3/3.5.5/d3.min.js\", function(){\n",
       "         LDAvis_load_lib(\"https://cdn.rawgit.com/bmabey/pyLDAvis/files/ldavis.v1.0.0.js\", function(){\n",
       "                 new LDAvis(\"#\" + \"ldavis_el3564026162688839122775218800\", ldavis_el3564026162688839122775218800_data);\n",
       "            })\n",
       "         });\n",
       "}\n",
       "</script>"
      ],
      "text/plain": [
       "<IPython.core.display.HTML object>"
      ]
     },
     "execution_count": 18,
     "metadata": {},
     "output_type": "execute_result"
    }
   ],
   "source": [
    "lda_display = pyLDAvis.gensim.prepare(optimal_model, corpus, dictionary, sort_topics=False)\n",
    "pyLDAvis.display(lda_display)"
   ]
  },
  {
   "cell_type": "code",
   "execution_count": null,
   "metadata": {},
   "outputs": [],
   "source": []
  }
 ],
 "metadata": {
  "kernelspec": {
   "display_name": "Python 3",
   "language": "python",
   "name": "python3"
  },
  "language_info": {
   "codemirror_mode": {
    "name": "ipython",
    "version": 3
   },
   "file_extension": ".py",
   "mimetype": "text/x-python",
   "name": "python",
   "nbconvert_exporter": "python",
   "pygments_lexer": "ipython3",
   "version": "3.7.0"
  }
 },
 "nbformat": 4,
 "nbformat_minor": 4
}
