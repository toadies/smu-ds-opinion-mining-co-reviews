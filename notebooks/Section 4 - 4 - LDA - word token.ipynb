{
 "cells": [
  {
   "cell_type": "code",
   "execution_count": 1,
   "metadata": {},
   "outputs": [],
   "source": [
    "\n",
    "from multiprocessing import Pool\n",
    "from tqdm import tqdm\n",
    "from spacy.lang.en import English\n",
    "import gensim.corpora as corpora\n",
    "from gensim.models import LdaMulticore\n",
    "import multiprocessing as mp\n",
    "import json\n",
    "import re\n",
    "import numpy as np\n",
    "import pandas as pd\n",
    "from pprint import pprint\n",
    "import pickle\n",
    "# Gensim\n",
    "import gensim\n",
    "import gensim.corpora as corpora\n",
    "from gensim.utils import simple_preprocess\n",
    "from gensim.models import CoherenceModel\n",
    "from gensim.parsing.preprocessing import STOPWORDS\n",
    "from nltk.stem import WordNetLemmatizer, SnowballStemmer\n",
    "from nltk.stem.porter import *\n",
    "import nltk\n",
    "from nltk.corpus import wordnet as wn\n",
    "#nltk.download('stopwords')\n",
    "#nltk.download('wordnet')\n",
    "# spacy for lemmatization\n",
    "import spacy\n",
    "from spacy.lang.en import English\n",
    "parser = English()\n",
    "\n",
    "#Sklearn\n",
    "from sklearn.feature_extraction.text import CountVectorizer\n",
    "from sklearn.decomposition import LatentDirichletAllocation, NMF\n",
    "# Plotting tools\n",
    "\n",
    "import pyLDAvis\n",
    "import pyLDAvis.gensim  # don't skip this\n",
    "import matplotlib.pyplot as plt\n",
    "%matplotlib inline\n"
   ]
  },
  {
   "cell_type": "code",
   "execution_count": 2,
   "metadata": {},
   "outputs": [
    {
     "name": "stdout",
     "output_type": "stream",
     "text": [
      "Loading tech corpus\n",
      "Tokenize the corpus\n"
     ]
    }
   ],
   "source": [
    "def tokenize(doc):\n",
    "    tokens = doc.split(\" \")\n",
    "    tokens = [word for word in tokens if len(word.strip()) > 2]\n",
    "    return tokens\n",
    "\n",
    "print(\"Loading tech corpus\")\n",
    "with open(\"../data/tech_review_word_corpus.pkl\",\"rb\") as f:\n",
    "    tech_review_corpus = pickle.load(f)\n",
    "    \n",
    "reviews = pd.DataFrame(tech_review_corpus).review.tolist()\n",
    "print(\"Tokenize the corpus\")\n",
    "\n",
    "with open(( \"../data/stop_words.json\"), \"r\") as f:\n",
    "    stop_words = json.load(f)\n",
    "\n",
    "vectorizer = CountVectorizer( min_df = 5,max_df=.90, tokenizer=tokenize, stop_words=stop_words, ngram_range=(1, 2))\n",
    "\n"
   ]
  },
  {
   "cell_type": "code",
   "execution_count": 3,
   "metadata": {},
   "outputs": [
    {
     "data": {
      "text/plain": [
       "45251"
      ]
     },
     "execution_count": 3,
     "metadata": {},
     "output_type": "execute_result"
    }
   ],
   "source": [
    "len(reviews)"
   ]
  },
  {
   "cell_type": "markdown",
   "metadata": {},
   "source": [
    "## Sampling"
   ]
  },
  {
   "cell_type": "code",
   "execution_count": 4,
   "metadata": {},
   "outputs": [],
   "source": [
    "from sklearn.model_selection import train_test_split\n",
    "X_train, X_test= train_test_split(reviews,test_size=0.01, random_state=100)"
   ]
  },
  {
   "cell_type": "code",
   "execution_count": 5,
   "metadata": {},
   "outputs": [
    {
     "name": "stdout",
     "output_type": "stream",
     "text": [
      "44798\n",
      "453\n"
     ]
    }
   ],
   "source": [
    "print(len(X_train))\n",
    "print(len(X_test))"
   ]
  },
  {
   "cell_type": "code",
   "execution_count": 6,
   "metadata": {},
   "outputs": [
    {
     "name": "stdout",
     "output_type": "stream",
     "text": [
      "Total Vocab Size 28806\n"
     ]
    }
   ],
   "source": [
    "X = vectorizer.fit_transform(X_train)\n",
    "print(\"Total Vocab Size\", len(vectorizer.vocabulary_))"
   ]
  },
  {
   "cell_type": "code",
   "execution_count": 7,
   "metadata": {},
   "outputs": [],
   "source": [
    "from gensim.corpora.dictionary import Dictionary\n",
    "def vect2gensim(vectorizer, dtmatrix):\n",
    "     # transform sparse matrix into gensim corpus and dictionary\n",
    "    corpus_vect_gensim = gensim.matutils.Sparse2Corpus(dtmatrix, documents_columns=False)\n",
    "    dictionary = Dictionary.from_corpus(corpus_vect_gensim,\n",
    "        id2word=dict((id, word) for word, id in vectorizer.vocabulary_.items()))\n",
    "\n",
    "    return (corpus_vect_gensim, dictionary)\n",
    "corpus, id2word = vect2gensim(vectorizer, X)"
   ]
  },
  {
   "cell_type": "code",
   "execution_count": null,
   "metadata": {},
   "outputs": [],
   "source": [
    "final_lda_model = LdaMulticore(corpus=corpus,\n",
    "                                           id2word=id2word,\n",
    "                                           num_topics=13, \n",
    "                                           random_state=100,\n",
    "                                           chunksize=50,\n",
    "                                           workers = 2,\n",
    "                                           passes=10,\n",
    "                                           alpha=\"asymmetric\",\n",
    "                                           eta=0.91,\n",
    "                                           per_word_topics=True)"
   ]
  },
  {
   "cell_type": "code",
   "execution_count": null,
   "metadata": {},
   "outputs": [],
   "source": [
    "final_lda_model.save('../results/word-gensim-lda.model')"
   ]
  },
  {
   "cell_type": "code",
   "execution_count": null,
   "metadata": {},
   "outputs": [],
   "source": [
    "# Select the model and print the topics\n",
    "optimal_model = final_lda_model\n",
    "model_topics = optimal_model.show_topics(formatted=False)\n",
    "pprint(optimal_model.print_topics(num_words=30))"
   ]
  },
  {
   "cell_type": "code",
   "execution_count": null,
   "metadata": {},
   "outputs": [],
   "source": [
    "lda_display = pyLDAvis.gensim.prepare(optimal_model, corpus, id2word, sort_topics=False)\n",
    "pyLDAvis.display(lda_display)"
   ]
  },
  {
   "cell_type": "code",
   "execution_count": null,
   "metadata": {},
   "outputs": [],
   "source": [
    "aspect = {}\n",
    "for t in range(0, optimal_model.num_topics):\n",
    "    aspect['topic {}: '.format(t)] = [v[0] for v in optimal_model.show_topic(t, 50)]"
   ]
  },
  {
   "cell_type": "code",
   "execution_count": null,
   "metadata": {},
   "outputs": [],
   "source": [
    "with open(\"../results/gensim/word-gensim-lda-topic-k-13.json\", \"w\") as f:\n",
    "                json.dump(aspect, f)"
   ]
  },
  {
   "cell_type": "code",
   "execution_count": 45,
   "metadata": {},
   "outputs": [
    {
     "name": "stdout",
     "output_type": "stream",
     "text": [
      "(45251, 16)\n"
     ]
    }
   ],
   "source": [
    "with open(\"../data/all_reviews.pkl\",\"rb\") as f:\n",
    "    reviews_ = pickle.load(f)\n",
    "    \n",
    "job_filter = pd.read_csv(\"../data/filter_job_titles.csv\")\n",
    "\n",
    "job_filters = job_filter.clean_job_title.tolist()\n",
    "idx = (reviews_.language == \"en\")\n",
    "reviews_ = reviews_.loc[idx,:]\n",
    "\n",
    "idx = (reviews_.clean_job_title.isin(job_filters))\n",
    "reviews_ = reviews_.loc[idx,:].reset_index()\n",
    "\n",
    "print(reviews_.shape)\n",
    "#display(reviews_.head())\n"
   ]
  },
  {
   "cell_type": "code",
   "execution_count": 46,
   "metadata": {},
   "outputs": [
    {
     "data": {
      "text/html": [
       "<div>\n",
       "<style scoped>\n",
       "    .dataframe tbody tr th:only-of-type {\n",
       "        vertical-align: middle;\n",
       "    }\n",
       "\n",
       "    .dataframe tbody tr th {\n",
       "        vertical-align: top;\n",
       "    }\n",
       "\n",
       "    .dataframe thead th {\n",
       "        text-align: right;\n",
       "    }\n",
       "</style>\n",
       "<table border=\"1\" class=\"dataframe\">\n",
       "  <thead>\n",
       "    <tr style=\"text-align: right;\">\n",
       "      <th></th>\n",
       "      <th>Document_No</th>\n",
       "      <th>Dominant_Topic</th>\n",
       "      <th>Topic_Perc_Contrib</th>\n",
       "      <th>Keywords</th>\n",
       "      <th>Text</th>\n",
       "      <th>Review</th>\n",
       "    </tr>\n",
       "  </thead>\n",
       "  <tbody>\n",
       "    <tr>\n",
       "      <th>0</th>\n",
       "      <td>0</td>\n",
       "      <td>0.0</td>\n",
       "      <td>0.8605</td>\n",
       "      <td>great, employee, opportunity, work, management, provide, benefit, care, health, organization</td>\n",
       "      <td>fluor be a great company with people that care to make a difference management care about their ...</td>\n",
       "      <td>Fluor is a great company with people that care to make a difference.  Management cares about the...</td>\n",
       "    </tr>\n",
       "    <tr>\n",
       "      <th>1</th>\n",
       "      <td>1</td>\n",
       "      <td>5.0</td>\n",
       "      <td>0.7994</td>\n",
       "      <td>work, get, job, people, management, n't, time, manager, go, 's</td>\n",
       "      <td>fluor be the first powerhouse epc that go heavy on the worksharing they send as much work overse...</td>\n",
       "      <td>Fluor was the first powerhouse EPC that went heavy on the worksharing.  They send as much work o...</td>\n",
       "    </tr>\n",
       "    <tr>\n",
       "      <th>2</th>\n",
       "      <td>2</td>\n",
       "      <td>9.0</td>\n",
       "      <td>0.4359</td>\n",
       "      <td>work, place, good, great, environment, place work, work environment, great place, people, friendly</td>\n",
       "      <td>there be not much that i could add here i enjoy work at fluor and the people that i be work with...</td>\n",
       "      <td>There is not much that I could add here.  I enjoyed working at Fluor and the people that I was w...</td>\n",
       "    </tr>\n",
       "    <tr>\n",
       "      <th>3</th>\n",
       "      <td>3</td>\n",
       "      <td>5.0</td>\n",
       "      <td>0.6665</td>\n",
       "      <td>work, get, job, people, management, n't, time, manager, go, 's</td>\n",
       "      <td>the place can be pretty bore most of the time but it have some very interesting facility where t...</td>\n",
       "      <td>The place can be pretty boring most of the time but it has some very interesting facilities wher...</td>\n",
       "    </tr>\n",
       "    <tr>\n",
       "      <th>4</th>\n",
       "      <td>4</td>\n",
       "      <td>5.0</td>\n",
       "      <td>0.6034</td>\n",
       "      <td>work, get, job, people, management, n't, time, manager, go, 's</td>\n",
       "      <td>everyone be in a hurry to get thing do but they be not in a hurry to do their part to make sure ...</td>\n",
       "      <td>Everyone is in a hurry to get things done, but they are not in a hurry to do their part to make ...</td>\n",
       "    </tr>\n",
       "    <tr>\n",
       "      <th>5</th>\n",
       "      <td>5</td>\n",
       "      <td>5.0</td>\n",
       "      <td>0.5522</td>\n",
       "      <td>work, get, job, people, management, n't, time, manager, go, 's</td>\n",
       "      <td>be a re-hire first term would rate them a 4 they hire nice intelligent people reasonable pleasan...</td>\n",
       "      <td>Was a re-hire.  \\rFirst term would rate them a 4.  They hired nice, intelligent people.  Reasona...</td>\n",
       "    </tr>\n",
       "    <tr>\n",
       "      <th>6</th>\n",
       "      <td>6</td>\n",
       "      <td>5.0</td>\n",
       "      <td>0.8384</td>\n",
       "      <td>work, get, job, people, management, n't, time, manager, go, 's</td>\n",
       "      <td>i hat work for this company the pay be great but the management be utterly horrible people would...</td>\n",
       "      <td>I hated working for this company. The pay was great, but the management was utterly horrible. Pe...</td>\n",
       "    </tr>\n",
       "    <tr>\n",
       "      <th>7</th>\n",
       "      <td>7</td>\n",
       "      <td>1.0</td>\n",
       "      <td>0.7111</td>\n",
       "      <td>work, part, job, enjoy, hard, part job, learn, management, help, time</td>\n",
       "      <td>interesting day at work in a enjoy environment user be coddle so they have no understanding of t...</td>\n",
       "      <td>Interesting days at work in a enjoyable environment. User are coddled so they have no understand...</td>\n",
       "    </tr>\n",
       "    <tr>\n",
       "      <th>8</th>\n",
       "      <td>8</td>\n",
       "      <td>5.0</td>\n",
       "      <td>0.3390</td>\n",
       "      <td>work, get, job, people, management, n't, time, manager, go, 's</td>\n",
       "      <td>challenge place to work a it manager with five office and over 200 user and me be the sole it su...</td>\n",
       "      <td>Challenging place to work as IT Manager with five offices and over 200 users and me being the so...</td>\n",
       "    </tr>\n",
       "    <tr>\n",
       "      <th>9</th>\n",
       "      <td>9</td>\n",
       "      <td>11.0</td>\n",
       "      <td>0.6443</td>\n",
       "      <td>system, •, development, application, software, use, support, project, work, test</td>\n",
       "      <td>total of thirty-seven 37 year of successful engineering experience in electrical engineering and...</td>\n",
       "      <td>Total of thirty-seven (37) years of successful engineering experiences in electrical engineering...</td>\n",
       "    </tr>\n",
       "  </tbody>\n",
       "</table>\n",
       "</div>"
      ],
      "text/plain": [
       "   Document_No  Dominant_Topic  Topic_Perc_Contrib  \\\n",
       "0            0             0.0              0.8605   \n",
       "1            1             5.0              0.7994   \n",
       "2            2             9.0              0.4359   \n",
       "3            3             5.0              0.6665   \n",
       "4            4             5.0              0.6034   \n",
       "5            5             5.0              0.5522   \n",
       "6            6             5.0              0.8384   \n",
       "7            7             1.0              0.7111   \n",
       "8            8             5.0              0.3390   \n",
       "9            9            11.0              0.6443   \n",
       "\n",
       "                                                                                             Keywords  \\\n",
       "0        great, employee, opportunity, work, management, provide, benefit, care, health, organization   \n",
       "1                                      work, get, job, people, management, n't, time, manager, go, 's   \n",
       "2  work, place, good, great, environment, place work, work environment, great place, people, friendly   \n",
       "3                                      work, get, job, people, management, n't, time, manager, go, 's   \n",
       "4                                      work, get, job, people, management, n't, time, manager, go, 's   \n",
       "5                                      work, get, job, people, management, n't, time, manager, go, 's   \n",
       "6                                      work, get, job, people, management, n't, time, manager, go, 's   \n",
       "7                               work, part, job, enjoy, hard, part job, learn, management, help, time   \n",
       "8                                      work, get, job, people, management, n't, time, manager, go, 's   \n",
       "9                    system, •, development, application, software, use, support, project, work, test   \n",
       "\n",
       "                                                                                                  Text  \\\n",
       "0  fluor be a great company with people that care to make a difference management care about their ...   \n",
       "1  fluor be the first powerhouse epc that go heavy on the worksharing they send as much work overse...   \n",
       "2  there be not much that i could add here i enjoy work at fluor and the people that i be work with...   \n",
       "3  the place can be pretty bore most of the time but it have some very interesting facility where t...   \n",
       "4  everyone be in a hurry to get thing do but they be not in a hurry to do their part to make sure ...   \n",
       "5  be a re-hire first term would rate them a 4 they hire nice intelligent people reasonable pleasan...   \n",
       "6  i hat work for this company the pay be great but the management be utterly horrible people would...   \n",
       "7  interesting day at work in a enjoy environment user be coddle so they have no understanding of t...   \n",
       "8  challenge place to work a it manager with five office and over 200 user and me be the sole it su...   \n",
       "9  total of thirty-seven 37 year of successful engineering experience in electrical engineering and...   \n",
       "\n",
       "                                                                                                Review  \n",
       "0  Fluor is a great company with people that care to make a difference.  Management cares about the...  \n",
       "1  Fluor was the first powerhouse EPC that went heavy on the worksharing.  They send as much work o...  \n",
       "2  There is not much that I could add here.  I enjoyed working at Fluor and the people that I was w...  \n",
       "3  The place can be pretty boring most of the time but it has some very interesting facilities wher...  \n",
       "4  Everyone is in a hurry to get things done, but they are not in a hurry to do their part to make ...  \n",
       "5  Was a re-hire.  \\rFirst term would rate them a 4.  They hired nice, intelligent people.  Reasona...  \n",
       "6  I hated working for this company. The pay was great, but the management was utterly horrible. Pe...  \n",
       "7  Interesting days at work in a enjoyable environment. User are coddled so they have no understand...  \n",
       "8  Challenging place to work as IT Manager with five offices and over 200 users and me being the so...  \n",
       "9  Total of thirty-seven (37) years of successful engineering experiences in electrical engineering...  "
      ]
     },
     "execution_count": 46,
     "metadata": {},
     "output_type": "execute_result"
    }
   ],
   "source": [
    "def format_topics_sentences(ldamodel=None, corpus=corpus, texts=reviews):\n",
    "    # Init output\n",
    "    sent_topics_df = pd.DataFrame()\n",
    "\n",
    "    # Get main topic in each document\n",
    "    for i, row_list in enumerate(ldamodel[corpus]):\n",
    "        row = row_list[0] if ldamodel.per_word_topics else row_list            \n",
    "        # print(row)\n",
    "        row = sorted(row, key=lambda x: (x[1]), reverse=True)\n",
    "        # Get the Dominant topic, Perc Contribution and Keywords for each document\n",
    "        for j, (topic_num, prop_topic) in enumerate(row):\n",
    "            if j == 0:  # => dominant topic\n",
    "                wp = ldamodel.show_topic(topic_num)\n",
    "                topic_keywords = \", \".join([word for word, prop in wp])\n",
    "                sent_topics_df = sent_topics_df.append(pd.Series([int(topic_num), round(prop_topic,4), topic_keywords]), ignore_index=True)\n",
    "            else:\n",
    "                break\n",
    "    sent_topics_df.columns = ['Dominant_Topic', 'Perc_Contribution', 'Topic_Keywords']\n",
    "\n",
    "    # Add original text to the end of the output\n",
    "    contents = pd.Series(texts)\n",
    "    sent_topics_df = pd.concat([sent_topics_df, contents], axis=1)\n",
    "    return(sent_topics_df)\n",
    "\n",
    "\n",
    "df_topic_sents_keywords = format_topics_sentences(ldamodel=final_lda_model, corpus=corpus, texts=reviews)\n",
    "\n",
    "# Format\n",
    "df_dominant_topic = df_topic_sents_keywords.reset_index()\n",
    "\n",
    "df_dominant_topic.columns = ['Document_No', 'Dominant_Topic', 'Topic_Perc_Contrib', 'Keywords', 'Text']\n",
    "\n",
    "df_dominant_topic[\"Review\"] = reviews_[\"review\"] \n",
    "df_dominant_topic.head(10)"
   ]
  },
  {
   "cell_type": "code",
   "execution_count": 47,
   "metadata": {},
   "outputs": [],
   "source": [
    "df_dominant_topic.drop(columns=\"Text\",inplace=True)"
   ]
  },
  {
   "cell_type": "code",
   "execution_count": 48,
   "metadata": {},
   "outputs": [
    {
     "data": {
      "text/html": [
       "<div>\n",
       "<style scoped>\n",
       "    .dataframe tbody tr th:only-of-type {\n",
       "        vertical-align: middle;\n",
       "    }\n",
       "\n",
       "    .dataframe tbody tr th {\n",
       "        vertical-align: top;\n",
       "    }\n",
       "\n",
       "    .dataframe thead th {\n",
       "        text-align: right;\n",
       "    }\n",
       "</style>\n",
       "<table border=\"1\" class=\"dataframe\">\n",
       "  <thead>\n",
       "    <tr style=\"text-align: right;\">\n",
       "      <th></th>\n",
       "      <th>Document_No</th>\n",
       "      <th>Dominant_Topic</th>\n",
       "      <th>Topic_Perc_Contrib</th>\n",
       "      <th>Keywords</th>\n",
       "      <th>Review</th>\n",
       "    </tr>\n",
       "  </thead>\n",
       "  <tbody>\n",
       "    <tr>\n",
       "      <th>0</th>\n",
       "      <td>0</td>\n",
       "      <td>0.0</td>\n",
       "      <td>0.8605</td>\n",
       "      <td>great, employee, opportunity, work, management, provide, benefit, care, health, organization</td>\n",
       "      <td>Fluor is a great company with people that care to make a difference.  Management cares about the...</td>\n",
       "    </tr>\n",
       "    <tr>\n",
       "      <th>1</th>\n",
       "      <td>1</td>\n",
       "      <td>5.0</td>\n",
       "      <td>0.7994</td>\n",
       "      <td>work, get, job, people, management, n't, time, manager, go, 's</td>\n",
       "      <td>Fluor was the first powerhouse EPC that went heavy on the worksharing.  They send as much work o...</td>\n",
       "    </tr>\n",
       "    <tr>\n",
       "      <th>2</th>\n",
       "      <td>2</td>\n",
       "      <td>9.0</td>\n",
       "      <td>0.4359</td>\n",
       "      <td>work, place, good, great, environment, place work, work environment, great place, people, friendly</td>\n",
       "      <td>There is not much that I could add here.  I enjoyed working at Fluor and the people that I was w...</td>\n",
       "    </tr>\n",
       "    <tr>\n",
       "      <th>3</th>\n",
       "      <td>3</td>\n",
       "      <td>5.0</td>\n",
       "      <td>0.6665</td>\n",
       "      <td>work, get, job, people, management, n't, time, manager, go, 's</td>\n",
       "      <td>The place can be pretty boring most of the time but it has some very interesting facilities wher...</td>\n",
       "    </tr>\n",
       "    <tr>\n",
       "      <th>4</th>\n",
       "      <td>4</td>\n",
       "      <td>5.0</td>\n",
       "      <td>0.6034</td>\n",
       "      <td>work, get, job, people, management, n't, time, manager, go, 's</td>\n",
       "      <td>Everyone is in a hurry to get things done, but they are not in a hurry to do their part to make ...</td>\n",
       "    </tr>\n",
       "    <tr>\n",
       "      <th>5</th>\n",
       "      <td>5</td>\n",
       "      <td>5.0</td>\n",
       "      <td>0.5522</td>\n",
       "      <td>work, get, job, people, management, n't, time, manager, go, 's</td>\n",
       "      <td>Was a re-hire.  \\rFirst term would rate them a 4.  They hired nice, intelligent people.  Reasona...</td>\n",
       "    </tr>\n",
       "    <tr>\n",
       "      <th>6</th>\n",
       "      <td>6</td>\n",
       "      <td>5.0</td>\n",
       "      <td>0.8384</td>\n",
       "      <td>work, get, job, people, management, n't, time, manager, go, 's</td>\n",
       "      <td>I hated working for this company. The pay was great, but the management was utterly horrible. Pe...</td>\n",
       "    </tr>\n",
       "    <tr>\n",
       "      <th>7</th>\n",
       "      <td>7</td>\n",
       "      <td>1.0</td>\n",
       "      <td>0.7111</td>\n",
       "      <td>work, part, job, enjoy, hard, part job, learn, management, help, time</td>\n",
       "      <td>Interesting days at work in a enjoyable environment. User are coddled so they have no understand...</td>\n",
       "    </tr>\n",
       "    <tr>\n",
       "      <th>8</th>\n",
       "      <td>8</td>\n",
       "      <td>5.0</td>\n",
       "      <td>0.3390</td>\n",
       "      <td>work, get, job, people, management, n't, time, manager, go, 's</td>\n",
       "      <td>Challenging place to work as IT Manager with five offices and over 200 users and me being the so...</td>\n",
       "    </tr>\n",
       "    <tr>\n",
       "      <th>9</th>\n",
       "      <td>9</td>\n",
       "      <td>11.0</td>\n",
       "      <td>0.6443</td>\n",
       "      <td>system, •, development, application, software, use, support, project, work, test</td>\n",
       "      <td>Total of thirty-seven (37) years of successful engineering experiences in electrical engineering...</td>\n",
       "    </tr>\n",
       "  </tbody>\n",
       "</table>\n",
       "</div>"
      ],
      "text/plain": [
       "   Document_No  Dominant_Topic  Topic_Perc_Contrib  \\\n",
       "0            0             0.0              0.8605   \n",
       "1            1             5.0              0.7994   \n",
       "2            2             9.0              0.4359   \n",
       "3            3             5.0              0.6665   \n",
       "4            4             5.0              0.6034   \n",
       "5            5             5.0              0.5522   \n",
       "6            6             5.0              0.8384   \n",
       "7            7             1.0              0.7111   \n",
       "8            8             5.0              0.3390   \n",
       "9            9            11.0              0.6443   \n",
       "\n",
       "                                                                                             Keywords  \\\n",
       "0        great, employee, opportunity, work, management, provide, benefit, care, health, organization   \n",
       "1                                      work, get, job, people, management, n't, time, manager, go, 's   \n",
       "2  work, place, good, great, environment, place work, work environment, great place, people, friendly   \n",
       "3                                      work, get, job, people, management, n't, time, manager, go, 's   \n",
       "4                                      work, get, job, people, management, n't, time, manager, go, 's   \n",
       "5                                      work, get, job, people, management, n't, time, manager, go, 's   \n",
       "6                                      work, get, job, people, management, n't, time, manager, go, 's   \n",
       "7                               work, part, job, enjoy, hard, part job, learn, management, help, time   \n",
       "8                                      work, get, job, people, management, n't, time, manager, go, 's   \n",
       "9                    system, •, development, application, software, use, support, project, work, test   \n",
       "\n",
       "                                                                                                Review  \n",
       "0  Fluor is a great company with people that care to make a difference.  Management cares about the...  \n",
       "1  Fluor was the first powerhouse EPC that went heavy on the worksharing.  They send as much work o...  \n",
       "2  There is not much that I could add here.  I enjoyed working at Fluor and the people that I was w...  \n",
       "3  The place can be pretty boring most of the time but it has some very interesting facilities wher...  \n",
       "4  Everyone is in a hurry to get things done, but they are not in a hurry to do their part to make ...  \n",
       "5  Was a re-hire.  \\rFirst term would rate them a 4.  They hired nice, intelligent people.  Reasona...  \n",
       "6  I hated working for this company. The pay was great, but the management was utterly horrible. Pe...  \n",
       "7  Interesting days at work in a enjoyable environment. User are coddled so they have no understand...  \n",
       "8  Challenging place to work as IT Manager with five offices and over 200 users and me being the so...  \n",
       "9  Total of thirty-seven (37) years of successful engineering experiences in electrical engineering...  "
      ]
     },
     "execution_count": 48,
     "metadata": {},
     "output_type": "execute_result"
    }
   ],
   "source": [
    "df_dominant_topic.head(10)"
   ]
  },
  {
   "cell_type": "code",
   "execution_count": 49,
   "metadata": {},
   "outputs": [],
   "source": [
    "with open(\"tech_review_with_topics.pkl\",\"wb\") as f:\n",
    "    pickle.dump(df_dominant_topic, f)"
   ]
  },
  {
   "cell_type": "code",
   "execution_count": 50,
   "metadata": {},
   "outputs": [
    {
     "data": {
      "text/plain": [
       "Dominant_Topic\n",
       "0.0     5505\n",
       "1.0     5189\n",
       "2.0      368\n",
       "3.0      125\n",
       "4.0     7269\n",
       "5.0     9280\n",
       "6.0     7633\n",
       "7.0       50\n",
       "8.0      166\n",
       "9.0     6604\n",
       "10.0      32\n",
       "11.0    2975\n",
       "12.0      55\n",
       "dtype: int64"
      ]
     },
     "execution_count": 50,
     "metadata": {},
     "output_type": "execute_result"
    }
   ],
   "source": [
    "df_dominant_topic.groupby('Dominant_Topic').size()"
   ]
  },
  {
   "cell_type": "markdown",
   "metadata": {},
   "source": [
    "### The most representative sentence for each topic¶"
   ]
  },
  {
   "cell_type": "code",
   "execution_count": 51,
   "metadata": {},
   "outputs": [
    {
     "data": {
      "text/html": [
       "<div>\n",
       "<style scoped>\n",
       "    .dataframe tbody tr th:only-of-type {\n",
       "        vertical-align: middle;\n",
       "    }\n",
       "\n",
       "    .dataframe tbody tr th {\n",
       "        vertical-align: top;\n",
       "    }\n",
       "\n",
       "    .dataframe thead th {\n",
       "        text-align: right;\n",
       "    }\n",
       "</style>\n",
       "<table border=\"1\" class=\"dataframe\">\n",
       "  <thead>\n",
       "    <tr style=\"text-align: right;\">\n",
       "      <th></th>\n",
       "      <th>Topic_Num</th>\n",
       "      <th>Topic_Perc_Contrib</th>\n",
       "      <th>Keywords</th>\n",
       "      <th>Representative Text</th>\n",
       "    </tr>\n",
       "  </thead>\n",
       "  <tbody>\n",
       "    <tr>\n",
       "      <th>0</th>\n",
       "      <td>0.0</td>\n",
       "      <td>0.9815</td>\n",
       "      <td>great, employee, opportunity, work, management, provide, benefit, care, health, organization</td>\n",
       "      <td>at tech mahindra employee be reward for innovate and encourage to take on leader ship role the f...</td>\n",
       "    </tr>\n",
       "    <tr>\n",
       "      <th>1</th>\n",
       "      <td>1.0</td>\n",
       "      <td>0.9829</td>\n",
       "      <td>work, part, job, enjoy, hard, part job, learn, management, help, time</td>\n",
       "      <td>a very structured day with pending email to be answer and reply to the client with issue and dai...</td>\n",
       "    </tr>\n",
       "    <tr>\n",
       "      <th>2</th>\n",
       "      <td>2.0</td>\n",
       "      <td>0.8779</td>\n",
       "      <td>year, recommend, 3, 2, 5, 1, 4, month, would recommend, late</td>\n",
       "      <td>i have 4 + year of exp in it industry and 2+ year of exp in datapower</td>\n",
       "    </tr>\n",
       "    <tr>\n",
       "      <th>3</th>\n",
       "      <td>3.0</td>\n",
       "      <td>0.8070</td>\n",
       "      <td>customer, service, customer service, provider, fortune, table, 500, work customer, help customer...</td>\n",
       "      <td>enjoy the food court varity of selection to eat- gym membership- ping pong</td>\n",
       "    </tr>\n",
       "    <tr>\n",
       "      <th>4</th>\n",
       "      <td>4.0</td>\n",
       "      <td>0.9784</td>\n",
       "      <td>learn, work, good, lot, experience, technology, thing, learn lot, get, opportunity</td>\n",
       "      <td>tc provide awesome opportunity for learn i have learn many thing inside tc tc provide me chance ...</td>\n",
       "    </tr>\n",
       "    <tr>\n",
       "      <th>5</th>\n",
       "      <td>5.0</td>\n",
       "      <td>0.9919</td>\n",
       "      <td>work, get, job, people, management, n't, time, manager, go, 's</td>\n",
       "      <td>so this company be a subcontractor for a large company on this overall contract of every contrac...</td>\n",
       "    </tr>\n",
       "    <tr>\n",
       "      <th>6</th>\n",
       "      <td>6.0</td>\n",
       "      <td>0.9753</td>\n",
       "      <td>good, work, balance, life, work life, life balance, good work, management, culture, benefit</td>\n",
       "      <td>management be not good and work culture also not good management be not good and work culture al...</td>\n",
       "    </tr>\n",
       "    <tr>\n",
       "      <th>7</th>\n",
       "      <td>7.0</td>\n",
       "      <td>0.7242</td>\n",
       "      <td>network, computer, remote, curve, learn curve, switch, networking, shoot, trouble, cisco</td>\n",
       "      <td>work on fotinet firewall cisco asa juniper f5 add and remove firewall configure device such a ro...</td>\n",
       "    </tr>\n",
       "    <tr>\n",
       "      <th>8</th>\n",
       "      <td>8.0</td>\n",
       "      <td>0.7242</td>\n",
       "      <td>skill, home, work home, improve, learn skill, technical, skill set, enhance, set, technical skill</td>\n",
       "      <td>improve my technical stability management and presentation skill</td>\n",
       "    </tr>\n",
       "    <tr>\n",
       "      <th>9</th>\n",
       "      <td>9.0</td>\n",
       "      <td>0.9749</td>\n",
       "      <td>work, place, good, great, environment, place work, work environment, great place, people, friendly</td>\n",
       "      <td>great work place good team work excellent management good work environment excellent work place ...</td>\n",
       "    </tr>\n",
       "  </tbody>\n",
       "</table>\n",
       "</div>"
      ],
      "text/plain": [
       "   Topic_Num  Topic_Perc_Contrib  \\\n",
       "0        0.0              0.9815   \n",
       "1        1.0              0.9829   \n",
       "2        2.0              0.8779   \n",
       "3        3.0              0.8070   \n",
       "4        4.0              0.9784   \n",
       "5        5.0              0.9919   \n",
       "6        6.0              0.9753   \n",
       "7        7.0              0.7242   \n",
       "8        8.0              0.7242   \n",
       "9        9.0              0.9749   \n",
       "\n",
       "                                                                                              Keywords  \\\n",
       "0         great, employee, opportunity, work, management, provide, benefit, care, health, organization   \n",
       "1                                work, part, job, enjoy, hard, part job, learn, management, help, time   \n",
       "2                                         year, recommend, 3, 2, 5, 1, 4, month, would recommend, late   \n",
       "3  customer, service, customer service, provider, fortune, table, 500, work customer, help customer...   \n",
       "4                   learn, work, good, lot, experience, technology, thing, learn lot, get, opportunity   \n",
       "5                                       work, get, job, people, management, n't, time, manager, go, 's   \n",
       "6          good, work, balance, life, work life, life balance, good work, management, culture, benefit   \n",
       "7             network, computer, remote, curve, learn curve, switch, networking, shoot, trouble, cisco   \n",
       "8    skill, home, work home, improve, learn skill, technical, skill set, enhance, set, technical skill   \n",
       "9   work, place, good, great, environment, place work, work environment, great place, people, friendly   \n",
       "\n",
       "                                                                                   Representative Text  \n",
       "0  at tech mahindra employee be reward for innovate and encourage to take on leader ship role the f...  \n",
       "1  a very structured day with pending email to be answer and reply to the client with issue and dai...  \n",
       "2                                i have 4 + year of exp in it industry and 2+ year of exp in datapower  \n",
       "3                           enjoy the food court varity of selection to eat- gym membership- ping pong  \n",
       "4  tc provide awesome opportunity for learn i have learn many thing inside tc tc provide me chance ...  \n",
       "5  so this company be a subcontractor for a large company on this overall contract of every contrac...  \n",
       "6  management be not good and work culture also not good management be not good and work culture al...  \n",
       "7  work on fotinet firewall cisco asa juniper f5 add and remove firewall configure device such a ro...  \n",
       "8                                     improve my technical stability management and presentation skill  \n",
       "9  great work place good team work excellent management good work environment excellent work place ...  "
      ]
     },
     "execution_count": 51,
     "metadata": {},
     "output_type": "execute_result"
    }
   ],
   "source": [
    "# Display setting to show more characters in column\n",
    "pd.options.display.max_colwidth = 100\n",
    "\n",
    "sent_topics_sorteddf = pd.DataFrame()\n",
    "sent_topics_outdf_grpd = df_topic_sents_keywords.groupby('Dominant_Topic')\n",
    "\n",
    "for i, grp in sent_topics_outdf_grpd:\n",
    "    sent_topics_sorteddf = pd.concat([sent_topics_sorteddf, \n",
    "                                             grp.sort_values(['Perc_Contribution'], ascending=False).head(1)], \n",
    "                                            axis=0)\n",
    "\n",
    "# Reset Index    \n",
    "sent_topics_sorteddf.reset_index(drop=True, inplace=True)\n",
    "\n",
    "# Format\n",
    "sent_topics_sorteddf.columns = ['Topic_Num', \"Topic_Perc_Contrib\", \"Keywords\", \"Representative Text\"]\n",
    "\n",
    "# Show\n",
    "sent_topics_sorteddf.head(10)"
   ]
  },
  {
   "cell_type": "markdown",
   "metadata": {},
   "source": [
    "### Sklearn Topic Modeling"
   ]
  },
  {
   "cell_type": "code",
   "execution_count": 52,
   "metadata": {},
   "outputs": [],
   "source": [
    "from sklearn.decomposition import NMF, LatentDirichletAllocation, TruncatedSVD\n",
    "from sklearn.feature_extraction.text import CountVectorizer\n",
    "from sklearn.model_selection import GridSearchCV \n"
   ]
  },
  {
   "cell_type": "code",
   "execution_count": 53,
   "metadata": {},
   "outputs": [
    {
     "data": {
      "text/plain": [
       "LatentDirichletAllocation(batch_size=128, doc_topic_prior=0.01,\n",
       "                          evaluate_every=-1, learning_decay=0.7,\n",
       "                          learning_method='batch', learning_offset=10.0,\n",
       "                          max_doc_update_iter=100, max_iter=10,\n",
       "                          mean_change_tol=0.001, n_components=7, n_jobs=-2,\n",
       "                          perp_tol=0.1, random_state=100, topic_word_prior=0.31,\n",
       "                          total_samples=1000000.0, verbose=0)"
      ]
     },
     "execution_count": 53,
     "metadata": {},
     "output_type": "execute_result"
    }
   ],
   "source": [
    "\n",
    "lda = LatentDirichletAllocation(\n",
    "                learning_method=\"batch\",\n",
    "                random_state=100,\n",
    "                n_components=7,\n",
    "                doc_topic_prior=0.01,\n",
    "                topic_word_prior=0.31,\n",
    "                n_jobs=-2\n",
    "            )\n",
    "lda.fit(X)"
   ]
  },
  {
   "cell_type": "code",
   "execution_count": 54,
   "metadata": {},
   "outputs": [
    {
     "name": "stdout",
     "output_type": "stream",
     "text": [
      "LDA Model:\n",
      "Topic 0:\n",
      "[('•', 2152.3043183731656), ('development', 1730.0918149780796), ('work', 1473.2847012084758), ('system', 1457.0119540512298), ('use', 1425.1357544326597), ('application', 1391.1172856916562), ('support', 1212.6857484482955), ('software', 1169.3874339943602), ('test', 917.8518795823762), ('issue', 879.8888915237427), ('project', 874.5352259273773), ('server', 776.6539095713795), ('design', 766.4158022574471), ('network', 754.6627604125773), ('user', 744.0942142497814), ('client', 674.6770678451837), ('experience', 650.6240976933344), ('business', 598.0986940791116), ('implement', 588.7212301902206), ('&', 574.7780458279402), ('database', 557.4207393155214), ('management', 556.1743915970684), ('requirement', 556.0817790424478), ('process', 544.420606179033), ('report', 542.8321989617361), ('involve', 524.7963207415515), ('code', 489.04390144066673), ('service', 467.07465160550277), ('create', 463.18197149801205), ('developer', 441.6234514420656), ('manage', 429.8759050818701), ('web', 429.5994019980389), ('configure', 415.277088424037), ('include', 401.63609440822256), ('provide', 399.77467183334505), ('tool', 396.64860970008453), ('production', 381.2454258820826), ('java', 370.3114892825841), ('technology', 368.0476783060186), ('maintain', 367.6498284291178), ('engineer', 364.52256431565144), ('sql', 360.47048011319833), ('environment', 345.2642554903711), ('technical', 338.3015861076978), ('base', 325.2186934610319), ('ticket', 311.4791556425323), ('end', 310.1557522069771), ('monitor', 309.571991266842), ('product', 309.5230641913174), ('solution', 308.41225633232455)]\n",
      "Topic 1:\n",
      "[('learn', 7999.9146032003255), ('work', 5728.111622918259), ('skill', 2872.369407710285), ('lot', 2293.1284410200965), ('project', 2292.6649761560484), ('technology', 2012.4130274485785), ('get', 1990.6298389090305), ('thing', 1834.617220224887), ('experience', 1653.4512672183187), ('good', 1601.7817533194034), ('knowledge', 1579.1991571555898), ('opportunity', 1540.4224639805232), ('help', 1420.2884821070052), ('give', 1415.1948631782063), ('many', 1402.4749173156777), ('client', 1352.2570445830386), ('time', 1302.4388758794557), ('technical', 1262.6539576031146), ('learn lot', 1173.2548538689505), ('part', 1131.445248433673), ('management', 1076.2126167526446), ('different', 989.3322463312919), ('train', 972.8410781100864), ('job', 958.7405644243191), ('development', 952.9026038939804), ('challenge', 882.5451680937185), ('well', 882.2182708761713), ('also', 876.058665452842), ('enjoy', 834.968970401844), ('always', 820.1565896675173), ('gain', 748.4628744510832), ('great', 699.47349898054), ('grow', 687.1156122209838), ('start', 686.063772562554), ('professional', 660.1626263849943), ('improve', 637.5964328409038), ('place', 637.1490335552934), ('one', 634.6877562921422), ('every', 627.1923233970776), ('learn many', 621.612856752571), ('task', 605.1731257293313), ('like', 573.3643201262495), ('hard', 547.2341088104539), ('process', 531.2275261761714), ('environment', 523.0479560487037), ('make', 504.8108562568812), ('various', 494.7400077361899), ('learn technology', 486.6554774642882), ('u', 457.94971977019765), ('many thing', 456.7821887100289)]\n",
      "Topic 2:\n",
      "[('work', 3403.3330834580674), (\"n't\", 3234.9774863105804), ('get', 3215.6249695066344), ('year', 2722.4718807235486), ('job', 2653.926098120758), ('management', 2518.1502869511914), ('manager', 2400.899779636566), ('people', 2332.8919119419425), ('time', 2025.8972471437794), ('employee', 1899.5025376453762), ('go', 1787.1002718533127), (\"'s\", 1633.687252853273), ('make', 1481.4933765712674), ('pay', 1360.8604779855293), ('would', 1351.519819836263), ('good', 1349.3647572364807), ('like', 1319.473816020371), ('one', 1238.5405993291909), ('even', 1092.2744497384383), ('bad', 1065.6413941275384), ('take', 1062.0951159633203), ('want', 1040.3293671584152), ('position', 1007.1238605924943), ('know', 965.2991517244827), ('leave', 914.6587872841609), ('much', 906.0786127013766), ('hire', 872.0216024965317), ('``', 869.3364804369073), (\"''\", 851.7851922728603), ('never', 826.5028853233232), ('month', 776.7951354613533), ('many', 748.8313852758841), ('say', 744.6311906853405), ('move', 729.4998901276682), ('start', 728.6665141609345), ('place', 721.9986685116215), ('long', 719.9789526360661), ('thing', 710.842265582383), ('come', 702.3596122333154), ('contract', 673.7898371555569), ('find', 671.6535380158371), ('look', 661.385072950702), ('experience', 648.4166313434996), ('need', 647.6036143758267), ('give', 637.9390422394575), ('way', 624.0733161537751), ('try', 611.7022876422792), ('every', 597.5503563117961), ('project', 584.898959036971), ('back', 582.5068749358496)]\n",
      "Topic 3:\n",
      "[('customer', 2834.53489344471), ('job', 2592.18115707622), ('part', 2155.4284084765404), ('work', 1881.6529951684258), ('part job', 1415.1309590343205), ('service', 1355.9862383154473), ('call', 1237.8680478051579), ('support', 1180.1201628092301), ('hard', 1100.126471917815), ('management', 1039.3985603866035), ('issue', 980.4018348456748), ('provide', 956.6161445114875), ('enjoy', 939.723002503572), ('hard part', 923.5700260519728), ('help', 870.863542427788), ('typical', 805.7052198704711), ('need', 687.6687084915169), ('enjoy part', 631.6128874774595), ('time', 612.5339201024996), ('product', 527.9027515853943), ('would', 524.0719926221886), ('&', 514.7486723956722), ('make', 497.63616421456476), ('business', 476.5708100768935), ('center', 475.5647776236558), ('phone', 455.7300331964486), ('co-worker', 452.9620684377438), ('take', 439.88746923632704), ('system', 424.7280263326137), ('problem', 408.70215496414477), ('technology', 408.50476278759646), ('typical work', 358.35565165567914), ('challenge', 354.06546756737134), ('able', 345.5160648162803), ('employee', 340.4603614510572), ('staff', 331.08928820705995), ('learn', 331.0475448893511), ('resolve', 325.29474185362807), ('train', 325.1258387064931), ('computer', 316.5091608006472), ('large', 312.7776428020206), ('customer service', 307.2795206559255), ('information', 307.1708861591685), ('technical', 303.74798535737585), ('client', 303.2023256879163), ('great', 297.4379067414427), ('environment', 289.15981954269046), ('well', 287.51048024997056), ('also', 287.31704344101513), ('assist', 283.2662097696564)]\n",
      "Topic 4:\n",
      "[('work', 15859.02723550976), ('great', 3586.9285845924937), ('learn', 3541.612083976609), ('good', 3362.0224835354206), ('place', 3341.8535994478184), ('enjoy', 3280.606489741252), ('people', 2872.25502390328), ('lot', 2617.283787981244), ('fun', 2315.5017974536104), ('environment', 2211.9019458796943), ('part', 2189.9815120387134), ('management', 2171.4010367867213), ('friendly', 2003.1778155978916), ('job', 1635.986426045436), ('really', 1565.791711825232), ('place work', 1510.8255177594936), ('hard', 1420.7592377585233), ('time', 1416.277986122554), ('culture', 1371.4196163574438), ('co-worker', 1283.1192905076703), ('helpful', 1249.25222619195), ('work place', 1191.0399374697174), ('enjoy work', 1104.386145190161), ('thing', 1091.0107070339773), ('help', 1064.6809937293924), ('experience', 1038.5881965986773), ('learn lot', 993.0035603643837), ('love', 991.2968888318795), ('manager', 949.790844967091), ('always', 898.8923003430182), ('get', 877.2850935746056), ('work environment', 867.596627508493), ('supportive', 855.6755155832708), ('part job', 828.7303626552598), ('hard part', 779.5033710464741), ('like', 737.6378165564864), ('would', 727.1925168785385), ('colleague', 714.1266441174957), ('enjoy part', 705.3075472455432), ('challenge', 654.3600386830765), ('many', 638.0303433060204), ('fun work', 634.5685928244743), ('great place', 614.044371833855), ('typical', 603.1960051497451), ('make', 568.1475422548934), ('co', 558.0344626295484), ('work culture', 540.7131894133294), ('people work', 512.8929742779687), ('great work', 508.03259416048235), ('awesome', 503.45622995624143)]\n",
      "Topic 5:\n",
      "[('good', 23799.788239091475), ('work', 19150.40718399174), ('place', 5310.102625366772), ('good work', 4765.7371252806115), ('balance', 4528.429930934738), ('learn', 4403.584381241339), ('life', 4333.476903135589), ('culture', 3986.1171228901053), ('management', 3839.460489716468), ('opportunity', 3629.2717071099664), ('work life', 3394.3925452649014), ('project', 3260.0857280079795), ('life balance', 3255.5089385734987), ('environment', 3046.291768408922), ('work culture', 2750.1515567558067), ('employee', 2749.891321888265), ('technology', 2576.6128155638853), ('place work', 2344.8501565576953), ('good place', 2260.262225026223), ('salary', 2232.021669829226), ('lot', 2077.1951087248262), ('provide', 1961.0199996223203), ('job', 1806.802998196235), ('get', 1671.4801667379975), ('great', 1607.934621335477), ('growth', 1571.8786460552471), ('fresher', 1544.5408102687695), ('work environment', 1540.5993025901096), ('less', 1374.511781029064), ('train', 1323.6708352821108), ('also', 1295.4334227993006), ('experience', 1267.8492239814304), ('friendly', 1266.3624607838271), ('work good', 1225.9676357147848), ('start', 1175.9847807514357), ('flexible', 1083.7539837972292), ('work place', 1074.6614274020676), ('culture good', 1065.935264529141), ('security', 1055.756995398537), ('benefit', 1031.6756876069346), ('overall', 1029.271723293351), ('hike', 998.7481718853358), ('good management', 963.571554528951), ('management good', 953.7539744259573), ('depend', 929.4986543550656), ('tc', 918.131402292631), ('job security', 909.5617871426801), ('excellent', 894.4322227466998), ('give', 893.9234288523293), ('facility', 892.8163323664519)]\n",
      "Topic 6:\n"
     ]
    },
    {
     "name": "stdout",
     "output_type": "stream",
     "text": [
      "[('work', 10392.353177745086), ('great', 5370.733354160755), ('employee', 2715.459069728282), ('benefit', 2467.7090289603602), ('place', 2390.7375114337424), ('management', 2043.3726178089642), ('place work', 1536.6564625462163), ('environment', 1445.1097338282866), ('hour', 1349.2187289460333), ('balance', 1329.1694301086848), ('culture', 1224.420864097882), ('time', 1065.5473205088151), ('pay', 1042.8836855528596), ('great place', 1015.4643868322244), ('well', 1005.0291481525225), ('people', 997.9322165042648), ('life', 904.2763668001636), (\"'s\", 885.4578887642748), ('flexible', 882.3676588851167), ('good', 870.698314616632), ('great work', 858.3601608209251), ('opportunity', 833.5919583938993), ('care', 764.4202211100444), ('need', 763.6882229722637), ('home', 698.561504992571), ('work environment', 678.2519329026813), ('like', 659.0393635460014), ('make', 649.1010295495588), ('advancement', 595.5452098553545), ('one', 588.122356651096), ('excellent', 587.908569696159), ('lot', 572.3161791214312), ('job', 556.6271112467181), ('manager', 554.7049877662093), ('take', 548.6764457603874), ('work home', 533.8318184085701), ('always', 528.0627775259625), ('offer', 501.3669618979892), ('many', 494.93075307275836), ('provide', 494.7606239494035), ('long', 489.01118476380447), ('compensate', 486.8400228001682), ('much', 471.2984011113304), ('health', 470.42495554745193), ('high', 465.7900991265501), ('great benefit', 451.43322543532815), ('would', 434.75364715532913), ('work/life', 421.0057564751405), ('growth', 416.2257348906367), ('train', 407.5979919288956)]\n",
      "====================\n"
     ]
    }
   ],
   "source": [
    "def print_topics(model, vectorizer, top_n=50):\n",
    "    for idx, topic in enumerate(model.components_):\n",
    "        print(\"Topic %d:\" % (idx))\n",
    "        print([(vectorizer.get_feature_names()[i], topic[i])\n",
    "                        for i in topic.argsort()[:-top_n - 1:-1]])\n",
    " \n",
    "print(\"LDA Model:\")\n",
    "print_topics(lda, vectorizer)\n",
    "print(\"=\" * 20)"
   ]
  },
  {
   "cell_type": "code",
   "execution_count": 56,
   "metadata": {},
   "outputs": [
    {
     "ename": "TypeError",
     "evalue": "list indices must be integers or slices, not str",
     "output_type": "error",
     "traceback": [
      "\u001b[1;31m---------------------------------------------------------------------------\u001b[0m",
      "\u001b[1;31mTypeError\u001b[0m                                 Traceback (most recent call last)",
      "\u001b[1;32m<ipython-input-56-58292ea16f28>\u001b[0m in \u001b[0;36m<module>\u001b[1;34m\u001b[0m\n\u001b[0;32m      2\u001b[0m \u001b[1;32mfor\u001b[0m \u001b[0midx\u001b[0m\u001b[1;33m,\u001b[0m \u001b[0mtopic\u001b[0m \u001b[1;32min\u001b[0m \u001b[0menumerate\u001b[0m\u001b[1;33m(\u001b[0m\u001b[0mlda\u001b[0m\u001b[1;33m.\u001b[0m\u001b[0mcomponents_\u001b[0m\u001b[1;33m)\u001b[0m\u001b[1;33m:\u001b[0m\u001b[1;33m\u001b[0m\u001b[0m\n\u001b[0;32m      3\u001b[0m     aspect['Aspect {0}'.format(str(idx))] = [vectorizer.get_feature_names()[i]\n\u001b[1;32m----> 4\u001b[1;33m                                                          for i in topic.argsort()[:-100 - 1:-1]]\n\u001b[0m\u001b[0;32m      5\u001b[0m \u001b[1;33m\u001b[0m\u001b[0m\n\u001b[0;32m      6\u001b[0m \u001b[1;32mwith\u001b[0m \u001b[0mopen\u001b[0m\u001b[1;33m(\u001b[0m\u001b[1;34m\"../results/Sklearn-LDA/sklearn-word-lda-topic-k-7-a-0.01-b-0.31.json\"\u001b[0m\u001b[1;33m,\u001b[0m \u001b[1;34m\"w\"\u001b[0m\u001b[1;33m)\u001b[0m \u001b[1;32mas\u001b[0m \u001b[0mf\u001b[0m\u001b[1;33m:\u001b[0m\u001b[1;33m\u001b[0m\u001b[0m\n",
      "\u001b[1;31mTypeError\u001b[0m: list indices must be integers or slices, not str"
     ]
    }
   ],
   "source": [
    "aspect = {}\n",
    "for idx, topic in enumerate(lda.components_):\n",
    "    aspect['Aspect {0}'.format(str(idx))] = [vectorizer.get_feature_names()[i]\n",
    "                                                         for i in topic.argsort()[:-100 - 1:-1]]\n",
    "\n",
    "with open(\"../results/Sklearn-LDA/sklearn-word-lda-topic-k-7-a-0.01-b-0.31.json\", \"w\") as f:\n",
    "    json.dump(aspect, f)"
   ]
  },
  {
   "cell_type": "code",
   "execution_count": null,
   "metadata": {},
   "outputs": [],
   "source": [
    "# Build a Non-Negative Matrix Factorization Model\n",
    "nmf = NMF(n_components=7\n",
    "                  ,init='nndsvd'\n",
    "                 ,random_state=100,\n",
    "                 alpha=0.61)\n",
    "\n",
    "nmf.fit(X)\n"
   ]
  },
  {
   "cell_type": "code",
   "execution_count": null,
   "metadata": {},
   "outputs": [],
   "source": [
    "print(\"NMF Model:\")\n",
    "print_topics(nmf, vectorizer)\n",
    "print(\"=\" * 20)"
   ]
  },
  {
   "cell_type": "code",
   "execution_count": null,
   "metadata": {},
   "outputs": [],
   "source": [
    "spect = {}\n",
    "for idx, topic in enumerate(nmf.components_):\n",
    "    aspect['Aspect {0}'.format(str(idx))] = {vectorizer.get_feature_names()[i]\n",
    "                                                         for i in topic.argsort()[:-100 - 1:-1]}\n",
    "\n",
    "with open(\"../results/Sklearn-LDA/sklearn-word-nmf-topic-k-7-a-0.61.json\", \"w\") as f:\n",
    "    json.dump(aspect, f)"
   ]
  },
  {
   "cell_type": "code",
   "execution_count": null,
   "metadata": {},
   "outputs": [],
   "source": []
  }
 ],
 "metadata": {
  "kernelspec": {
   "display_name": "Python 3",
   "language": "python",
   "name": "python3"
  },
  "language_info": {
   "codemirror_mode": {
    "name": "ipython",
    "version": 3
   },
   "file_extension": ".py",
   "mimetype": "text/x-python",
   "name": "python",
   "nbconvert_exporter": "python",
   "pygments_lexer": "ipython3",
   "version": "3.7.0"
  }
 },
 "nbformat": 4,
 "nbformat_minor": 4
}
