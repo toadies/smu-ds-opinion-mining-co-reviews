{
 "cells": [
  {
   "cell_type": "code",
   "execution_count": 3,
   "metadata": {},
   "outputs": [],
   "source": [
    "\n",
    "from multiprocessing import Pool\n",
    "from tqdm import tqdm\n",
    "from spacy.lang.en import English\n",
    "import gensim.corpora as corpora\n",
    "from gensim.models import LdaMulticore\n",
    "import multiprocessing as mp\n",
    "\n",
    "import re\n",
    "import numpy as np\n",
    "import pandas as pd\n",
    "from pprint import pprint\n",
    "import pickle\n",
    "# Gensim\n",
    "import gensim\n",
    "import gensim.corpora as corpora\n",
    "from gensim.utils import simple_preprocess\n",
    "from gensim.models import CoherenceModel\n",
    "from gensim.parsing.preprocessing import STOPWORDS\n",
    "from nltk.stem import WordNetLemmatizer, SnowballStemmer\n",
    "from nltk.stem.porter import *\n",
    "import nltk\n",
    "from nltk.corpus import wordnet as wn\n",
    "#nltk.download('stopwords')\n",
    "#nltk.download('wordnet')\n",
    "# spacy for lemmatization\n",
    "import spacy\n",
    "from spacy.lang.en import English\n",
    "parser = English()\n",
    "\n",
    "# Plotting tools\n",
    "\n",
    "import pyLDAvis\n",
    "import pyLDAvis.gensim  # don't skip this\n",
    "import matplotlib.pyplot as plt\n",
    "%matplotlib inline\n"
   ]
  },
  {
   "cell_type": "code",
   "execution_count": 4,
   "metadata": {},
   "outputs": [],
   "source": [
    "with open(\"tech_review_word_corpus.pkl\",\"rb\") as f:\n",
    "    tech_review_corpus = pickle.load(f)\n",
    "    \n",
    "reviews = pd.DataFrame(tech_review_corpus).review.tolist()\n",
    "\n",
    "def tokenize(text):\n",
    "    lda_tokens = []\n",
    "    tokens = parser(text)\n",
    "    for token in tokens:\n",
    "        if token.orth_.isspace():\n",
    "            continue\n",
    "        else:\n",
    "            lda_tokens.append(token.lower_)\n",
    "    return lda_tokens"
   ]
  },
  {
   "cell_type": "code",
   "execution_count": 3,
   "metadata": {},
   "outputs": [
    {
     "name": "stderr",
     "output_type": "stream",
     "text": [
      "100%|██████████| 45251/45251 [00:05<00:00, 8707.75it/s] \n",
      "  0%|          | 0/45251 [00:00<?, ?it/s]"
     ]
    },
    {
     "name": "stdout",
     "output_type": "stream",
     "text": [
      "Create a Dictionary\n"
     ]
    },
    {
     "name": "stderr",
     "output_type": "stream",
     "text": [
      "100%|██████████| 45251/45251 [00:01<00:00, 31386.32it/s]\n"
     ]
    }
   ],
   "source": [
    "processed_docs = list(tqdm(map(tokenize, reviews), total=len(reviews)))\n",
    "\n",
    "# Create Dictionary\n",
    "id2word = corpora.Dictionary(processed_docs)\n",
    "# Term Document Frequency\n",
    "print(\"Create a Dictionary\")\n",
    "corpus = [id2word.doc2bow(text) for i, text in tqdm(enumerate(processed_docs), total=len(processed_docs))]"
   ]
  },
  {
   "cell_type": "code",
   "execution_count": 2,
   "metadata": {},
   "outputs": [
    {
     "name": "stdout",
     "output_type": "stream",
     "text": [
      "Total workers: 15\n",
      "Tokenize the corpus\n"
     ]
    },
    {
     "name": "stderr",
     "output_type": "stream",
     "text": [
      "100%|██████████| 45251/45251 [00:02<00:00, 17070.34it/s]\n",
      "  2%|▏         | 690/45251 [00:00<00:10, 4251.66it/s]"
     ]
    },
    {
     "name": "stdout",
     "output_type": "stream",
     "text": [
      "Create a Dictionary\n"
     ]
    },
    {
     "name": "stderr",
     "output_type": "stream",
     "text": [
      "100%|██████████| 45251/45251 [00:01<00:00, 38315.66it/s]\n",
      "  0%|          | 0/180 [00:00<?, ?it/s]"
     ]
    },
    {
     "name": "stdout",
     "output_type": "stream",
     "text": [
      "Running modeling\n",
      "Total Paramters 180\n"
     ]
    },
    {
     "name": "stderr",
     "output_type": "stream",
     "text": [
      "100%|██████████| 180/180 [7:02:39<00:00, 140.88s/it]  \n"
     ]
    }
   ],
   "source": [
    "num_cpus = mp.cpu_count() - 1\n",
    "\n",
    "parser = English()\n",
    "\n",
    "\n",
    "def compute_coherence_values(param):\n",
    "    lda_model = LdaMulticore(corpus=corpus,\n",
    "                                           id2word=id2word,\n",
    "                                           num_topics=param[\"k\"], \n",
    "                                           random_state=100,\n",
    "                                           chunksize=100,\n",
    "                                           workers = num_cpus,\n",
    "                                           passes=10,\n",
    "                                           alpha=param[\"alpha\"],\n",
    "                                           eta=param[\"beta\"],\n",
    "                                           per_word_topics=True)\n",
    "    \n",
    "    coherence_model_lda = CoherenceModel(model=lda_model, texts=processed_docs, dictionary=id2word, coherence='c_v')\n",
    "    \n",
    "    param[\"coherence\"] = coherence_model_lda.get_coherence()\n",
    "\n",
    "    return param\n",
    "\n",
    "if __name__ == \"__main__\":\n",
    "\n",
    "    print(\"Total workers:\", num_cpus)\n",
    "\n",
    "    print(\"Tokenize the corpus\")\n",
    "    with Pool() as p:\n",
    "        processed_docs = list(tqdm(p.imap(tokenize, reviews), total=len(reviews)))\n",
    "\n",
    "    # Create Dictionary\n",
    "    id2word = corpora.Dictionary(processed_docs)\n",
    "    # Term Document Frequency\n",
    "    print(\"Create a Dictionary\")\n",
    "    corpus = [id2word.doc2bow(text) for i, text in tqdm(enumerate(processed_docs), total=len(processed_docs))]\n",
    "\n",
    "    grid = {}\n",
    "    grid['Validation_Set'] = {}\n",
    "    # Topics range\n",
    "    min_topics = 7\n",
    "    max_topics = 13\n",
    "    step_size = 1\n",
    "    topics_range = range(max_topics, min_topics, -1)\n",
    "    # Alpha parameter\n",
    "    alpha = list(np.arange(0.01, 1, 0.3))\n",
    "    alpha.append('symmetric')\n",
    "    alpha.append('asymmetric')\n",
    "    # Beta parameter\n",
    "    beta = list(np.arange(0.01, 1, 0.3))\n",
    "    beta.append('symmetric')\n",
    "\n",
    "    parameters = []\n",
    "    for k in topics_range:\n",
    "        for a in alpha:\n",
    "            for b in beta:\n",
    "                parameters.append({\n",
    "                        \"k\":k\n",
    "                        ,\"alpha\":a\n",
    "                        ,\"beta\":b\n",
    "                        ,\"workers\":4\n",
    "                    })\n",
    "\n",
    "    print(\"Running modeling\")\n",
    "    print(\"Total Paramters\", len(parameters))\n",
    "\n",
    "    results = list(map(compute_coherence_values, tqdm(parameters)))\n",
    "\n",
    "    df = pd.DataFrame(results).to_csv(\"../data/lda_word_modeling.csv\",index = False)"
   ]
  },
  {
   "cell_type": "code",
   "execution_count": 4,
   "metadata": {},
   "outputs": [
    {
     "data": {
      "text/html": [
       "<div>\n",
       "<style scoped>\n",
       "    .dataframe tbody tr th:only-of-type {\n",
       "        vertical-align: middle;\n",
       "    }\n",
       "\n",
       "    .dataframe tbody tr th {\n",
       "        vertical-align: top;\n",
       "    }\n",
       "\n",
       "    .dataframe thead th {\n",
       "        text-align: right;\n",
       "    }\n",
       "</style>\n",
       "<table border=\"1\" class=\"dataframe\">\n",
       "  <thead>\n",
       "    <tr style=\"text-align: right;\">\n",
       "      <th></th>\n",
       "      <th>k</th>\n",
       "      <th>alpha</th>\n",
       "      <th>beta</th>\n",
       "      <th>workers</th>\n",
       "      <th>coherence</th>\n",
       "    </tr>\n",
       "  </thead>\n",
       "  <tbody>\n",
       "    <tr>\n",
       "      <th>115</th>\n",
       "      <td>10</td>\n",
       "      <td>asymmetric</td>\n",
       "      <td>0.01</td>\n",
       "      <td>4</td>\n",
       "      <td>0.624038</td>\n",
       "    </tr>\n",
       "    <tr>\n",
       "      <th>157</th>\n",
       "      <td>8</td>\n",
       "      <td>0.31</td>\n",
       "      <td>0.61</td>\n",
       "      <td>4</td>\n",
       "      <td>0.623279</td>\n",
       "    </tr>\n",
       "    <tr>\n",
       "      <th>172</th>\n",
       "      <td>8</td>\n",
       "      <td>symmetric</td>\n",
       "      <td>0.61</td>\n",
       "      <td>4</td>\n",
       "      <td>0.618415</td>\n",
       "    </tr>\n",
       "    <tr>\n",
       "      <th>128</th>\n",
       "      <td>9</td>\n",
       "      <td>0.31</td>\n",
       "      <td>0.9099999999999999</td>\n",
       "      <td>4</td>\n",
       "      <td>0.616429</td>\n",
       "    </tr>\n",
       "    <tr>\n",
       "      <th>170</th>\n",
       "      <td>8</td>\n",
       "      <td>symmetric</td>\n",
       "      <td>0.01</td>\n",
       "      <td>4</td>\n",
       "      <td>0.608220</td>\n",
       "    </tr>\n",
       "    <tr>\n",
       "      <th>...</th>\n",
       "      <td>...</td>\n",
       "      <td>...</td>\n",
       "      <td>...</td>\n",
       "      <td>...</td>\n",
       "      <td>...</td>\n",
       "    </tr>\n",
       "    <tr>\n",
       "      <th>92</th>\n",
       "      <td>10</td>\n",
       "      <td>0.01</td>\n",
       "      <td>0.61</td>\n",
       "      <td>4</td>\n",
       "      <td>0.507157</td>\n",
       "    </tr>\n",
       "    <tr>\n",
       "      <th>88</th>\n",
       "      <td>11</td>\n",
       "      <td>asymmetric</td>\n",
       "      <td>0.9099999999999999</td>\n",
       "      <td>4</td>\n",
       "      <td>0.499703</td>\n",
       "    </tr>\n",
       "    <tr>\n",
       "      <th>113</th>\n",
       "      <td>10</td>\n",
       "      <td>symmetric</td>\n",
       "      <td>0.9099999999999999</td>\n",
       "      <td>4</td>\n",
       "      <td>0.499092</td>\n",
       "    </tr>\n",
       "    <tr>\n",
       "      <th>33</th>\n",
       "      <td>12</td>\n",
       "      <td>0.01</td>\n",
       "      <td>0.9099999999999999</td>\n",
       "      <td>4</td>\n",
       "      <td>0.485647</td>\n",
       "    </tr>\n",
       "    <tr>\n",
       "      <th>118</th>\n",
       "      <td>10</td>\n",
       "      <td>asymmetric</td>\n",
       "      <td>0.9099999999999999</td>\n",
       "      <td>4</td>\n",
       "      <td>0.478756</td>\n",
       "    </tr>\n",
       "  </tbody>\n",
       "</table>\n",
       "<p>180 rows × 5 columns</p>\n",
       "</div>"
      ],
      "text/plain": [
       "      k       alpha                beta  workers  coherence\n",
       "115  10  asymmetric                0.01        4   0.624038\n",
       "157   8        0.31                0.61        4   0.623279\n",
       "172   8   symmetric                0.61        4   0.618415\n",
       "128   9        0.31  0.9099999999999999        4   0.616429\n",
       "170   8   symmetric                0.01        4   0.608220\n",
       "..   ..         ...                 ...      ...        ...\n",
       "92   10        0.01                0.61        4   0.507157\n",
       "88   11  asymmetric  0.9099999999999999        4   0.499703\n",
       "113  10   symmetric  0.9099999999999999        4   0.499092\n",
       "33   12        0.01  0.9099999999999999        4   0.485647\n",
       "118  10  asymmetric  0.9099999999999999        4   0.478756\n",
       "\n",
       "[180 rows x 5 columns]"
      ]
     },
     "execution_count": 4,
     "metadata": {},
     "output_type": "execute_result"
    }
   ],
   "source": [
    "pd.read_csv(\"../data/lda_word_modeling.csv\").sort_values(by = ['coherence','k'],ascending=False)"
   ]
  },
  {
   "cell_type": "code",
   "execution_count": 6,
   "metadata": {},
   "outputs": [],
   "source": [
    "\n",
    "final_lda_model = LdaMulticore(corpus=corpus,\n",
    "                                           id2word=id2word,\n",
    "                                           num_topics=10, \n",
    "                                           random_state=100,\n",
    "                                           chunksize=200,\n",
    "                                           workers = 4,\n",
    "                                           passes=10,\n",
    "                                           alpha='asymmetric',\n",
    "                                           eta=0.01,\n",
    "                                           per_word_topics=True)"
   ]
  },
  {
   "cell_type": "code",
   "execution_count": 7,
   "metadata": {},
   "outputs": [
    {
     "name": "stdout",
     "output_type": "stream",
     "text": [
      "[(0,\n",
      "  '0.087*\"work\" + 0.061*\"learn\" + 0.047*\"good\" + 0.031*\"lot\" + '\n",
      "  '0.023*\"opportunity\" + 0.022*\"technology\" + 0.022*\"place\" + 0.020*\"great\" + '\n",
      "  '0.019*\"environment\" + 0.016*\"skill\" + 0.015*\"thing\" + 0.014*\"experience\" + '\n",
      "  '0.013*\"many\" + 0.012*\"project\" + 0.012*\"culture\" + 0.011*\"management\" + '\n",
      "  '0.010*\"people\" + 0.009*\"fun\" + 0.008*\"training\" + 0.008*\"grow\"'),\n",
      " (1,\n",
      "  '0.047*\"good\" + 0.034*\"work\" + 0.025*\"management\" + 0.024*\"project\" + '\n",
      "  '0.021*\"salary\" + 0.018*\"job\" + 0.016*\"le\" + 0.014*\"pay\" + 0.014*\"employee\" '\n",
      "  '+ 0.014*\"get\" + 0.013*\"benefit\" + 0.012*\"much\" + 0.010*\"growth\" + '\n",
      "  '0.010*\"manager\" + 0.010*\"year\" + 0.010*\"opportunity\" + 0.009*\"security\" + '\n",
      "  '0.009*\"bad\" + 0.009*\"lot\" + 0.009*\"low\"'),\n",
      " (2,\n",
      "  '0.058*\"part\" + 0.055*\"work\" + 0.041*\"job\" + 0.038*\"wa\" + 0.034*\"worker\" + '\n",
      "  '0.033*\"co\" + 0.030*\"enjoy\" + 0.027*\"management\" + 0.021*\"learn\" + '\n",
      "  '0.021*\"hardest\" + 0.019*\"issue\" + 0.018*\"typical\" + 0.014*\"customer\" + '\n",
      "  '0.012*\"task\" + 0.010*\"time\" + 0.008*\"problem\" + 0.008*\"project\" + '\n",
      "  '0.007*\"meeting\" + 0.007*\"daily\" + 0.007*\"support\"'),\n",
      " (3,\n",
      "  '0.043*\"development\" + 0.040*\"software\" + 0.037*\"business\" + 0.032*\"product\" '\n",
      "  '+ 0.027*\"process\" + 0.026*\"technology\" + 0.021*\"developer\" + '\n",
      "  '0.020*\"service\" + 0.020*\"engineer\" + 0.016*\"solution\" + 0.012*\"client\" + '\n",
      "  '0.011*\"agile\" + 0.011*\"project\" + 0.010*\"quality\" + 0.010*\"industry\" + '\n",
      "  '0.008*\"year\" + 0.008*\"role\" + 0.008*\"provider\" + 0.007*\"reporting\" + '\n",
      "  '0.007*\"multiple\"'),\n",
      " (4,\n",
      "  '0.062*\"employee\" + 0.040*\"management\" + 0.025*\"care\" + 0.023*\"ha\" + '\n",
      "  '0.021*\"great\" + 0.020*\"people\" + 0.013*\"make\" + 0.013*\"take\" + '\n",
      "  '0.012*\"health\" + 0.011*\"value\" + 0.011*\"leadership\" + 0.009*\"benefit\" + '\n",
      "  '0.008*\"organization\" + 0.008*\"always\" + 0.008*\"work\" + 0.008*\"decision\" + '\n",
      "  '0.008*\"goal\" + 0.007*\"need\" + 0.007*\"level\" + 0.007*\"like\"'),\n",
      " (5,\n",
      "  '0.025*\"work\" + 0.018*\"time\" + 0.016*\"get\" + 0.013*\"manager\" + '\n",
      "  '0.012*\"people\" + 0.010*\"job\" + 0.009*\"one\" + 0.009*\"hour\" + 0.008*\"make\" + '\n",
      "  '0.007*\"like\" + 0.007*\"would\" + 0.007*\"call\" + 0.007*\"go\" + 0.006*\"hard\" + '\n",
      "  '0.006*\"thing\" + 0.006*\"even\" + 0.005*\"every\" + 0.005*\"week\" + 0.005*\"help\" '\n",
      "  '+ 0.005*\"need\"'),\n",
      " (6,\n",
      "  '0.187*\"work\" + 0.127*\"good\" + 0.063*\"life\" + 0.048*\"balance\" + '\n",
      "  '0.043*\"place\" + 0.042*\"great\" + 0.031*\"environment\" + 0.028*\"culture\" + '\n",
      "  '0.024*\"management\" + 0.020*\"benefit\" + 0.015*\"employee\" + 0.014*\"flexible\" '\n",
      "  '+ 0.013*\"friendly\" + 0.012*\"job\" + 0.010*\"people\" + 0.009*\"excellent\" + '\n",
      "  '0.008*\"fun\" + 0.008*\"hour\" + 0.008*\"opportunity\" + 0.007*\"home\"'),\n",
      " (7,\n",
      "  '0.038*\"service\" + 0.026*\"financial\" + 0.017*\"operation\" + 0.016*\"banking\" + '\n",
      "  '0.010*\"business\" + 0.009*\"india\" + 0.009*\"implementing\" + 0.009*\"military\" '\n",
      "  '+ 0.008*\"not\" + 0.008*\"can\" + 0.008*\"card\" + 0.008*\"nt\" + '\n",
      "  '0.008*\"corporation\" + 0.008*\"trained\" + 0.008*\"rating\" + 0.007*\"wish\" + '\n",
      "  '0.007*\"responsible\" + 0.007*\"based\" + 0.007*\"international\" + '\n",
      "  '0.007*\"function\"'),\n",
      " (8,\n",
      "  '0.184*\"wa\" + 0.055*\"work\" + 0.042*\"year\" + 0.027*\"great\" + 0.022*\"job\" + '\n",
      "  '0.021*\"would\" + 0.018*\"time\" + 0.015*\"position\" + 0.014*\"people\" + '\n",
      "  '0.013*\"experience\" + 0.011*\"contract\" + 0.011*\"month\" + 0.010*\"recommend\" + '\n",
      "  '0.009*\"really\" + 0.008*\"enjoy\" + 0.008*\"made\" + 0.008*\"left\" + '\n",
      "  '0.007*\"manager\" + 0.007*\"started\" + 0.007*\"got\"'),\n",
      " (9,\n",
      "  '0.047*\"system\" + 0.038*\"application\" + 0.022*\"support\" + 0.021*\"using\" + '\n",
      "  '0.020*\"user\" + 0.018*\"server\" + 0.018*\"project\" + 0.015*\"requirement\" + '\n",
      "  '0.013*\"database\" + 0.013*\"web\" + 0.013*\"testing\" + 0.012*\"code\" + '\n",
      "  '0.012*\"client\" + 0.012*\"java\" + 0.012*\"developed\" + 0.011*\"test\" + '\n",
      "  '0.011*\"network\" + 0.011*\"design\" + 0.011*\"end\" + 0.010*\"experience\"')]\n"
     ]
    }
   ],
   "source": [
    "# Select the model and print the topics\n",
    "optimal_model = final_lda_model\n",
    "model_topics = optimal_model.show_topics(formatted=False)\n",
    "pprint(optimal_model.print_topics(num_words=20))"
   ]
  },
  {
   "cell_type": "code",
   "execution_count": 8,
   "metadata": {},
   "outputs": [
    {
     "data": {
      "text/html": [
       "\n",
       "<link rel=\"stylesheet\" type=\"text/css\" href=\"https://cdn.rawgit.com/bmabey/pyLDAvis/files/ldavis.v1.0.0.css\">\n",
       "\n",
       "\n",
       "<div id=\"ldavis_el32371402552575787369643062163\"></div>\n",
       "<script type=\"text/javascript\">\n",
       "\n",
       "var ldavis_el32371402552575787369643062163_data = {\"mdsDat\": {\"x\": [-0.13822842111841482, -0.14283586913631233, -0.0542829954787812, 0.29506195607329133, -0.0832926681003968, -0.09490703305516225, -0.2130047936159667, 0.2748474090429166, -0.14427373402925345, 0.3009161494180803], \"y\": [-0.0801169972646703, 0.02158421364565033, -0.10319542433471467, -0.1272515267458673, 0.05937778395868429, 0.04586856279447001, -0.03206252706841176, 0.37379742332064797, 0.06462108883667005, -0.2226225971424586], \"topics\": [1, 2, 3, 4, 5, 6, 7, 8, 9, 10], \"cluster\": [1, 1, 1, 1, 1, 1, 1, 1, 1, 1], \"Freq\": [23.342992782592773, 11.859027862548828, 11.24042797088623, 4.639495372772217, 7.113680839538574, 15.047256469726562, 11.408736228942871, 2.7361841201782227, 7.593970775604248, 5.01823091506958]}, \"tinfo\": {\"Term\": [\"wa\", \"good\", \"work\", \"learn\", \"life\", \"part\", \"employee\", \"balance\", \"great\", \"technology\", \"place\", \"job\", \"worker\", \"co\", \"management\", \"year\", \"system\", \"lot\", \"environment\", \"project\", \"enjoy\", \"development\", \"culture\", \"software\", \"service\", \"application\", \"opportunity\", \"business\", \"benefit\", \"hardest\", \"exposure\", \"domain\", \"explore\", \"gain\", \"gained\", \"firm\", \"healthy\", \"balanced\", \"motivates\", \"cultural\", \"dba\", \"safe\", \"guide\", \"equal\", \"thank\", \"sport\", \"techm\", \"creates\", \"journey\", \"soft\", \"cio\", \"satisfying\", \"ltd\", \"conducted\", \"glad\", \"varied\", \"digital\", \"transparency\", \"progression\", \"purpose\", \"technically\", \"grow\", \"skill\", \"learn\", \"lot\", \"technology\", \"knowledge\", \"improved\", \"opportunity\", \"thing\", \"freedom\", \"chance\", \"joined\", \"got\", \"ample\", \"professional\", \"improve\", \"many\", \"latest\", \"experience\", \"fresher\", \"fun\", \"different\", \"work\", \"environment\", \"training\", \"good\", \"place\", \"technical\", \"great\", \"activity\", \"culture\", \"project\", \"friendly\", \"also\", \"people\", \"management\", \"one\", \"well\", \"get\", \"low\", \"hike\", \"depends\", \"politics\", \"tc\", \"promotion\", \"compared\", \"appraisal\", \"do\", \"pro\", \"increment\", \"graduate\", \"doctor\", \"advice\", \"candidate\", \"stability\", \"wage\", \"mark\", \"cared\", \"survive\", \"depend\", \"allowance\", \"stick\", \"suck\", \"near\", \"s\", \"decide\", \"lateral\", \"aggressive\", \"onshore\", \"con\", \"movement\", \"le\", \"progressive\", \"poor\", \"salary\", \"average\", \"slow\", \"hr\", \"bad\", \"increase\", \"decent\", \"pay\", \"term\", \"ok\", \"bonus\", \"security\", \"nt\", \"compensation\", \"much\", \"project\", \"growth\", \"good\", \"benefit\", \"long\", \"management\", \"get\", \"job\", \"employee\", \"work\", \"year\", \"manager\", \"opportunity\", \"need\", \"culture\", \"lot\", \"place\", \"time\", \"part\", \"worker\", \"co\", \"hardest\", \"managing\", \"resolve\", \"operative\", \"friday\", \"administrator\", \"script\", \"defect\", \"cisco\", \"incident\", \"troubleshoot\", \"involves\", \"indeed\", \"interacting\", \"completing\", \"intelligence\", \"involving\", \"monday\", \"cobol\", \"db2\", \"installing\", \"utilize\", \"directory\", \"db\", \"administrative\", \"1st\", \"sla\", \"task\", \"typical\", \"resolved\", \"consist\", \"handled\", \"ticket\", \"solve\", \"checking\", \"issue\", \"daily\", \"assist\", \"enjoy\", \"pc\", \"customer\", \"equipment\", \"meeting\", \"job\", \"problem\", \"monitor\", \"basis\", \"wa\", \"solving\", \"management\", \"deadline\", \"work\", \"helping\", \"helpful\", \"learn\", \"call\", \"help\", \"client\", \"time\", \"support\", \"always\", \"challenge\", \"project\", \"member\", \"friendly\", \"well\", \"also\", \"different\", \"product\", \"engineer\", \"agile\", \"provider\", \"engineering\", \"driven\", \"offshore\", \"existing\", \"range\", \"automation\", \"investment\", \"cloud\", \"feature\", \"finance\", \"stage\", \"storage\", \"500\", \"content\", \"mobile\", \"modern\", \"marketing\", \"configure\", \"j\", \"primarily\", \"upgrading\", \"science\", \"mapping\", \"span\", \"capacity\", \"ad\", \"methodology\", \"development\", \"developer\", \"software\", \"solution\", \"business\", \"cycle\", \"practice\", \"delivery\", \"risk\", \"model\", \"process\", \"deployment\", \"key\", \"report\", \"service\", \"quality\", \"reporting\", \"technology\", \"currently\", \"industry\", \"client\", \"role\", \"multiple\", \"information\", \"project\", \"group\", \"year\", \"enhance\", \"based\", \"support\", \"care\", \"decision\", \"respect\", \"treat\", \"america\", \"succeed\", \"valued\", \"joining\", \"trust\", \"opinion\", \"advantage\", \"spring\", \"human\", \"objective\", \"commitment\", \"clinical\", \"regard\", \"stop\", \"sa\", \"reputation\", \"bunch\", \"revenue\", \"jquery\", \"nobody\", \"connectivity\", \"relocation\", \"belief\", \"quit\", \"pride\", \"toxic\", \"value\", \"incompetence\", \"upper\", \"truly\", \"vision\", \"direction\", \"health\", \"leadership\", \"employee\", \"goal\", \"focus\", \"believe\", \"achieve\", \"take\", \"clear\", \"ha\", \"doe\", \"make\", \"leader\", \"management\", \"people\", \"staff\", \"making\", \"organization\", \"top\", \"great\", \"idea\", \"open\", \"level\", \"high\", \"always\", \"benefit\", \"need\", \"way\", \"like\", \"well\", \"culture\", \"work\", \"manager\", \"force\", \"air\", \"went\", \"question\", \"student\", \"fargo\", \"documentation\", \"kept\", \"minute\", \"tell\", \"table\", \"answer\", \"migration\", \"degree\", \"receive\", \"fired\", \"wrong\", \"mail\", \"clinic\", \"floor\", \"agent\", \"asset\", \"complaint\", \"led\", \"story\", \"attend\", \"send\", \"tried\", \"agency\", \"bought\", \"week\", \"impossible\", \"stand\", \"trying\", \"basically\", \"early\", \"patient\", \"another\", \"ask\", \"call\", \"desk\", \"go\", \"know\", \"done\", \"often\", \"break\", \"get\", \"even\", \"someone\", \"away\", \"hour\", \"something\", \"time\", \"make\", \"sure\", \"keep\", \"come\", \"manager\", \"never\", \"hard\", \"see\", \"one\", \"would\", \"could\", \"people\", \"like\", \"every\", \"take\", \"work\", \"department\", \"job\", \"need\", \"help\", \"want\", \"thing\", \"long\", \"always\", \"balance\", \"flexible\", \"timing\", \"grown\", \"payment\", \"cab\", \"superb\", \"everywhere\", \"epic\", \"variable\", \"life\", \"continually\", \"tackle\", \"distributed\", \"steady\", \"profession\", \"stepping\", \"inclusive\", \"agree\", \"legal\", \"75\", \"blessed\", \"enjoys\", \"investigation\", \"messaging\", \"moderate\", \"suffer\", \"addressing\", \"experiance\", \"attendance\", \"facility\", \"transport\", \"good\", \"work\", \"benefit\", \"transportation\", \"home\", \"place\", \"culture\", \"environment\", \"great\", \"excellent\", \"personal\", \"friendly\", \"free\", \"awesome\", \"hour\", \"option\", \"atmosphere\", \"management\", \"overall\", \"employee\", \"fun\", \"compensation\", \"security\", \"supportive\", \"job\", \"people\", \"also\", \"opportunity\", \"workplace\", \"salary\", \"time\", \"financial\", \"banking\", \"implementing\", \"military\", \"not\", \"can\", \"card\", \"corporation\", \"rating\", \"international\", \"loan\", \"expose\", \"setup\", \"yes\", \"i\", \"pharmacy\", \"public\", \"usa\", \"institution\", \"mobility\", \"dept\", \"respected\", \"password\", \"multinational\", \"ct\", \"configuring\", \"architect\", \"pas\", \"fund\", \"joke\", \"operation\", \"professionalism\", \"charge\", \"transfer\", \"external\", \"wish\", \"service\", \"credit\", \"trained\", \"function\", \"organized\", \"india\", \"responsible\", \"country\", \"nt\", \"business\", \"small\", \"based\", \"internal\", \"contract\", \"left\", \"hired\", \"layoff\", \"leaving\", \"told\", \"moved\", \"employment\", \"programmer\", \"ago\", \"three\", \"outsourced\", \"size\", \"ended\", \"decided\", \"capability\", \"promise\", \"router\", \"merger\", \"poorly\", \"notch\", \"age\", \"twice\", \"conducive\", \"considering\", \"forget\", \"surrounded\", \"25\", \"contracting\", \"communicating\", \"changed\", \"wa\", \"last\", \"seemed\", \"liked\", \"loved\", \"anyone\", \"recommend\", \"year\", \"contractor\", \"knew\", \"month\", \"position\", \"felt\", \"two\", \"took\", \"laid\", \"would\", \"started\", \"made\", \"back\", \"great\", \"work\", \"time\", \"job\", \"experience\", \"able\", \"people\", \"really\", \"got\", \"due\", \"enjoy\", \"department\", \"manager\", \"never\", \"place\", \"much\", \"application\", \"using\", \"server\", \"database\", \"web\", \"java\", \"developed\", \"test\", \"sql\", \"implementation\", \"framework\", \"analysis\", \"net\", \"module\", \"administration\", \"document\", \"maintaining\", \"created\", \"desktop\", \"configuration\", \"designed\", \"integration\", \"interface\", \"installation\", \"designing\", \"component\", \"transaction\", \"linux\", \"javascript\", \"unix\", \"design\", \"user\", \"system\", \"maintenance\", \"requirement\", \"code\", \"testing\", \"programming\", \"analyst\", \"production\", \"network\", \"involved\", \"support\", \"end\", \"include\", \"project\", \"client\", \"software\", \"used\", \"various\", \"experience\", \"development\", \"knowledge\"], \"Freq\": [18139.0, 29994.0, 58558.0, 16190.0, 6953.0, 6297.0, 8089.0, 5312.0, 12985.0, 6277.0, 11305.0, 10913.0, 3704.0, 3620.0, 14511.0, 4765.0, 2884.0, 8579.0, 8809.0, 7617.0, 5374.0, 2273.0, 7327.0, 2287.0, 2441.0, 1852.0, 7054.0, 2280.0, 4376.0, 2237.0, 836.8653564453125, 782.2313842773438, 476.2667236328125, 431.5274963378906, 396.39215087890625, 389.59722900390625, 368.9939270019531, 355.13226318359375, 272.0301513671875, 247.07455444335938, 182.09115600585938, 140.0472412109375, 133.361328125, 125.88636016845703, 120.89183044433594, 119.09601593017578, 118.98876953125, 115.99746704101562, 114.42346954345703, 111.57135772705078, 111.29586791992188, 109.75540161132812, 109.03561401367188, 108.96833038330078, 106.46360778808594, 104.1171646118164, 102.13853454589844, 101.10694122314453, 98.43084716796875, 95.07587432861328, 354.35675048828125, 1784.680419921875, 3517.07958984375, 13811.9189453125, 7086.0859375, 5078.77783203125, 1750.6151123046875, 287.98577880859375, 5092.32958984375, 3335.8203125, 286.20257568359375, 896.600341796875, 533.9121704101562, 1549.6197509765625, 198.7917938232422, 1552.182861328125, 636.025634765625, 2842.618896484375, 414.66314697265625, 3212.2275390625, 1252.024658203125, 1954.3651123046875, 1630.0692138671875, 19692.134765625, 4263.84619140625, 1901.591796875, 10576.0595703125, 4926.5693359375, 1397.2235107421875, 4556.6455078125, 879.9122924804688, 2662.6220703125, 2667.3955078125, 1492.0047607421875, 1617.767333984375, 2266.359130859375, 2571.985107421875, 1454.2935791015625, 1392.1866455078125, 1537.4342041015625, 978.0133666992188, 939.2352294921875, 889.935791015625, 754.17138671875, 673.0380859375, 653.0084838867188, 360.3824462890625, 306.7744140625, 304.8924865722656, 505.3082580566406, 241.180419921875, 166.11441040039062, 163.52218627929688, 160.7013397216797, 149.0583953857422, 148.6971893310547, 138.3251190185547, 135.4589080810547, 121.8026351928711, 114.66752624511719, 112.02310943603516, 105.74101257324219, 103.54431915283203, 99.77572631835938, 97.87173461914062, 94.44588470458984, 93.7662124633789, 93.070556640625, 92.43778228759766, 91.83888244628906, 531.2041625976562, 98.52356719970703, 1818.7498779296875, 101.1833267211914, 937.2611083984375, 2428.909912109375, 659.6361083984375, 447.09112548828125, 687.72021484375, 1000.9129638671875, 290.2508239746094, 522.4036254882812, 1615.60595703125, 733.7600708007812, 445.1251220703125, 388.8955993652344, 1005.5485229492188, 466.3282165527344, 682.8754272460938, 1415.0037841796875, 2744.8896484375, 1196.8582763671875, 5356.05517578125, 1523.96435546875, 823.8681640625, 2834.5625, 1585.197265625, 2081.58251953125, 1601.8890380859375, 3940.589111328125, 1133.28125, 1184.2838134765625, 1112.6593017578125, 836.192138671875, 973.2626342773438, 978.433349609375, 844.6439208984375, 736.8093872070312, 6297.58837890625, 3704.607666015625, 3620.413818359375, 2237.013671875, 416.4570617675781, 326.2524108886719, 210.1265869140625, 202.5666046142578, 202.026611328125, 177.49810791015625, 167.63832092285156, 162.75839233398438, 144.81703186035156, 144.48904418945312, 125.49260711669922, 102.97982788085938, 98.5315933227539, 93.88150024414062, 88.51396179199219, 88.18135833740234, 87.66797637939453, 85.70883178710938, 81.25912475585938, 76.88875579833984, 76.63831329345703, 76.20601654052734, 74.11444854736328, 73.96424865722656, 72.32087707519531, 67.44036102294922, 1295.6131591796875, 1937.676025390625, 113.17017364501953, 178.95855712890625, 148.1102752685547, 495.7839050292969, 218.98182678222656, 129.08750915527344, 2079.488525390625, 789.4375610351562, 258.21630859375, 3293.3349609375, 145.43409729003906, 1571.3509521484375, 249.32101440429688, 807.085693359375, 4429.51220703125, 836.7366943359375, 298.0512390136719, 293.9341125488281, 4104.08544921875, 205.2102813720703, 2946.681640625, 326.7289123535156, 5940.5908203125, 402.5675354003906, 644.8025512695312, 2324.510498046875, 592.3093872070312, 735.6864013671875, 750.64599609375, 1104.4278564453125, 767.6304931640625, 704.552001953125, 429.9790954589844, 836.3992919921875, 446.9778137207031, 498.9798583984375, 488.58941650390625, 488.0744934082031, 469.2771301269531, 1453.3665771484375, 888.2757568359375, 511.85894775390625, 339.9554443359375, 315.4949645996094, 301.8332824707031, 227.36126708984375, 226.60581970214844, 225.88580322265625, 214.91920471191406, 213.9498291015625, 207.42706298828125, 182.14459228515625, 154.32801818847656, 124.87501525878906, 113.26510620117188, 112.000732421875, 95.85092163085938, 93.79537963867188, 92.03263854980469, 87.54541015625, 87.0874252319336, 86.319091796875, 83.76927947998047, 81.32965087890625, 76.94227600097656, 75.28518676757812, 74.23951721191406, 70.33929443359375, 70.09056854248047, 255.06333923339844, 1911.7890625, 935.2137451171875, 1794.8310546875, 740.08251953125, 1657.6715087890625, 216.77755737304688, 283.7420349121094, 268.9669189453125, 172.00747680664062, 179.58023071289062, 1197.7271728515625, 225.6666717529297, 186.66456604003906, 212.28392028808594, 905.6549072265625, 461.3308410644531, 326.7410888671875, 1179.4718017578125, 250.72586059570312, 431.7746887207031, 538.1533813476562, 341.93255615234375, 317.49151611328125, 312.17169189453125, 490.0091857910156, 303.3271179199219, 373.6601867675781, 260.9864196777344, 285.4355163574219, 273.8238830566406, 1750.453857421875, 530.9447631835938, 382.48199462890625, 254.7007293701172, 217.7061004638672, 195.3487091064453, 171.64877319335938, 161.9701690673828, 156.55238342285156, 149.8961181640625, 142.539306640625, 140.98939514160156, 120.14005279541016, 110.5655746459961, 106.29815673828125, 100.69681549072266, 100.08518981933594, 97.78703308105469, 97.69418334960938, 96.3111801147461, 93.83910369873047, 83.44282531738281, 82.17990112304688, 81.52561950683594, 81.13510131835938, 80.8581771850586, 78.37139129638672, 77.26122283935547, 73.82770538330078, 70.88301086425781, 744.3378295898438, 108.62278747558594, 463.9841003417969, 256.8916320800781, 155.1966094970703, 305.0955505371094, 859.5184936523438, 727.7315063476562, 4278.5, 526.73583984375, 402.6043395996094, 196.684326171875, 216.07345581054688, 894.1823120117188, 214.24049377441406, 1557.05224609375, 446.77325439453125, 924.8091430664062, 322.26495361328125, 2762.3837890625, 1376.6807861328125, 472.5831604003906, 337.8618469238281, 566.990966796875, 330.36944580078125, 1461.39111328125, 340.5299377441406, 322.9793701171875, 500.9541015625, 429.6248779296875, 542.7388305664062, 606.3090209960938, 504.9049072265625, 393.92645263671875, 478.5338134765625, 434.021728515625, 471.1839599609375, 536.9064331054688, 423.7085266113281, 481.4931335449219, 405.335205078125, 303.70819091796875, 295.1222839355469, 260.82379150390625, 236.97006225585938, 226.12136840820312, 198.24166870117188, 196.13600158691406, 251.11004638671875, 178.58856201171875, 173.17120361328125, 163.57220458984375, 160.42214965820312, 160.06805419921875, 159.72030639648438, 149.86614990234375, 144.11265563964844, 142.35848999023438, 132.87643432617188, 126.34845733642578, 123.84912872314453, 123.08004760742188, 119.72120666503906, 116.98774719238281, 115.3797607421875, 98.8497085571289, 94.06703186035156, 92.71589660644531, 92.59663391113281, 770.9056396484375, 118.25535583496094, 159.06005859375, 390.3169860839844, 173.3134765625, 224.6701202392578, 463.6661071777344, 451.13336181640625, 226.95545959472656, 1041.771484375, 316.9522399902344, 989.64208984375, 761.4243774414062, 760.289306640625, 385.6492004394531, 256.47918701171875, 2305.513427734375, 802.02734375, 319.53533935546875, 252.87721252441406, 1264.6451416015625, 539.1445922851562, 2663.43115234375, 1118.420166015625, 414.522705078125, 585.1134033203125, 641.8335571289062, 1960.3338623046875, 637.1592407226562, 882.1275634765625, 418.75714111328125, 1270.560302734375, 1053.060302734375, 622.4986572265625, 1747.528076171875, 1060.629150390625, 796.4495849609375, 662.6531372070312, 3688.8251953125, 654.35205078125, 1432.3880615234375, 764.2147827148438, 767.1650390625, 648.4481811523438, 811.1312255859375, 620.829345703125, 624.7401123046875, 5312.19384765625, 1550.004150390625, 523.08203125, 145.87384033203125, 145.37515258789062, 125.05664825439453, 86.15328979492188, 78.86880493164062, 78.73638916015625, 76.51702880859375, 6944.33837890625, 59.74660110473633, 52.8332633972168, 50.5434684753418, 49.4951057434082, 48.97929382324219, 47.19470977783203, 43.163169860839844, 41.488094329833984, 41.44606399536133, 40.43971252441406, 39.608890533447266, 34.324832916259766, 34.04678726196289, 34.03294372558594, 34.02496337890625, 32.59028244018555, 32.398433685302734, 31.20162582397461, 29.144451141357422, 698.9293212890625, 134.44210815429688, 14062.1826171875, 20682.0078125, 2193.353759765625, 73.93155670166016, 785.64892578125, 4729.91552734375, 3142.015625, 3467.859619140625, 4608.95556640625, 1030.586181640625, 557.9814453125, 1453.0374755859375, 311.9334411621094, 395.5021057128906, 856.4332885742188, 295.5320129394531, 415.5845947265625, 2683.346435546875, 713.0215454101562, 1611.1663818359375, 878.0530395507812, 438.70831298828125, 572.23828125, 519.2244873046875, 1328.65380859375, 1081.944091796875, 684.475830078125, 848.9673461914062, 465.4093017578125, 446.4438781738281, 451.5670471191406, 693.8731689453125, 417.08050537109375, 239.0293426513672, 229.40126037597656, 224.62977600097656, 212.14198303222656, 211.34169006347656, 205.85858154296875, 200.0200958251953, 184.00070190429688, 169.55722045898438, 147.25401306152344, 141.87692260742188, 128.6881561279297, 126.04592895507812, 118.07465362548828, 117.82987976074219, 116.35826873779297, 113.29627227783203, 108.21086883544922, 102.20976257324219, 100.6295394897461, 95.7783432006836, 95.3993911743164, 94.34231567382812, 94.284912109375, 94.30083465576172, 93.9595947265625, 89.14743041992188, 88.51229095458984, 442.6022033691406, 97.95008850097656, 100.55377960205078, 164.03753662109375, 153.94288635253906, 193.1263885498047, 1005.6998901367188, 164.7718505859375, 203.8665008544922, 175.9579620361328, 146.26394653320312, 249.87060546875, 191.638427734375, 172.4542236328125, 207.582275390625, 267.53558349609375, 158.35105895996094, 184.0355224609375, 143.73419189453125, 811.7067260742188, 576.1243896484375, 376.61444091796875, 318.9314270019531, 274.8279724121094, 249.7611083984375, 228.0172576904297, 216.2801513671875, 211.0384063720703, 187.71493530273438, 187.46351623535156, 145.41030883789062, 113.40860748291016, 109.28997039794922, 106.26499938964844, 105.55057525634766, 101.76378631591797, 95.00797271728516, 91.63590240478516, 90.20176696777344, 87.7228775024414, 83.14236450195312, 83.23828125, 80.9931411743164, 72.0157470703125, 67.7727279663086, 67.29998016357422, 60.697776794433594, 57.67322540283203, 52.35114288330078, 336.095458984375, 13529.9345703125, 442.5317687988281, 136.3759765625, 217.11822509765625, 522.6018676757812, 467.4808349609375, 730.3980102539062, 3066.833984375, 472.4405517578125, 156.0676727294922, 772.0133056640625, 1084.1680908203125, 345.8133239746094, 383.60980224609375, 279.149169921875, 311.3644714355469, 1530.23486328125, 544.1846923828125, 585.5960693359375, 479.4580078125, 1985.09423828125, 4050.274169921875, 1354.6513671875, 1635.29833984375, 986.7388916015625, 483.565673828125, 1003.5213012695312, 627.2562255859375, 525.2947387695312, 425.26470947265625, 603.701416015625, 436.1911315917969, 545.0275268554688, 400.0674133300781, 436.2715759277344, 410.916015625, 1851.988525390625, 1043.0294189453125, 865.531494140625, 636.3455810546875, 628.059814453125, 575.6031494140625, 560.8197021484375, 557.7056274414062, 491.05450439453125, 368.3278503417969, 321.12823486328125, 320.4275207519531, 290.9395446777344, 276.1073303222656, 273.529296875, 264.3769226074219, 254.5003204345703, 247.89120483398438, 217.29156494140625, 209.8700714111328, 181.51210021972656, 170.00140380859375, 165.0345916748047, 165.01510620117188, 151.15252685546875, 146.3866729736328, 146.14996337890625, 142.40756225585938, 137.8717498779297, 137.0352783203125, 534.9052734375, 956.3268432617188, 2288.068115234375, 307.47247314453125, 707.4793701171875, 598.8171997070312, 612.7360229492188, 266.26153564453125, 273.9669189453125, 419.5780334472656, 539.6099243164062, 429.2850341796875, 1086.618896484375, 514.7029418945312, 387.69647216796875, 854.3013916015625, 577.327880859375, 492.5238037109375, 402.05023193359375, 385.5478210449219, 495.4010314941406, 361.96649169921875, 338.97247314453125], \"Total\": [18139.0, 29994.0, 58558.0, 16190.0, 6953.0, 6297.0, 8089.0, 5312.0, 12985.0, 6277.0, 11305.0, 10913.0, 3704.0, 3620.0, 14511.0, 4765.0, 2884.0, 8579.0, 8809.0, 7617.0, 5374.0, 2273.0, 7327.0, 2287.0, 2441.0, 1852.0, 7054.0, 2280.0, 4376.0, 2237.0, 836.9585571289062, 782.3265380859375, 476.35992431640625, 431.6214904785156, 396.4853515625, 389.6904296875, 369.0871276855469, 355.2254638671875, 272.12335205078125, 247.16775512695312, 182.18435668945312, 140.14044189453125, 133.45452880859375, 125.97956848144531, 120.98503875732422, 119.18922424316406, 119.08197784423828, 116.0906753540039, 114.51667785644531, 111.66456604003906, 111.38907623291016, 109.8486099243164, 109.12882232666016, 109.06153869628906, 106.55681610107422, 104.21037292480469, 102.23174285888672, 101.20014953613281, 98.52405548095703, 95.16908264160156, 356.04541015625, 1834.7696533203125, 3780.2421875, 16190.515625, 8579.2275390625, 6277.3515625, 2102.973876953125, 306.99114990234375, 7054.02880859375, 4466.02734375, 310.4512634277344, 1083.0264892578125, 614.2788696289062, 2079.477294921875, 210.97482299804688, 2126.9814453125, 787.6903686523438, 4386.4677734375, 490.5967102050781, 5400.07470703125, 1821.984619140625, 3211.15576171875, 2625.866943359375, 58558.71875, 8809.546875, 3207.0087890625, 29994.380859375, 11305.6796875, 2334.242919921875, 12985.30859375, 1306.126708984375, 7327.17431640625, 7617.80615234375, 3454.378173828125, 3989.03564453125, 8022.60546875, 14511.6357421875, 4099.70166015625, 3658.388427734375, 5428.24609375, 978.105712890625, 939.3277587890625, 890.0281372070312, 754.2637329101562, 673.1304321289062, 653.100830078125, 360.4747314453125, 306.86669921875, 304.9847717285156, 505.47509765625, 241.27272033691406, 166.2067108154297, 163.61448669433594, 160.79367065429688, 149.15069580078125, 148.78948974609375, 138.41741943359375, 135.55120849609375, 121.89494323730469, 114.75983428955078, 112.11541748046875, 105.83332061767578, 103.63662719726562, 99.86803436279297, 97.96404266357422, 94.53820037841797, 93.8587875366211, 93.1628646850586, 92.53009033203125, 91.93119049072266, 532.2125244140625, 98.65258026123047, 1904.6212158203125, 101.44026947021484, 1005.206787109375, 2875.435546875, 785.9109497070312, 517.1472778320312, 856.0158081054688, 1388.456298828125, 335.7806396484375, 666.0147705078125, 2578.1748046875, 1042.440185546875, 578.0850219726562, 491.80767822265625, 1833.1824951171875, 673.9920654296875, 1121.665771484375, 3032.617919921875, 7617.80615234375, 2454.078369140625, 29994.380859375, 4376.41357421875, 1697.986083984375, 14511.6357421875, 5428.24609375, 10913.916015625, 8089.61962890625, 58558.71875, 4765.400390625, 5760.29443359375, 7054.02880859375, 2690.236572265625, 7327.17431640625, 8579.2275390625, 11305.6796875, 7521.388671875, 6297.68212890625, 3704.701416015625, 3620.507568359375, 2237.107421875, 416.551025390625, 326.34637451171875, 210.22056579589844, 202.66058349609375, 202.12196350097656, 177.5920867919922, 167.73265075683594, 162.8523712158203, 144.9110107421875, 144.58302307128906, 125.58659362792969, 103.07381439208984, 98.62557983398438, 93.97549438476562, 88.60794830322266, 88.27534484863281, 87.761962890625, 85.80281829833984, 81.35311126708984, 76.98274230957031, 76.7322998046875, 76.30000305175781, 74.20843505859375, 74.05823516845703, 72.41486358642578, 67.53434753417969, 1325.37939453125, 1991.35400390625, 113.69514465332031, 180.64247131347656, 150.22557067871094, 518.3356323242188, 226.10858154296875, 133.79307556152344, 2681.520263671875, 966.2308959960938, 286.6900634765625, 5374.296875, 157.83229064941406, 2695.6171875, 300.53387451171875, 1255.90283203125, 10913.916015625, 1419.256103515625, 393.9259948730469, 388.645263671875, 18139.904296875, 242.9805908203125, 14511.6357421875, 496.8016662597656, 58558.71875, 735.7765502929688, 1696.392822265625, 16190.515625, 1634.232421875, 2853.908447265625, 3087.55029296875, 7521.388671875, 3576.31884765625, 3065.477783203125, 999.4644165039062, 7617.80615234375, 1527.5870361328125, 3454.378173828125, 3658.388427734375, 3989.03564453125, 2625.866943359375, 1453.4593505859375, 888.3685302734375, 511.95184326171875, 340.0481872558594, 315.5876770019531, 301.9259948730469, 227.45399475097656, 226.69854736328125, 225.97853088378906, 215.01193237304688, 214.0425567626953, 207.51979064941406, 182.23731994628906, 154.42074584960938, 124.96775817871094, 113.35784912109375, 112.09347534179688, 95.94366455078125, 93.88812255859375, 92.12538146972656, 87.63815307617188, 87.18016815185547, 86.41183471679688, 83.86202239990234, 81.42239379882812, 77.03501892089844, 75.3779296875, 74.33226013183594, 70.43203735351562, 70.18331146240234, 271.2821350097656, 2273.83837890625, 1107.6943359375, 2287.437744140625, 918.5780029296875, 2280.65087890625, 240.06300354003906, 327.7986145019531, 314.001708984375, 189.81285095214844, 202.8892822265625, 2132.61083984375, 284.134521484375, 225.04336547851562, 270.11151123046875, 2441.392822265625, 911.8886108398438, 584.4555053710938, 6277.3515625, 387.5001220703125, 1207.3004150390625, 3087.55029296875, 1055.848388671875, 832.1796264648438, 875.6781005859375, 7617.80615234375, 1293.1875, 4765.400390625, 646.4170532226562, 1339.69873046875, 3576.31884765625, 1750.548828125, 531.0396728515625, 382.5768737792969, 254.79559326171875, 217.80096435546875, 195.44357299804688, 171.74363708496094, 162.06503295898438, 156.64724731445312, 149.9910125732422, 142.63417053222656, 141.08425903320312, 120.23492431640625, 110.66044616699219, 106.39302825927734, 100.79168701171875, 100.18006134033203, 97.88190460205078, 97.78905487060547, 96.40605163574219, 93.93397521972656, 83.5376968383789, 82.27477264404297, 81.62049102783203, 81.22997283935547, 80.95306396484375, 78.46626281738281, 77.35609436035156, 73.92257690429688, 70.9778823852539, 747.3499145507812, 109.05963134765625, 481.4205322265625, 271.2572021484375, 166.0227508544922, 360.4864501953125, 1206.87353515625, 1026.0894775390625, 8089.61962890625, 716.310302734375, 556.8259887695312, 231.44515991210938, 263.0361022949219, 1556.923828125, 279.532470703125, 4324.044921875, 801.5625610351562, 2345.12548828125, 534.859619140625, 14511.6357421875, 8022.60546875, 1219.60009765625, 672.4360961914062, 1834.0499267578125, 657.8088989257812, 12985.30859375, 716.2040405273438, 655.3883056640625, 1751.606689453125, 1392.8472900390625, 3065.477783203125, 4376.41357421875, 2690.236572265625, 1459.2149658203125, 3771.71484375, 3658.388427734375, 7327.17431640625, 58558.71875, 5760.29443359375, 481.5880432128906, 405.42987060546875, 303.8028564453125, 295.2169494628906, 260.91845703125, 237.06472778320312, 226.21603393554688, 198.33633422851562, 196.2306671142578, 251.24020385742188, 178.68324279785156, 173.265869140625, 163.6668701171875, 160.51681518554688, 160.16275024414062, 159.81497192382812, 149.9608154296875, 144.2073211669922, 142.45315551757812, 132.97109985351562, 126.44313049316406, 123.94380187988281, 123.17472076416016, 119.81587982177734, 117.0824203491211, 115.47443389892578, 98.94438171386719, 94.16170501708984, 92.8105697631836, 92.6913070678711, 818.1630249023438, 119.0201416015625, 162.1262969970703, 421.4807434082031, 181.2687530517578, 245.57858276367188, 593.1195068359375, 580.6131591796875, 256.8182067871094, 1634.232421875, 385.13580322265625, 1546.11083984375, 1127.9356689453125, 1166.8482666015625, 503.7318115234375, 301.59698486328125, 5428.24609375, 1360.7864990234375, 405.31390380859375, 296.7084655761719, 2622.342529296875, 829.7530517578125, 7521.388671875, 2345.12548828125, 589.8091430664062, 967.3242797851562, 1121.1956787109375, 5760.29443359375, 1139.8157958984375, 1870.342529296875, 621.1470947265625, 4099.70166015625, 3230.775634765625, 1266.5587158203125, 8022.60546875, 3771.71484375, 2206.47802734375, 1556.923828125, 58558.71875, 1600.6002197265625, 10913.916015625, 2690.236572265625, 2853.908447265625, 1796.1837158203125, 4466.02734375, 1697.986083984375, 3065.477783203125, 5312.28759765625, 1550.1331787109375, 523.1759643554688, 145.96774291992188, 145.46905517578125, 125.15056610107422, 86.2491455078125, 78.96272277832031, 78.83030700683594, 76.61094665527344, 6953.12841796875, 59.84051513671875, 52.92717742919922, 50.63738250732422, 49.589019775390625, 49.07320785522461, 47.28862380981445, 43.257083892822266, 41.582008361816406, 41.53997802734375, 40.533626556396484, 39.70280456542969, 34.41874694824219, 34.14070129394531, 34.12685775756836, 34.11887741088867, 32.68419647216797, 32.492347717285156, 31.2955379486084, 29.23836326599121, 909.0936279296875, 152.94708251953125, 29994.380859375, 58558.71875, 4376.41357421875, 84.1982192993164, 1365.1837158203125, 11305.6796875, 7327.17431640625, 8809.546875, 12985.30859375, 2146.98193359375, 1015.9286499023438, 3454.378173828125, 602.4237670898438, 859.2194213867188, 2622.342529296875, 595.5305786132812, 969.1825561523438, 14511.6357421875, 2164.152099609375, 8089.61962890625, 3211.15576171875, 1121.665771484375, 1833.1824951171875, 1817.953369140625, 10913.916015625, 8022.60546875, 3989.03564453125, 7054.02880859375, 1821.18798828125, 2875.435546875, 7521.388671875, 693.966796875, 417.1741027832031, 239.12294006347656, 229.49485778808594, 224.72337341308594, 212.23558044433594, 211.43528747558594, 205.9521942138672, 200.1136932373047, 184.09429931640625, 169.65081787109375, 147.3476104736328, 141.97052001953125, 128.78175354003906, 126.13953399658203, 118.16825866699219, 117.9234848022461, 116.45243072509766, 113.38987731933594, 108.30447387695312, 102.3033676147461, 100.72314453125, 95.8719482421875, 95.49299621582031, 94.43592071533203, 94.3785171508789, 94.39448547363281, 94.0531997680664, 89.24103546142578, 88.60589599609375, 451.812744140625, 98.18700408935547, 101.02906036376953, 173.7796173095703, 168.9029998779297, 232.19802856445312, 2441.392822265625, 228.77523803710938, 331.5612487792969, 285.0184326171875, 213.58258056640625, 656.953857421875, 420.35296630859375, 328.27154541015625, 673.9920654296875, 2280.65087890625, 476.445068359375, 1339.69873046875, 607.5084838867188, 811.8016357421875, 576.22900390625, 376.7149658203125, 319.0302429199219, 274.9235534667969, 249.8560028076172, 228.11215209960938, 216.3750457763672, 211.133544921875, 187.80982971191406, 187.55841064453125, 145.5052032470703, 113.50350952148438, 109.38487243652344, 106.35990142822266, 105.64547729492188, 101.85868835449219, 95.10287475585938, 91.73080444335938, 90.29666900634766, 87.81777954101562, 83.23726654052734, 83.33467102050781, 81.08804321289062, 72.11064910888672, 67.86763000488281, 67.39488220214844, 60.79267501831055, 57.768123626708984, 52.446041107177734, 369.168701171875, 18139.904296875, 511.6219787597656, 144.68162536621094, 241.1741485595703, 636.9351196289062, 570.775146484375, 949.9306030273438, 4765.400390625, 589.3060302734375, 169.1617889404297, 1106.4913330078125, 1681.9256591796875, 456.09735107421875, 533.1578979492188, 359.3816223144531, 414.265869140625, 3230.775634765625, 890.5853271484375, 1052.3961181640625, 1038.4442138671875, 12985.30859375, 58558.71875, 7521.388671875, 10913.916015625, 5400.07470703125, 1257.7545166015625, 8022.60546875, 3044.502197265625, 2079.477294921875, 1084.679931640625, 5374.296875, 1600.6002197265625, 5760.29443359375, 1139.8157958984375, 11305.6796875, 3032.617919921875, 1852.0828857421875, 1043.123779296875, 865.6259155273438, 636.4400024414062, 628.1542358398438, 575.6975708007812, 560.9141235351562, 557.800048828125, 491.1488952636719, 368.4222412109375, 321.2226257324219, 320.52191162109375, 291.033935546875, 276.20172119140625, 273.6236877441406, 264.4713439941406, 254.59471130371094, 247.985595703125, 217.38595581054688, 209.96446228027344, 181.6064910888672, 170.09579467773438, 165.1289825439453, 165.1094970703125, 151.24691772460938, 146.48106384277344, 146.24435424804688, 142.501953125, 137.9661407470703, 137.12966918945312, 584.0776977539062, 1096.7427978515625, 2884.779296875, 336.36639404296875, 885.9641723632812, 779.3048706054688, 825.207275390625, 307.4944763183594, 334.0865173339844, 669.0006103515625, 1048.771240234375, 715.2477416992188, 3576.31884765625, 1303.642822265625, 823.900634765625, 7617.80615234375, 3087.55029296875, 2287.437744140625, 1153.39697265625, 1081.41259765625, 5400.07470703125, 2273.83837890625, 2102.973876953125], \"Category\": [\"Default\", \"Default\", \"Default\", \"Default\", \"Default\", \"Default\", \"Default\", \"Default\", \"Default\", \"Default\", \"Default\", \"Default\", \"Default\", \"Default\", \"Default\", \"Default\", \"Default\", \"Default\", \"Default\", \"Default\", \"Default\", \"Default\", \"Default\", \"Default\", \"Default\", \"Default\", \"Default\", \"Default\", \"Default\", \"Default\", \"Topic1\", \"Topic1\", \"Topic1\", \"Topic1\", \"Topic1\", \"Topic1\", \"Topic1\", \"Topic1\", \"Topic1\", \"Topic1\", \"Topic1\", \"Topic1\", \"Topic1\", \"Topic1\", \"Topic1\", \"Topic1\", \"Topic1\", \"Topic1\", \"Topic1\", \"Topic1\", \"Topic1\", \"Topic1\", \"Topic1\", \"Topic1\", \"Topic1\", \"Topic1\", \"Topic1\", \"Topic1\", \"Topic1\", \"Topic1\", \"Topic1\", \"Topic1\", \"Topic1\", \"Topic1\", \"Topic1\", \"Topic1\", \"Topic1\", \"Topic1\", \"Topic1\", \"Topic1\", \"Topic1\", \"Topic1\", \"Topic1\", \"Topic1\", \"Topic1\", \"Topic1\", \"Topic1\", \"Topic1\", \"Topic1\", \"Topic1\", \"Topic1\", \"Topic1\", \"Topic1\", \"Topic1\", \"Topic1\", \"Topic1\", \"Topic1\", \"Topic1\", \"Topic1\", \"Topic1\", \"Topic1\", \"Topic1\", \"Topic1\", \"Topic1\", \"Topic1\", \"Topic1\", \"Topic1\", \"Topic1\", \"Topic1\", \"Topic1\", \"Topic2\", \"Topic2\", \"Topic2\", \"Topic2\", \"Topic2\", \"Topic2\", \"Topic2\", \"Topic2\", \"Topic2\", \"Topic2\", \"Topic2\", \"Topic2\", \"Topic2\", \"Topic2\", \"Topic2\", \"Topic2\", \"Topic2\", \"Topic2\", \"Topic2\", \"Topic2\", \"Topic2\", \"Topic2\", \"Topic2\", \"Topic2\", \"Topic2\", \"Topic2\", \"Topic2\", \"Topic2\", \"Topic2\", \"Topic2\", \"Topic2\", \"Topic2\", \"Topic2\", \"Topic2\", \"Topic2\", \"Topic2\", \"Topic2\", \"Topic2\", \"Topic2\", \"Topic2\", \"Topic2\", \"Topic2\", \"Topic2\", \"Topic2\", \"Topic2\", \"Topic2\", \"Topic2\", \"Topic2\", \"Topic2\", \"Topic2\", \"Topic2\", \"Topic2\", \"Topic2\", \"Topic2\", \"Topic2\", \"Topic2\", \"Topic2\", \"Topic2\", \"Topic2\", \"Topic2\", \"Topic2\", \"Topic2\", \"Topic2\", \"Topic2\", \"Topic2\", \"Topic2\", \"Topic2\", \"Topic2\", \"Topic3\", \"Topic3\", \"Topic3\", \"Topic3\", \"Topic3\", \"Topic3\", \"Topic3\", \"Topic3\", \"Topic3\", \"Topic3\", \"Topic3\", \"Topic3\", \"Topic3\", \"Topic3\", \"Topic3\", \"Topic3\", \"Topic3\", \"Topic3\", \"Topic3\", \"Topic3\", \"Topic3\", \"Topic3\", \"Topic3\", \"Topic3\", \"Topic3\", \"Topic3\", \"Topic3\", \"Topic3\", \"Topic3\", \"Topic3\", \"Topic3\", \"Topic3\", \"Topic3\", \"Topic3\", \"Topic3\", \"Topic3\", \"Topic3\", \"Topic3\", \"Topic3\", \"Topic3\", \"Topic3\", \"Topic3\", \"Topic3\", \"Topic3\", \"Topic3\", \"Topic3\", \"Topic3\", \"Topic3\", \"Topic3\", \"Topic3\", \"Topic3\", \"Topic3\", \"Topic3\", \"Topic3\", \"Topic3\", \"Topic3\", \"Topic3\", \"Topic3\", \"Topic3\", \"Topic3\", \"Topic3\", \"Topic3\", \"Topic3\", \"Topic3\", \"Topic3\", \"Topic3\", \"Topic3\", \"Topic3\", \"Topic3\", \"Topic3\", \"Topic3\", \"Topic4\", \"Topic4\", \"Topic4\", \"Topic4\", \"Topic4\", \"Topic4\", \"Topic4\", \"Topic4\", \"Topic4\", \"Topic4\", \"Topic4\", \"Topic4\", \"Topic4\", \"Topic4\", \"Topic4\", \"Topic4\", \"Topic4\", \"Topic4\", \"Topic4\", \"Topic4\", \"Topic4\", \"Topic4\", \"Topic4\", \"Topic4\", \"Topic4\", \"Topic4\", \"Topic4\", \"Topic4\", \"Topic4\", \"Topic4\", \"Topic4\", \"Topic4\", \"Topic4\", \"Topic4\", \"Topic4\", \"Topic4\", \"Topic4\", \"Topic4\", \"Topic4\", \"Topic4\", \"Topic4\", \"Topic4\", \"Topic4\", \"Topic4\", \"Topic4\", \"Topic4\", \"Topic4\", \"Topic4\", \"Topic4\", \"Topic4\", \"Topic4\", \"Topic4\", \"Topic4\", \"Topic4\", \"Topic4\", \"Topic4\", \"Topic4\", \"Topic4\", \"Topic4\", \"Topic4\", \"Topic4\", \"Topic5\", \"Topic5\", \"Topic5\", \"Topic5\", \"Topic5\", \"Topic5\", \"Topic5\", \"Topic5\", \"Topic5\", \"Topic5\", \"Topic5\", \"Topic5\", \"Topic5\", \"Topic5\", \"Topic5\", \"Topic5\", \"Topic5\", \"Topic5\", \"Topic5\", \"Topic5\", \"Topic5\", \"Topic5\", \"Topic5\", \"Topic5\", \"Topic5\", \"Topic5\", \"Topic5\", \"Topic5\", \"Topic5\", \"Topic5\", \"Topic5\", \"Topic5\", \"Topic5\", \"Topic5\", \"Topic5\", \"Topic5\", \"Topic5\", \"Topic5\", \"Topic5\", \"Topic5\", \"Topic5\", \"Topic5\", \"Topic5\", \"Topic5\", \"Topic5\", \"Topic5\", \"Topic5\", \"Topic5\", \"Topic5\", \"Topic5\", \"Topic5\", \"Topic5\", \"Topic5\", \"Topic5\", \"Topic5\", \"Topic5\", \"Topic5\", \"Topic5\", \"Topic5\", \"Topic5\", \"Topic5\", \"Topic5\", \"Topic5\", \"Topic5\", \"Topic5\", \"Topic5\", \"Topic5\", \"Topic5\", \"Topic5\", \"Topic6\", \"Topic6\", \"Topic6\", \"Topic6\", \"Topic6\", \"Topic6\", \"Topic6\", \"Topic6\", \"Topic6\", \"Topic6\", \"Topic6\", \"Topic6\", \"Topic6\", \"Topic6\", \"Topic6\", \"Topic6\", \"Topic6\", \"Topic6\", \"Topic6\", \"Topic6\", \"Topic6\", \"Topic6\", \"Topic6\", \"Topic6\", \"Topic6\", \"Topic6\", \"Topic6\", \"Topic6\", \"Topic6\", \"Topic6\", \"Topic6\", \"Topic6\", \"Topic6\", \"Topic6\", \"Topic6\", \"Topic6\", \"Topic6\", \"Topic6\", \"Topic6\", \"Topic6\", \"Topic6\", \"Topic6\", \"Topic6\", \"Topic6\", \"Topic6\", \"Topic6\", \"Topic6\", \"Topic6\", \"Topic6\", \"Topic6\", \"Topic6\", \"Topic6\", \"Topic6\", \"Topic6\", \"Topic6\", \"Topic6\", \"Topic6\", \"Topic6\", \"Topic6\", \"Topic6\", \"Topic6\", \"Topic6\", \"Topic6\", \"Topic6\", \"Topic6\", \"Topic6\", \"Topic6\", \"Topic6\", \"Topic6\", \"Topic6\", \"Topic6\", \"Topic6\", \"Topic6\", \"Topic6\", \"Topic6\", \"Topic6\", \"Topic6\", \"Topic7\", \"Topic7\", \"Topic7\", \"Topic7\", \"Topic7\", \"Topic7\", \"Topic7\", \"Topic7\", \"Topic7\", \"Topic7\", \"Topic7\", \"Topic7\", \"Topic7\", \"Topic7\", \"Topic7\", \"Topic7\", \"Topic7\", \"Topic7\", \"Topic7\", \"Topic7\", \"Topic7\", \"Topic7\", \"Topic7\", \"Topic7\", \"Topic7\", \"Topic7\", \"Topic7\", \"Topic7\", \"Topic7\", \"Topic7\", \"Topic7\", \"Topic7\", \"Topic7\", \"Topic7\", \"Topic7\", \"Topic7\", \"Topic7\", \"Topic7\", \"Topic7\", \"Topic7\", \"Topic7\", \"Topic7\", \"Topic7\", \"Topic7\", \"Topic7\", \"Topic7\", \"Topic7\", \"Topic7\", \"Topic7\", \"Topic7\", \"Topic7\", \"Topic7\", \"Topic7\", \"Topic7\", \"Topic7\", \"Topic7\", \"Topic7\", \"Topic7\", \"Topic7\", \"Topic7\", \"Topic7\", \"Topic7\", \"Topic7\", \"Topic8\", \"Topic8\", \"Topic8\", \"Topic8\", \"Topic8\", \"Topic8\", \"Topic8\", \"Topic8\", \"Topic8\", \"Topic8\", \"Topic8\", \"Topic8\", \"Topic8\", \"Topic8\", \"Topic8\", \"Topic8\", \"Topic8\", \"Topic8\", \"Topic8\", \"Topic8\", \"Topic8\", \"Topic8\", \"Topic8\", \"Topic8\", \"Topic8\", \"Topic8\", \"Topic8\", \"Topic8\", \"Topic8\", \"Topic8\", \"Topic8\", \"Topic8\", \"Topic8\", \"Topic8\", \"Topic8\", \"Topic8\", \"Topic8\", \"Topic8\", \"Topic8\", \"Topic8\", \"Topic8\", \"Topic8\", \"Topic8\", \"Topic8\", \"Topic8\", \"Topic8\", \"Topic8\", \"Topic8\", \"Topic8\", \"Topic9\", \"Topic9\", \"Topic9\", \"Topic9\", \"Topic9\", \"Topic9\", \"Topic9\", \"Topic9\", \"Topic9\", \"Topic9\", \"Topic9\", \"Topic9\", \"Topic9\", \"Topic9\", \"Topic9\", \"Topic9\", \"Topic9\", \"Topic9\", \"Topic9\", \"Topic9\", \"Topic9\", \"Topic9\", \"Topic9\", \"Topic9\", \"Topic9\", \"Topic9\", \"Topic9\", \"Topic9\", \"Topic9\", \"Topic9\", \"Topic9\", \"Topic9\", \"Topic9\", \"Topic9\", \"Topic9\", \"Topic9\", \"Topic9\", \"Topic9\", \"Topic9\", \"Topic9\", \"Topic9\", \"Topic9\", \"Topic9\", \"Topic9\", \"Topic9\", \"Topic9\", \"Topic9\", \"Topic9\", \"Topic9\", \"Topic9\", \"Topic9\", \"Topic9\", \"Topic9\", \"Topic9\", \"Topic9\", \"Topic9\", \"Topic9\", \"Topic9\", \"Topic9\", \"Topic9\", \"Topic9\", \"Topic9\", \"Topic9\", \"Topic9\", \"Topic9\", \"Topic9\", \"Topic9\", \"Topic10\", \"Topic10\", \"Topic10\", \"Topic10\", \"Topic10\", \"Topic10\", \"Topic10\", \"Topic10\", \"Topic10\", \"Topic10\", \"Topic10\", \"Topic10\", \"Topic10\", \"Topic10\", \"Topic10\", \"Topic10\", \"Topic10\", \"Topic10\", \"Topic10\", \"Topic10\", \"Topic10\", \"Topic10\", \"Topic10\", \"Topic10\", \"Topic10\", \"Topic10\", \"Topic10\", \"Topic10\", \"Topic10\", \"Topic10\", \"Topic10\", \"Topic10\", \"Topic10\", \"Topic10\", \"Topic10\", \"Topic10\", \"Topic10\", \"Topic10\", \"Topic10\", \"Topic10\", \"Topic10\", \"Topic10\", \"Topic10\", \"Topic10\", \"Topic10\", \"Topic10\", \"Topic10\", \"Topic10\", \"Topic10\", \"Topic10\", \"Topic10\", \"Topic10\", \"Topic10\"], \"logprob\": [30.0, 29.0, 28.0, 27.0, 26.0, 25.0, 24.0, 23.0, 22.0, 21.0, 20.0, 19.0, 18.0, 17.0, 16.0, 15.0, 14.0, 13.0, 12.0, 11.0, 10.0, 9.0, 8.0, 7.0, 6.0, 5.0, 4.0, 3.0, 2.0, 1.0, -5.597599983215332, -5.66510009765625, -6.161300182342529, -6.259900093078613, -6.344799995422363, -6.362100124359131, -6.416500091552734, -6.454699993133545, -6.72130012512207, -6.817500114440918, -7.122700214385986, -7.385300159454346, -7.434199810028076, -7.4918999671936035, -7.532299995422363, -7.547299861907959, -7.5482001304626465, -7.573699951171875, -7.587299823760986, -7.612599849700928, -7.614999771118164, -7.629000186920166, -7.6356000900268555, -7.636199951171875, -7.65939998626709, -7.681700229644775, -7.700900077819824, -7.711100101470947, -7.7378997802734375, -7.772600173950195, -6.456900119781494, -4.840199947357178, -4.161799907684326, -2.7939000129699707, -3.4612998962402344, -3.7943999767303467, -4.859499931335449, -6.664299964904785, -3.7916998863220215, -4.214799880981445, -6.670499801635742, -5.528600215911865, -6.046999931335449, -4.981500148773193, -7.034999847412109, -4.979800224304199, -5.872000217437744, -4.374800205230713, -6.299799919128418, -4.252500057220459, -5.194699764251709, -4.7494001388549805, -4.9309000968933105, -2.439300060272217, -3.9693000316619873, -4.776800155639648, -3.0608999729156494, -3.8248000144958496, -5.085000038146973, -3.902899980545044, -5.547399997711182, -4.440199851989746, -4.438399791717529, -5.019400119781494, -4.938399791717529, -4.60129976272583, -4.474800109863281, -5.045000076293945, -5.088600158691406, -4.9893999099731445, -4.764500141143799, -4.804999828338623, -4.85890007019043, -5.024400234222412, -5.138199806213379, -5.168399810791016, -5.762899875640869, -5.923900127410889, -5.930099964141846, -5.424900054931641, -6.1645002365112305, -6.537399768829346, -6.553100109100342, -6.570499897003174, -6.645699977874756, -6.648099899291992, -6.720399856567383, -6.741399765014648, -6.847599983215332, -6.9079999923706055, -6.931300163269043, -6.988999843597412, -7.010000228881836, -7.047100067138672, -7.066400051116943, -7.1020002365112305, -7.1092000007629395, -7.116700172424316, -7.123499870300293, -7.130000114440918, -5.374899864196777, -7.059700012207031, -4.144100189208984, -7.033100128173828, -4.80709981918335, -3.85479998588562, -5.158299922943115, -5.547299861907959, -5.116600036621094, -4.741399765014648, -5.979300022125244, -5.391600131988525, -4.262599945068359, -5.051799774169922, -5.551700115203857, -5.686699867248535, -4.736700057983398, -5.505099773406982, -5.123700141906738, -4.395100116729736, -3.7325000762939453, -4.562600135803223, -3.063999891281128, -4.321000099182129, -4.935999870300293, -3.7004001140594482, -4.281599998474121, -4.009099960327148, -4.271100044250488, -3.3708999156951904, -4.617199897766113, -4.5731000900268555, -4.635499954223633, -4.921199798583984, -4.769400119781494, -4.764100074768066, -4.911099910736084, -5.047699928283691, -2.8485000133514404, -3.3791000843048096, -3.402100086212158, -3.8835999965667725, -5.564700126647949, -5.808800220489502, -6.248700141906738, -6.285399913787842, -6.288099765777588, -6.417500019073486, -6.474599838256836, -6.504199981689453, -6.620999813079834, -6.623300075531006, -6.764200210571289, -6.961900234222412, -7.006100177764893, -7.0543999671936035, -7.11329984664917, -7.117099761962891, -7.122900009155273, -7.145500183105469, -7.198800086975098, -7.2540998458862305, -7.257400035858154, -7.263000011444092, -7.290800094604492, -7.292900085449219, -7.315299987792969, -7.385200023651123, -4.429699897766113, -4.027200222015381, -6.867599964141846, -6.409299850463867, -6.598499774932861, -5.3902997970581055, -6.207499980926514, -6.736000061035156, -3.9565999507904053, -4.925099849700928, -6.042699813842773, -3.496799945831299, -6.616700172424316, -4.236800193786621, -6.077700138092041, -4.9029998779296875, -3.2004001140594482, -4.8668999671936035, -5.899199962615967, -5.913099765777588, -3.276700019836426, -6.27239990234375, -3.6080000400543213, -5.807300090789795, -2.906899929046631, -5.598599910736084, -5.127500057220459, -3.8452000617980957, -5.212399959564209, -4.995699882507324, -4.975500106811523, -4.589399814605713, -4.953100204467773, -5.038899898529053, -5.532700061798096, -4.867400169372559, -5.493899822235107, -5.383900165557861, -5.404900074005127, -5.406000137329102, -5.445300102233887, -3.4298999309539795, -3.922300100326538, -4.473499774932861, -4.882699966430664, -4.957399845123291, -5.001699924468994, -5.284999847412109, -5.288300037384033, -5.291500091552734, -5.341300010681152, -5.345799922943115, -5.376800060272217, -5.506700038909912, -5.672500133514404, -5.884200096130371, -5.981800079345703, -5.993000030517578, -6.148799896240234, -6.170400142669678, -6.1894001960754395, -6.2393999099731445, -6.24459981918335, -6.253499984741211, -6.2835001945495605, -6.313000202178955, -6.368500232696533, -6.3902997970581055, -6.404200077056885, -6.458199977874756, -6.4618000984191895, -5.170000076293945, -3.1558001041412354, -3.870800018310547, -3.218899965286255, -4.104800224304199, -3.2983999252319336, -5.332699775695801, -5.063499927520752, -5.117000102996826, -5.564000129699707, -5.520899772644043, -3.6233999729156494, -5.292500019073486, -5.4822001457214355, -5.353600025177002, -3.902899980545044, -4.577400207519531, -4.922399997711182, -3.638700008392334, -5.18720006942749, -4.643599987030029, -4.423399925231934, -4.8769001960754395, -4.951099872589111, -4.9679999351501465, -4.517099857330322, -4.996699810028076, -4.7881999015808105, -5.14709997177124, -5.057499885559082, -5.099100112915039, -3.671299934387207, -4.864299774169922, -5.192299842834473, -5.598899841308594, -5.755799770355225, -5.864200115203857, -5.993500232696533, -6.051499843597412, -6.085599899291992, -6.129000186920166, -6.179299831390381, -6.190299987792969, -6.350299835205078, -6.4334001541137695, -6.472700119018555, -6.526800155639648, -6.532899856567383, -6.55620002746582, -6.55709981918335, -6.571400165557861, -6.597400188446045, -6.714799880981445, -6.730000019073486, -6.73799991607666, -6.742800235748291, -6.746300220489502, -6.777500152587891, -6.791800022125244, -6.837200164794922, -6.877900123596191, -4.526500225067139, -6.451099872589111, -4.999100208282471, -5.5903000831604, -6.094299793243408, -5.418300151824951, -4.382599830627441, -4.548999786376953, -2.777600049972534, -4.872300148010254, -5.140999794006348, -5.857399940490723, -5.763299942016602, -4.3429999351501465, -5.771900177001953, -3.7883999347686768, -5.036900043487549, -4.3094000816345215, -5.36359977722168, -3.215100049972534, -3.9114999771118164, -4.9807000160217285, -5.316299915313721, -4.798600196838379, -5.338699817657471, -3.851799964904785, -5.308499813079834, -5.361400127410889, -4.922399997711182, -5.076000213623047, -4.842299938201904, -4.731599807739258, -4.914599895477295, -5.162799835205078, -4.968200206756592, -5.065899848937988, -4.983699798583984, -4.853099822998047, -5.089900016784668, -5.71120023727417, -5.883399963378906, -6.172100067138672, -6.200699806213379, -6.3242998123168945, -6.420199871063232, -6.467100143432617, -6.598599910736084, -6.609300136566162, -6.362199783325195, -6.703100204467773, -6.73390007019043, -6.790900230407715, -6.810299873352051, -6.8125, -6.814700126647949, -6.878399848937988, -6.917500019073486, -6.929800033569336, -6.998700141906738, -7.049099922180176, -7.0690999031066895, -7.075300216674805, -7.103000164031982, -7.126100063323975, -7.139900207519531, -7.29449987411499, -7.344099998474121, -7.35860013961792, -7.359899997711182, -5.240600109100342, -7.115300178527832, -6.818900108337402, -5.921199798583984, -6.732999801635742, -6.473499774932861, -5.749000072479248, -5.776400089263916, -6.463399887084961, -4.939499855041504, -6.12939977645874, -4.990799903869629, -5.252900123596191, -5.25439977645874, -5.933199882507324, -6.341100215911865, -4.145100116729736, -5.201000213623047, -6.121300220489502, -6.355199813842773, -4.74560022354126, -5.598199844360352, -4.000800132751465, -4.868500232696533, -5.861000061035156, -5.516300201416016, -5.423799991607666, -4.307300090789795, -5.431099891662598, -5.105800151824951, -5.850800037384033, -4.740900039672852, -4.928699970245361, -5.454400062561035, -4.4222002029418945, -4.921500205993652, -5.208000183105469, -5.391900062561035, -3.675100088119507, -5.4045000076293945, -4.620999813079834, -5.249300003051758, -5.2453999519348145, -5.413599967956543, -5.189700126647949, -5.457099914550781, -5.450799942016602, -3.033600091934204, -4.2652997970581055, -5.351600170135498, -6.628600120544434, -6.631999969482422, -6.782599925994873, -7.155200004577637, -7.243500232696533, -7.245200157165527, -7.273799896240234, -2.7655999660491943, -7.521200180053711, -7.644199848175049, -7.688499927520752, -7.709400177001953, -7.719900131225586, -7.756999969482422, -7.84630012512207, -7.885900020599365, -7.886899948120117, -7.911499977111816, -7.932300090789795, -8.075400352478027, -8.083600044250488, -8.083999633789062, -8.084199905395508, -8.127300262451172, -8.133199691772461, -8.17080020904541, -8.239100456237793, -5.061800003051758, -6.71019983291626, -2.0601000785827637, -1.674299955368042, -3.918100118637085, -7.308199882507324, -4.944799900054932, -3.1496999263763428, -3.5587000846862793, -3.4600000381469727, -3.175600051879883, -4.673399925231934, -5.2870001792907715, -4.329899787902832, -5.868500232696533, -5.631199836730957, -4.858500003814697, -5.922500133514404, -5.581600189208984, -3.7165000438690186, -5.041800022125244, -4.226600170135498, -4.833600044250488, -5.527500152587891, -5.2617998123168945, -5.359000205993652, -4.419400215148926, -4.624800205230713, -5.082699775695801, -4.867300033569336, -5.468400001525879, -5.510000228881836, -5.498600006103516, -3.641200065612793, -4.150199890136719, -4.706900119781494, -4.748000144958496, -4.769000053405762, -4.826200008392334, -4.829999923706055, -4.856299877166748, -4.8850998878479, -4.968599796295166, -5.050300121307373, -5.191299915313721, -5.228499889373779, -5.326099872589111, -5.34689998626709, -5.412199974060059, -5.414299964904785, -5.426799774169922, -5.453499794006348, -5.4994001388549805, -5.55649995803833, -5.5721001625061035, -5.621500015258789, -5.625400066375732, -5.636600017547607, -5.637199878692627, -5.63700008392334, -5.640600204467773, -5.69320011138916, -5.700399875640869, -4.090799808502197, -5.598999977111816, -5.572800159454346, -5.083399772644043, -5.146900177001953, -4.920199871063232, -3.2701001167297363, -5.07889986038208, -4.866000175476074, -5.013299942016602, -5.1981000900268555, -4.662600040435791, -4.9278998374938965, -5.033400058746338, -4.8480000495910645, -4.594299793243408, -5.11870002746582, -4.968400001525879, -5.2154998779296875, -4.505199909210205, -4.8480000495910645, -5.273099899291992, -5.439300060272217, -5.588099956512451, -5.683800220489502, -5.774899959564209, -5.827700138092041, -5.85230016708374, -5.969399929046631, -5.970699787139893, -6.224699974060059, -6.473299980163574, -6.510300159454346, -6.538400173187256, -6.545100212097168, -6.581600189208984, -6.650300025939941, -6.686500072479248, -6.702199935913086, -6.730100154876709, -6.783699989318848, -6.782599925994873, -6.809899806976318, -6.9274001121521, -6.988100051879883, -6.995100021362305, -7.098400115966797, -7.149499893188477, -7.246300220489502, -5.386899948120117, -1.69159996509552, -5.111800193786621, -6.288899898529053, -5.82390022277832, -4.945499897003174, -5.0569000244140625, -4.6107001304626465, -3.1758999824523926, -5.04640007019043, -6.1539998054504395, -4.555300235748291, -4.215700149536133, -5.358399868011475, -5.254700183868408, -5.572500228881836, -5.4633002281188965, -3.8710999488830566, -4.90500020980835, -4.831699848175049, -5.031599998474121, -3.6108999252319336, -2.8977999687194824, -3.993000030517578, -3.8046998977661133, -4.309899806976318, -5.023099899291992, -4.293000221252441, -4.762899875640869, -4.940299987792969, -5.151599884033203, -4.801199913024902, -5.126200199127197, -4.903500080108643, -5.212699890136719, -5.125999927520752, -5.1859002113342285, -3.2660000324249268, -3.840100049972534, -4.026700019836426, -4.3343000411987305, -4.347400188446045, -4.434599876403809, -4.460599899291992, -4.46619987487793, -4.593500137329102, -4.88100004196167, -5.018199920654297, -5.020400047302246, -5.1168999671936035, -5.1691999435424805, -5.178599834442139, -5.212600231170654, -5.250699996948242, -5.2769999504089355, -5.40880012512207, -5.44350004196167, -5.588699817657471, -5.654200077056885, -5.683899879455566, -5.684000015258789, -5.771699905395508, -5.803800106048584, -5.8053998947143555, -5.831299781799316, -5.863699913024902, -5.869800090789795, -4.507900238037109, -3.9268999099731445, -3.0546000003814697, -5.061600208282471, -4.228300094604492, -4.395100116729736, -4.372099876403809, -5.20550012588501, -5.177000045776367, -4.750800132751465, -4.499199867248535, -4.72790002822876, -3.7992000579833984, -4.54640007019043, -4.829800128936768, -4.039700031280518, -4.431600093841553, -4.5904998779296875, -4.793399810791016, -4.835400104522705, -4.58459997177124, -4.898499965667725, -4.964099884033203], \"loglift\": [30.0, 29.0, 28.0, 27.0, 26.0, 25.0, 24.0, 23.0, 22.0, 21.0, 20.0, 19.0, 18.0, 17.0, 16.0, 15.0, 14.0, 13.0, 12.0, 11.0, 10.0, 9.0, 8.0, 7.0, 6.0, 5.0, 4.0, 3.0, 2.0, 1.0, 1.454800009727478, 1.454800009727478, 1.454699993133545, 1.454699993133545, 1.4545999765396118, 1.4545999765396118, 1.4545999765396118, 1.4545999765396118, 1.4544999599456787, 1.4544999599456787, 1.4543999433517456, 1.454200029373169, 1.454200029373169, 1.4541000127792358, 1.4541000127792358, 1.4541000127792358, 1.4541000127792358, 1.4541000127792358, 1.4541000127792358, 1.4539999961853027, 1.4539999961853027, 1.4539999961853027, 1.4539999961853027, 1.4539999961853027, 1.4539999961853027, 1.4539999961853027, 1.4539999961853027, 1.4539999961853027, 1.4538999795913696, 1.4538999795913696, 1.4500999450683594, 1.4271999597549438, 1.382699966430664, 1.2960000038146973, 1.263700008392334, 1.2430000305175781, 1.2714999914169312, 1.3910000324249268, 1.128999948501587, 1.163100004196167, 1.3734999895095825, 1.2660000324249268, 1.3147000074386597, 1.1607999801635742, 1.395400047302246, 1.139799952507019, 1.2410000562667847, 1.0211000442504883, 1.2867000102996826, 0.9354000091552734, 1.079699993133545, 0.958299994468689, 0.9781000018119812, 0.3650999963283539, 0.729200005531311, 0.932200014591217, 0.4124999940395355, 0.6241999864578247, 0.9416999816894531, 0.4075999855995178, 1.0599000453948975, 0.4426000118255615, 0.40549999475479126, 0.6154000163078308, 0.5523999929428101, 0.1907999962568283, -0.2754000127315521, 0.41850000619888306, 0.4887000024318695, 0.19339999556541443, 2.131999969482422, 2.131999969482422, 2.131999969482422, 2.131999969482422, 2.1319000720977783, 2.1319000720977783, 2.1317999362945557, 2.1317999362945557, 2.1317999362945557, 2.1317999362945557, 2.131700038909912, 2.131500005722046, 2.131500005722046, 2.131500005722046, 2.131500005722046, 2.131500005722046, 2.1314001083374023, 2.1314001083374023, 2.1312999725341797, 2.1312999725341797, 2.1312999725341797, 2.131200075149536, 2.131200075149536, 2.131200075149536, 2.1310999393463135, 2.1310999393463135, 2.1310999393463135, 2.1310999393463135, 2.1310999393463135, 2.1310999393463135, 2.130199909210205, 2.1308000087738037, 2.085900068283081, 2.129499912261963, 2.0620999336242676, 1.9632999897003174, 1.9569000005722046, 1.9865000247955322, 1.9132000207901, 1.804800033569336, 1.9864000082015991, 1.88919997215271, 1.6647000312805176, 1.780900001525879, 1.8707000017166138, 1.8973000049591064, 1.531599998474121, 1.763800024986267, 1.6358000040054321, 1.3697999715805054, 1.111299991607666, 1.4140000343322754, 0.4092999994754791, 1.0772000551223755, 1.4089000225067139, 0.49900001287460327, 0.901199996471405, 0.47519999742507935, 0.5127000212669373, -0.5666000247001648, 0.6958000063896179, 0.5501999855041504, 0.28519999980926514, 0.9635999798774719, 0.11339999735355377, -0.03909999877214432, -0.46209999918937683, -0.19110000133514404, 2.1856000423431396, 2.1856000423431396, 2.1856000423431396, 2.1856000423431396, 2.1854000091552734, 2.1854000091552734, 2.1851999759674072, 2.1851999759674072, 2.1851999759674072, 2.1851000785827637, 2.1851000785827637, 2.1851000785827637, 2.184999942779541, 2.184999942779541, 2.1849000453948975, 2.1847000122070312, 2.1847000122070312, 2.1847000122070312, 2.1846001148223877, 2.1846001148223877, 2.1846001148223877, 2.1846001148223877, 2.184499979019165, 2.1844000816345215, 2.1844000816345215, 2.1844000816345215, 2.1844000816345215, 2.1844000816345215, 2.1844000816345215, 2.184299945831299, 2.162899971008301, 2.1582999229431152, 2.180999994277954, 2.176300048828125, 2.1714999675750732, 2.141200065612793, 2.153599977493286, 2.1498000621795654, 1.931399941444397, 1.9836000204086304, 2.0810000896453857, 1.6958999633789062, 2.103800058364868, 1.6460000276565552, 1.9988000392913818, 1.743499994277954, 1.2839000225067139, 1.6572999954223633, 1.9068000316619873, 1.9062999486923218, 0.6995000243186951, 2.016700029373169, 0.5914000272750854, 1.7666000127792358, -0.10260000079870224, 1.5825999975204468, 1.2182999849319458, 0.24469999969005585, 1.170799970626831, 0.8299999833106995, 0.7714999914169312, 0.2671999931335449, 0.6468999981880188, 0.7153000235557556, 1.3422000408172607, -0.023499999195337296, 0.9567000269889832, 0.2508000135421753, 0.17239999771118164, 0.08479999750852585, 0.46369999647140503, 3.070499897003174, 3.070499897003174, 3.0703999996185303, 3.0703001022338867, 3.0703001022338867, 3.0703001022338867, 3.070199966430664, 3.070199966430664, 3.070199966430664, 3.0701000690460205, 3.0701000690460205, 3.0701000690460205, 3.0701000690460205, 3.069999933242798, 3.0697999000549316, 3.069700002670288, 3.069700002670288, 3.0696001052856445, 3.0696001052856445, 3.0696001052856445, 3.069499969482422, 3.069499969482422, 3.069499969482422, 3.069499969482422, 3.0694000720977783, 3.0694000720977783, 3.0692999362945557, 3.0692999362945557, 3.069200038909912, 3.069200038909912, 3.0088999271392822, 2.8970999717712402, 2.9012999534606934, 2.828000068664551, 2.8545000553131104, 2.751499891281128, 2.9684998989105225, 2.9261999130249023, 2.915800094604492, 2.972100019454956, 2.948499917984009, 2.4935998916625977, 2.8401999473571777, 2.8835999965667725, 2.829699993133545, 2.078900098800659, 2.38919997215271, 2.4890999794006348, 1.3986999988555908, 2.635200023651123, 2.04229998588562, 1.3236000537872314, 1.9430999755859375, 2.1070001125335693, 2.039099931716919, 0.32670000195503235, 1.6204999685287476, 0.5248000025749207, 2.163599967956543, 1.524399995803833, 0.5009999871253967, 2.6431000232696533, 2.6429998874664307, 2.642899990081787, 2.6428000926971436, 2.642699956893921, 2.642699956893921, 2.6426000595092773, 2.6426000595092773, 2.6424999237060547, 2.6424999237060547, 2.6424999237060547, 2.6424999237060547, 2.642400026321411, 2.6422998905181885, 2.6422998905181885, 2.642199993133545, 2.642199993133545, 2.642199993133545, 2.642199993133545, 2.642199993133545, 2.6421000957489014, 2.6419999599456787, 2.6419999599456787, 2.6419999599456787, 2.6419999599456787, 2.6419999599456787, 2.641900062561035, 2.641900062561035, 2.641900062561035, 2.6417999267578125, 2.6391000747680664, 2.6391000747680664, 2.606300115585327, 2.58870005607605, 2.575700044631958, 2.476300001144409, 2.3036999702453613, 2.2995998859405518, 2.006200075149536, 2.335700035095215, 2.3189001083374023, 2.4804000854492188, 2.446500062942505, 2.088599920272827, 2.3770999908447266, 1.6217999458312988, 2.0585999488830566, 1.7125999927520752, 2.1364998817443848, 0.9843000173568726, 0.8805999755859375, 1.695099949836731, 1.9549000263214111, 1.4692000150680542, 1.9543999433517456, 0.4587000012397766, 1.8997000455856323, 1.9355000257492065, 1.3913999795913696, 1.4670000076293945, 0.9118000268936157, 0.6665999889373779, 0.9700999855995178, 1.3336999416351318, 0.5785999894142151, 0.5115000009536743, -0.10090000182390213, -2.048799991607666, 0.03350000083446503, 1.8938000202178955, 1.8937000036239624, 1.8937000036239624, 1.8937000036239624, 1.8935999870300293, 1.8935999870300293, 1.8935999870300293, 1.8934999704360962, 1.8934999704360962, 1.8934999704360962, 1.893399953842163, 1.893399953842163, 1.893399953842163, 1.893399953842163, 1.893399953842163, 1.893399953842163, 1.8933000564575195, 1.8933000564575195, 1.8933000564575195, 1.8933000564575195, 1.8932000398635864, 1.8932000398635864, 1.8932000398635864, 1.8932000398635864, 1.8932000398635864, 1.8932000398635864, 1.8930000066757202, 1.8930000066757202, 1.8930000066757202, 1.8930000066757202, 1.8344999551773071, 1.8875000476837158, 1.874899983406067, 1.817199945449829, 1.8490999937057495, 1.8049999475479126, 1.6476999521255493, 1.641700029373169, 1.770400047302246, 1.4436999559402466, 1.6991000175476074, 1.4478000402450562, 1.5010000467300415, 1.4656000137329102, 1.6268999576568604, 1.7318999767303467, 1.0377000570297241, 1.3653000593185425, 1.6562000513076782, 1.7340999841690063, 1.1647000312805176, 1.4628000259399414, 0.8557999730110168, 1.1535999774932861, 1.5413000583648682, 1.3911999464035034, 1.3361999988555908, 0.816100001335144, 1.312399983406067, 1.1424000263214111, 1.4996999502182007, 0.7225000262260437, 0.7730000019073486, 1.1836999654769897, 0.3698999881744385, 0.6252999901771545, 0.875, 1.0398000478744507, -0.8707000017166138, 0.9994999766349792, -0.13670000433921814, 0.6353999972343445, 0.5802000164985657, 0.8751000165939331, 0.18809999525547028, 0.8877999782562256, 0.3034000098705292, 2.170799970626831, 2.1707000732421875, 2.170599937438965, 2.170099973678589, 2.170099973678589, 2.1700000762939453, 2.1696999073028564, 2.169600009918213, 2.169600009918213, 2.169600009918213, 2.1695001125335693, 2.1691999435424805, 2.1689999103546143, 2.1689000129699707, 2.1689000129699707, 2.1689000129699707, 2.168800115585327, 2.168600082397461, 2.1684999465942383, 2.1684999465942383, 2.1684999465942383, 2.1684000492095947, 2.168100118637085, 2.1679999828338623, 2.1679999828338623, 2.1679999828338623, 2.1679000854492188, 2.1679000854492188, 2.167799949645996, 2.16759991645813, 1.9078999757766724, 2.041800022125244, 1.4133000373840332, 1.1299999952316284, 1.4800000190734863, 2.040800094604492, 1.618299961090088, 1.299399971961975, 1.3241000175476074, 1.2384999990463257, 1.1349999904632568, 1.436900019645691, 1.5715999603271484, 1.304800033569336, 1.5125999450683594, 1.3948999643325806, 1.0516999959945679, 1.4701000452041626, 1.3240000009536743, 0.4828999936580658, 1.0605000257492065, 0.557200014591217, 0.8741000294685364, 1.232100009918213, 1.006500005722046, 0.9176999926567078, 0.0649000033736229, 0.1673000007867813, 0.4081000089645386, 0.05350000038743019, 0.8065000176429749, 0.30809998512268066, -0.6420000195503235, 3.5985000133514404, 3.598400115966797, 3.5982000827789307, 3.5982000827789307, 3.5982000827789307, 3.5982000827789307, 3.5982000827789307, 3.5982000827789307, 3.598099946975708, 3.598099946975708, 3.598099946975708, 3.5980000495910645, 3.597899913787842, 3.597899913787842, 3.597899913787842, 3.5978000164031982, 3.5978000164031982, 3.5978000164031982, 3.5978000164031982, 3.5977001190185547, 3.5977001190185547, 3.5977001190185547, 3.597599983215332, 3.597599983215332, 3.597599983215332, 3.597599983215332, 3.597599983215332, 3.597599983215332, 3.597599983215332, 3.5975000858306885, 3.578000068664551, 3.5961999893188477, 3.593899965286255, 3.5408999919891357, 3.5058999061584473, 3.414400100708008, 2.711699962615967, 3.270400047302246, 3.112299919128418, 3.116300106048584, 3.2200000286102295, 2.6319000720977783, 2.8131000995635986, 2.954900026321411, 2.4209001064300537, 1.4556000232696533, 2.4971001148223877, 1.6134999990463257, 2.1572000980377197, 2.577699899673462, 2.5776000022888184, 2.577500104904175, 2.577500104904175, 2.577500104904175, 2.577399969100952, 2.577399969100952, 2.577399969100952, 2.577399969100952, 2.5773000717163086, 2.5773000717163086, 2.577199935913086, 2.5769999027252197, 2.576900005340576, 2.576900005340576, 2.576900005340576, 2.576900005340576, 2.5768001079559326, 2.5768001079559326, 2.5768001079559326, 2.57669997215271, 2.57669997215271, 2.57669997215271, 2.5766000747680664, 2.5764999389648438, 2.5764000415802, 2.5764000415802, 2.5762999057769775, 2.576200008392334, 2.5759999752044678, 2.4839999675750732, 2.284600019454956, 2.4326999187469482, 2.518699884414673, 2.4727001190185547, 2.380000114440918, 2.378200054168701, 2.315000057220459, 2.1370999813079834, 2.356800079345703, 2.4972000122070312, 2.217900037765503, 2.138700008392334, 2.3010001182556152, 2.2486000061035156, 2.325200080871582, 2.29229998588562, 1.8305000066757202, 2.085200071334839, 1.9916000366210938, 1.8049999475479126, 0.6996999979019165, -0.0934000015258789, 0.8636000156402588, 0.6796000003814697, 0.8780999779701233, 1.621899962425232, 0.499099999666214, 0.9980999827384949, 1.2019000053405762, 1.6414999961853027, 0.39149999618530273, 1.2777999639511108, 0.2198999971151352, 1.5307999849319458, -0.6769999861717224, 0.5789999961853027, 2.992000102996826, 2.992000102996826, 2.992000102996826, 2.9918999671936035, 2.9918999671936035, 2.9918999671936035, 2.9918999671936035, 2.9918999671936035, 2.9918999671936035, 2.99180006980896, 2.99180006980896, 2.99180006980896, 2.99180006980896, 2.99180006980896, 2.9916999340057373, 2.9916999340057373, 2.9916999340057373, 2.9916999340057373, 2.9916999340057373, 2.9916000366210938, 2.9916000366210938, 2.991499900817871, 2.991499900817871, 2.991499900817871, 2.991499900817871, 2.9914000034332275, 2.9914000034332275, 2.9914000034332275, 2.9914000034332275, 2.9914000034332275, 2.904099941253662, 2.85509991645813, 2.7604000568389893, 2.9022998809814453, 2.7671000957489014, 2.728600025177002, 2.6944000720977783, 2.848099946975708, 2.7936999797821045, 2.525599956512451, 2.3276000022888184, 2.481600046157837, 1.8007999658584595, 2.0627999305725098, 2.238300085067749, 0.804099977016449, 1.3154000043869019, 1.4564000368118286, 1.9381999969482422, 1.9607000350952148, 0.6032999753952026, 1.1543999910354614, 1.1669000387191772]}, \"token.table\": {\"Topic\": [3, 9, 4, 7, 1, 3, 6, 9, 1, 5, 1, 3, 7, 10, 4, 7, 10, 3, 3, 5, 2, 9, 6, 6, 2, 4, 9, 7, 6, 2, 1, 2, 3, 4, 5, 6, 7, 8, 9, 10, 1, 3, 5, 6, 5, 1, 7, 10, 6, 10, 2, 5, 6, 8, 6, 5, 9, 10, 2, 8, 2, 5, 6, 6, 3, 6, 1, 3, 5, 6, 7, 6, 7, 4, 2, 7, 5, 6, 9, 1, 3, 5, 6, 7, 6, 9, 10, 2, 6, 9, 7, 1, 8, 1, 2, 4, 6, 8, 9, 10, 2, 6, 2, 3, 5, 5, 5, 9, 2, 5, 7, 9, 7, 2, 5, 6, 9, 6, 3, 6, 5, 4, 5, 6, 8, 10, 7, 3, 6, 8, 2, 9, 4, 8, 5, 2, 1, 3, 4, 6, 7, 1, 2, 9, 8, 9, 8, 3, 6, 1, 3, 4, 5, 6, 10, 1, 2, 3, 4, 5, 6, 7, 10, 6, 5, 4, 3, 3, 3, 4, 6, 8, 10, 1, 2, 3, 5, 6, 9, 5, 9, 2, 2, 7, 6, 3, 10, 2, 7, 9, 1, 10, 4, 8, 5, 9, 3, 6, 4, 7, 9, 9, 6, 9, 8, 1, 2, 3, 6, 7, 9, 1, 3, 5, 6, 8, 9, 10, 1, 4, 6, 8, 8, 1, 1, 2, 3, 5, 7, 2, 4, 9, 3, 4, 5, 6, 10, 4, 10, 3, 6, 10, 10, 3, 3, 1, 1, 3, 6, 2, 7, 9, 2, 9, 5, 3, 6, 3, 4, 2, 4, 5, 6, 8, 9, 2, 2, 3, 4, 8, 4, 10, 10, 10, 3, 6, 10, 10, 4, 10, 4, 10, 1, 3, 4, 6, 9, 1, 5, 6, 9, 3, 7, 2, 2, 10, 6, 2, 5, 6, 1, 1, 2, 3, 6, 9, 4, 2, 3, 5, 6, 9, 4, 6, 1, 2, 5, 6, 7, 9, 2, 3, 6, 9, 10, 9, 4, 4, 1, 3, 4, 1, 3, 7, 9, 7, 1, 2, 3, 5, 6, 7, 10, 7, 1, 3, 4, 6, 2, 5, 6, 9, 1, 2, 3, 5, 6, 9, 7, 1, 3, 4, 5, 7, 9, 4, 7, 1, 2, 3, 4, 7, 9, 10, 1, 8, 1, 1, 6, 8, 1, 2, 7, 6, 4, 1, 6, 9, 4, 8, 6, 1, 7, 6, 2, 4, 5, 6, 9, 10, 1, 2, 3, 6, 7, 1, 3, 1, 2, 7, 3, 1, 3, 5, 7, 1, 3, 7, 3, 4, 8, 8, 1, 1, 1, 2, 6, 1, 1, 2, 5, 6, 9, 3, 5, 6, 1, 2, 7, 1, 3, 9, 2, 1, 3, 5, 6, 7, 9, 3, 4, 5, 6, 7, 8, 9, 1, 2, 7, 7, 1, 2, 5, 7, 1, 1, 2, 4, 5, 6, 7, 9, 3, 9, 1, 2, 3, 5, 6, 7, 9, 3, 5, 7, 10, 1, 1, 3, 5, 6, 1, 3, 7, 1, 3, 6, 1, 2, 3, 5, 6, 7, 8, 10, 2, 9, 6, 7, 2, 3, 6, 7, 2, 5, 5, 8, 1, 5, 6, 10, 8, 6, 9, 1, 4, 5, 1, 3, 3, 3, 4, 5, 6, 10, 7, 5, 2, 3, 2, 3, 1, 2, 4, 7, 8, 9, 1, 2, 4, 5, 3, 4, 6, 8, 10, 10, 3, 8, 10, 3, 3, 10, 1, 2, 4, 5, 8, 10, 8, 7, 4, 1, 3, 4, 6, 10, 3, 3, 3, 6, 10, 4, 10, 10, 2, 3, 5, 6, 7, 9, 1, 2, 4, 5, 8, 1, 5, 1, 2, 3, 5, 6, 7, 6, 3, 4, 6, 9, 1, 2, 5, 6, 9, 1, 3, 10, 6, 9, 6, 9, 2, 1, 4, 9, 2, 7, 1, 4, 5, 6, 1, 4, 5, 6, 7, 1, 3, 7, 9, 6, 9, 7, 1, 2, 3, 5, 6, 9, 10, 7, 10, 1, 2, 3, 5, 6, 7, 8, 9, 10, 1, 3, 9, 10, 8, 2, 3, 6, 7, 9, 1, 2, 3, 6, 7, 9, 1, 3, 9, 2, 1, 1, 3, 5, 6, 9, 6, 10, 4, 10, 1, 2, 3, 5, 6, 3, 5, 6, 9, 1, 2, 3, 4, 5, 6, 7, 8, 9, 10, 1, 2, 3, 5, 6, 7, 9, 3, 1, 2, 3, 4, 5, 6, 7, 8, 9, 4, 2, 4, 3, 6, 1, 3, 4, 6, 7, 10, 9, 7, 4, 10, 6, 8, 6, 4, 8, 4, 10, 7, 4, 10, 3, 3, 4, 6, 6, 9, 1, 9, 2, 1, 2, 3, 5, 6, 7, 9, 8, 1, 3, 4, 6, 10, 2, 1, 2, 3, 4, 5, 6, 7, 10, 3, 4, 10, 2, 5, 6, 9, 5, 8, 9, 2, 8, 5, 4, 2, 5, 6, 9, 2, 3, 7, 1, 2, 5, 6, 7, 8, 9, 2, 1, 4, 5, 6, 7, 8, 6, 8, 3, 5, 1, 2, 7, 1, 2, 6, 7, 1, 2, 4, 5, 7, 3, 8, 9, 1, 2, 7, 9, 3, 8, 8, 3, 6, 2, 6, 7, 9, 7, 3, 4, 1, 2, 3, 5, 6, 7, 8, 9, 1, 2, 3, 4, 6, 7, 8, 1, 2, 5, 6, 7, 9, 2, 2, 9, 9, 6, 9, 4, 6, 5, 4, 2, 2, 3, 5, 6, 10, 1, 2, 3, 4, 6, 10, 4, 3, 4, 6, 10, 7, 1, 3, 4, 5, 7, 8, 9, 3, 4, 10, 1, 2, 1, 2, 3, 4, 6, 7, 10, 9, 2, 4, 8, 1, 1, 2, 3, 4, 5, 6, 6, 5, 4, 8, 1, 2, 3, 5, 6, 7, 9, 6, 7, 9, 5, 5, 3, 4, 3, 4, 6, 5, 3, 4, 10, 3, 3, 5, 8, 3, 8, 5, 4, 8, 1, 2, 3, 4, 5, 6, 8, 9, 9, 2, 5, 1, 2, 7, 1, 4, 3, 2, 7, 10, 2, 5, 6, 9, 6, 9, 6, 10, 2, 3, 4, 6, 8, 10, 8, 9, 1, 3, 4, 10, 3, 2, 6, 7, 2, 3, 5, 6, 8, 1, 4, 10, 3, 4, 10, 3, 6, 3, 10, 2, 6, 9, 1, 2, 3, 6, 9, 4, 1, 5, 10, 2, 1, 3, 5, 6, 7, 9, 4, 1, 6, 1, 3, 8, 9, 7, 7, 2, 5, 4, 6, 6, 5, 2, 7, 7, 1, 2, 3, 4, 5, 6, 7, 10, 1, 3, 7, 5, 6, 9, 2, 3, 4, 6, 8, 10, 6, 7, 5, 6, 3, 6, 10, 2, 1, 1, 2, 3, 4, 6, 10, 1, 3, 1, 2, 4, 7, 10, 6, 1, 2, 3, 6, 7, 9, 10, 4, 10, 1, 1, 2, 3, 6, 9, 3, 6, 1, 2, 3, 6, 7, 9, 7, 9, 3, 6, 9, 1, 2, 4, 5, 9, 5, 3, 5, 8, 1, 2, 3, 5, 6, 7, 9, 10, 10, 2, 8, 1, 2, 7, 2, 7, 5, 6, 3, 5, 8, 5, 2, 6, 9, 6, 9, 3, 6, 10, 4, 5, 9, 8, 1, 2, 3, 4, 5, 6, 7, 9, 10, 3, 10, 10, 3, 4, 5, 5, 7, 1, 1, 3, 10, 4, 5, 1, 3, 6, 9, 2, 1, 2, 5, 6, 7, 9, 1, 2, 3, 5, 6, 9, 10, 6, 9, 1, 2, 3, 4, 5, 6, 7, 8, 9, 6, 5, 8, 1, 2, 3, 4, 5, 6, 7, 8, 9, 10, 3, 1, 2, 3, 7, 1, 2, 3, 6, 7, 9, 6, 1, 2, 4, 5, 9, 10, 8], \"Freq\": [0.9942710399627686, 1.0034103393554688, 0.9991660714149475, 0.9868349432945251, 0.21387320756912231, 0.21705348789691925, 0.18445570766925812, 0.38481277227401733, 0.17868269979953766, 0.8211800456047058, 0.6737477779388428, 0.10335903614759445, 0.1278589516878128, 0.09493719041347504, 0.9973881244659424, 0.9848472476005554, 1.0013753175735474, 0.9992136359214783, 0.999396562576294, 1.002564787864685, 1.0012831687927246, 0.9971495270729065, 1.002040982246399, 0.9964954257011414, 0.9942711591720581, 1.0000940561294556, 1.0010125637054443, 0.9860033392906189, 0.9989396929740906, 1.0015748739242554, 0.4056118130683899, 0.14514786005020142, 0.12233532965183258, 0.00777130201458931, 0.0017548101022839546, 0.11982846260070801, 0.1714700162410736, 0.0002506871533114463, 0.0010027486132457852, 0.02506871521472931, 0.38917261362075806, 0.22998046875, 0.17713388800621033, 0.20388339459896088, 1.0009138584136963, 0.9432405233383179, 0.05687882378697395, 0.9983716607093811, 0.17959420382976532, 0.8201468586921692, 0.027557075023651123, 0.0723373219370842, 0.7767650485038757, 0.12400683760643005, 0.9984655380249023, 0.18045635521411896, 0.818185567855835, 0.9999552369117737, 1.000434398651123, 0.9958208799362183, 0.09734512120485306, 0.015575219877064228, 0.8838937282562256, 1.0004534721374512, 0.8999265432357788, 0.09766644984483719, 0.362160861492157, 0.0794483944773674, 0.058812450617551804, 0.07119401544332504, 0.42922770977020264, 0.9958914518356323, 0.991847574710846, 0.9999445080757141, 0.8397898077964783, 0.16032350063323975, 0.08762810379266739, 0.8526888489723206, 0.06066561117768288, 0.43644264340400696, 0.024440787732601166, 0.020949246361851692, 0.0593562014400959, 0.4608834385871887, 0.484378457069397, 0.46126696467399597, 0.053926825523376465, 0.7209445238113403, 0.2657627761363983, 0.01368426252156496, 0.999945878982544, 0.9993652701377869, 0.9995826482772827, 0.04180044308304787, 0.38963985443115234, 0.2127344012260437, 0.013435856439173222, 0.13734431564807892, 0.0037321823183447123, 0.2015378475189209, 0.04413336515426636, 0.9543840289115906, 0.03859560564160347, 0.7564738988876343, 0.2058432400226593, 0.9940577745437622, 0.8511735796928406, 0.15122373402118683, 0.3482303321361542, 0.13846954703330994, 0.5010952353477478, 0.012110373005270958, 1.0074855089187622, 0.7909595966339111, 0.024399781599640846, 0.046766247600317, 0.1382654309272766, 1.0033303499221802, 0.14920572936534882, 0.848814845085144, 1.0007028579711914, 0.7269854545593262, 0.00043847132474184036, 0.08155566453933716, 0.11751031130552292, 0.07410165667533875, 0.9987969398498535, 0.36224958300590515, 0.6376082301139832, 0.9988899827003479, 0.9989896416664124, 1.0033557415008545, 0.9938659071922302, 0.997941255569458, 0.9996864795684814, 1.0008618831634521, 0.4482400715351105, 0.43023043870925903, 0.05703054368495941, 0.05803108215332031, 0.007003751117736101, 0.8282346129417419, 0.14127078652381897, 0.030470168218016624, 0.08939002454280853, 0.9101529717445374, 0.999712347984314, 0.9641754627227783, 0.03737113997340202, 0.9965070486068726, 1.0009064674377441, 0.04650622606277466, 0.7655640244483948, 0.1502508819103241, 0.03577401861548424, 0.27950960397720337, 0.09457335621118546, 0.24323490262031555, 0.17424817383289337, 0.0006477627321146429, 0.01878511905670166, 0.0019432881381362677, 0.18687954545021057, 0.9968189001083374, 1.002066731452942, 0.9974952340126038, 0.9998598098754883, 1.00229811668396, 0.020531117916107178, 0.14756740629673004, 0.003849584609270096, 0.060310158878564835, 0.7686337232589722, 0.061541441828012466, 0.19443528354167938, 0.09275811910629272, 0.07581192255020142, 0.5726029872894287, 0.0026757149025797844, 0.9963058829307556, 0.9914952516555786, 0.9986830353736877, 0.6089158058166504, 0.3913821876049042, 0.9985815286636353, 1.0002607107162476, 0.9967158436775208, 0.9977217316627502, 0.001878948649391532, 0.9989142417907715, 0.9994357228279114, 1.000169277191162, 0.9979333877563477, 0.9959893822669983, 0.9971688389778137, 0.9984655380249023, 0.990907609462738, 0.011071593500673771, 1.0005872249603271, 1.0026651620864868, 1.000244379043579, 1.0040138959884644, 0.1985386162996292, 0.800942063331604, 1.0002321004867554, 0.07184822857379913, 0.09869261831045151, 0.013422196730971336, 0.4910944700241089, 0.00868495088070631, 0.3150268495082855, 0.15840543806552887, 0.09748027473688126, 0.08529523760080338, 0.027416326105594635, 0.5239564776420593, 0.10966530442237854, 1.0000580549240112, 0.9992189407348633, 0.12676197290420532, 0.15298858284950256, 0.7212318778038025, 0.9953839778900146, 0.9993212819099426, 0.3634416162967682, 0.1327933520078659, 0.010645303875207901, 0.06428126245737076, 0.42881467938423157, 0.18064510822296143, 0.6477417349815369, 0.1729031652212143, 0.5827978849411011, 0.003709725569933653, 0.1253887265920639, 0.2081156075000763, 0.07975909858942032, 0.9039293527603149, 0.09580818563699722, 0.8165749907493591, 0.1593821942806244, 0.02380383387207985, 0.9993086457252502, 0.9971912503242493, 0.9956595301628113, 0.9989880919456482, 0.10265666246414185, 0.6582103371620178, 0.2395322024822235, 0.7837663888931274, 0.20119674503803253, 0.013513213954865932, 1.0015045404434204, 0.9966161847114563, 0.9999253153800964, 1.0015939474105835, 0.996780276298523, 0.14331132173538208, 0.8566832542419434, 0.06684992462396622, 0.07622140645980835, 0.16868671774864197, 0.4085967242717743, 0.006872422061860561, 0.27239781618118286, 0.9989705681800842, 0.999968409538269, 0.2041286677122116, 0.7953978776931763, 0.9970346093177795, 0.08389294892549515, 0.9159740209579468, 1.0021668672561646, 0.998367428779602, 0.17656110227108002, 0.8230862617492676, 0.9982245564460754, 1.0001530647277832, 0.8440956473350525, 0.15527749061584473, 0.8408688902854919, 0.15920217335224152, 0.6207473874092102, 0.17860767245292664, 0.04569919407367706, 0.08073524385690689, 0.07426118850708008, 0.9977331757545471, 0.8460789322853088, 0.1276053488254547, 0.02496626414358616, 0.9960681200027466, 1.007161021232605, 1.0000499486923218, 1.0023561716079712, 0.998217761516571, 0.9990450143814087, 0.18089666962623596, 0.5576607584953308, 0.2619882822036743, 0.9995825886726379, 0.05313458666205406, 0.08741496503353119, 0.16454581916332245, 0.6513271927833557, 0.043707482516765594, 1.0002450942993164, 0.2793450653553009, 0.08297378569841385, 0.036877237260341644, 0.20835639536380768, 0.39182063937187195, 0.08551234006881714, 0.9162036776542664, 0.07231489568948746, 0.19803155958652496, 0.5288258790969849, 0.0016069976845756173, 0.19914409518241882, 0.9982666969299316, 0.07977645099163055, 0.13423922657966614, 0.27001261711120605, 0.12119884043931961, 0.3950468599796295, 0.9964814782142639, 0.9995851516723633, 0.9981378316879272, 0.5940437316894531, 0.0015469888458028436, 0.40376409888267517, 0.1994679570198059, 0.6127313375473022, 0.07535869628190994, 0.1123867928981781, 0.9878337383270264, 0.4840203523635864, 0.0009081057505682111, 0.04574582725763321, 0.03416747972369194, 0.014756717719137669, 0.39366382360458374, 0.02667560614645481, 1.002152681350708, 1.000162124633789, 0.8285255432128906, 0.09316753596067429, 0.07653047144412994, 0.3181983232498169, 0.029394766315817833, 0.5893650650978088, 0.062463875859975815, 0.3172476589679718, 0.0602770559489727, 0.1586238294839859, 0.07840549200773239, 0.36075592041015625, 0.024473391473293304, 1.000472068786621, 0.40708306431770325, 0.02794620580971241, 0.0656735822558403, 0.000465770106529817, 0.48020896315574646, 0.019096573814749718, 1.001329779624939, 0.990556538105011, 0.5948066115379333, 0.06703610718250275, 0.0003703652473632246, 0.02851812355220318, 0.03481433168053627, 0.18277524411678314, 0.09166540205478668, 0.9992444515228271, 0.9976409077644348, 1.0000494718551636, 0.029602790251374245, 0.05920558050274849, 0.9117659330368042, 0.0417998768389225, 0.18919943273067474, 0.7688977122306824, 0.9997269511222839, 0.9986977577209473, 0.1205882877111435, 0.1205882877111435, 0.75860995054245, 0.9972753524780273, 1.0000478029251099, 1.0011577606201172, 1.0007944107055664, 0.9999141097068787, 1.000217318534851, 0.10775358974933624, 0.16881395876407623, 0.7237449288368225, 0.9987789392471313, 1.0019503831863403, 0.9993069171905518, 0.0979377031326294, 0.02323945425450802, 0.0265593770891428, 0.33365216851234436, 0.5179078578948975, 0.9212396144866943, 0.0773068219423294, 0.6871627569198608, 0.3122968077659607, 0.0005488520255312324, 1.001674771308899, 0.43191564083099365, 0.14445436000823975, 0.00289487699046731, 0.42062562704086304, 0.6085036396980286, 0.11802604049444199, 0.2734217941761017, 0.17893579602241516, 0.20349560678005219, 0.6175039410591125, 0.997299075126648, 1.0008769035339355, 0.998775839805603, 0.28314855694770813, 0.2919911742210388, 0.42481493949890137, 0.9947744607925415, 0.02651815116405487, 0.11706793308258057, 0.010995330289006233, 0.6403163075447083, 0.2056773602962494, 0.19684205949306488, 0.7357146739959717, 0.0670100674033165, 0.3525993824005127, 0.17856678366661072, 0.46882113814353943, 0.745379626750946, 0.0019235602812841535, 0.2524673044681549, 0.9987562894821167, 0.35093504190444946, 0.023103032261133194, 0.1125117689371109, 0.00562173780053854, 0.3549395799636841, 0.15286506712436676, 0.17244212329387665, 0.2343047708272934, 0.157749742269516, 0.1608428806066513, 0.08815427124500275, 0.039437435567379, 0.14692378044128418, 0.9728741645812988, 0.0016350826481357217, 0.025616293773055077, 1.0002210140228271, 0.33169275522232056, 0.48775947093963623, 0.004074849653989077, 0.1764409840106964, 0.9965941309928894, 0.28283703327178955, 0.08880573511123657, 0.04787184298038483, 0.3600795269012451, 0.08949953317642212, 0.10129404813051224, 0.029833177104592323, 0.9851851463317871, 0.013313313014805317, 0.17376495897769928, 0.17857691645622253, 0.12831874191761017, 0.006415937095880508, 0.4715713858604431, 0.0400996059179306, 0.0005346614052541554, 0.999951958656311, 0.7125850319862366, 0.22620432078838348, 0.06131545454263687, 0.9997639656066895, 0.4260823428630829, 0.2578919529914856, 0.04730354994535446, 0.268754243850708, 0.4491884112358093, 0.3802185356616974, 0.1703614890575409, 0.3927823007106781, 0.5477206110954285, 0.05980076268315315, 0.08256468921899796, 0.34318190813064575, 0.08830831944942474, 0.3087201416492462, 0.08041082322597504, 0.041641321033239365, 0.02010270580649376, 0.035179734230041504, 0.9996510744094849, 1.0007566213607788, 0.4241187274456024, 0.5757467150688171, 0.13690049946308136, 0.0541500598192215, 0.4823931157588959, 0.326425701379776, 0.8037234544754028, 0.1962580531835556, 0.9980461001396179, 0.9988937973976135, 0.4454037845134735, 0.47612130641937256, 0.07958626002073288, 0.9988539218902588, 0.9994858503341675, 0.9914288520812988, 0.008401939645409584, 0.8074238896369934, 0.06855485588312149, 0.12314483523368835, 0.9381377696990967, 0.06189103424549103, 1.000614047050476, 0.15778601169586182, 0.12258759886026382, 0.08617544174194336, 0.16264097392559052, 0.4709305763244629, 0.9940568208694458, 0.9994532465934753, 0.8636590838432312, 0.13401606678962708, 0.9988696575164795, 0.9992838501930237, 0.15069551765918732, 0.1933164745569229, 0.08980844169855118, 0.07915320247411728, 0.3805442154407501, 0.10655238479375839, 0.290731281042099, 0.2410336285829544, 0.35782313346862793, 0.1101631373167038, 0.10163552314043045, 0.35629531741142273, 0.18157356977462769, 0.15416623651981354, 0.20669695734977722, 0.999336838722229, 1.000224232673645, 0.9965616464614868, 0.9994367957115173, 1.0044245719909668, 1.0037963390350342, 0.9992188811302185, 0.09053371846675873, 0.3785955309867859, 0.11851686239242554, 0.02633708156645298, 0.23703372478485107, 0.14814607799053192, 0.9994877576828003, 0.9958787560462952, 0.9998011589050293, 0.0978681892156601, 0.1034606546163559, 0.1593853384256363, 0.0391472764313221, 0.5997921824455261, 0.9953291416168213, 0.996880829334259, 0.7753064632415771, 0.14581280946731567, 0.07868670672178268, 0.9952340722084045, 1.0005253553390503, 1.000245451927185, 0.1907656192779541, 0.40590381622314453, 0.0005497568636201322, 0.1312086284160614, 0.12177114188671112, 0.14980873465538025, 0.8693119883537292, 0.07325662672519684, 0.05860530585050583, 0.9995987415313721, 1.0044478178024292, 0.995488166809082, 0.9966602921485901, 0.18194518983364105, 0.06099298968911171, 0.019641811028122902, 0.1271548718214035, 0.604761004447937, 0.006202676799148321, 0.9983042478561401, 0.16885633766651154, 0.8309509754180908, 0.07684950530529022, 0.9221940636634827, 0.11170849949121475, 0.0629468560218811, 0.08865753561258316, 0.6746838688850403, 0.06206027790904045, 0.8326303958892822, 0.006181722041219473, 0.16120028495788574, 0.24863259494304657, 0.7507256269454956, 0.1348651945590973, 0.8658736944198608, 0.9982518553733826, 0.8459086418151855, 0.15491339564323425, 0.9999052286148071, 0.9550455212593079, 0.045153334736824036, 0.33466726541519165, 0.04487158730626106, 0.6020271182060242, 0.016826845705509186, 0.22512656450271606, 0.05360156297683716, 0.7094897627830505, 0.0019491477869451046, 0.009745738469064236, 0.8530920147895813, 0.14360259473323822, 0.003335285931825638, 1.000278115272522, 1.0015367269515991, 0.9996025562286377, 0.9870010018348694, 0.14615152776241302, 0.3334081768989563, 0.052523206919431686, 0.2860231101512909, 0.056519538164138794, 0.004567235242575407, 0.1210317388176918, 0.9986871480941772, 0.0012943813344463706, 0.2595636248588562, 0.1094992607831955, 0.03950457647442818, 0.1269979327917099, 0.28130441904067993, 0.018559196963906288, 0.028369057923555374, 0.08643282949924469, 0.04984470084309578, 0.0829276293516159, 0.01658552512526512, 0.8997647762298584, 0.9964775443077087, 1.0020582675933838, 0.4852807819843292, 0.0005889330059289932, 0.36572736501693726, 0.07656128704547882, 0.07184982299804688, 0.8259484767913818, 0.11399627476930618, 0.022263076156377792, 0.030772000551223755, 0.006410833448171616, 0.0005828030407428741, 0.17584209144115448, 0.0031400371808558702, 0.8211197257041931, 0.9998919367790222, 0.9988195300102234, 0.05131147801876068, 0.17673952877521515, 0.09977231919765472, 0.11497572064399719, 0.5568245649337769, 0.9985623359680176, 1.0015919208526611, 0.08621551096439362, 0.9126952290534973, 0.10745693743228912, 0.02004157193005085, 0.0012792492052540183, 0.39443519711494446, 0.476733535528183, 0.17399422824382782, 0.5026500225067139, 0.3212200999259949, 0.002974260365590453, 0.17723707854747772, 0.195360466837883, 0.20307841897010803, 0.004892625380307436, 0.19033002853393555, 0.03597113490104675, 0.1848861128091812, 0.0002067306631943211, 0.00792467501014471, 0.00013782043242827058, 0.16561652719974518, 0.20554505288600922, 0.05833035334944725, 0.07360734790563583, 0.34026038646698, 0.06197599694132805, 0.094613216817379, 0.9986771941184998, 0.6481297016143799, 0.058589283376932144, 0.03374013304710388, 0.0006839215639047325, 0.08594614267349243, 0.09962457418441772, 0.00022797386918682605, 0.00022797386918682605, 0.07295163720846176, 0.9949861764907837, 0.9959335923194885, 1.0041289329528809, 0.6425656080245972, 0.3575117290019989, 0.41241511702537537, 0.29261836409568787, 0.05040629208087921, 0.10932274162769318, 0.0634988397359848, 0.07200898975133896, 1.0029345750808716, 0.9962827563285828, 0.9399808049201965, 0.05897918716073036, 1.00203537940979, 0.9978436827659607, 0.9988245368003845, 1.0011916160583496, 0.9971887469291687, 0.8871833682060242, 0.11336231976747513, 0.9965158104896545, 0.9986389875411987, 0.9992696642875671, 1.0027122497558594, 0.756487250328064, 0.24116204679012299, 0.0025385478511452675, 0.30185505747795105, 0.6977009177207947, 0.9995467066764832, 0.9995083212852478, 1.0035216808319092, 0.1919133961200714, 0.46659356355667114, 0.004286725539714098, 0.004616473335772753, 0.16421455144882202, 0.032974809408187866, 0.13552646338939667, 0.9948373436927795, 0.4145739674568176, 0.07209981977939606, 0.3809273838996887, 0.06729316711425781, 0.0648898333311081, 1.0003670454025269, 0.07099747657775879, 0.31075334548950195, 0.09701748937368393, 0.030108876526355743, 0.1877158284187317, 0.28398990631103516, 0.01932915486395359, 0.9998834133148193, 0.25076964497566223, 0.23456020653247833, 0.5148882865905762, 0.04386673867702484, 0.04649874195456505, 0.5588622093200684, 0.35093390941619873, 1.0046496391296387, 1.0012309551239014, 1.002074956893921, 0.691402792930603, 0.3086089789867401, 1.003068447113037, 0.9980040192604065, 0.017866650596261024, 0.13896283507347107, 0.7662807703018188, 0.07742214947938919, 0.7697829604148865, 0.024217890575528145, 0.20585207641124725, 0.35465994477272034, 0.09147007018327713, 0.07000509649515152, 0.3100225627422333, 0.05756516382098198, 0.023416338488459587, 0.09293359518051147, 1.0007485151290894, 0.1800459325313568, 0.0503518283367157, 0.4928376078605652, 0.24870751798152924, 0.025938821956515312, 0.003051626030355692, 0.019919756799936295, 0.9804946780204773, 0.9989507794380188, 1.000059962272644, 0.7218570113182068, 0.1577821671962738, 0.12035675346851349, 0.12593811750411987, 0.29721397161483765, 0.07892122119665146, 0.49703577160835266, 0.40293341875076294, 0.14121752977371216, 0.10359586775302887, 0.30915188789367676, 0.043074071407318115, 0.3136959969997406, 0.6835763454437256, 0.996527910232544, 0.2596859931945801, 0.32345232367515564, 0.3294592797756195, 0.08779419958591461, 1.00005042552948, 0.9994343519210815, 1.001335620880127, 0.21749411523342133, 0.7823044061660767, 0.626800000667572, 0.14157302677631378, 0.12722177803516388, 0.10433737933635712, 0.9967755675315857, 0.9186966419219971, 0.07603006809949875, 0.282451868057251, 0.06294713169336319, 0.004861263558268547, 0.17163999378681183, 0.21788433194160461, 0.13486890494823456, 0.00024929558276198804, 0.12514637410640717, 0.22737817466259003, 0.021655064076185226, 0.028545312583446503, 0.03445123881101608, 0.13878928124904633, 0.5492511987686157, 0.9985761046409607, 0.43579864501953125, 0.0747411921620369, 0.017424870282411575, 0.01521359197795391, 0.41837379336357117, 0.038564685732126236, 0.9996503591537476, 0.9321464896202087, 0.0676477700471878, 0.9967145323753357, 0.3555448353290558, 0.6444993615150452, 0.8663855791091919, 0.13422875106334686, 1.0010473728179932, 1.0016453266143799, 0.9990600943565369, 0.04932161420583725, 0.5897455811500549, 0.0014091889606788754, 0.28747454285621643, 0.07116404175758362, 0.12660537660121918, 0.18990807235240936, 0.11347593367099762, 0.5617527365684509, 0.004689088091254234, 0.003282361663877964, 0.9996839761734009, 0.25112083554267883, 0.0792226493358612, 0.04334824159741402, 0.6278021335601807, 0.9985082149505615, 0.7296725511550903, 0.055007532238960266, 0.00047014985466375947, 0.023037342354655266, 0.1922912895679474, 0.9980954527854919, 0.9993674755096436, 0.09756273031234741, 0.039025090634822845, 0.8650562167167664, 0.9946809411048889, 0.9956598281860352, 0.3501007854938507, 0.3603399693965912, 0.10974287986755371, 0.06432297825813293, 0.00013127138663548976, 0.003019241848960519, 0.11210576444864273, 1.001387357711792, 0.9998456239700317, 0.9998583197593689, 1.000648856163025, 0.9982233643531799, 0.18094314634799957, 0.09540639072656631, 0.01864262856543064, 0.5055441856384277, 0.17655664682388306, 0.021932503208518028, 0.9992651343345642, 0.9953966736793518, 1.000095009803772, 0.999431848526001, 0.36951854825019836, 0.07948753982782364, 0.0472983717918396, 0.10904902964830399, 0.07653139531612396, 0.11200517416000366, 0.2059450000524521, 0.9989838600158691, 0.23054315149784088, 0.768477201461792, 0.9982026219367981, 1.000579833984375, 0.21472613513469696, 0.7848610281944275, 0.31311193108558655, 0.5594950914382935, 0.1266135722398758, 0.9957880973815918, 0.17495064437389374, 0.025960417464375496, 0.798000693321228, 0.9989386200904846, 0.99388587474823, 0.9984921216964722, 1.002748727798462, 0.5447802543640137, 0.4567590057849884, 0.9935634136199951, 0.9061557054519653, 0.09483025223016739, 0.20836324989795685, 0.1496426910161972, 0.05966765806078911, 0.3239101469516754, 0.03409580513834953, 0.0549321286380291, 0.011365268379449844, 0.15911374986171722, 0.9989182949066162, 0.9943070411682129, 1.0021570920944214, 0.9989978671073914, 0.8447415828704834, 0.15510693192481995, 1.0013781785964966, 0.9995453953742981, 0.9966660141944885, 0.548772394657135, 0.31202566623687744, 0.13910235464572906, 0.14328329265117645, 0.13040389120578766, 0.6745584011077881, 0.05312751233577728, 0.055293820798397064, 0.9399949908256531, 1.000562071800232, 1.0004321336746216, 0.027033748105168343, 0.07577641308307648, 0.37109965085983276, 0.010649658739566803, 0.41205987334251404, 0.10362937301397324, 1.0002076625823975, 0.9955639243125916, 0.930363655090332, 0.04946773126721382, 0.0005290666595101357, 0.019575465470552444, 0.9920877814292908, 0.8643572330474854, 0.11988847702741623, 0.015469481237232685, 0.14062482118606567, 0.14062482118606567, 0.1049438938498497, 0.28124964237213135, 0.3316226899623871, 1.0030039548873901, 0.7847208380699158, 0.21552498638629913, 0.10995255410671234, 0.8055930137634277, 0.08382521569728851, 0.9685612320899963, 0.03095857799053192, 0.8436887860298157, 0.15639109909534454, 0.1332300752401352, 0.789511501789093, 0.07648392766714096, 0.1205177828669548, 0.0036155334673821926, 0.18921291828155518, 0.6495908498764038, 0.0361553356051445, 0.9955300688743591, 0.9984124302864075, 0.9994027614593506, 0.9996968507766724, 1.0014147758483887, 0.022138403728604317, 0.21728433668613434, 0.38783204555511475, 0.1918661743402481, 0.07871432602405548, 0.10331255197525024, 1.000257968902588, 0.01850409246981144, 0.9807168841362, 0.38064852356910706, 0.001122856978327036, 0.006737142335623503, 0.6108342409133911, 0.9881219863891602, 0.9938965439796448, 1.0035061836242676, 1.0012065172195435, 0.9968432188034058, 0.9992960691452026, 1.0003125667572021, 0.9977304339408875, 1.0013214349746704, 1.0096622705459595, 0.9971113204956055, 0.19880777597427368, 0.022089753299951553, 0.21474595367908478, 0.0766150951385498, 0.006990428082644939, 0.13114042580127716, 0.04585720971226692, 0.30394381284713745, 0.5060635805130005, 0.20792612433433533, 0.2854858636856079, 0.2967061400413513, 0.7036174535751343, 0.9941407442092896, 1.002092719078064, 0.0006932939286343753, 0.0800754502415657, 0.12063314765691757, 0.005546351429075003, 0.793128252029419, 1.0017727613449097, 1.0013759136199951, 0.5742092132568359, 0.42583972215652466, 0.9778332114219666, 0.006790508516132832, 0.015844520181417465, 0.9998062252998352, 0.9993115663528442, 0.5984809994697571, 0.000856808852404356, 0.175217404961586, 0.08568088710308075, 0.015422559343278408, 0.12466568499803543, 0.9942551851272583, 0.005617260932922363, 0.8090991973876953, 0.00015930285735521466, 0.18781806528568268, 0.002708148444071412, 0.00015930285735521466, 0.9990439414978027, 0.23310689628124237, 0.7041171193122864, 0.007674301043152809, 0.01438931468874216, 0.025900766253471375, 0.01438931468874216, 1.0003584623336792, 0.25690513849258423, 0.7428436875343323, 1.0001236200332642, 0.7469725608825684, 0.04164775088429451, 0.02978038229048252, 0.1815931499004364, 0.9970227479934692, 0.9569089412689209, 0.04244353994727135, 0.16087454557418823, 0.09798722714185715, 0.14678139984607697, 0.3540569543838501, 0.06009528413414955, 0.18015290796756744, 0.9996636509895325, 1.000576376914978, 0.08069416880607605, 0.14191043376922607, 0.7763335108757019, 0.0501665435731411, 0.2447519302368164, 0.09425229579210281, 0.501665472984314, 0.10945428162813187, 1.0003116130828857, 0.22921858727931976, 0.15683376789093018, 0.6152709126472473, 0.5930759906768799, 0.13376951217651367, 0.036170776933431625, 0.005300889723002911, 0.14374765753746033, 0.05550343543291092, 0.022139010950922966, 0.010601779446005821, 0.9983291625976562, 0.057544149458408356, 0.9437240362167358, 0.9980222582817078, 0.11768776178359985, 0.8761200308799744, 0.11876735836267471, 0.8788784146308899, 1.0008022785186768, 0.9982826709747314, 0.9959675669670105, 0.9474402666091919, 0.051611531525850296, 1.0022518634796143, 0.07355021685361862, 0.9253091812133789, 0.9959840178489685, 0.2794669270515442, 0.7202368974685669, 0.9732071757316589, 0.027117228135466576, 0.9990544319152832, 0.9948123097419739, 0.9638143181800842, 0.03531216084957123, 0.9961149096488953, 0.20894800126552582, 0.001734008314087987, 0.08756741881370544, 0.02774413302540779, 0.03468016907572746, 0.17600184679031372, 0.001734008314087987, 0.11271054297685623, 0.3485356867313385, 0.12765070796012878, 0.8716720342636108, 0.9998813271522522, 1.0034887790679932, 0.004014183767139912, 0.9955176115036011, 1.0014927387237549, 1.0050783157348633, 0.9979812502861023, 0.5659264326095581, 0.0767514631152153, 0.35694053769111633, 0.06625597923994064, 0.9336069822311401, 0.027673795819282532, 0.22624154388904572, 0.00022050832922104746, 0.7458693981170654, 0.9969843626022339, 0.08740753680467606, 0.35464078187942505, 0.10076919943094254, 0.36076489090919495, 0.003897151444107294, 0.09241816401481628, 0.22135189175605774, 0.015761898830533028, 0.025356099009513855, 0.2700082063674927, 0.38308268785476685, 0.08497720211744308, 0.9997544884681702, 0.9423549771308899, 0.05744576454162598, 0.3804953992366791, 0.03662814944982529, 0.13366541266441345, 0.014760597608983517, 0.11863146722316742, 0.15498627722263336, 0.12027153372764587, 0.0008200331940315664, 0.03963493928313255, 1.0006489753723145, 0.16796007752418518, 0.8311870694160461, 0.3362778425216675, 0.0672999694943428, 0.10145372152328491, 0.00018784563872031868, 0.009170282632112503, 0.06299659609794617, 0.35318395495414734, 0.00020492251496762037, 0.06916134804487228, 6.830750498920679e-05, 1.0000805854797363, 0.5446993708610535, 0.03569098934531212, 0.16417855024337769, 0.25532785058021545, 0.06314273178577423, 0.011142835021018982, 0.08790458738803864, 0.3259279131889343, 0.03776182979345322, 0.47357049584388733, 1.0002613067626953, 0.028958741575479507, 0.23775546252727509, 0.07848238945007324, 0.0002098459517583251, 0.6435975432395935, 0.010911989957094193, 1.001694679260254], \"Term\": [\"1st\", \"25\", \"500\", \"75\", \"able\", \"able\", \"able\", \"able\", \"achieve\", \"achieve\", \"activity\", \"activity\", \"activity\", \"activity\", \"ad\", \"addressing\", \"administration\", \"administrative\", \"administrator\", \"advantage\", \"advice\", \"age\", \"agency\", \"agent\", \"aggressive\", \"agile\", \"ago\", \"agree\", \"air\", \"allowance\", \"also\", \"also\", \"also\", \"also\", \"also\", \"also\", \"also\", \"also\", \"also\", \"also\", \"always\", \"always\", \"always\", \"always\", \"america\", \"ample\", \"ample\", \"analysis\", \"analyst\", \"analyst\", \"another\", \"another\", \"another\", \"another\", \"answer\", \"anyone\", \"anyone\", \"application\", \"appraisal\", \"architect\", \"ask\", \"ask\", \"ask\", \"asset\", \"assist\", \"assist\", \"atmosphere\", \"atmosphere\", \"atmosphere\", \"atmosphere\", \"atmosphere\", \"attend\", \"attendance\", \"automation\", \"average\", \"average\", \"away\", \"away\", \"away\", \"awesome\", \"awesome\", \"awesome\", \"awesome\", \"awesome\", \"back\", \"back\", \"back\", \"bad\", \"bad\", \"bad\", \"balance\", \"balanced\", \"banking\", \"based\", \"based\", \"based\", \"based\", \"based\", \"based\", \"based\", \"basically\", \"basically\", \"basis\", \"basis\", \"basis\", \"belief\", \"believe\", \"believe\", \"benefit\", \"benefit\", \"benefit\", \"benefit\", \"blessed\", \"bonus\", \"bonus\", \"bonus\", \"bonus\", \"bought\", \"break\", \"break\", \"bunch\", \"business\", \"business\", \"business\", \"business\", \"business\", \"cab\", \"call\", \"call\", \"can\", \"candidate\", \"capability\", \"capacity\", \"card\", \"care\", \"cared\", \"challenge\", \"challenge\", \"challenge\", \"challenge\", \"challenge\", \"chance\", \"chance\", \"chance\", \"changed\", \"changed\", \"charge\", \"checking\", \"checking\", \"cio\", \"cisco\", \"clear\", \"clear\", \"clear\", \"clear\", \"client\", \"client\", \"client\", \"client\", \"client\", \"client\", \"client\", \"client\", \"clinic\", \"clinical\", \"cloud\", \"co\", \"cobol\", \"code\", \"code\", \"code\", \"code\", \"code\", \"come\", \"come\", \"come\", \"come\", \"come\", \"come\", \"commitment\", \"communicating\", \"compared\", \"compensation\", \"compensation\", \"complaint\", \"completing\", \"component\", \"con\", \"con\", \"conducive\", \"conducted\", \"configuration\", \"configure\", \"configuring\", \"connectivity\", \"considering\", \"consist\", \"consist\", \"content\", \"continually\", \"contract\", \"contracting\", \"contractor\", \"contractor\", \"corporation\", \"could\", \"could\", \"could\", \"could\", \"could\", \"could\", \"country\", \"country\", \"country\", \"country\", \"country\", \"country\", \"created\", \"creates\", \"credit\", \"credit\", \"credit\", \"ct\", \"cultural\", \"culture\", \"culture\", \"culture\", \"culture\", \"culture\", \"currently\", \"currently\", \"currently\", \"customer\", \"customer\", \"customer\", \"customer\", \"customer\", \"cycle\", \"cycle\", \"daily\", \"daily\", \"daily\", \"database\", \"db\", \"db2\", \"dba\", \"deadline\", \"deadline\", \"deadline\", \"decent\", \"decent\", \"decent\", \"decide\", \"decided\", \"decision\", \"defect\", \"degree\", \"delivery\", \"delivery\", \"department\", \"department\", \"department\", \"department\", \"department\", \"department\", \"depend\", \"depends\", \"deployment\", \"deployment\", \"dept\", \"design\", \"design\", \"designed\", \"designing\", \"desk\", \"desk\", \"desktop\", \"developed\", \"developer\", \"developer\", \"development\", \"development\", \"different\", \"different\", \"different\", \"different\", \"different\", \"digital\", \"direction\", \"direction\", \"direction\", \"directory\", \"distributed\", \"do\", \"doctor\", \"document\", \"documentation\", \"doe\", \"doe\", \"doe\", \"domain\", \"done\", \"done\", \"done\", \"done\", \"done\", \"driven\", \"due\", \"due\", \"due\", \"due\", \"due\", \"early\", \"early\", \"employee\", \"employee\", \"employee\", \"employee\", \"employee\", \"employment\", \"end\", \"end\", \"end\", \"end\", \"end\", \"ended\", \"engineer\", \"engineering\", \"enhance\", \"enhance\", \"enhance\", \"enjoy\", \"enjoy\", \"enjoy\", \"enjoy\", \"enjoys\", \"environment\", \"environment\", \"environment\", \"environment\", \"environment\", \"environment\", \"environment\", \"epic\", \"equal\", \"equipment\", \"equipment\", \"equipment\", \"even\", \"even\", \"even\", \"even\", \"every\", \"every\", \"every\", \"every\", \"every\", \"every\", \"everywhere\", \"excellent\", \"excellent\", \"excellent\", \"excellent\", \"excellent\", \"excellent\", \"existing\", \"experiance\", \"experience\", \"experience\", \"experience\", \"experience\", \"experience\", \"experience\", \"experience\", \"explore\", \"expose\", \"exposure\", \"external\", \"external\", \"external\", \"facility\", \"facility\", \"facility\", \"fargo\", \"feature\", \"felt\", \"felt\", \"felt\", \"finance\", \"financial\", \"fired\", \"firm\", \"flexible\", \"floor\", \"focus\", \"focus\", \"focus\", \"force\", \"forget\", \"framework\", \"free\", \"free\", \"free\", \"free\", \"free\", \"freedom\", \"freedom\", \"fresher\", \"fresher\", \"fresher\", \"friday\", \"friendly\", \"friendly\", \"friendly\", \"friendly\", \"fun\", \"fun\", \"fun\", \"function\", \"function\", \"function\", \"fund\", \"gain\", \"gained\", \"get\", \"get\", \"get\", \"glad\", \"go\", \"go\", \"go\", \"go\", \"go\", \"goal\", \"goal\", \"goal\", \"good\", \"good\", \"good\", \"got\", \"got\", \"got\", \"graduate\", \"great\", \"great\", \"great\", \"great\", \"great\", \"great\", \"group\", \"group\", \"group\", \"group\", \"group\", \"group\", \"group\", \"grow\", \"grow\", \"grow\", \"grown\", \"growth\", \"growth\", \"growth\", \"growth\", \"guide\", \"ha\", \"ha\", \"ha\", \"ha\", \"ha\", \"ha\", \"ha\", \"handled\", \"handled\", \"hard\", \"hard\", \"hard\", \"hard\", \"hard\", \"hard\", \"hard\", \"hardest\", \"health\", \"health\", \"health\", \"healthy\", \"help\", \"help\", \"help\", \"help\", \"helpful\", \"helpful\", \"helpful\", \"helping\", \"helping\", \"helping\", \"high\", \"high\", \"high\", \"high\", \"high\", \"high\", \"high\", \"high\", \"hike\", \"hired\", \"home\", \"home\", \"hour\", \"hour\", \"hour\", \"hour\", \"hr\", \"hr\", \"human\", \"i\", \"idea\", \"idea\", \"idea\", \"implementation\", \"implementing\", \"impossible\", \"impossible\", \"improve\", \"improve\", \"improve\", \"improved\", \"improved\", \"incident\", \"include\", \"include\", \"include\", \"include\", \"include\", \"inclusive\", \"incompetence\", \"increase\", \"increase\", \"increment\", \"indeed\", \"india\", \"india\", \"india\", \"india\", \"india\", \"india\", \"industry\", \"industry\", \"industry\", \"industry\", \"information\", \"information\", \"information\", \"information\", \"information\", \"installation\", \"installing\", \"institution\", \"integration\", \"intelligence\", \"interacting\", \"interface\", \"internal\", \"internal\", \"internal\", \"internal\", \"internal\", \"internal\", \"international\", \"investigation\", \"investment\", \"involved\", \"involved\", \"involved\", \"involved\", \"involved\", \"involves\", \"involving\", \"issue\", \"issue\", \"issue\", \"j\", \"java\", \"javascript\", \"job\", \"job\", \"job\", \"job\", \"job\", \"job\", \"joined\", \"joined\", \"joined\", \"joining\", \"joke\", \"journey\", \"jquery\", \"keep\", \"keep\", \"keep\", \"keep\", \"keep\", \"keep\", \"kept\", \"key\", \"key\", \"knew\", \"knew\", \"know\", \"know\", \"know\", \"know\", \"know\", \"knowledge\", \"knowledge\", \"knowledge\", \"laid\", \"laid\", \"last\", \"last\", \"lateral\", \"latest\", \"latest\", \"layoff\", \"le\", \"le\", \"leader\", \"leader\", \"leader\", \"leader\", \"leadership\", \"leadership\", \"leadership\", \"leadership\", \"leadership\", \"learn\", \"learn\", \"learn\", \"leaving\", \"led\", \"left\", \"legal\", \"level\", \"level\", \"level\", \"level\", \"level\", \"level\", \"level\", \"life\", \"life\", \"like\", \"like\", \"like\", \"like\", \"like\", \"like\", \"like\", \"like\", \"like\", \"liked\", \"liked\", \"liked\", \"linux\", \"loan\", \"long\", \"long\", \"long\", \"long\", \"long\", \"lot\", \"lot\", \"lot\", \"lot\", \"lot\", \"lot\", \"loved\", \"loved\", \"loved\", \"low\", \"ltd\", \"made\", \"made\", \"made\", \"made\", \"made\", \"mail\", \"maintaining\", \"maintenance\", \"maintenance\", \"make\", \"make\", \"make\", \"make\", \"make\", \"making\", \"making\", \"making\", \"making\", \"management\", \"management\", \"management\", \"management\", \"management\", \"management\", \"management\", \"management\", \"management\", \"management\", \"manager\", \"manager\", \"manager\", \"manager\", \"manager\", \"manager\", \"manager\", \"managing\", \"many\", \"many\", \"many\", \"many\", \"many\", \"many\", \"many\", \"many\", \"many\", \"mapping\", \"mark\", \"marketing\", \"meeting\", \"meeting\", \"member\", \"member\", \"member\", \"member\", \"member\", \"member\", \"merger\", \"messaging\", \"methodology\", \"methodology\", \"migration\", \"military\", \"minute\", \"mobile\", \"mobility\", \"model\", \"model\", \"moderate\", \"modern\", \"module\", \"monday\", \"monitor\", \"monitor\", \"monitor\", \"month\", \"month\", \"motivates\", \"moved\", \"movement\", \"much\", \"much\", \"much\", \"much\", \"much\", \"much\", \"much\", \"multinational\", \"multiple\", \"multiple\", \"multiple\", \"multiple\", \"multiple\", \"near\", \"need\", \"need\", \"need\", \"need\", \"need\", \"need\", \"need\", \"net\", \"network\", \"network\", \"network\", \"never\", \"never\", \"never\", \"never\", \"nobody\", \"not\", \"notch\", \"nt\", \"nt\", \"objective\", \"offshore\", \"often\", \"often\", \"often\", \"often\", \"ok\", \"ok\", \"ok\", \"one\", \"one\", \"one\", \"one\", \"one\", \"one\", \"one\", \"onshore\", \"open\", \"open\", \"open\", \"open\", \"open\", \"open\", \"operation\", \"operation\", \"operative\", \"opinion\", \"opportunity\", \"opportunity\", \"opportunity\", \"option\", \"option\", \"option\", \"option\", \"organization\", \"organization\", \"organization\", \"organization\", \"organization\", \"organized\", \"organized\", \"outsourced\", \"overall\", \"overall\", \"overall\", \"overall\", \"part\", \"pas\", \"password\", \"patient\", \"patient\", \"pay\", \"pay\", \"pay\", \"pay\", \"payment\", \"pc\", \"pc\", \"people\", \"people\", \"people\", \"people\", \"people\", \"people\", \"people\", \"people\", \"personal\", \"personal\", \"personal\", \"personal\", \"personal\", \"personal\", \"pharmacy\", \"place\", \"place\", \"place\", \"place\", \"place\", \"place\", \"politics\", \"poor\", \"poor\", \"poorly\", \"position\", \"position\", \"practice\", \"practice\", \"pride\", \"primarily\", \"pro\", \"problem\", \"problem\", \"problem\", \"problem\", \"problem\", \"process\", \"process\", \"process\", \"process\", \"process\", \"process\", \"product\", \"production\", \"production\", \"production\", \"production\", \"profession\", \"professional\", \"professional\", \"professional\", \"professional\", \"professional\", \"professionalism\", \"programmer\", \"programming\", \"programming\", \"programming\", \"progression\", \"progressive\", \"project\", \"project\", \"project\", \"project\", \"project\", \"project\", \"project\", \"promise\", \"promotion\", \"provider\", \"public\", \"purpose\", \"quality\", \"quality\", \"quality\", \"quality\", \"quality\", \"quality\", \"question\", \"quit\", \"range\", \"rating\", \"really\", \"really\", \"really\", \"really\", \"really\", \"really\", \"really\", \"receive\", \"recommend\", \"recommend\", \"regard\", \"relocation\", \"report\", \"report\", \"reporting\", \"reporting\", \"reporting\", \"reputation\", \"requirement\", \"requirement\", \"requirement\", \"resolve\", \"resolved\", \"respect\", \"respected\", \"responsible\", \"responsible\", \"revenue\", \"risk\", \"risk\", \"role\", \"role\", \"role\", \"role\", \"role\", \"role\", \"role\", \"role\", \"router\", \"s\", \"sa\", \"safe\", \"salary\", \"salary\", \"satisfying\", \"science\", \"script\", \"security\", \"security\", \"security\", \"see\", \"see\", \"see\", \"see\", \"seemed\", \"seemed\", \"send\", \"server\", \"service\", \"service\", \"service\", \"service\", \"service\", \"service\", \"setup\", \"size\", \"skill\", \"skill\", \"skill\", \"skill\", \"sla\", \"slow\", \"slow\", \"slow\", \"small\", \"small\", \"small\", \"small\", \"small\", \"soft\", \"software\", \"software\", \"solution\", \"solution\", \"solution\", \"solve\", \"solve\", \"solving\", \"solving\", \"someone\", \"someone\", \"someone\", \"something\", \"something\", \"something\", \"something\", \"something\", \"span\", \"sport\", \"spring\", \"sql\", \"stability\", \"staff\", \"staff\", \"staff\", \"staff\", \"staff\", \"staff\", \"stage\", \"stand\", \"stand\", \"started\", \"started\", \"started\", \"started\", \"steady\", \"stepping\", \"stick\", \"stop\", \"storage\", \"story\", \"student\", \"succeed\", \"suck\", \"suffer\", \"superb\", \"support\", \"support\", \"support\", \"support\", \"support\", \"support\", \"support\", \"support\", \"supportive\", \"supportive\", \"supportive\", \"sure\", \"sure\", \"surrounded\", \"survive\", \"system\", \"system\", \"system\", \"system\", \"system\", \"table\", \"tackle\", \"take\", \"take\", \"task\", \"task\", \"task\", \"tc\", \"techm\", \"technical\", \"technical\", \"technical\", \"technical\", \"technical\", \"technical\", \"technically\", \"technically\", \"technology\", \"technology\", \"technology\", \"technology\", \"technology\", \"tell\", \"term\", \"term\", \"term\", \"term\", \"term\", \"term\", \"test\", \"testing\", \"testing\", \"thank\", \"thing\", \"thing\", \"thing\", \"thing\", \"three\", \"ticket\", \"ticket\", \"time\", \"time\", \"time\", \"time\", \"time\", \"time\", \"timing\", \"told\", \"took\", \"took\", \"took\", \"top\", \"top\", \"top\", \"top\", \"top\", \"toxic\", \"trained\", \"trained\", \"trained\", \"training\", \"training\", \"training\", \"training\", \"training\", \"training\", \"training\", \"training\", \"transaction\", \"transfer\", \"transfer\", \"transparency\", \"transport\", \"transport\", \"transportation\", \"transportation\", \"treat\", \"tried\", \"troubleshoot\", \"truly\", \"truly\", \"trust\", \"trying\", \"trying\", \"twice\", \"two\", \"two\", \"typical\", \"typical\", \"unix\", \"upgrading\", \"upper\", \"upper\", \"usa\", \"used\", \"used\", \"used\", \"used\", \"used\", \"used\", \"used\", \"used\", \"used\", \"user\", \"user\", \"using\", \"utilize\", \"value\", \"value\", \"valued\", \"variable\", \"varied\", \"various\", \"various\", \"various\", \"vision\", \"vision\", \"wa\", \"wa\", \"wa\", \"wa\", \"wage\", \"want\", \"want\", \"want\", \"want\", \"want\", \"want\", \"way\", \"way\", \"way\", \"way\", \"way\", \"way\", \"web\", \"week\", \"week\", \"well\", \"well\", \"well\", \"well\", \"well\", \"well\", \"well\", \"well\", \"well\", \"went\", \"wish\", \"wish\", \"work\", \"work\", \"work\", \"work\", \"work\", \"work\", \"work\", \"work\", \"work\", \"work\", \"worker\", \"workplace\", \"workplace\", \"workplace\", \"workplace\", \"would\", \"would\", \"would\", \"would\", \"would\", \"would\", \"wrong\", \"year\", \"year\", \"year\", \"year\", \"year\", \"year\", \"yes\"]}, \"R\": 30, \"lambda.step\": 0.01, \"plot.opts\": {\"xlab\": \"PC1\", \"ylab\": \"PC2\"}, \"topic.order\": [1, 2, 3, 4, 5, 6, 7, 8, 9, 10]};\n",
       "\n",
       "function LDAvis_load_lib(url, callback){\n",
       "  var s = document.createElement('script');\n",
       "  s.src = url;\n",
       "  s.async = true;\n",
       "  s.onreadystatechange = s.onload = callback;\n",
       "  s.onerror = function(){console.warn(\"failed to load library \" + url);};\n",
       "  document.getElementsByTagName(\"head\")[0].appendChild(s);\n",
       "}\n",
       "\n",
       "if(typeof(LDAvis) !== \"undefined\"){\n",
       "   // already loaded: just create the visualization\n",
       "   !function(LDAvis){\n",
       "       new LDAvis(\"#\" + \"ldavis_el32371402552575787369643062163\", ldavis_el32371402552575787369643062163_data);\n",
       "   }(LDAvis);\n",
       "}else if(typeof define === \"function\" && define.amd){\n",
       "   // require.js is available: use it to load d3/LDAvis\n",
       "   require.config({paths: {d3: \"https://cdnjs.cloudflare.com/ajax/libs/d3/3.5.5/d3.min\"}});\n",
       "   require([\"d3\"], function(d3){\n",
       "      window.d3 = d3;\n",
       "      LDAvis_load_lib(\"https://cdn.rawgit.com/bmabey/pyLDAvis/files/ldavis.v1.0.0.js\", function(){\n",
       "        new LDAvis(\"#\" + \"ldavis_el32371402552575787369643062163\", ldavis_el32371402552575787369643062163_data);\n",
       "      });\n",
       "    });\n",
       "}else{\n",
       "    // require.js not available: dynamically load d3 & LDAvis\n",
       "    LDAvis_load_lib(\"https://cdnjs.cloudflare.com/ajax/libs/d3/3.5.5/d3.min.js\", function(){\n",
       "         LDAvis_load_lib(\"https://cdn.rawgit.com/bmabey/pyLDAvis/files/ldavis.v1.0.0.js\", function(){\n",
       "                 new LDAvis(\"#\" + \"ldavis_el32371402552575787369643062163\", ldavis_el32371402552575787369643062163_data);\n",
       "            })\n",
       "         });\n",
       "}\n",
       "</script>"
      ],
      "text/plain": [
       "<IPython.core.display.HTML object>"
      ]
     },
     "execution_count": 8,
     "metadata": {},
     "output_type": "execute_result"
    }
   ],
   "source": [
    "lda_display = pyLDAvis.gensim.prepare(optimal_model, corpus, id2word, sort_topics=False)\n",
    "pyLDAvis.display(lda_display)"
   ]
  },
  {
   "cell_type": "code",
   "execution_count": 38,
   "metadata": {},
   "outputs": [
    {
     "name": "stdout",
     "output_type": "stream",
     "text": [
      "(45251, 16)\n"
     ]
    }
   ],
   "source": [
    "with open(\"../data/all_reviews.pkl\",\"rb\") as f:\n",
    "    reviews_ = pickle.load(f)\n",
    "    \n",
    "job_filter = pd.read_csv(\"../data/filter_job_titles.csv\")\n",
    "\n",
    "job_filters = job_filter.clean_job_title.tolist()\n",
    "idx = (reviews_.language == \"en\")\n",
    "reviews_ = reviews_.loc[idx,:]\n",
    "\n",
    "idx = (reviews_.clean_job_title.isin(job_filters))\n",
    "reviews_ = reviews_.loc[idx,:].reset_index()\n",
    "\n",
    "print(reviews_.shape)\n",
    "#display(reviews_.head())\n"
   ]
  },
  {
   "cell_type": "code",
   "execution_count": 39,
   "metadata": {},
   "outputs": [
    {
     "data": {
      "text/html": [
       "<div>\n",
       "<style scoped>\n",
       "    .dataframe tbody tr th:only-of-type {\n",
       "        vertical-align: middle;\n",
       "    }\n",
       "\n",
       "    .dataframe tbody tr th {\n",
       "        vertical-align: top;\n",
       "    }\n",
       "\n",
       "    .dataframe thead th {\n",
       "        text-align: right;\n",
       "    }\n",
       "</style>\n",
       "<table border=\"1\" class=\"dataframe\">\n",
       "  <thead>\n",
       "    <tr style=\"text-align: right;\">\n",
       "      <th></th>\n",
       "      <th>Document_No</th>\n",
       "      <th>Dominant_Topic</th>\n",
       "      <th>Topic_Perc_Contrib</th>\n",
       "      <th>Keywords</th>\n",
       "      <th>Text</th>\n",
       "      <th>Review</th>\n",
       "    </tr>\n",
       "  </thead>\n",
       "  <tbody>\n",
       "    <tr>\n",
       "      <th>0</th>\n",
       "      <td>0</td>\n",
       "      <td>1.0</td>\n",
       "      <td>0.6490</td>\n",
       "      <td>company, great, management, employee, work, people, place, benefit, job, opportunity</td>\n",
       "      <td>great company people care make difference management care employee well providing continued lear...</td>\n",
       "      <td>Fluor is a great company with people that care to make a difference.  Management cares about the...</td>\n",
       "    </tr>\n",
       "    <tr>\n",
       "      <th>1</th>\n",
       "      <td>1</td>\n",
       "      <td>1.0</td>\n",
       "      <td>0.4301</td>\n",
       "      <td>company, great, management, employee, work, people, place, benefit, job, opportunity</td>\n",
       "      <td>powerhouse epc went heavy worksharing send much work overseas possible keep core person heavy lo...</td>\n",
       "      <td>Fluor was the first powerhouse EPC that went heavy on the worksharing.  They send as much work o...</td>\n",
       "    </tr>\n",
       "    <tr>\n",
       "      <th>2</th>\n",
       "      <td>2</td>\n",
       "      <td>5.0</td>\n",
       "      <td>0.5832</td>\n",
       "      <td>work, time, get, job, people, manager, would, like, go, hour</td>\n",
       "      <td>much could add enjoyed working people working loved hour great flexibility needed</td>\n",
       "      <td>There is not much that I could add here.  I enjoyed working at Fluor and the people that I was w...</td>\n",
       "    </tr>\n",
       "    <tr>\n",
       "      <th>3</th>\n",
       "      <td>3</td>\n",
       "      <td>3.0</td>\n",
       "      <td>0.4683</td>\n",
       "      <td>worked, year, working, skill, experience, project, time, knowledge, learned, different</td>\n",
       "      <td>place pretty boring time interesting facility uranium enrichment almost half century</td>\n",
       "      <td>The place can be pretty boring most of the time but it has some very interesting facilities wher...</td>\n",
       "    </tr>\n",
       "    <tr>\n",
       "      <th>4</th>\n",
       "      <td>4</td>\n",
       "      <td>5.0</td>\n",
       "      <td>0.6118</td>\n",
       "      <td>work, time, get, job, people, manager, would, like, go, hour</td>\n",
       "      <td>everyone hurry get thing done hurry part make sure get need get done typically level removed cus...</td>\n",
       "      <td>Everyone is in a hurry to get things done, but they are not in a hurry to do their part to make ...</td>\n",
       "    </tr>\n",
       "    <tr>\n",
       "      <th>5</th>\n",
       "      <td>5</td>\n",
       "      <td>1.0</td>\n",
       "      <td>0.4514</td>\n",
       "      <td>company, great, management, employee, work, people, place, benefit, job, opportunity</td>\n",
       "      <td>hire term would rate hired nice intelligent people reasonably pleasant place spend 40 hr per wor...</td>\n",
       "      <td>Was a re-hire.  \\rFirst term would rate them a 4.  They hired nice, intelligent people.  Reasona...</td>\n",
       "    </tr>\n",
       "    <tr>\n",
       "      <th>6</th>\n",
       "      <td>6</td>\n",
       "      <td>5.0</td>\n",
       "      <td>0.5026</td>\n",
       "      <td>work, time, get, job, people, manager, would, like, go, hour</td>\n",
       "      <td>hated working company pay great management utterly horrible people would punished taking away sc...</td>\n",
       "      <td>I hated working for this company. The pay was great, but the management was utterly horrible. Pe...</td>\n",
       "    </tr>\n",
       "    <tr>\n",
       "      <th>7</th>\n",
       "      <td>7</td>\n",
       "      <td>0.0</td>\n",
       "      <td>0.3772</td>\n",
       "      <td>work, good, place, company, great, learn, lot, environment, working, opportunity</td>\n",
       "      <td>interesting day work enjoyable environment user coddled understanding technology machine often b...</td>\n",
       "      <td>Interesting days at work in a enjoyable environment. User are coddled so they have no understand...</td>\n",
       "    </tr>\n",
       "    <tr>\n",
       "      <th>8</th>\n",
       "      <td>8</td>\n",
       "      <td>1.0</td>\n",
       "      <td>0.4366</td>\n",
       "      <td>company, great, management, employee, work, people, place, benefit, job, opportunity</td>\n",
       "      <td>challenging place work manager five office 200 user sole support entire infrastructure decent pa...</td>\n",
       "      <td>Challenging place to work as IT Manager with five offices and over 200 users and me being the so...</td>\n",
       "    </tr>\n",
       "    <tr>\n",
       "      <th>9</th>\n",
       "      <td>9</td>\n",
       "      <td>3.0</td>\n",
       "      <td>0.5449</td>\n",
       "      <td>worked, year, working, skill, experience, project, time, knowledge, learned, different</td>\n",
       "      <td>total thirty seven 37 year successful engineering experience electrical engineering construction...</td>\n",
       "      <td>Total of thirty-seven (37) years of successful engineering experiences in electrical engineering...</td>\n",
       "    </tr>\n",
       "  </tbody>\n",
       "</table>\n",
       "</div>"
      ],
      "text/plain": [
       "   Document_No  Dominant_Topic  Topic_Perc_Contrib  \\\n",
       "0            0             1.0              0.6490   \n",
       "1            1             1.0              0.4301   \n",
       "2            2             5.0              0.5832   \n",
       "3            3             3.0              0.4683   \n",
       "4            4             5.0              0.6118   \n",
       "5            5             1.0              0.4514   \n",
       "6            6             5.0              0.5026   \n",
       "7            7             0.0              0.3772   \n",
       "8            8             1.0              0.4366   \n",
       "9            9             3.0              0.5449   \n",
       "\n",
       "                                                                                 Keywords  \\\n",
       "0    company, great, management, employee, work, people, place, benefit, job, opportunity   \n",
       "1    company, great, management, employee, work, people, place, benefit, job, opportunity   \n",
       "2                            work, time, get, job, people, manager, would, like, go, hour   \n",
       "3  worked, year, working, skill, experience, project, time, knowledge, learned, different   \n",
       "4                            work, time, get, job, people, manager, would, like, go, hour   \n",
       "5    company, great, management, employee, work, people, place, benefit, job, opportunity   \n",
       "6                            work, time, get, job, people, manager, would, like, go, hour   \n",
       "7        work, good, place, company, great, learn, lot, environment, working, opportunity   \n",
       "8    company, great, management, employee, work, people, place, benefit, job, opportunity   \n",
       "9  worked, year, working, skill, experience, project, time, knowledge, learned, different   \n",
       "\n",
       "                                                                                                  Text  \\\n",
       "0  great company people care make difference management care employee well providing continued lear...   \n",
       "1  powerhouse epc went heavy worksharing send much work overseas possible keep core person heavy lo...   \n",
       "2                    much could add enjoyed working people working loved hour great flexibility needed   \n",
       "3                 place pretty boring time interesting facility uranium enrichment almost half century   \n",
       "4  everyone hurry get thing done hurry part make sure get need get done typically level removed cus...   \n",
       "5  hire term would rate hired nice intelligent people reasonably pleasant place spend 40 hr per wor...   \n",
       "6  hated working company pay great management utterly horrible people would punished taking away sc...   \n",
       "7  interesting day work enjoyable environment user coddled understanding technology machine often b...   \n",
       "8  challenging place work manager five office 200 user sole support entire infrastructure decent pa...   \n",
       "9  total thirty seven 37 year successful engineering experience electrical engineering construction...   \n",
       "\n",
       "                                                                                                Review  \n",
       "0  Fluor is a great company with people that care to make a difference.  Management cares about the...  \n",
       "1  Fluor was the first powerhouse EPC that went heavy on the worksharing.  They send as much work o...  \n",
       "2  There is not much that I could add here.  I enjoyed working at Fluor and the people that I was w...  \n",
       "3  The place can be pretty boring most of the time but it has some very interesting facilities wher...  \n",
       "4  Everyone is in a hurry to get things done, but they are not in a hurry to do their part to make ...  \n",
       "5  Was a re-hire.  \\rFirst term would rate them a 4.  They hired nice, intelligent people.  Reasona...  \n",
       "6  I hated working for this company. The pay was great, but the management was utterly horrible. Pe...  \n",
       "7  Interesting days at work in a enjoyable environment. User are coddled so they have no understand...  \n",
       "8  Challenging place to work as IT Manager with five offices and over 200 users and me being the so...  \n",
       "9  Total of thirty-seven (37) years of successful engineering experiences in electrical engineering...  "
      ]
     },
     "execution_count": 39,
     "metadata": {},
     "output_type": "execute_result"
    }
   ],
   "source": [
    "def format_topics_sentences(ldamodel=None, corpus=corpus, texts=reviews):\n",
    "    # Init output\n",
    "    sent_topics_df = pd.DataFrame()\n",
    "\n",
    "    # Get main topic in each document\n",
    "    for i, row_list in enumerate(ldamodel[corpus]):\n",
    "        row = row_list[0] if ldamodel.per_word_topics else row_list            \n",
    "        # print(row)\n",
    "        row = sorted(row, key=lambda x: (x[1]), reverse=True)\n",
    "        # Get the Dominant topic, Perc Contribution and Keywords for each document\n",
    "        for j, (topic_num, prop_topic) in enumerate(row):\n",
    "            if j == 0:  # => dominant topic\n",
    "                wp = ldamodel.show_topic(topic_num)\n",
    "                topic_keywords = \", \".join([word for word, prop in wp])\n",
    "                sent_topics_df = sent_topics_df.append(pd.Series([int(topic_num), round(prop_topic,4), topic_keywords]), ignore_index=True)\n",
    "            else:\n",
    "                break\n",
    "    sent_topics_df.columns = ['Dominant_Topic', 'Perc_Contribution', 'Topic_Keywords']\n",
    "\n",
    "    # Add original text to the end of the output\n",
    "    contents = pd.Series(texts)\n",
    "    sent_topics_df = pd.concat([sent_topics_df, contents], axis=1)\n",
    "    return(sent_topics_df)\n",
    "\n",
    "\n",
    "df_topic_sents_keywords = format_topics_sentences(ldamodel=final_lda_model, corpus=corpus, texts=reviews)\n",
    "\n",
    "# Format\n",
    "df_dominant_topic = df_topic_sents_keywords.reset_index()\n",
    "\n",
    "df_dominant_topic.columns = ['Document_No', 'Dominant_Topic', 'Topic_Perc_Contrib', 'Keywords', 'Text']\n",
    "\n",
    "df_dominant_topic[\"Review\"] = reviews_[\"review\"] \n",
    "df_dominant_topic.head(10)"
   ]
  },
  {
   "cell_type": "code",
   "execution_count": 40,
   "metadata": {},
   "outputs": [],
   "source": [
    "with open(\"tech_review_with_topics.pkl\",\"wb\") as f:\n",
    "    pickle.dump(df_dominant_topic, f)"
   ]
  },
  {
   "cell_type": "code",
   "execution_count": 41,
   "metadata": {},
   "outputs": [
    {
     "data": {
      "text/plain": [
       "Dominant_Topic\n",
       "0.0    19713\n",
       "1.0     9053\n",
       "2.0     1120\n",
       "3.0     1433\n",
       "4.0      551\n",
       "5.0     5537\n",
       "6.0      354\n",
       "7.0      984\n",
       "8.0     2091\n",
       "9.0     4415\n",
       "dtype: int64"
      ]
     },
     "execution_count": 41,
     "metadata": {},
     "output_type": "execute_result"
    }
   ],
   "source": [
    "df_dominant_topic.groupby('Dominant_Topic').size()"
   ]
  },
  {
   "cell_type": "markdown",
   "metadata": {},
   "source": [
    "### The most representative sentence for each topic¶"
   ]
  },
  {
   "cell_type": "code",
   "execution_count": 42,
   "metadata": {},
   "outputs": [
    {
     "data": {
      "text/html": [
       "<div>\n",
       "<style scoped>\n",
       "    .dataframe tbody tr th:only-of-type {\n",
       "        vertical-align: middle;\n",
       "    }\n",
       "\n",
       "    .dataframe tbody tr th {\n",
       "        vertical-align: top;\n",
       "    }\n",
       "\n",
       "    .dataframe thead th {\n",
       "        text-align: right;\n",
       "    }\n",
       "</style>\n",
       "<table border=\"1\" class=\"dataframe\">\n",
       "  <thead>\n",
       "    <tr style=\"text-align: right;\">\n",
       "      <th></th>\n",
       "      <th>Topic_Num</th>\n",
       "      <th>Topic_Perc_Contrib</th>\n",
       "      <th>Keywords</th>\n",
       "      <th>Representative Text</th>\n",
       "    </tr>\n",
       "  </thead>\n",
       "  <tbody>\n",
       "    <tr>\n",
       "      <th>0</th>\n",
       "      <td>0.0</td>\n",
       "      <td>0.9681</td>\n",
       "      <td>work, good, place, company, great, learn, lot, environment, working, opportunity</td>\n",
       "      <td>good company work learn lot good work culture great work get kind support get chance work latest...</td>\n",
       "    </tr>\n",
       "    <tr>\n",
       "      <th>1</th>\n",
       "      <td>1.0</td>\n",
       "      <td>0.9707</td>\n",
       "      <td>company, great, management, employee, work, people, place, benefit, job, opportunity</td>\n",
       "      <td>ppers talented competent hr staff welcoming environment earth environment downer large company f...</td>\n",
       "    </tr>\n",
       "    <tr>\n",
       "      <th>2</th>\n",
       "      <td>2.0</td>\n",
       "      <td>0.9922</td>\n",
       "      <td>application, development, developer, using, software, requirement, project, testing, involved, web</td>\n",
       "      <td>involved complete sdlc software development life cycle plan analyze design build test rollout im...</td>\n",
       "    </tr>\n",
       "    <tr>\n",
       "      <th>3</th>\n",
       "      <td>3.0</td>\n",
       "      <td>0.9185</td>\n",
       "      <td>worked, year, working, skill, experience, project, time, knowledge, learned, different</td>\n",
       "      <td>completed year mahindra successfully came project challeging take prority complete task period l...</td>\n",
       "    </tr>\n",
       "    <tr>\n",
       "      <th>4</th>\n",
       "      <td>4.0</td>\n",
       "      <td>0.9209</td>\n",
       "      <td>system, support, software, network, engineer, user, computer, issue, server, hardware</td>\n",
       "      <td>managing department hardware wing site preparation troubleshooting network problem preventive ma...</td>\n",
       "    </tr>\n",
       "    <tr>\n",
       "      <th>5</th>\n",
       "      <td>5.0</td>\n",
       "      <td>0.9613</td>\n",
       "      <td>work, time, get, job, people, manager, would, like, go, hour</td>\n",
       "      <td>came every environment nobody wanted manager worked complete waste time clue harassed people cen...</td>\n",
       "    </tr>\n",
       "    <tr>\n",
       "      <th>6</th>\n",
       "      <td>6.0</td>\n",
       "      <td>0.9187</td>\n",
       "      <td>service, technology, product, world, business, customer, solution, financial, based, information</td>\n",
       "      <td>home retailer home improvement construction product service operates many box format store acros...</td>\n",
       "    </tr>\n",
       "    <tr>\n",
       "      <th>7</th>\n",
       "      <td>7.0</td>\n",
       "      <td>0.8823</td>\n",
       "      <td>process, management, client, project, quality, customer, goal, need, system, daily</td>\n",
       "      <td>highly technical matured organization term established process</td>\n",
       "    </tr>\n",
       "    <tr>\n",
       "      <th>8</th>\n",
       "      <td>8.0</td>\n",
       "      <td>0.9473</td>\n",
       "      <td>part, job, worker, co, enjoyable, hardest, work, issue, management, learned</td>\n",
       "      <td>high pace call center environment work solve end user issue hardest part job trying solve issue ...</td>\n",
       "    </tr>\n",
       "    <tr>\n",
       "      <th>9</th>\n",
       "      <td>9.0</td>\n",
       "      <td>0.9567</td>\n",
       "      <td>work, good, life, balance, employee, benefit, salary, job, company, management</td>\n",
       "      <td>good work culture healthy work environment work life balance priority descent salary benefit goo...</td>\n",
       "    </tr>\n",
       "  </tbody>\n",
       "</table>\n",
       "</div>"
      ],
      "text/plain": [
       "   Topic_Num  Topic_Perc_Contrib  \\\n",
       "0        0.0              0.9681   \n",
       "1        1.0              0.9707   \n",
       "2        2.0              0.9922   \n",
       "3        3.0              0.9185   \n",
       "4        4.0              0.9209   \n",
       "5        5.0              0.9613   \n",
       "6        6.0              0.9187   \n",
       "7        7.0              0.8823   \n",
       "8        8.0              0.9473   \n",
       "9        9.0              0.9567   \n",
       "\n",
       "                                                                                             Keywords  \\\n",
       "0                    work, good, place, company, great, learn, lot, environment, working, opportunity   \n",
       "1                company, great, management, employee, work, people, place, benefit, job, opportunity   \n",
       "2  application, development, developer, using, software, requirement, project, testing, involved, web   \n",
       "3              worked, year, working, skill, experience, project, time, knowledge, learned, different   \n",
       "4               system, support, software, network, engineer, user, computer, issue, server, hardware   \n",
       "5                                        work, time, get, job, people, manager, would, like, go, hour   \n",
       "6    service, technology, product, world, business, customer, solution, financial, based, information   \n",
       "7                  process, management, client, project, quality, customer, goal, need, system, daily   \n",
       "8                         part, job, worker, co, enjoyable, hardest, work, issue, management, learned   \n",
       "9                      work, good, life, balance, employee, benefit, salary, job, company, management   \n",
       "\n",
       "                                                                                   Representative Text  \n",
       "0  good company work learn lot good work culture great work get kind support get chance work latest...  \n",
       "1  ppers talented competent hr staff welcoming environment earth environment downer large company f...  \n",
       "2  involved complete sdlc software development life cycle plan analyze design build test rollout im...  \n",
       "3  completed year mahindra successfully came project challeging take prority complete task period l...  \n",
       "4  managing department hardware wing site preparation troubleshooting network problem preventive ma...  \n",
       "5  came every environment nobody wanted manager worked complete waste time clue harassed people cen...  \n",
       "6  home retailer home improvement construction product service operates many box format store acros...  \n",
       "7                                       highly technical matured organization term established process  \n",
       "8  high pace call center environment work solve end user issue hardest part job trying solve issue ...  \n",
       "9  good work culture healthy work environment work life balance priority descent salary benefit goo...  "
      ]
     },
     "execution_count": 42,
     "metadata": {},
     "output_type": "execute_result"
    }
   ],
   "source": [
    "# Display setting to show more characters in column\n",
    "pd.options.display.max_colwidth = 100\n",
    "\n",
    "sent_topics_sorteddf = pd.DataFrame()\n",
    "sent_topics_outdf_grpd = df_topic_sents_keywords.groupby('Dominant_Topic')\n",
    "\n",
    "for i, grp in sent_topics_outdf_grpd:\n",
    "    sent_topics_sorteddf = pd.concat([sent_topics_sorteddf, \n",
    "                                             grp.sort_values(['Perc_Contribution'], ascending=False).head(1)], \n",
    "                                            axis=0)\n",
    "\n",
    "# Reset Index    \n",
    "sent_topics_sorteddf.reset_index(drop=True, inplace=True)\n",
    "\n",
    "# Format\n",
    "sent_topics_sorteddf.columns = ['Topic_Num', \"Topic_Perc_Contrib\", \"Keywords\", \"Representative Text\"]\n",
    "\n",
    "# Show\n",
    "sent_topics_sorteddf.head(10)"
   ]
  },
  {
   "cell_type": "markdown",
   "metadata": {},
   "source": [
    "### Sklearn Topic Modeling"
   ]
  },
  {
   "cell_type": "code",
   "execution_count": 5,
   "metadata": {},
   "outputs": [],
   "source": [
    "from sklearn.decomposition import NMF, LatentDirichletAllocation, TruncatedSVD\n",
    "from sklearn.feature_extraction.text import CountVectorizer\n",
    "from sklearn.model_selection import GridSearchCV \n"
   ]
  },
  {
   "cell_type": "code",
   "execution_count": 6,
   "metadata": {},
   "outputs": [],
   "source": [
    "vectorizer = CountVectorizer(min_df=3, token_pattern='[a-zA-Z0-9]{3,}')\n",
    "data_vectorized = vectorizer.fit_transform(reviews)"
   ]
  },
  {
   "cell_type": "code",
   "execution_count": 7,
   "metadata": {},
   "outputs": [
    {
     "data": {
      "text/plain": [
       "(45251, 8739)"
      ]
     },
     "execution_count": 7,
     "metadata": {},
     "output_type": "execute_result"
    }
   ],
   "source": [
    "data_vectorized.get_shape()"
   ]
  },
  {
   "cell_type": "code",
   "execution_count": 20,
   "metadata": {},
   "outputs": [
    {
     "name": "stdout",
     "output_type": "stream",
     "text": [
      "Fitting 3 folds for each of 27 candidates, totalling 81 fits\n"
     ]
    },
    {
     "name": "stderr",
     "output_type": "stream",
     "text": [
      "[Parallel(n_jobs=-1)]: Using backend LokyBackend with 16 concurrent workers.\n",
      "[Parallel(n_jobs=-1)]: Done  18 tasks      | elapsed:  4.7min\n",
      "[Parallel(n_jobs=-1)]: Done  81 out of  81 | elapsed: 15.2min finished\n"
     ]
    },
    {
     "name": "stdout",
     "output_type": "stream",
     "text": [
      "iteration: 1 of max_iter: 10\n",
      "iteration: 2 of max_iter: 10\n",
      "iteration: 3 of max_iter: 10\n",
      "iteration: 4 of max_iter: 10\n",
      "iteration: 5 of max_iter: 10\n",
      "iteration: 6 of max_iter: 10\n",
      "iteration: 7 of max_iter: 10\n",
      "iteration: 8 of max_iter: 10\n",
      "iteration: 9 of max_iter: 10\n",
      "iteration: 10 of max_iter: 10\n"
     ]
    },
    {
     "data": {
      "text/plain": [
       "GridSearchCV(cv=3,\n",
       "             estimator=LatentDirichletAllocation(learning_method='online',\n",
       "                                                 random_state=100, verbose=1),\n",
       "             n_jobs=-1,\n",
       "             param_grid={'learning_decay': [0.5, 0.7, 0.9],\n",
       "                         'n_components': [7, 8, 9, 10, 11, 12, 13, 14, 15]},\n",
       "             return_train_score='warn', verbose=1)"
      ]
     },
     "execution_count": 20,
     "metadata": {},
     "output_type": "execute_result"
    }
   ],
   "source": [
    "# Define dictionaries for models and hyperparameters to be used in grid search evaluation:\n",
    "lda = LatentDirichletAllocation(learning_method=\"online\", verbose=1,random_state=100)\n",
    "           \n",
    "\n",
    "ParamDict = {\"n_components\": [7,8,9,10,11,12,13,14,15]\n",
    "                     , \"learning_decay\": [.5, .7, .9]\n",
    "                    }\n",
    "                                    \n",
    "gs = GridSearchCV(lda, ParamDict, cv=3, n_jobs=-1,\n",
    "                              return_train_score='warn',pre_dispatch='2*n_jobs', refit=True\n",
    "                              , verbose=1)\n",
    "gs.fit(data_vectorized)\n",
    "\n",
    "\n"
   ]
  },
  {
   "cell_type": "code",
   "execution_count": 22,
   "metadata": {},
   "outputs": [
    {
     "name": "stdout",
     "output_type": "stream",
     "text": [
      "Best Model's Params for:  {'learning_decay': 0.9, 'n_components': 7}\n",
      "Best Log Likelihood Score:  -2125316.5700915544\n",
      "Model Perplexity:  889.7745967579071\n"
     ]
    }
   ],
   "source": [
    "# Best Model\n",
    "best_lda_model = gs.best_estimator_\n",
    "# Model Parameters\n",
    "print(\"Best Model's Params for: \", gs.best_params_)\n",
    "# Log Likelihood Score\n",
    "print(\"Best Log Likelihood Score: \", gs.best_score_)\n",
    "# Perplexity\n",
    "print(\"Model Perplexity: \", best_lda_model.perplexity(data_vectorized))  \n"
   ]
  },
  {
   "cell_type": "code",
   "execution_count": 87,
   "metadata": {},
   "outputs": [
    {
     "data": {
      "image/png": "[encoded data removed]",
      "text/plain": [
       "<Figure size 864x576 with 1 Axes>"
      ]
     },
     "metadata": {
      "needs_background": "light"
     },
     "output_type": "display_data"
    }
   ],
   "source": [
    "# Get Log Likelyhoods from Grid Search Output: Higher the better\n",
    "n_topics = [7,8,9,10,11,12,13,14,15]\n",
    "log_likelyhoods_5 = [round(i) for i in gs.cv_results_['mean_test_score'][0:9]]\n",
    "log_likelyhoods_7 = [round(i) for i in gs.cv_results_['mean_test_score'][9:18]]\n",
    "log_likelyhoods_9 = [round(i) for i in gs.cv_results_['mean_test_score'][18:27]]\n",
    "\n",
    "# Show graph\n",
    "plt.figure(figsize=(12, 8))\n",
    "plt.plot(n_topics, log_likelyhoods_5, label='0.5')\n",
    "plt.plot(n_topics, log_likelyhoods_7, label='0.7')\n",
    "plt.plot(n_topics, log_likelyhoods_9, label='0.9')\n",
    "plt.title(\"Choosing Optimal LDA Model\")\n",
    "plt.xlabel(\"Num Topics\")\n",
    "plt.ylabel(\"Log Likelyhood Scores\")\n",
    "plt.legend(title='Learning decay', loc='best')\n",
    "plt.show()"
   ]
  },
  {
   "cell_type": "code",
   "execution_count": 95,
   "metadata": {},
   "outputs": [
    {
     "name": "stdout",
     "output_type": "stream",
     "text": [
      "LDA Model:\n",
      "Topic 0:\n",
      "[('manager', 1689.000347031121), ('get', 1637.2616350222534), ('time', 1489.235208537705), ('employee', 1364.0415502978326), ('management', 1170.8121413117367), ('month', 1025.2167663618518), ('work', 1022.9036072174354), ('like', 993.9566518357675), ('say', 830.6830608618918), ('job', 824.9761458519856)]\n",
      "Topic 1:\n",
      "[('system', 2040.2420263756073), ('issue', 1792.6798591555557), ('support', 1759.5949816425648), ('service', 1651.4965596369555), ('customer', 1403.9188076103108), ('application', 1339.0159202860698), ('work', 1253.4555691878402), ('software', 1136.3679232217703), ('network', 961.9725353997785), ('problem', 931.4944383216612)]\n",
      "Topic 2:\n",
      "[('work', 10085.649765021011), ('job', 5581.401432127152), ('part', 5484.064307205056), ('enjoy', 3978.3955219774343), ('management', 2918.1943373332283), ('worker', 2496.4480322930385), ('time', 2364.716940928196), ('hour', 2146.088104252344), ('hardest', 2074.5601012936622), ('always', 1999.4740637592383)]\n",
      "Topic 3:\n",
      "[('work', 6045.046219774465), ('people', 2751.433339312373), ('year', 2492.501862685865), ('management', 2185.693283977334), ('great', 1767.5761739488414), ('one', 1721.1268641480078), ('time', 1705.223661692873), ('employee', 1653.1227590164494), ('would', 1536.2751527631015), ('job', 1497.6766820535074)]\n",
      "Topic 4:\n",
      "[('project', 2591.5351535249424), ('skill', 1377.3149532769967), ('development', 1262.2717371368733), ('learn', 977.2198725260345), ('testing', 816.9911053710033), ('technology', 764.2912413886082), ('training', 751.0765558658188), ('work', 725.4911941961991), ('used', 622.7605430167868), ('role', 621.2914559486094)]\n",
      "Topic 5:\n",
      "[('work', 35911.10994837037), ('good', 29303.489960544575), ('learn', 11745.860421914787), ('place', 8596.426234662546), ('great', 8217.222743830349), ('life', 6895.181126752514), ('culture', 6213.182547709769), ('lot', 5834.101461272087), ('environment', 5791.689430007487), ('opportunity', 5730.889406979641)]\n",
      "Topic 6:\n",
      "[('client', 2487.2709174181623), ('project', 2033.47931683103), ('work', 1358.5265725091392), ('knowledge', 1246.036409462273), ('technical', 1166.546372916551), ('experience', 1166.0736043119496), ('different', 1080.5299348508127), ('learn', 1043.7103750727679), ('technology', 916.8408664305504), ('exposure', 869.010112120544)]\n",
      "====================\n"
     ]
    }
   ],
   "source": [
    "def print_topics(model, vectorizer, top_n=10):\n",
    "    for idx, topic in enumerate(model.components_):\n",
    "        print(\"Topic %d:\" % (idx))\n",
    "        print([(vectorizer.get_feature_names()[i], topic[i])\n",
    "                        for i in topic.argsort()[:-top_n - 1:-1]])\n",
    " \n",
    "print(\"LDA Model:\")\n",
    "print_topics(best_lda_model, vectorizer)\n",
    "print(\"=\" * 20)"
   ]
  },
  {
   "cell_type": "code",
   "execution_count": 96,
   "metadata": {},
   "outputs": [
    {
     "name": "stdout",
     "output_type": "stream",
     "text": [
      "(45251, 7)\n",
      "[0.         0.         0.         0.06991709 0.08910744 0.03746602\n",
      " 0.09107326]\n"
     ]
    }
   ],
   "source": [
    " \n",
    "# Build a Non-Negative Matrix Factorization Model\n",
    "nmf_model = NMF(n_components=7,init='nndsvd')\n",
    "nmf_word = nmf_model.fit_transform(data_vectorized)\n",
    "print(nmf_word.shape)  # (NO_DOCUMENTS, NO_TOPICS)\n",
    "\n",
    "print(nmf_word[0])\n"
   ]
  },
  {
   "cell_type": "code",
   "execution_count": 97,
   "metadata": {},
   "outputs": [
    {
     "name": "stdout",
     "output_type": "stream",
     "text": [
      "NMF Model:\n",
      "Topic 0:\n",
      "[('work', 20.927238702376304), ('life', 1.806457986905793), ('balance', 1.423943392262868), ('environment', 1.4048229803573034), ('culture', 1.1332362403675171), ('place', 1.1224275670137402), ('fun', 0.6899411298816617), ('hour', 0.6101939087322631), ('enjoy', 0.5222765467157835), ('friendly', 0.44080803192008844)]\n",
      "Topic 1:\n",
      "[('good', 15.752578928058288), ('place', 1.3015276237610185), ('culture', 1.1411506577223718), ('life', 1.1313355346749163), ('balance', 1.0666884798655027), ('salary', 0.7742363414808621), ('environment', 0.7402634720996671), ('benefit', 0.6399934422898467), ('opportunity', 0.603259661281471), ('experience', 0.531539604855103)]\n",
      "Topic 2:\n",
      "[('job', 10.806873863223423), ('part', 6.260830525854979), ('enjoy', 3.2898205940790026), ('hardest', 2.63817744435361), ('worker', 1.4318464296556215), ('customer', 1.3046067822874647), ('typical', 1.0601665534715679), ('would', 0.9524359210558091), ('security', 0.9307448268164324), ('issue', 0.9065601277044812)]\n",
      "Topic 3:\n",
      "[('learn', 11.651561737750573), ('lot', 3.7980924679802444), ('technology', 2.1688432794189305), ('thing', 2.0702990838824586), ('opportunity', 1.541189153185754), ('skill', 1.2638974314508027), ('many', 1.0367641031285646), ('experience', 0.7796455062626462), ('got', 0.585724231444635), ('project', 0.5836634323502898)]\n",
      "Topic 4:\n",
      "[('great', 11.870045662103701), ('place', 3.7745967523720365), ('people', 1.7321105668974557), ('benefit', 1.228473307931905), ('opportunity', 1.1205720029773678), ('environment', 0.5199831449070667), ('experience', 0.49079503671705577), ('culture', 0.4742332315309377), ('employee', 0.42995347256041333), ('pay', 0.424866691006687)]\n",
      "Topic 5:\n",
      "[('project', 4.181458096090154), ('time', 3.8428342561449385), ('manager', 3.210728856987142), ('get', 2.977401158521132), ('employee', 2.947237063308218), ('people', 2.624167884062275), ('year', 1.9828916715967788), ('one', 1.717444893197144), ('support', 1.6122994675145625), ('like', 1.5018515786707707)]\n",
      "Topic 6:\n",
      "[('management', 12.043753981829157), ('employee', 1.7162663494540769), ('worker', 0.730680358028355), ('culture', 0.5817651867496129), ('supportive', 0.5435673228544629), ('poor', 0.4711978807724232), ('upper', 0.4667704357582634), ('friendly', 0.443696897272232), ('level', 0.35746640064842394), ('skill', 0.3104643109841573)]\n",
      "====================\n"
     ]
    }
   ],
   "source": [
    "\n",
    " \n",
    "print(\"NMF Model:\")\n",
    "print_topics(nmf_model, vectorizer)\n",
    "print(\"=\" * 20)\n",
    " \n",
    "\n",
    " "
   ]
  }
 ],
 "metadata": {
  "kernelspec": {
   "display_name": "Python 3",
   "language": "python",
   "name": "python3"
  },
  "language_info": {
   "codemirror_mode": {
    "name": "ipython",
    "version": 3
   },
   "file_extension": ".py",
   "mimetype": "text/x-python",
   "name": "python",
   "nbconvert_exporter": "python",
   "pygments_lexer": "ipython3",
   "version": "3.7.0"
  }
 },
 "nbformat": 4,
 "nbformat_minor": 4
}
