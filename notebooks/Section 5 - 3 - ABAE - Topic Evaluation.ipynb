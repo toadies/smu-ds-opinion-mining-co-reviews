{
 "cells": [
  {
   "cell_type": "markdown",
   "metadata": {},
   "source": [
    "# Evaluate the existing topics\n",
    "Review misspelled words\n",
    "Calculate Coherance Score"
   ]
  },
  {
   "cell_type": "code",
   "execution_count": 20,
   "metadata": {},
   "outputs": [],
   "source": [
    "import sys\n",
    "import os\n",
    "\n",
    "module_path = os.path.abspath(os.path.join(\"..\"))\n",
    "if module_path not in sys.path:\n",
    "    sys.path.append(module_path+\"/scripts\")\n",
    "    sys.path.append(module_path+\"/classes\")\n",
    "\n",
    "review_corpus_path = \"../data/tech_review_sent_corpus.pkl\"\n",
    "vocab_path = \"../data/glove-tech-revew-vocab.txt\"\n",
    "emb_filename = '../models/w2v_embedding'\n",
    "aspect_file_path = \"../results/aspect.json\"\n",
    "aspect_model_path = \"../results/model_param\"\n",
    "vocab_path = \"../data/vocab-text-review.txt\"\n",
    "aspect_output_path = '../results/ABAE'\n",
    "stop_words_path = \"../data/stop_words.json\"\n",
    "abae_training_data = \"../data/abae_train.pkl\"\n",
    "\n",
    "project_path = \"..\""
   ]
  },
  {
   "cell_type": "markdown",
   "metadata": {},
   "source": [
    "# Create coherance score"
   ]
  },
  {
   "cell_type": "code",
   "execution_count": 21,
   "metadata": {},
   "outputs": [
    {
     "name": "stderr",
     "output_type": "stream",
     "text": [
      "Using TensorFlow backend.\n"
     ]
    }
   ],
   "source": [
    "import numpy as np\n",
    "from numpy.random import seed\n",
    "import tensorflow as tf\n",
    "seed(76244)\n",
    "tf.random.set_seed(76244)\n",
    "\n",
    "import ABAE.utils as U\n",
    "parser = U.add_common_args()"
   ]
  },
  {
   "cell_type": "code",
   "execution_count": 22,
   "metadata": {},
   "outputs": [],
   "source": [
    "import pickle\n",
    "with open(abae_training_data,\"rb\") as f:\n",
    "  vocab, train_x, overall_maxlen = pickle.load(f)\n",
    "\n",
    "vocab_inv = {}\n",
    "for w, ind in vocab.items():\n",
    "    vocab_inv[ind] = w"
   ]
  },
  {
   "cell_type": "code",
   "execution_count": 23,
   "metadata": {},
   "outputs": [
    {
     "name": "stdout",
     "output_type": "stream",
     "text": [
      "(148428, 5370)\n"
     ]
    }
   ],
   "source": [
    "# from datetime import datetime\n",
    "# from gensim.corpora.dictionary import Dictionary\n",
    "from scipy.sparse import lil_matrix\n",
    "\n",
    "vocab_ = np.array([x for x in vocab.keys()])\n",
    "\n",
    "# X = np.zeros((len(train_x),len(vocab)))\n",
    "X = lil_matrix((len(train_x),len(vocab)))\n",
    "for i, review in enumerate(train_x):\n",
    "    for j in review:\n",
    "        X[i,j] += 1\n",
    "\n",
    "print(X.shape)"
   ]
  },
  {
   "cell_type": "code",
   "execution_count": 24,
   "metadata": {},
   "outputs": [
    {
     "name": "stdout",
     "output_type": "stream",
     "text": [
      "[3, 4, 5, 6, 7]\n",
      "great people care make difference\n",
      "  (0, 3)\t1.0\n",
      "  (0, 4)\t1.0\n",
      "  (0, 5)\t1.0\n",
      "  (0, 6)\t1.0\n",
      "  (0, 7)\t1.0\n"
     ]
    }
   ],
   "source": [
    "print(train_x[0])\n",
    "print(\" \".join([vocab_inv[i] for i in train_x[0]]))\n",
    "print(X[0])"
   ]
  },
  {
   "cell_type": "code",
   "execution_count": 25,
   "metadata": {},
   "outputs": [],
   "source": [
    "from tmtoolkit.topicmod.evaluate import metric_coherence_gensim, metric_coherence_mimno_2011\n",
    "from keras.models import load_model\n",
    "from ABAE.my_layers import Attention, Average, WeightedSum, WeightedAspectEmb, MaxMargin\n",
    "import keras.backend as K\n",
    "import os\n",
    "\n",
    "from scipy.spatial.distance import cosine\n",
    "from itertools import combinations\n",
    "from scipy.spatial.distance import cosine\n",
    "\n",
    "def calc_w2v_score(term_rankings):\n",
    "    overall_coherence = 0.0\n",
    "    for topic_index in range(len(term_rankings)):\n",
    "        # check each pair of terms\n",
    "        pair_scores = []\n",
    "        for pair in combinations( term_rankings[topic_index], 2 ):\n",
    "            pair_scores.append( 1 - cosine(pair[0], pair[1]) )\n",
    "        # get the mean for all pairs in this topic\n",
    "        topic_score = sum(pair_scores) / len(pair_scores)\n",
    "        overall_coherence += topic_score\n",
    "    # get the mean score across all topics\n",
    "    return overall_coherence / len(term_rankings)\n",
    "    \n",
    "def calc_score(params):\n",
    "    k = params[0]\n",
    "    orth = params[1]\n",
    "    neg = params[2]\n",
    "    \n",
    "    model = load_model(os.path.join(aspect_output_path,\"abae-k-{0}-orth-{1}-neg-{2}\".format(k,orth,neg)),\n",
    "                custom_objects={\"Attention\": Attention, \"Average\": Average, \"WeightedSum\": WeightedSum,\n",
    "                               \"MaxMargin\": MaxMargin, \"WeightedAspectEmb\": WeightedAspectEmb,\n",
    "                               \"max_margin_loss\": U.max_margin_loss},\n",
    "                compile=True)\n",
    "    \n",
    "    word_emb = K.get_value(model.get_layer('word_emb').embeddings)\n",
    "    aspect_emb = K.get_value(model.get_layer('aspect_emb').W)\n",
    "    word_emb = word_emb / np.linalg.norm(word_emb, axis=-1, keepdims=True)\n",
    "    aspect_emb = aspect_emb / np.linalg.norm(aspect_emb, axis=-1, keepdims=True)\n",
    "    components = []\n",
    "    top_vecs = []\n",
    "    for ind in range(len(aspect_emb)):\n",
    "        desc = aspect_emb[ind]\n",
    "        sims = word_emb.dot(desc.T)\n",
    "        ordered_words = np.argsort(sims)[::-1]\n",
    "        components.append(sims)\n",
    "        top_vecs.append([ word_emb[w] for w in ordered_words[:100]])\n",
    "    \n",
    "\n",
    "#     score = metric_coherence_gensim(\n",
    "    mimno_score = metric_coherence_mimno_2011(\n",
    "#         measure='u_mass', \n",
    "        top_n=25, \n",
    "        topic_word_distrib=np.array(components), \n",
    "        dtm=X,\n",
    "#         vocab=vocab_,\n",
    "        return_mean=True\n",
    "    )\n",
    "    \n",
    "    w2v_score = calc_w2v_score(top_vecs)\n",
    "    \n",
    "    return k, orth, neg, mimno_score, w2v_score"
   ]
  },
  {
   "cell_type": "code",
   "execution_count": 26,
   "metadata": {
    "scrolled": true
   },
   "outputs": [
    {
     "name": "stderr",
     "output_type": "stream",
     "text": [
      "100%|██████████| 330/330 [22:27<00:00,  4.08s/it]\n"
     ]
    }
   ],
   "source": [
    "import pandas as pd\n",
    "from tqdm import tqdm\n",
    "from multiprocessing import Pool\n",
    "\n",
    "files = [x for x in os.walk(\"../results/ABAE\")]\n",
    "\n",
    "params = []\n",
    "for t in files[0][2]:\n",
    "    f = t.split(\"-\")\n",
    "    if (len(f) == 7) & (t[-4:] != 'json'):\n",
    "        params.append((f[2],f[4],f[6]))\n",
    "\n",
    "params = list(map(calc_score, tqdm(params)))"
   ]
  },
  {
   "cell_type": "code",
   "execution_count": null,
   "metadata": {},
   "outputs": [],
   "source": [
    "df = pd.DataFrame(params,columns=[\"k\",\"ortho\",\"neg\",\"mimno\",\"w2v\"])\n",
    "display( df.loc[df.mimno != np.inf, :].sort_values(by=\"mimno\", ascending=False).head(20) )\n",
    "\n",
    "df.to_csv(\"../data/ABAE.csv\",index=False)"
   ]
  },
  {
   "cell_type": "code",
   "execution_count": null,
   "metadata": {},
   "outputs": [],
   "source": []
  },
  {
   "cell_type": "code",
   "execution_count": 4,
   "metadata": {},
   "outputs": [
    {
     "data": {
      "text/plain": [
       "<matplotlib.axes._subplots.AxesSubplot at 0x7f9e83048278>"
      ]
     },
     "execution_count": 4,
     "metadata": {},
     "output_type": "execute_result"
    },
    {
     "data": {
      "image/png": "[encoded data removed]",
      "text/plain": [
       "<Figure size 432x288 with 1 Axes>"
      ]
     },
     "metadata": {
      "needs_background": "light"
     },
     "output_type": "display_data"
    }
   ],
   "source": [
    "import pandas as pd\n",
    "\n",
    "df = pd.read_csv(\"../data/ABAE.csv\")\n",
    "df.groupby([\"k\"])[\"mimno\"].max().plot(title=\"Coherence Score for ABAE\", xticks=df.k.unique())"
   ]
  },
  {
   "cell_type": "markdown",
   "metadata": {},
   "source": [
    "## Get List of Words by Topic\n",
    "Topic Modeling based on K = 10 and Orth = .5.  This gives us best score but most complex words (w2v)\n",
    "\n",
    "To get topic labels, run `EvaluateABAE.py`, you need to update file with appropiate model"
   ]
  },
  {
   "cell_type": "code",
   "execution_count": 7,
   "metadata": {},
   "outputs": [
    {
     "name": "stderr",
     "output_type": "stream",
     "text": [
      "100%|██████████| 148428/148428 [00:06<00:00, 23245.94it/s]\n"
     ]
    }
   ],
   "source": [
    "import pickle\n",
    "from multiprocessing import Pool\n",
    "from tqdm import tqdm\n",
    "from ABAE_CreateTrainSet import removeStopWords\n",
    "\n",
    "with open(review_corpus_path, \"rb\") as f:\n",
    "    tech_review_corpus = pickle.load(f)\n",
    "\n",
    "indices = [review[\"index\"] for review in tech_review_corpus]\n",
    "reviews = [review[\"review\"] for review in tech_review_corpus]\n",
    "\n",
    "with Pool() as p:\n",
    "    reviews = list(tqdm(p.imap(removeStopWords, reviews), total=len(reviews)))"
   ]
  },
  {
   "cell_type": "code",
   "execution_count": 9,
   "metadata": {},
   "outputs": [],
   "source": [
    "import json\n",
    "\n",
    "with open(\"../results/ABAE/abae-k-5-orth-0.1-neg-20-labels.txt\") as f:\n",
    "    labels = f.readlines()\n",
    "\n",
    "labels = [ int(label.replace(\"\\n\",\"\")) for label in labels ]\n",
    "topics = set(labels)\n",
    "\n",
    "with open(\"../results/ABAE/abae-k-5-orth-0.1-neg-20.json\", \"r\") as f:\n",
    "    aspects_top_n_words = json.load(f)\n",
    "\n",
    "aspects_reviews = { topic:[] for topic in topics }\n",
    "\n",
    "for label, review in zip(labels, reviews):\n",
    "    aspects_reviews[label].append(review)"
   ]
  },
  {
   "cell_type": "code",
   "execution_count": 10,
   "metadata": {},
   "outputs": [
    {
     "name": "stdout",
     "output_type": "stream",
     "text": [
      "Aspect 0 - 22419 sentences\n",
      "Aspect 1 - 45447 sentences\n",
      "Aspect 2 - 29590 sentences\n",
      "Aspect 3 - 24861 sentences\n",
      "Aspect 4 - 26111 sentences\n",
      "148428\n"
     ]
    }
   ],
   "source": [
    "x = 0\n",
    "for aspect, corpus in aspects_reviews.items():\n",
    "    print(\"Aspect {0} - {1} sentences\".format(aspect, len(corpus)))\n",
    "    x = x + len(corpus)\n",
    "             \n",
    "print(x)"
   ]
  },
  {
   "cell_type": "markdown",
   "metadata": {},
   "source": [
    "Create a vocab for each topic"
   ]
  },
  {
   "cell_type": "code",
   "execution_count": 11,
   "metadata": {},
   "outputs": [],
   "source": [
    "from collections import Counter\n",
    "from nltk import bigrams\n",
    "\n",
    "aspects_top_vocab = {}\n",
    "aspect_top_word_vocab = {}\n",
    "\n",
    "for aspect, sents in aspects_reviews.items():\n",
    "    vocab = Counter()\n",
    "    \n",
    "    for sent in sents:\n",
    "        tokens = sent.split(\" \")\n",
    "        bi_grams = bigrams(tokens)\n",
    "        for token in bi_grams:\n",
    "            vocab[\" \".join(token)] += 1\n",
    "        \n",
    "        for token in tokens:\n",
    "            vocab[token] += 1\n",
    "    \n",
    "    aspects_top_vocab[aspect] = \", \".join([ w[0] for w in vocab.most_common(50) ])\n",
    "    \n",
    "    aspect_top_word_vocab[\"Aspect \" + str(aspect)] = {word:vocab[str(word)] \n",
    "                                                          for word in aspects_top_n_words[\"Aspect \" + str(aspect)]}\n",
    "        \n",
    "    \n",
    "    \n",
    "    \n",
    "    \n",
    "    "
   ]
  },
  {
   "cell_type": "code",
   "execution_count": 18,
   "metadata": {
    "scrolled": false
   },
   "outputs": [
    {
     "name": "stdout",
     "output_type": "stream",
     "text": [
      "Support\n",
      "Aspect 0 {'ticket': 312, 'report': 511, 'log': 122, 'verify': 31, 'file': 134, 'batch': 51, 'manually': 8, 'check': 284, 'document': 237, 'reject': 11, 'monitor': 280, 'confirm': 20, 'release': 201, 'final': 30, 'request': 246, 'submit': 38, 'inspection': 14, 'call': 1232, 'validate': 113, 'checklist': 6, 'upload': 16, 'email': 244, 'paperwork': 13, 'submission': 14, 'deliverable': 152, 'quote': 17, 'send': 125, 'download': 4, 'application': 919, 'dispatch': 17, 'approve': 65, 'scan': 8, 'delete': 5, 'record': 84, 'print': 15, 'queue': 54, 'repair': 78, 'verification': 20, 'order': 220, 'chart': 5, 'paper': 31, 'drawing': 6, 'pre': 7, 'tracking': 24, 'checkpoint': 8, 'packet': 6, 'list': 65, 'folder': 5, 'sheet': 23, 'edit': 13, 'terminal': 11, 'case': 314, 'invoice': 21, 'registering': 7, 'duplicate': 7, 'pending': 14, 'snapshot': 6, 'flight': 3, 'incident': 73, 'server': 576, 'notify': 5, 'cr': 12, 'archive': 6, 'phone': 406, 'backup': 119, 'defect': 116, 'database': 396, 'account': 222, 'tag': 21, 'mail': 78, 'update': 265, 'installs': 11, 'label': 7, 'sequence': 15, 'calculation': 9, 'doc': 6, 'electronic': 26, 'installation': 144, 'updating': 15, 'slip': 5, 'mailbox': 6, 'maintenance': 228, 'return': 102, 'retrieve': 18, 'recovery': 41, 'proxy': 8, 'logging': 9, 'delay': 37, 'audit': 60, 'sign': 58, 'scrap': 4, 'draft': 9, 'shipment': 7, 'timesheet': 8, 'outage': 42, 'text': 18, 'transmission': 7, 'patch': 57, 'grid': 6, 'conversion': 30}\n",
      "\n",
      " project, get, time, issue, customer, call, system, would, support, use, part, go, job, client, application, process, train, take, development, need, test, good, software, one, make, service, help, provide, like, year, n't, also, hard, server, user, lot, end, start, problem, typical, meeting, every, report, business, review, task, design, requirement, many, manage\n",
      "\n",
      "\n",
      "Leadership & Managment\n",
      "Aspect 1 {'management': 11244, 'work': 40969, 'manager': 3735, 'leadership': 510, 'managing': 31, 'staff': 589, 'leader': 242, 'cooperate': 24, 'director': 108, 'member': 826, 'departmental': 9, 'communicate': 110, 'collaboration': 103, 'ordinate': 14, 'behavior': 78, 'communication': 385, 'collaborate': 154, 'manage': 572, 'co-ordination': 21, 'personnel': 70, 'administration': 64, 'accountability': 35, 'subordinate': 26, 'cohesion': 5, 'coordinate': 107, 'supervision': 24, 'micromanager': 32, 'retaliate': 3, 'cooperation': 34, 'micro-management': 12, 'co-operation': 13, 'vp': 22, 'others': 231, 'tl': 12, 'qa': 52, 'pmo': 7, 'liaise': 3, 'micro-manage': 7, 'intimidate': 8, 'execute': 48, 'coach': 32, 'oversight': 11, 'teamwork': 63, 'micro-managing': 3, 'executive': 61, 'micro-managed': 4, 'micromanaged': 8, 'staffing': 9, 'micromanage': 9, 'correspond': 1, 'physician': 7, 'playing': 3, 'transparency': 55, 'delegation': 5, 'judgement': 5, 'lead': 548, 'openly': 6, 'involvement': 18, 'regional': 19, 'ops': 5, 'comply': 5, 'player': 83, 'discipline': 38, 'discussion': 45, 'cohesive': 9, 'bonding': 10, 'harassment': 9, 'participation': 9, 'blatant': 5, 'dishonest': 4, 'co-worker': 1353, 'huddle': 7, 'co-ordinate': 7, 'backstabbing': 4, 'prioritization': 5, 'workflow': 16, 'judgment': 4, 'superior': 30, 'manipulation': 2, 'mismanage': 11, 'unsupported': 3, 'managerial': 35, 'escalation': 34, 'mate': 108, 'routinely': 4, 'everyone': 363, 'enforce': 13, 'supervise': 7, 'follow-up': 5, 'directive': 8, 'interfacing': 4, 'productivity': 88, 'respond': 27, 'peer': 157, 'moral': 43, 'cross-functional': 2, 'observation': 6, 'adherence': 5, 'compliance': 25, 'partner': 39}\n",
      "\n",
      " work, management, good, culture, environment, manager, learn, place, life, balance, great, good work, work life, work culture, project, life balance, people, employee, work environment, get, enjoy, job, lot, place work, time, friendly, technology, support, part, work place, help, co-worker, also, client, well, experience, hard, fun, opportunity, supportive, always, make, one, great work, thing, provide, management good, flexible, many, need\n",
      "\n",
      "\n",
      "Learning Technology\n",
      "Aspect 2 {'learn': 10309, 'platform': 454, 'technique': 67, 'knowledge': 1264, 'expose': 640, 'technology': 3546, 'skill': 2313, 'fundamental': 18, 'analytic': 74, 'domain': 419, 'networking': 99, 'development': 1560, 'exploration': 6, 'organization': 924, 'enhance': 327, 'cognitive': 8, 'utilizing': 2, 'insight': 18, 'experience': 2636, 'programming': 95, 'industry': 520, 'framework': 112, 'technological': 33, 'arena': 6, 'aptitude': 5, 'architecture': 70, 'state-of-the-art': 5, 'environment': 2152, 'method': 36, 'ecosystem': 4, 'technical': 1165, 'craft': 6, 'acumen': 3, 'refine': 2, 'marketing': 21, 'functionality': 33, 'methodology': 108, 'nodejs': 3, 'problem-solving': 2, 'virtualization': 17, 'improved': 10, 'depth': 26, 'laboratory': 5, 'modeling': 10, 'computing': 18, 'telephony': 0, 'capability': 47, 'erp': 15, 'tool': 482, 'dimension': 4, 'concept': 107, 'expertise': 128, 'landscape': 12, 'confidence': 60, 'skills': 20, 'in-depth': 13, 'leverage': 23, 'introduction': 5, 'feature': 39, 'simulation': 3, 'middleware': 9, 'foundation': 50, 'setting': 15, 'plc': 5, 'e-commerce': 7, 'automobile': 7, 'realm': 3, 'world': 486, 'sophisticated': 8, 'hands-on': 25, 'professional': 976, 'industrial': 21, 'explore': 338, 'facet': 7, 'marketable': 8, 'engineering': 142, 'navigation': 1, 'rdbms': 3, 'perspective': 50, 'intricacy': 6, 'telecommunication': 50, 'bussiness': 3, 'digital': 61, 'agility': 3, 'network': 338, 'topology': 4, 'profession': 16, 'scalable': 6, 'dotnet': 4, 'sphere': 4, 'brand': 98, 'channel': 12, 'electronics': 16, 'real-time': 4, 'hadoop': 22, 'instrument': 6, 'gain': 463, 'iot': 9, 'ui': 33, 'awareness': 6}\n",
      "\n",
      " learn, good, lot, technology, opportunity, experience, great, skill, environment, project, thing, place, train, get, development, many, learn lot, provide, knowledge, job, help, technical, grow, people, professional, part, give, organization, also, culture, service, different, growth, well, support, challenge, client, customer, enjoy, fresher, software, learn technology, use, business, opportunity learn, expose, one, start, always, learn many\n",
      "\n",
      "\n",
      "Work Life Balance\n",
      "Aspect 3 {'work': 16988, 'okay': 81, 'ok': 209, 'love': 712, 'definitely': 164, 'decent': 212, 'probably': 70, 'great': 4024, 'stay': 395, 'summer': 24, 'part-time': 16, 'perfect': 144, 'retire': 56, 'live': 65, 'start': 1259, 'commute': 82, 'good': 8896, 'alright': 11, 'fun': 1203, 'infy': 18, 'fulltime': 7, 'wonderful': 210, 'college': 176, 'relocate': 63, 'consider': 84, 'leave': 557, 'wish': 105, 'relax': 178, 'employment': 193, 'awesome': 201, 'recommend': 420, 'beg': 3, 'job': 4829, 'gig': 6, 'hop': 18, 'bore': 30, 'survive': 31, 'fine': 90, 'full-time': 100, 'earn': 48, 'atleast': 6, 'cool': 121, 'blast': 7, 'amaze': 64, 'glad': 37, 'rent': 1, 'sleep': 14, 'pay': 805, 'jcpenny': 2, 'lowes': 6, 'apply': 71, 'lucky': 60, 'workout': 5, 'exhaust': 3, 'hate': 17, 'rehired': 5, 'hat': 27, 'join': 405, 'look': 430, '4pm': 1, 'eat': 5, 'seasonal': 26, 'wasnt': 12, 'paycheck': 22, 'marry': 4, 'pretty': 238, 'atypical': 2, 'kinda': 5, 'foot': 36, 'wait': 43, 'bless': 8, 'accumulate': 5, 'time': 2591, 'noon': 1, 'married': 6, 'temporary': 33, 'afford': 7, 'midnight': 3, 'twelve': 3, 'ride': 9, 'workaholic': 3, 'want': 562, '4:30': 3, 'awhile': 8, 'fantastic': 61, 'second': 54, 'meh': 0, 'thankful': 16, 'handsome': 5, 'especially': 138, 'stint': 9, 'honesty': 31, '8pm': 3, 'think': 185, '9-5': 15, 'travel': 119, 'miss': 74, 'chill': 23, '6pm': 4, 'wal-mart': 1}\n",
      "\n",
      " work, good, place, job, great, place work, time, learn, get, life, part, enjoy, good work, balance, good place, year, lot, work life, environment, great place, opportunity, life balance, start, work place, fun, hard, experience, part job, would, culture, hour, like, people, really, pay, overall, benefit, thing, work environment, fresher, love, security, n't, hard part, job security, make, go, flexible, long, one\n",
      "\n",
      "\n",
      "Morale\n",
      "Aspect 4 {'salary': 1908, 'employee': 4305, 'sadly': 18, 'bonus': 304, 'pay': 1684, 'apparent': 10, 'compensate': 645, 'obviously': 13, 'benefit': 2449, 'ethical': 84, 'paid': 21, 'deserve': 40, 'wage': 74, 'raise': 306, 'actually': 91, 'ceo': 118, 'insulting': 6, 'moral': 163, 'hike': 709, 'increment': 186, 'upper': 102, 'performer': 48, 'payout': 6, 'management': 1593, 'unfortunately': 91, 'minority': 9, 'remuneration': 19, 'employer': 194, 'manager': 1382, 'intention': 6, 'merit': 31, 'truth': 9, 'incentive': 80, 'payscale': 6, 'seem': 329, 'lazy': 21, 'lateral': 50, 'harder': 6, 'perk': 199, 'co': 29, 'reputation': 28, 'obvious': 10, 'hint': 1, 'stagnant': 12, 'veteran': 17, 'bad': 566, 'victim': 5, 'unlikely': 5, 'paycheck': 27, 'ctc': 9, 'promised': 4, 'competitor': 24, 'paymaster': 12, 'otherwise': 57, 'afraid': 14, 'backbone': 0, 'tendency': 7, 'benifit': 4, 'everyone': 464, 'ego': 8, 'pocket': 16, 'economy': 9, 'entitle': 7, 'lifer': 7, 'facade': 5, 'slowly': 26, 'seriously': 19, 'discourage': 6, 'severance': 18, 'aggressively': 4, 'ridiculously': 4, 'disappointment': 6, 'negatively': 3, 'hey': 0, 'slacker': 5, 'aspiration': 18, 'ranking': 11, 'place': 1303, 'nobody': 35, 'badly': 11, 'outsider': 9, 'mid-level': 4, 'choice': 59, 'slogan': 7, 'scar': 8, 'horribly': 4, 'stagnate': 6, 'tenured': 6, 'anymore': 36, 'unfairly': 5, 'impression': 14, 'trajectory': 2, 'fair': 105, 'commission': 14, 'butt': 5, 'bottom': 58, 'negligible': 8, 'elsewhere': 42, 'inflation': 15, 'low': 618}\n",
      "\n",
      " good, employee, benefit, people, salary, great, pay, management, n't, manager, job, place, culture, get, like, one, year, friendly, make, lot, well, hike, give, much, growth, care, compensate, less, low, really, also, opportunity, bad, provide, time, part, policy, high, take, balance, always, start, environment, many, even, need, everyone, want, advancement, go\n",
      "\n",
      "\n"
     ]
    }
   ],
   "source": [
    "topic_names = [\"Support\",\"Leadership & Managment\",\"Learning Technology\",\"Work Life Balance\",\"Morale\"]\n",
    "i = 0\n",
    "for a, words in aspect_top_word_vocab.items():\n",
    "    print(topic_names[i])\n",
    "    print(a,words)\n",
    "    print(\"\\n\",aspects_top_vocab[i])\n",
    "    print(\"\\n\")\n",
    "    i+=1\n",
    "    \n",
    "# i = 0\n",
    "# for a, words in aspects_top_vocab.items():\n",
    "#     print(topic_names[i])\n",
    "#     print(a,words)\n",
    "#     print(\"\\n\")\n",
    "#     i+=1"
   ]
  },
  {
   "cell_type": "code",
   "execution_count": 2,
   "metadata": {},
   "outputs": [
    {
     "ename": "NameError",
     "evalue": "name 'aspects_top_vocab' is not defined",
     "output_type": "error",
     "traceback": [
      "\u001b[0;31m---------------------------------------------------------------------------\u001b[0m",
      "\u001b[0;31mNameError\u001b[0m                                 Traceback (most recent call last)",
      "\u001b[0;32m<ipython-input-2-61b1212b2749>\u001b[0m in \u001b[0;36m<module>\u001b[0;34m\u001b[0m\n\u001b[1;32m      1\u001b[0m \u001b[0mi\u001b[0m \u001b[0;34m=\u001b[0m \u001b[0;36m0\u001b[0m\u001b[0;34m\u001b[0m\u001b[0m\n\u001b[0;32m----> 2\u001b[0;31m \u001b[0;32mfor\u001b[0m \u001b[0ma\u001b[0m\u001b[0;34m,\u001b[0m \u001b[0mwords\u001b[0m \u001b[0;32min\u001b[0m \u001b[0maspects_top_vocab\u001b[0m\u001b[0;34m.\u001b[0m\u001b[0mitems\u001b[0m\u001b[0;34m(\u001b[0m\u001b[0;34m)\u001b[0m\u001b[0;34m:\u001b[0m\u001b[0;34m\u001b[0m\u001b[0m\n\u001b[0m\u001b[1;32m      3\u001b[0m     \u001b[0mprint\u001b[0m\u001b[0;34m(\u001b[0m\u001b[0mtopic_names\u001b[0m\u001b[0;34m[\u001b[0m\u001b[0mi\u001b[0m\u001b[0;34m]\u001b[0m\u001b[0;34m)\u001b[0m\u001b[0;34m\u001b[0m\u001b[0m\n\u001b[1;32m      4\u001b[0m     \u001b[0mprint\u001b[0m\u001b[0;34m(\u001b[0m\u001b[0ma\u001b[0m\u001b[0;34m,\u001b[0m\u001b[0mwords\u001b[0m\u001b[0;34m)\u001b[0m\u001b[0;34m\u001b[0m\u001b[0m\n\u001b[1;32m      5\u001b[0m     \u001b[0mprint\u001b[0m\u001b[0;34m(\u001b[0m\u001b[0;34m\"\\n\"\u001b[0m\u001b[0;34m)\u001b[0m\u001b[0;34m\u001b[0m\u001b[0m\n",
      "\u001b[0;31mNameError\u001b[0m: name 'aspects_top_vocab' is not defined"
     ]
    }
   ],
   "source": [
    "i = 0\n",
    "for a, words in aspects_top_vocab.items():\n",
    "    print(topic_names[i])\n",
    "    print(a,words)\n",
    "    print(\"\\n\")\n",
    "    i+=1"
   ]
  },
  {
   "cell_type": "markdown",
   "metadata": {},
   "source": [
    "**Review highest Scored sentences**"
   ]
  },
  {
   "cell_type": "code",
   "execution_count": 180,
   "metadata": {},
   "outputs": [
    {
     "name": "stderr",
     "output_type": "stream",
     "text": [
      "100%|██████████| 148428/148428 [00:00<00:00, 848635.42it/s]\n",
      "100%|██████████| 148428/148428 [00:00<00:00, 264647.78it/s]\n"
     ]
    },
    {
     "data": {
      "text/html": [
       "<div>\n",
       "<style scoped>\n",
       "    .dataframe tbody tr th:only-of-type {\n",
       "        vertical-align: middle;\n",
       "    }\n",
       "\n",
       "    .dataframe tbody tr th {\n",
       "        vertical-align: top;\n",
       "    }\n",
       "\n",
       "    .dataframe thead th {\n",
       "        text-align: right;\n",
       "    }\n",
       "</style>\n",
       "<table border=\"1\" class=\"dataframe\">\n",
       "  <thead>\n",
       "    <tr style=\"text-align: right;\">\n",
       "      <th></th>\n",
       "      <th>review_index</th>\n",
       "      <th>review</th>\n",
       "      <th>aspect 0</th>\n",
       "      <th>aspect 1</th>\n",
       "      <th>aspect 2</th>\n",
       "      <th>aspect 3</th>\n",
       "      <th>aspect 4</th>\n",
       "    </tr>\n",
       "  </thead>\n",
       "  <tbody>\n",
       "    <tr>\n",
       "      <th>0</th>\n",
       "      <td>299</td>\n",
       "      <td>great people care make difference</td>\n",
       "      <td>0.142151</td>\n",
       "      <td>0.208034</td>\n",
       "      <td>0.215674</td>\n",
       "      <td>0.198882</td>\n",
       "      <td>0.235259</td>\n",
       "    </tr>\n",
       "    <tr>\n",
       "      <th>1</th>\n",
       "      <td>299</td>\n",
       "      <td>management care employee well provide continue...</td>\n",
       "      <td>0.127041</td>\n",
       "      <td>0.279404</td>\n",
       "      <td>0.219937</td>\n",
       "      <td>0.119073</td>\n",
       "      <td>0.254545</td>\n",
       "    </tr>\n",
       "    <tr>\n",
       "      <th>2</th>\n",
       "      <td>1145</td>\n",
       "      <td>powerhouse epc go heavy worksharing</td>\n",
       "      <td>0.266608</td>\n",
       "      <td>0.163682</td>\n",
       "      <td>0.143910</td>\n",
       "      <td>0.231401</td>\n",
       "      <td>0.194400</td>\n",
       "    </tr>\n",
       "    <tr>\n",
       "      <th>3</th>\n",
       "      <td>1145</td>\n",
       "      <td>send much work overseas possible keep core person</td>\n",
       "      <td>0.149226</td>\n",
       "      <td>0.295808</td>\n",
       "      <td>0.154067</td>\n",
       "      <td>0.274678</td>\n",
       "      <td>0.126221</td>\n",
       "    </tr>\n",
       "    <tr>\n",
       "      <th>4</th>\n",
       "      <td>1145</td>\n",
       "      <td>heavy load management</td>\n",
       "      <td>0.110048</td>\n",
       "      <td>0.341525</td>\n",
       "      <td>0.172610</td>\n",
       "      <td>0.084236</td>\n",
       "      <td>0.291581</td>\n",
       "    </tr>\n",
       "  </tbody>\n",
       "</table>\n",
       "</div>"
      ],
      "text/plain": [
       "   review_index                                             review  aspect 0  \\\n",
       "0           299                  great people care make difference  0.142151   \n",
       "1           299  management care employee well provide continue...  0.127041   \n",
       "2          1145                powerhouse epc go heavy worksharing  0.266608   \n",
       "3          1145  send much work overseas possible keep core person  0.149226   \n",
       "4          1145                              heavy load management  0.110048   \n",
       "\n",
       "   aspect 1  aspect 2  aspect 3  aspect 4  \n",
       "0  0.208034  0.215674  0.198882  0.235259  \n",
       "1  0.279404  0.219937  0.119073  0.254545  \n",
       "2  0.163682  0.143910  0.231401  0.194400  \n",
       "3  0.295808  0.154067  0.274678  0.126221  \n",
       "4  0.341525  0.172610  0.084236  0.291581  "
      ]
     },
     "execution_count": 180,
     "metadata": {},
     "output_type": "execute_result"
    }
   ],
   "source": [
    "import numpy as np\n",
    "from tqdm import tqdm\n",
    "\n",
    "indices = [review[\"index\"] for review in tech_review_corpus]\n",
    "\n",
    "with open(\"../results/ABAE/abae-k-5-orth-0.1-neg-20-topic_weights\") as f:\n",
    "    topic_weights = f.readlines()\n",
    "\n",
    "topic_weights = [ topic_weight.replace(\"\\n\",\"\").split(\"\\t\") for topic_weight in tqdm(topic_weights) ]\n",
    "topic_weights = [ { \"aspect \"+str(i):float(weight) for i, weight in enumerate(topic_weight) if len(weight) > 0 } for topic_weight in tqdm(topic_weights)]\n",
    "\n",
    "topic_weights = pd.concat([\n",
    "                    pd.DataFrame({\"review_index\":indices, \"review\":reviews}),\n",
    "                    pd.DataFrame(topic_weights)\n",
    "                ], axis=1, ignore_index=False)\n",
    "\n",
    "topic_weights.head()"
   ]
  },
  {
   "cell_type": "code",
   "execution_count": 181,
   "metadata": {},
   "outputs": [
    {
     "data": {
      "text/html": [
       "<div>\n",
       "<style scoped>\n",
       "    .dataframe tbody tr th:only-of-type {\n",
       "        vertical-align: middle;\n",
       "    }\n",
       "\n",
       "    .dataframe tbody tr th {\n",
       "        vertical-align: top;\n",
       "    }\n",
       "\n",
       "    .dataframe thead th {\n",
       "        text-align: right;\n",
       "    }\n",
       "</style>\n",
       "<table border=\"1\" class=\"dataframe\">\n",
       "  <thead>\n",
       "    <tr style=\"text-align: right;\">\n",
       "      <th></th>\n",
       "      <th>level_0</th>\n",
       "      <th>level_1</th>\n",
       "      <th>weight</th>\n",
       "    </tr>\n",
       "  </thead>\n",
       "  <tbody>\n",
       "    <tr>\n",
       "      <th>0</th>\n",
       "      <td>0</td>\n",
       "      <td>aspect 0</td>\n",
       "      <td>0.142151</td>\n",
       "    </tr>\n",
       "    <tr>\n",
       "      <th>1</th>\n",
       "      <td>0</td>\n",
       "      <td>aspect 1</td>\n",
       "      <td>0.208034</td>\n",
       "    </tr>\n",
       "    <tr>\n",
       "      <th>2</th>\n",
       "      <td>0</td>\n",
       "      <td>aspect 2</td>\n",
       "      <td>0.215674</td>\n",
       "    </tr>\n",
       "    <tr>\n",
       "      <th>3</th>\n",
       "      <td>0</td>\n",
       "      <td>aspect 3</td>\n",
       "      <td>0.198882</td>\n",
       "    </tr>\n",
       "    <tr>\n",
       "      <th>4</th>\n",
       "      <td>0</td>\n",
       "      <td>aspect 4</td>\n",
       "      <td>0.235259</td>\n",
       "    </tr>\n",
       "  </tbody>\n",
       "</table>\n",
       "</div>"
      ],
      "text/plain": [
       "   level_0   level_1    weight\n",
       "0        0  aspect 0  0.142151\n",
       "1        0  aspect 1  0.208034\n",
       "2        0  aspect 2  0.215674\n",
       "3        0  aspect 3  0.198882\n",
       "4        0  aspect 4  0.235259"
      ]
     },
     "execution_count": 181,
     "metadata": {},
     "output_type": "execute_result"
    }
   ],
   "source": [
    "import seaborn as sns\n",
    "sns.set(style=\"ticks\")\n",
    "\n",
    "\n",
    "df_stack = topic_weights.iloc[:,range(2,topic_weights.shape[1])].stack().reset_index().rename(columns={0:\"weight\"})\n",
    "df_stack.head()"
   ]
  },
  {
   "cell_type": "code",
   "execution_count": 182,
   "metadata": {},
   "outputs": [
    {
     "data": {
      "image/png": "[encoded data removed]",
      "text/plain": [
       "<Figure size 360x360 with 1 Axes>"
      ]
     },
     "metadata": {},
     "output_type": "display_data"
    }
   ],
   "source": [
    "g = sns.catplot(x=\"level_1\", y=\"weight\", data=df_stack)"
   ]
  },
  {
   "cell_type": "code",
   "execution_count": 186,
   "metadata": {},
   "outputs": [
    {
     "data": {
      "text/html": [
       "<div>\n",
       "<style scoped>\n",
       "    .dataframe tbody tr th:only-of-type {\n",
       "        vertical-align: middle;\n",
       "    }\n",
       "\n",
       "    .dataframe tbody tr th {\n",
       "        vertical-align: top;\n",
       "    }\n",
       "\n",
       "    .dataframe thead th {\n",
       "        text-align: right;\n",
       "    }\n",
       "</style>\n",
       "<table border=\"1\" class=\"dataframe\">\n",
       "  <thead>\n",
       "    <tr style=\"text-align: right;\">\n",
       "      <th></th>\n",
       "      <th>review_index</th>\n",
       "      <th>review</th>\n",
       "      <th>aspect 0</th>\n",
       "      <th>aspect 1</th>\n",
       "      <th>aspect 2</th>\n",
       "      <th>aspect 3</th>\n",
       "      <th>aspect 4</th>\n",
       "      <th>label</th>\n",
       "      <th>weight</th>\n",
       "    </tr>\n",
       "  </thead>\n",
       "  <tbody>\n",
       "    <tr>\n",
       "      <th>0</th>\n",
       "      <td>299</td>\n",
       "      <td>great people care make difference</td>\n",
       "      <td>0.142151</td>\n",
       "      <td>0.208034</td>\n",
       "      <td>0.215674</td>\n",
       "      <td>0.198882</td>\n",
       "      <td>0.235259</td>\n",
       "      <td>aspect 4</td>\n",
       "      <td>0.235259</td>\n",
       "    </tr>\n",
       "    <tr>\n",
       "      <th>1</th>\n",
       "      <td>299</td>\n",
       "      <td>management care employee well provide continue...</td>\n",
       "      <td>0.127041</td>\n",
       "      <td>0.279404</td>\n",
       "      <td>0.219937</td>\n",
       "      <td>0.119073</td>\n",
       "      <td>0.254545</td>\n",
       "      <td>aspect 1</td>\n",
       "      <td>0.279404</td>\n",
       "    </tr>\n",
       "    <tr>\n",
       "      <th>2</th>\n",
       "      <td>1145</td>\n",
       "      <td>powerhouse epc go heavy worksharing</td>\n",
       "      <td>0.266608</td>\n",
       "      <td>0.163682</td>\n",
       "      <td>0.143910</td>\n",
       "      <td>0.231401</td>\n",
       "      <td>0.194400</td>\n",
       "      <td>aspect 0</td>\n",
       "      <td>0.266608</td>\n",
       "    </tr>\n",
       "    <tr>\n",
       "      <th>3</th>\n",
       "      <td>1145</td>\n",
       "      <td>send much work overseas possible keep core person</td>\n",
       "      <td>0.149226</td>\n",
       "      <td>0.295808</td>\n",
       "      <td>0.154067</td>\n",
       "      <td>0.274678</td>\n",
       "      <td>0.126221</td>\n",
       "      <td>aspect 1</td>\n",
       "      <td>0.295808</td>\n",
       "    </tr>\n",
       "    <tr>\n",
       "      <th>4</th>\n",
       "      <td>1145</td>\n",
       "      <td>heavy load management</td>\n",
       "      <td>0.110048</td>\n",
       "      <td>0.341525</td>\n",
       "      <td>0.172610</td>\n",
       "      <td>0.084236</td>\n",
       "      <td>0.291581</td>\n",
       "      <td>aspect 1</td>\n",
       "      <td>0.341525</td>\n",
       "    </tr>\n",
       "  </tbody>\n",
       "</table>\n",
       "</div>"
      ],
      "text/plain": [
       "   review_index                                             review  aspect 0  \\\n",
       "0           299                  great people care make difference  0.142151   \n",
       "1           299  management care employee well provide continue...  0.127041   \n",
       "2          1145                powerhouse epc go heavy worksharing  0.266608   \n",
       "3          1145  send much work overseas possible keep core person  0.149226   \n",
       "4          1145                              heavy load management  0.110048   \n",
       "\n",
       "   aspect 1  aspect 2  aspect 3  aspect 4     label    weight  \n",
       "0  0.208034  0.215674  0.198882  0.235259  aspect 4  0.235259  \n",
       "1  0.279404  0.219937  0.119073  0.254545  aspect 1  0.279404  \n",
       "2  0.163682  0.143910  0.231401  0.194400  aspect 0  0.266608  \n",
       "3  0.295808  0.154067  0.274678  0.126221  aspect 1  0.295808  \n",
       "4  0.341525  0.172610  0.084236  0.291581  aspect 1  0.341525  "
      ]
     },
     "execution_count": 186,
     "metadata": {},
     "output_type": "execute_result"
    }
   ],
   "source": [
    "topic_weights[\"label\"] = topic_weights.iloc[:,range(2,topic_weights.shape[1])].idxmax(axis=1)\n",
    "topic_weights[\"weight\"] = topic_weights.iloc[:,range(2,topic_weights.shape[1])].max(axis=1)\n",
    "\n",
    "topic_weights.head()"
   ]
  },
  {
   "cell_type": "code",
   "execution_count": 187,
   "metadata": {},
   "outputs": [
    {
     "data": {
      "image/png": "[encoded data removed]",
      "text/plain": [
       "<Figure size 360x360 with 1 Axes>"
      ]
     },
     "metadata": {},
     "output_type": "display_data"
    }
   ],
   "source": [
    "g = sns.catplot(x=\"label\", y=\"weight\", data=topic_weights)"
   ]
  },
  {
   "cell_type": "code",
   "execution_count": 188,
   "metadata": {},
   "outputs": [
    {
     "name": "stdout",
     "output_type": "stream",
     "text": [
      "(148428, 9)\n"
     ]
    },
    {
     "data": {
      "text/html": [
       "<div>\n",
       "<style scoped>\n",
       "    .dataframe tbody tr th:only-of-type {\n",
       "        vertical-align: middle;\n",
       "    }\n",
       "\n",
       "    .dataframe tbody tr th {\n",
       "        vertical-align: top;\n",
       "    }\n",
       "\n",
       "    .dataframe thead th {\n",
       "        text-align: right;\n",
       "    }\n",
       "</style>\n",
       "<table border=\"1\" class=\"dataframe\">\n",
       "  <thead>\n",
       "    <tr style=\"text-align: right;\">\n",
       "      <th></th>\n",
       "      <th>review_index</th>\n",
       "      <th>review</th>\n",
       "      <th>aspect 0</th>\n",
       "      <th>aspect 1</th>\n",
       "      <th>aspect 2</th>\n",
       "      <th>aspect 3</th>\n",
       "      <th>aspect 4</th>\n",
       "      <th>label</th>\n",
       "      <th>weight</th>\n",
       "    </tr>\n",
       "  </thead>\n",
       "  <tbody>\n",
       "    <tr>\n",
       "      <th>0</th>\n",
       "      <td>299</td>\n",
       "      <td>great people care make difference</td>\n",
       "      <td>0.142151</td>\n",
       "      <td>0.208034</td>\n",
       "      <td>0.215674</td>\n",
       "      <td>0.198882</td>\n",
       "      <td>0.235259</td>\n",
       "      <td>aspect 4</td>\n",
       "      <td>0.235259</td>\n",
       "    </tr>\n",
       "    <tr>\n",
       "      <th>1</th>\n",
       "      <td>299</td>\n",
       "      <td>management care employee well provide continue...</td>\n",
       "      <td>0.127041</td>\n",
       "      <td>0.279404</td>\n",
       "      <td>0.219937</td>\n",
       "      <td>0.119073</td>\n",
       "      <td>0.254545</td>\n",
       "      <td>aspect 1</td>\n",
       "      <td>0.279404</td>\n",
       "    </tr>\n",
       "    <tr>\n",
       "      <th>2</th>\n",
       "      <td>1145</td>\n",
       "      <td>powerhouse epc go heavy worksharing</td>\n",
       "      <td>0.266608</td>\n",
       "      <td>0.163682</td>\n",
       "      <td>0.143910</td>\n",
       "      <td>0.231401</td>\n",
       "      <td>0.194400</td>\n",
       "      <td>aspect 0</td>\n",
       "      <td>0.266608</td>\n",
       "    </tr>\n",
       "    <tr>\n",
       "      <th>3</th>\n",
       "      <td>1145</td>\n",
       "      <td>send much work overseas possible keep core person</td>\n",
       "      <td>0.149226</td>\n",
       "      <td>0.295808</td>\n",
       "      <td>0.154067</td>\n",
       "      <td>0.274678</td>\n",
       "      <td>0.126221</td>\n",
       "      <td>aspect 1</td>\n",
       "      <td>0.295808</td>\n",
       "    </tr>\n",
       "    <tr>\n",
       "      <th>4</th>\n",
       "      <td>1145</td>\n",
       "      <td>heavy load management</td>\n",
       "      <td>0.110048</td>\n",
       "      <td>0.341525</td>\n",
       "      <td>0.172610</td>\n",
       "      <td>0.084236</td>\n",
       "      <td>0.291581</td>\n",
       "      <td>aspect 1</td>\n",
       "      <td>0.341525</td>\n",
       "    </tr>\n",
       "  </tbody>\n",
       "</table>\n",
       "</div>"
      ],
      "text/plain": [
       "   review_index                                             review  aspect 0  \\\n",
       "0           299                  great people care make difference  0.142151   \n",
       "1           299  management care employee well provide continue...  0.127041   \n",
       "2          1145                powerhouse epc go heavy worksharing  0.266608   \n",
       "3          1145  send much work overseas possible keep core person  0.149226   \n",
       "4          1145                              heavy load management  0.110048   \n",
       "\n",
       "   aspect 1  aspect 2  aspect 3  aspect 4     label    weight  \n",
       "0  0.208034  0.215674  0.198882  0.235259  aspect 4  0.235259  \n",
       "1  0.279404  0.219937  0.119073  0.254545  aspect 1  0.279404  \n",
       "2  0.163682  0.143910  0.231401  0.194400  aspect 0  0.266608  \n",
       "3  0.295808  0.154067  0.274678  0.126221  aspect 1  0.295808  \n",
       "4  0.341525  0.172610  0.084236  0.291581  aspect 1  0.341525  "
      ]
     },
     "execution_count": 188,
     "metadata": {},
     "output_type": "execute_result"
    }
   ],
   "source": [
    "idx = topic_weights.weight >= 0.15\n",
    "filtered_weights = topic_weights.loc[idx, :]\n",
    "print(filtered_weights.shape)\n",
    "filtered_weights.head()"
   ]
  },
  {
   "cell_type": "code",
   "execution_count": 189,
   "metadata": {},
   "outputs": [
    {
     "name": "stdout",
     "output_type": "stream",
     "text": [
      "Aspect aspect 4 - 26111 sentences\n",
      "Aspect aspect 0 - 22419 sentences\n",
      "Aspect aspect 2 - 29590 sentences\n",
      "Aspect aspect 1 - 45447 sentences\n",
      "Aspect aspect 3 - 24861 sentences\n",
      "148428\n"
     ]
    }
   ],
   "source": [
    "reviews_filtered = filtered_weights.review.tolist()\n",
    "labels = filtered_weights.label.tolist()\n",
    "\n",
    "topics = set(labels)\n",
    "\n",
    "aspects = { topic:[] for topic in topics }\n",
    "\n",
    "for label, review in zip(labels, reviews_filtered):\n",
    "    aspects[label].append(review)\n",
    "    \n",
    "x = 0\n",
    "for aspect, corpus in aspects.items():\n",
    "    print(\"Aspect {0} - {1} sentences\".format(aspect, len(corpus)))\n",
    "    x = x + len(corpus)\n",
    "             \n",
    "print(x)"
   ]
  },
  {
   "cell_type": "code",
   "execution_count": 190,
   "metadata": {},
   "outputs": [],
   "source": [
    "from collections import Counter\n",
    "from nltk import bigrams\n",
    "\n",
    "aspects_top_vocab = { \"aspect \" + str(i): [] for i in range(len(topics))}\n",
    "\n",
    "for aspect, sents in aspects.items():\n",
    "    vocab = Counter()\n",
    "    \n",
    "    for sent in sents:\n",
    "        tokens = sent.split(\" \")\n",
    "        bi_grams = bigrams(tokens)\n",
    "        for token in bi_grams:\n",
    "            vocab[\" \".join(token)] += 1\n",
    "        \n",
    "        for token in tokens:\n",
    "            vocab[token] += 1\n",
    "    \n",
    "    aspects_top_vocab[aspect] = [ w[0] for w in vocab.most_common(100) ]\n",
    "\n",
    "with open(\"../results/ABAE/abae-k-5-filtered.json\", \"w\") as f:\n",
    "    json.dump(aspects_top_vocab, f)"
   ]
  },
  {
   "cell_type": "code",
   "execution_count": 191,
   "metadata": {
    "scrolled": false
   },
   "outputs": [
    {
     "name": "stdout",
     "output_type": "stream",
     "text": [
      "System Support\n",
      "aspect 0 ['project', 'get', 'time', 'issue', 'customer', 'call', 'system', 'would', 'support', 'use', 'part', 'go', 'job', 'client', 'application', 'process', 'train', 'take', 'development', 'need', 'test', 'good', 'software', 'one', 'make', 'service', 'help', 'provide', 'like', 'year', \"n't\", 'also', 'hard', 'server', 'user', 'lot', 'end', 'start', 'problem', 'typical', 'meeting', 'every', 'report', 'business', 'review', 'task', 'design', 'requirement', 'many', 'manage', 'give', 'product', 'well', 'code', 'enjoy', 'month', 'implement', 'include', 'involve', 'hard part', 'network', 'activity', 'phone', 'database', 'come', 'work', 'part job', 'daily', 'even', 'know', 'contract', 'base', 'resolve', 'thing', 'complete', 'u', 'create', 'back', 'plan', 'department', 'configure', 'technical', 'fix', 'computer', 'much', 'different', 'could', 'leave', 'always', 'maintain', 'case', 'week', 'ticket', 'hour', 'center', 'troubleshoot', 'handle', 'production', 'write', 'people']\n",
      "\n",
      "\n",
      "Work Enviornment\n",
      "aspect 1 ['work', 'management', 'good', 'culture', 'environment', 'manager', 'learn', 'place', 'life', 'balance', 'great', 'good work', 'work life', 'work culture', 'project', 'life balance', 'people', 'employee', 'work environment', 'get', 'enjoy', 'job', 'lot', 'place work', 'time', 'friendly', 'technology', 'support', 'part', 'work place', 'help', 'co-worker', 'also', 'client', 'well', 'experience', 'hard', 'fun', 'opportunity', 'supportive', 'always', 'make', 'one', 'great work', 'thing', 'provide', 'management good', 'flexible', 'many', 'need', 'hour', 'like', 'enjoy work', 'year', 'skill', 'helpful', 'excellent', 'really', 'give', 'typical', 'development', 'different', 'customer', 'good management', 'member', 'challenge', 'train', 'issue', 'much', 'technical', 'professional', 'culture good', 'people work', 'home', 'depend', \"n't\", 'part job', 'typical work', 'high', 'staff', 'every', 'work good', 'pressure', 'fun work', 'manage', 'organization', 'work home', 'system', 'learn lot', 'take', 'level', 'lead', 'work hour', 'flexible work', 'colleague', 'care', 'process', 'hard part', 'environment work', 'service']\n",
      "\n",
      "\n",
      "Learning Technology\n",
      "aspect 2 ['learn', 'good', 'lot', 'technology', 'opportunity', 'experience', 'great', 'skill', 'environment', 'project', 'thing', 'place', 'train', 'get', 'development', 'many', 'learn lot', 'provide', 'knowledge', 'job', 'help', 'technical', 'grow', 'people', 'professional', 'part', 'give', 'organization', 'also', 'culture', 'service', 'different', 'growth', 'well', 'support', 'challenge', 'client', 'customer', 'enjoy', 'fresher', 'software', 'learn technology', 'use', 'business', 'opportunity learn', 'expose', 'one', 'start', 'always', 'learn many', 'like', 'process', 'place learn', 'improve', 'friendly', 'industry', 'employee', 'good learn', 'excellent', 'much', 'make', 'product', 'world', 'year', 'tool', 'time', 'learn thing', 'overall', 'need', 'gain', 'good place', 'fun', 'platform', 'program', 'domain', 'many thing', 'life', 'system', 'various', 'really', 'part job', 'colleague', 'lot opportunity', 'every', 'good experience', 'learn experience', 'infrastructure', 'facility', 'co-worker', 'work', 'network', 'base', 'hard', 'explore', 'level', 'great place', 'innovation', 'enhance', 'way', 'lot thing']\n",
      "\n",
      "\n",
      "Work Life Balance\n",
      "aspect 3 ['work', 'good', 'place', 'job', 'great', 'place work', 'time', 'learn', 'get', 'life', 'part', 'enjoy', 'good work', 'balance', 'good place', 'year', 'lot', 'work life', 'environment', 'great place', 'opportunity', 'life balance', 'start', 'work place', 'fun', 'hard', 'experience', 'part job', 'would', 'culture', 'hour', 'like', 'people', 'really', 'pay', 'overall', 'benefit', 'thing', 'work environment', 'fresher', 'love', 'security', \"n't\", 'hard part', 'job security', 'make', 'go', 'flexible', 'long', 'one', 'great work', 'technology', 'want', 'give', 'tc', 'leave', 'project', 'salary', 'enjoy part', 'many', 'work culture', 'much', 'home', 'challenge', 'position', 'look', 'also', 'recommend', 'work good', 'join', 'well', 'employee', 'stay', 'provide', 'need', 'less', 'grow', 'enjoy work', 'take', 'overall good', 'come', 'every', 'fun work', 'help', 'learn lot', 'work home', 'say', 'typical', 'growth', 'move', 'different', 'excellent', 'find', 'bad', 'work great', 'productive', 'skill', 'train', '2', 'feel']\n",
      "\n",
      "\n",
      "Morale\n",
      "aspect 4 ['good', 'employee', 'benefit', 'people', 'salary', 'great', 'pay', 'management', \"n't\", 'manager', 'job', 'place', 'culture', 'get', 'like', 'one', 'year', 'friendly', 'make', 'lot', 'well', 'hike', 'give', 'much', 'growth', 'care', 'compensate', 'less', 'low', 'really', 'also', 'opportunity', 'bad', 'provide', 'time', 'part', 'policy', 'high', 'take', 'balance', 'always', 'start', 'environment', 'many', 'even', 'need', 'everyone', 'want', 'advancement', 'go', 'way', 'promote', 'help', 'life', 'helpful', 'level', 'hard', 'co-worker', 'however', '1', 'would', 'thing', 'position', 'say', 'security', 'good place', 'leave', 'politics', 'work-life', 'work-life balance', 'know', 'every', 'long', 'seem', 'overall', 'feel', '2', 'treat', 'could', 'raise', 'value', 'flexible', 'bonus', 'hire', '3', 'good benefit', 'offer', 'never', 'hr', 'experience', 'average', 'u', 'job security', 'enjoy', 'train', 'supportive', 'great benefit', 'employee friendly', 'hour', 'expect']\n",
      "\n",
      "\n"
     ]
    }
   ],
   "source": [
    "i = 0\n",
    "for a,t in aspects_top_vocab.items():\n",
    "    print(topic_names[i])\n",
    "    print(a, t)\n",
    "    print('\\n')\n",
    "    i+=1"
   ]
  },
  {
   "cell_type": "markdown",
   "metadata": {},
   "source": [
    "## POS Tag"
   ]
  },
  {
   "cell_type": "code",
   "execution_count": null,
   "metadata": {},
   "outputs": [],
   "source": [
    "import pickle \n",
    "review_corpus_path = \"../data/tech_review_sent_corpus.pkl\"\n",
    "\n",
    "with open(review_corpus_path,\"rb\") as f:\n",
    "    tech_review_corpus = pickle.load(f)\n",
    "    \n",
    "with open(\"../results/ABAE/abae-k-7-orth-0.75-neg-40-labels.txt\") as f:\n",
    "    labels = f.readlines()\n",
    "\n",
    "labels = [ int(label.replace(\"\\n\",\"\")) for label in labels ]\n",
    "\n",
    "for label, review in zip(labels, tech_review_corpus):\n",
    "    review[\"topic\"] = label\n",
    "    \n",
    "reviews = [ review[\"review\"] for review in tech_review_corpus ]\n",
    "topics = [ review[\"topic\"] for review in tech_review_corpus]"
   ]
  },
  {
   "cell_type": "code",
   "execution_count": null,
   "metadata": {},
   "outputs": [],
   "source": [
    "from nltk import pos_tag\n",
    "from multiprocessing import Pool\n",
    "from tqdm import tqdm \n",
    "\n",
    "with Pool() as p:\n",
    "    reviews_pos = list(tqdm(p.imap(str.split, reviews), total=len(reviews)))\n",
    "    reviews_pos = list(tqdm(p.imap(pos_tag, reviews),total=len(reviews_pos)))"
   ]
  },
  {
   "cell_type": "code",
   "execution_count": null,
   "metadata": {},
   "outputs": [],
   "source": [
    "reviews_pos[0]"
   ]
  },
  {
   "cell_type": "code",
   "execution_count": null,
   "metadata": {},
   "outputs": [],
   "source": []
  }
 ],
 "metadata": {
  "kernelspec": {
   "display_name": "Python 3",
   "language": "python",
   "name": "python3"
  },
  "language_info": {
   "codemirror_mode": {
    "name": "ipython",
    "version": 3
   },
   "file_extension": ".py",
   "mimetype": "text/x-python",
   "name": "python",
   "nbconvert_exporter": "python",
   "pygments_lexer": "ipython3",
   "version": "3.7.0"
  }
 },
 "nbformat": 4,
 "nbformat_minor": 4
}
